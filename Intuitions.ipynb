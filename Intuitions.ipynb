{
 "cells": [
  {
   "cell_type": "code",
   "execution_count": 1,
   "metadata": {},
   "outputs": [],
   "source": [
    "\n",
    "import networkx as nx\n",
    "import random\n",
    "from manim import *\n",
    "import math\n",
    "\n",
    "config.media_width = \"100%\"\n",
    "config.verbosity = \"WARNING\""
   ]
  },
  {
   "cell_type": "markdown",
   "metadata": {},
   "source": [
    "# Bitonic Merge"
   ]
  },
  {
   "cell_type": "code",
   "execution_count": 2,
   "metadata": {},
   "outputs": [
    {
     "data": {
      "text/html": [
       "<pre style=\"white-space:pre;overflow-x:auto;line-height:normal;font-family:Menlo,'DejaVu Sans Mono',consolas,'Courier New',monospace\">Manim Community <span style=\"color: #008000; text-decoration-color: #008000\">v0.18.1</span>\n",
       "\n",
       "</pre>\n"
      ],
      "text/plain": [
       "Manim Community \u001b[32mv0.\u001b[0m\u001b[32m18.1\u001b[0m\n",
       "\n"
      ]
     },
     "metadata": {},
     "output_type": "display_data"
    },
    {
     "name": "stderr",
     "output_type": "stream",
     "text": [
      "                                                                                                \r"
     ]
    },
    {
     "data": {
      "text/html": [
       "<video src=\"media/jupyter/BitonicMargeIntuition@2024-12-31@12-16-05.mp4\" controls autoplay loop style=\"max-width: 100%;\"  >\n",
       "      Your browser does not support the <code>video</code> element.\n",
       "    </video>"
      ],
      "text/plain": [
       "<IPython.core.display.Video object>"
      ]
     },
     "metadata": {},
     "output_type": "display_data"
    }
   ],
   "source": [
    "%%manim -qm BitonicMargeIntuition\n",
    "\n",
    "config.frame_width = 20\n",
    "\n",
    "def show(self, shift, split=32, do_random=False):\n",
    "    N = 64\n",
    "    if do_random:\n",
    "        all_seq = [random.randint(2, 2*N) for x in range(0, N)]\n",
    "    else:\n",
    "        firsthalf = [random.randint(2, 2*N) for x in range(0, N>>1)]\n",
    "        #firsthalf = [x for x in range(0, nleaves>>1)]\n",
    "        firsthalf.sort()\n",
    "        secondhalf = [random.randint(2, 2*N) for x in range(0, N>>1)]\n",
    "        #secondhalf = [x for x in range(0, nleaves>>1)]\n",
    "        secondhalf.sort(reverse=True)\n",
    "        all_seq = firsthalf + secondhalf\n",
    "    for i in range(0, shift):\n",
    "        all_seq.append(all_seq.pop(0))\n",
    "    new_all_seq = [i for i in all_seq]\n",
    "    maxvalue = max(all_seq)\n",
    "    bar_length = 4\n",
    "    bar_height = 0.3\n",
    "    start_x = -9.5\n",
    "    rects = []\n",
    "    for i, e in zip(range(0, len(all_seq)), all_seq):\n",
    "        r = Rectangle(width=bar_height, height=bar_length*e/maxvalue, fill_opacity=0.5, fill_color=WHITE).move_to([start_x+i*bar_height, bar_length*e/maxvalue/2-4, 0])\n",
    "        rects.append(r)\n",
    "        self.add(r)\n",
    "    \n",
    "    self.wait(1)\n",
    "    self.play(*[rects[i].animate.move_to([start_x+(i-len(all_seq)/2)*bar_height, bar_length*all_seq[i]/maxvalue/2+1, 0]) for i in range(int(len(all_seq)/2), len(all_seq))])\n",
    "\n",
    "    Texts = []\n",
    "    up_move = []\n",
    "    down_move = []\n",
    "    for i in range(0, int(len(all_seq)/2)):\n",
    "        \n",
    "        if all_seq[i] > all_seq[i+int(len(all_seq)/2)]:\n",
    "            # Texts.insert(0, Text(\"✓\", color = GREEN).move_to([start_x+i*bar_height, bar_length*all_seq[i+int(len(all_seq)/2)]/maxvalue/2, 0]))\n",
    "            Texts.append(Text(\"☑︎\", color = GREEN, font_size=32).move_to([start_x+i*bar_height, 0.35, 0]))\n",
    "            down_move.append(rects[i+int(len(all_seq)/2)].animate.move_to([start_x+i*bar_height, bar_length*all_seq[i+int(len(all_seq)/2)]/maxvalue/2-4, 0]))\n",
    "            up_move.append(rects[i].animate.move_to([start_x+i*bar_height, bar_length*all_seq[i]/maxvalue/2+1, 0]))\n",
    "            rects[i], rects[i+int(len(all_seq)/2)] = rects[i+int(len(all_seq)/2)], rects[i]\n",
    "            new_all_seq[i], new_all_seq[i+int(len(all_seq)/2)] = new_all_seq[i+int(len(all_seq)/2)], new_all_seq[i]\n",
    "        else:\n",
    "            Texts.append(Text(\"☒\", color = RED, font_size=32).move_to([start_x+i*bar_height, 0.35, 0]))\n",
    "    self.play(*[Write(t) for t in Texts])\n",
    "    self.wait(1)\n",
    "    self.play(*[up_move], *[down_move])\n",
    "    self.wait(1)\n",
    "    self.play(*[Unwrite(t) for t in Texts], *[rects[i].animate.move_to([start_x+i*bar_height, bar_length*new_all_seq[i]/maxvalue/2-4, 0]) for i in range(int(len(all_seq)/2), len(all_seq))])\n",
    "    self.wait(1)\n",
    "    max_half = max([new_all_seq[i] for i in range(0, int(len(all_seq)/2))])\n",
    "    self.play(Create(Line([-10, -4+bar_length*max_half/maxvalue, 0], [10,  -4+bar_length*max_half/maxvalue, 0], color=RED)))\n",
    "    self.wait(3)\n",
    "\n",
    "class BitonicMargeIntuition(MovingCameraScene):\n",
    "    def construct(self):\n",
    "        show(self, 0)\n"
   ]
  },
  {
   "cell_type": "code",
   "execution_count": 3,
   "metadata": {},
   "outputs": [
    {
     "data": {
      "text/html": [
       "<pre style=\"white-space:pre;overflow-x:auto;line-height:normal;font-family:Menlo,'DejaVu Sans Mono',consolas,'Courier New',monospace\">Manim Community <span style=\"color: #008000; text-decoration-color: #008000\">v0.18.1</span>\n",
       "\n",
       "</pre>\n"
      ],
      "text/plain": [
       "Manim Community \u001b[32mv0.\u001b[0m\u001b[32m18.1\u001b[0m\n",
       "\n"
      ]
     },
     "metadata": {},
     "output_type": "display_data"
    },
    {
     "name": "stderr",
     "output_type": "stream",
     "text": [
      "                                                                                                 \r"
     ]
    },
    {
     "data": {
      "text/html": [
       "<video src=\"media/jupyter/BitonicMargeIntuitionShift@2024-12-31@12-16-37.mp4\" controls autoplay loop style=\"max-width: 100%;\"  >\n",
       "      Your browser does not support the <code>video</code> element.\n",
       "    </video>"
      ],
      "text/plain": [
       "<IPython.core.display.Video object>"
      ]
     },
     "metadata": {},
     "output_type": "display_data"
    }
   ],
   "source": [
    "%%manim -qm BitonicMargeIntuitionShift\n",
    "\n",
    "config.frame_width = 20\n",
    "\n",
    "class BitonicMargeIntuitionShift(MovingCameraScene):\n",
    "    def construct(self):\n",
    "        show(self, 0, 10, True)\n",
    "        self.clear()\n",
    "        show(self, 0, 10, True)\n",
    "        self.clear()\n",
    "        show(self, 25)\n",
    "        self.clear()\n",
    "        show(self, 25, 16)\n",
    "        self.clear()\n",
    "        show(self, 25, 22)\n",
    "        self.clear()\n",
    "        show(self, 45, 55)\n",
    "        self.clear()\n",
    "        show(self, 0, 10)\n",
    "        self.clear()\n",
    "        show(self, 0)\n",
    "\n"
   ]
  },
  {
   "cell_type": "code",
   "execution_count": 4,
   "metadata": {},
   "outputs": [
    {
     "data": {
      "text/html": [
       "<pre style=\"white-space:pre;overflow-x:auto;line-height:normal;font-family:Menlo,'DejaVu Sans Mono',consolas,'Courier New',monospace\">Manim Community <span style=\"color: #008000; text-decoration-color: #008000\">v0.18.1</span>\n",
       "\n",
       "</pre>\n"
      ],
      "text/plain": [
       "Manim Community \u001b[32mv0.\u001b[0m\u001b[32m18.1\u001b[0m\n",
       "\n"
      ]
     },
     "metadata": {},
     "output_type": "display_data"
    },
    {
     "name": "stderr",
     "output_type": "stream",
     "text": [
      "                                                                                               \r"
     ]
    },
    {
     "data": {
      "text/html": [
       "<video src=\"media/jupyter/BitonicMargeIntuitionShift2@2024-12-31@12-16-41.mp4\" controls autoplay loop style=\"max-width: 100%;\"  >\n",
       "      Your browser does not support the <code>video</code> element.\n",
       "    </video>"
      ],
      "text/plain": [
       "<IPython.core.display.Video object>"
      ]
     },
     "metadata": {},
     "output_type": "display_data"
    }
   ],
   "source": [
    "%%manim -qm BitonicMargeIntuitionShift2\n",
    "\n",
    "config.frame_width = 20\n",
    "\n",
    "class BitonicMargeIntuitionShift2(MovingCameraScene):\n",
    "    def construct(self):\n",
    "        show(self, 25)\n"
   ]
  },
  {
   "cell_type": "code",
   "execution_count": 5,
   "metadata": {},
   "outputs": [
    {
     "name": "stdout",
     "output_type": "stream",
     "text": [
      "All OK!          \n"
     ]
    }
   ],
   "source": [
    "def is_bitonic(seq):\n",
    "    shiftseq = [i for i in seq]\n",
    "    shiftseq.append(shiftseq.pop(0))\n",
    "    diff = [x-y for x,y in zip(seq, shiftseq)]\n",
    "    #print(seq)\n",
    "    #print(shiftseq)\n",
    "    #print(diff)\n",
    "    filtered_diff = [x for x in diff if x != 0]\n",
    "    sign_seq = [x>=0 for x in filtered_diff]\n",
    "    #print(sign_seq)\n",
    "    changes = 0\n",
    "\n",
    "    v0 = sign_seq[len(sign_seq)-1]\n",
    "    for i in range(0, len(sign_seq)):\n",
    "        if v0^sign_seq[i]:\n",
    "            #print(f'{v0}^{sign_seq[i]}', end=' ')\n",
    "            changes = changes+1\n",
    "            v0 = sign_seq[i]\n",
    "    #print('')\n",
    "    return changes <= 2\n",
    "\n",
    "def generate_bitonic(N, shift=0, split=32):\n",
    "    if split > N:\n",
    "        split = N/2\n",
    "    firsthalf = [random.randint(2, 2*N) for x in range(0, split)]\n",
    "    #firsthalf = [x for x in range(0, nleaves>>1)]\n",
    "    firsthalf.sort()\n",
    "    secondhalf = [random.randint(2, 2*N) for x in range(split, N)]\n",
    "    #secondhalf = [x for x in range(0, nleaves>>1)]\n",
    "    secondhalf.sort(reverse=True)\n",
    "    all_seq = firsthalf + secondhalf\n",
    "    for i in range(0, shift):\n",
    "        all_seq.append(all_seq.pop(0))\n",
    "    \n",
    "    return all_seq\n",
    "\n",
    "for shifts in range(0, 63):\n",
    "    for split in range(20, 50):\n",
    "        for i in range(1, 100):\n",
    "            print(f'{shifts}, {split} - > {i}    ', end='\\r')\n",
    "            seq = generate_bitonic(64, shifts, split)\n",
    "            res = is_bitonic(seq)\n",
    "            assert(res)\n",
    "            for j in range(0, 32):\n",
    "                if (seq[j]>seq[j+32]):\n",
    "                    seq[j], seq[j+32] = seq[j+32], seq[j]\n",
    "            res = is_bitonic(seq[0:32])\n",
    "            res = is_bitonic(seq[32:64])\n",
    "            assert(res)\n",
    "\n",
    "for i in range(1, 10000):\n",
    "    print(f'random {i}      ', end='\\r')\n",
    "    assert(not is_bitonic([random.randint(2, 2*64) for x in range(0, 64)]))\n",
    "\n",
    "print(\"All OK!          \")\n"
   ]
  },
  {
   "cell_type": "code",
   "execution_count": 6,
   "metadata": {},
   "outputs": [
    {
     "data": {
      "text/html": [
       "<pre style=\"white-space:pre;overflow-x:auto;line-height:normal;font-family:Menlo,'DejaVu Sans Mono',consolas,'Courier New',monospace\">Manim Community <span style=\"color: #008000; text-decoration-color: #008000\">v0.18.1</span>\n",
       "\n",
       "</pre>\n"
      ],
      "text/plain": [
       "Manim Community \u001b[32mv0.\u001b[0m\u001b[32m18.1\u001b[0m\n",
       "\n"
      ]
     },
     "metadata": {},
     "output_type": "display_data"
    },
    {
     "name": "stderr",
     "output_type": "stream",
     "text": [
      "                                                                                  \r"
     ]
    },
    {
     "name": "stdout",
     "output_type": "stream",
     "text": [
      "Text('0') .. Text('0')\n"
     ]
    },
    {
     "name": "stderr",
     "output_type": "stream",
     "text": [
      "                                                                                 \r"
     ]
    },
    {
     "name": "stdout",
     "output_type": "stream",
     "text": [
      "Text('1') .. Text('1')\n"
     ]
    },
    {
     "name": "stderr",
     "output_type": "stream",
     "text": [
      "                                                                                 \r"
     ]
    },
    {
     "name": "stdout",
     "output_type": "stream",
     "text": [
      "Text('1') .. Text('1')\n"
     ]
    },
    {
     "name": "stderr",
     "output_type": "stream",
     "text": [
      "                                                                                 "
     ]
    },
    {
     "name": "stdout",
     "output_type": "stream",
     "text": [
      "Text('0') .. Text('1')\n"
     ]
    },
    {
     "name": "stderr",
     "output_type": "stream",
     "text": [
      "                                                                                 \r"
     ]
    },
    {
     "data": {
      "text/html": [
       "<video src=\"media/jupyter/ComparisonIntuition@2024-12-31@12-16-51.mp4\" controls autoplay loop style=\"max-width: 100%;\"  >\n",
       "      Your browser does not support the <code>video</code> element.\n",
       "    </video>"
      ],
      "text/plain": [
       "<IPython.core.display.Video object>"
      ]
     },
     "metadata": {},
     "output_type": "display_data"
    }
   ],
   "source": [
    "%%manim -qm ComparisonIntuition\n",
    "\n",
    "config.frame_width = 10\n",
    "\n",
    "def show(self, N):\n",
    "    f = \"{0:0\"+str(N)+\"b}\"\n",
    "    a = '10110100'\n",
    "    b = '10111010'\n",
    "\n",
    "    A = []\n",
    "    B = []\n",
    "    A.append(Text(a[0]).move_to([-2, 0.5, 0]))\n",
    "    B.append(Text(b[0]).next_to(A[0], DOWN))\n",
    "    for i in range(1,N):\n",
    "        A.append(Text(a[i]).next_to(A[i-1], RIGHT))\n",
    "        B.append(Text(b[i]).next_to(A[i], DOWN))\n",
    "    self.play(*[Write(i) for i in A], *[Write(i) for i in B])\n",
    "\n",
    "    arrow_down = Arrow(start=A[0].get_center()+2*UP, end=A[0].get_center(), color=RED).move_to(A[0].get_center()+UP)\n",
    "    arrow_up = Arrow(start=B[0].get_center()+2*DOWN, end=B[0].get_center(), color=RED).move_to(B[0].get_center()+DOWN)\n",
    "    self.play(Create(arrow_down), Create(arrow_up))\n",
    "    for i in range(1, N):\n",
    "        print(f'{A[i]} .. {B[i]}')\n",
    "        self.play(arrow_down.animate.move_to(A[i].get_center()+UP), arrow_up.animate.move_to(B[i].get_center()+DOWN))\n",
    "        if a[i] != b[i]:\n",
    "            arrow_down.color = GREEN\n",
    "            arrow_up.color = GREEN\n",
    "        self.wait(0.5)\n",
    "        if a[i] != b[i]:\n",
    "            break\n",
    "    self.wait(3)\n",
    "    self.remove(arrow_up)\n",
    "    self.remove(arrow_down)\n",
    "    for i in range(0,N):\n",
    "        self.play(Create(Arrow(start=A[i].get_center()+2*UP, end=A[i], color=RED if a[i]==b[i] else GREEN).move_to(A[i].get_center()+UP)), run_time=0.1)\n",
    "        self.play(Create(Arrow(start=B[i].get_center()+2*DOWN, end=B[i].get_center(), color=RED if a[i]==b[i] else GREEN).move_to(B[i].get_center()+DOWN)), run_time=0.1)\n",
    "    self.wait(3)\n",
    "\n",
    "class ComparisonIntuition(Scene):\n",
    "    def construct(self):\n",
    "        show(self, 8)\n",
    "\n"
   ]
  },
  {
   "cell_type": "code",
   "execution_count": 42,
   "metadata": {},
   "outputs": [
    {
     "data": {
      "text/html": [
       "<pre style=\"white-space:pre;overflow-x:auto;line-height:normal;font-family:Menlo,'DejaVu Sans Mono',consolas,'Courier New',monospace\">Manim Community <span style=\"color: #008000; text-decoration-color: #008000\">v0.18.1</span>\n",
       "\n",
       "</pre>\n"
      ],
      "text/plain": [
       "Manim Community \u001b[32mv0.\u001b[0m\u001b[32m18.1\u001b[0m\n",
       "\n"
      ]
     },
     "metadata": {},
     "output_type": "display_data"
    },
    {
     "name": "stderr",
     "output_type": "stream",
     "text": [
      "                                                                                                                                        \r"
     ]
    },
    {
     "data": {
      "text/html": [
       "<video src=\"media/jupyter/LogTimeSumIntuition@2024-12-31@13-37-59.mp4\" controls autoplay loop style=\"max-width: 100%;\"  >\n",
       "      Your browser does not support the <code>video</code> element.\n",
       "    </video>"
      ],
      "text/plain": [
       "<IPython.core.display.Video object>"
      ]
     },
     "metadata": {},
     "output_type": "display_data"
    }
   ],
   "source": [
    "%%manim -qm LogTimeSumIntuition\n",
    "config.frame_width = 12\n",
    "\n",
    "def show1(self):\n",
    "    t1 = Tex('A number in base $b$ has digits from 0 to $b-1$')\n",
    "    self.add(t1)\n",
    "    self.wait(2)\n",
    "    t2 = Tex('$(b-1)+(b-1) = b + b-2 = [1(b-2)]_b$')\n",
    "    self.play(t1.animate.shift(UP),Create(t2))\n",
    "    self.wait(4)\n",
    "    t3 = Tex('$9+9=18_{10}$').shift(2*LEFT)\n",
    "    t4 = Tex('$1+1=10_2$').shift(RIGHT)\n",
    "    self.play(t1.animate.shift(UP), t2.animate.shift(UP), Create(t3), Create(t4))\n",
    "    self.wait(3)\n",
    "    t5 = Tex('$(b-1)+(b-1) + 1 = b + b-1 = [1(b-1)]_b$').shift(DOWN)\n",
    "    self.wait(5)\n",
    "    self.play(Create(t5))\n",
    "    self.play(  Create(Rectangle(width=0.32, height=0.5, color=RED).move_to([1.65,0,0])),\n",
    "                Create(Rectangle(width=0.32, height=0.5, color=RED).move_to([-1.45,0,0])),\n",
    "                Create(Rectangle(width=0.32, height=0.5, color=RED).move_to([2.51,1.05,0])),\n",
    "                Create(Rectangle(width=0.32, height=0.5, color=RED).move_to([2.98,-0.99,0])))\n",
    "    self.wait(5)\n",
    "\n",
    "class LogTimeSumIntuition(Scene):\n",
    "    def construct(self):\n",
    "        show1(self)"
   ]
  },
  {
   "cell_type": "code",
   "execution_count": 40,
   "metadata": {},
   "outputs": [
    {
     "name": "stderr",
     "output_type": "stream",
     "text": [
      "<string>:48: SyntaxWarning: invalid escape sequence '\\R'\n",
      "<string>:49: SyntaxWarning: invalid escape sequence '\\R'\n"
     ]
    },
    {
     "data": {
      "text/html": [
       "<pre style=\"white-space:pre;overflow-x:auto;line-height:normal;font-family:Menlo,'DejaVu Sans Mono',consolas,'Courier New',monospace\">Manim Community <span style=\"color: #008000; text-decoration-color: #008000\">v0.18.1</span>\n",
       "\n",
       "</pre>\n"
      ],
      "text/plain": [
       "Manim Community \u001b[32mv0.\u001b[0m\u001b[32m18.1\u001b[0m\n",
       "\n"
      ]
     },
     "metadata": {},
     "output_type": "display_data"
    },
    {
     "name": "stderr",
     "output_type": "stream",
     "text": [
      "                                                                                                                                             \r"
     ]
    },
    {
     "data": {
      "text/html": [
       "<video src=\"media/jupyter/LogTimeSumIntuition2@2024-12-31@13-34-50.mp4\" controls autoplay loop style=\"max-width: 100%;\"  >\n",
       "      Your browser does not support the <code>video</code> element.\n",
       "    </video>"
      ],
      "text/plain": [
       "<IPython.core.display.Video object>"
      ]
     },
     "metadata": {},
     "output_type": "display_data"
    }
   ],
   "source": [
    "%%manim -qm LogTimeSumIntuition2\n",
    "\n",
    "config.frame_width = 10\n",
    "\n",
    "def show2(self):\n",
    "    N = 3\n",
    "    A = []\n",
    "    B = []\n",
    "    R = []\n",
    "    A.append(Tex(f'$a_{N-1}$').move_to([-1, 2, 0]))\n",
    "    B.append(Tex(f'$b_{N-1}$').next_to(A[0], DOWN))\n",
    "    R.append(Tex(f'$r_{N-1}$').next_to(B[0], 1.7*DOWN))\n",
    "    for i in range(1,N):\n",
    "        A.append(Tex(f'$a_{N-1-i}$').next_to(A[i-1], RIGHT))\n",
    "        B.append(Tex(f'$b_{N-1-i}$').next_to(A[i], DOWN))\n",
    "        R.append(Tex(f'$r_{N-1-i}$').next_to(B[i], 1.7*DOWN))\n",
    "\n",
    "    PR = Text('+').move_to(A[2].get_center()+0.5*RIGHT)\n",
    "    ER = Text('=').move_to(B[2].get_center()+0.5*RIGHT)\n",
    "    PC = Text('+').move_to(A[1].get_center()+0.5*RIGHT)\n",
    "    EC = Text('=').move_to(B[1].get_center()+0.5*RIGHT)\n",
    "    PL = Text('+').move_to(A[0].get_center()+0.5*RIGHT)\n",
    "    EL = Text('=').move_to(B[0].get_center()+0.5*RIGHT)\n",
    "\n",
    "\n",
    "    LineLeft = Line(B[0].get_center()+0.5*LEFT+0.5*DOWN, B[0].get_center()+0.5*RIGHT+0.5*DOWN)\n",
    "    LineCenter = Line(B[1].get_center()+0.5*LEFT+0.5*DOWN, B[1].get_center()+0.5*RIGHT+0.5*DOWN)\n",
    "    LineRight = Line(B[2].get_center()+0.5*LEFT+0.5*DOWN, B[2].get_center()+0.5*RIGHT+0.5*DOWN)\n",
    "    self.play(*[Create(x) for x in A], *[Create(x) for x in B], *[Create(x) for x in R], \n",
    "                Create(LineLeft), Create(LineCenter), Create(LineRight), Create(PR), Create(ER))\n",
    "    self.wait(1)\n",
    "    GR = Group(A[2], B[2], R[2], LineRight, PR, ER)\n",
    "    GC = Group(A[1], B[1], R[1], LineCenter, PC, EC)\n",
    "    GL = Group(A[0], B[0], R[0], LineLeft, PL, EL)\n",
    "    self.play(GL.animate.shift(1.5*LEFT), GR.animate.shift(1.5*RIGHT), Create(PC), Create(EC), run_time=1)\n",
    "    self.play(Transform(R[1], Tex(\"$r'_1$\").move_to(R[1])), Transform(R[0], Tex(\"$r'_2$\").move_to(R[0])), run_time=1)\n",
    "    #self.play( Create(PC), Create(EC), runt_time=0.05)\n",
    "    self.play(\n",
    "            Create(Arrow(A[2].get_center()+0.2*UP+0.1*LEFT\n",
    "                        , R[1].get_center()+0.1*UP+0.1*RIGHT\n",
    "                        , path_arc=-PI/3))\n",
    "            , Create(Arrow(A[1].get_center()+0.2*UP+0.1*LEFT\n",
    "                        , R[0].get_center()+0.1*UP+0.1*RIGHT\n",
    "                        , path_arc=-PI/4)\n",
    "            ))\n",
    "    self.play(  Create(Tex('$c_0$').move_to((A[2].get_center()+R[1].get_center())/2+[0,.2,0])),\n",
    "                Create(Tex('$c_1$').move_to((A[1].get_center()+R[0].get_center())/2+[0,.2,0])))\n",
    "\n",
    "    self.play(Create(Tex(\"If $c_1=1 \\Rightarrow r'_1<b-1 \\Rightarrow c_0$ has no effect\").shift(DOWN)))\n",
    "    self.play(Create(Tex(\"If $c_1=0 \\Rightarrow c_0$ has effect only if $r'_1=b-1$\").shift(1.6*DOWN)))\n",
    "\n",
    "\n",
    "    self.wait(3)\n",
    "\n",
    "class LogTimeSumIntuition2(Scene):\n",
    "    def construct(self):\n",
    "        #show1(self)\n",
    "        #self.clear()\n",
    "        show2(self)\n",
    "        # a = '63420363'\n",
    "        # b = '92352638'\n",
    "        # show3(self, a, b)"
   ]
  }
 ],
 "metadata": {
  "kernelspec": {
   "display_name": ".ve",
   "language": "python",
   "name": "python3"
  },
  "language_info": {
   "codemirror_mode": {
    "name": "ipython",
    "version": 3
   },
   "file_extension": ".py",
   "mimetype": "text/x-python",
   "name": "python",
   "nbconvert_exporter": "python",
   "pygments_lexer": "ipython3",
   "version": "3.12.6"
  }
 },
 "nbformat": 4,
 "nbformat_minor": 2
}
