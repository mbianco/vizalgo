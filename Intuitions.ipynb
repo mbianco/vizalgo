{
 "cells": [
  {
   "cell_type": "code",
   "execution_count": 5,
   "metadata": {},
   "outputs": [],
   "source": [
    "\n",
    "import networkx as nx\n",
    "import random\n",
    "from manim import *\n",
    "import math\n",
    "\n",
    "config.media_width = \"100%\"\n",
    "config.verbosity = \"WARNING\""
   ]
  },
  {
   "cell_type": "markdown",
   "metadata": {},
   "source": [
    "# Bitonic Merge"
   ]
  },
  {
   "cell_type": "code",
   "execution_count": 264,
   "metadata": {},
   "outputs": [
    {
     "data": {
      "text/html": [
       "<pre style=\"white-space:pre;overflow-x:auto;line-height:normal;font-family:Menlo,'DejaVu Sans Mono',consolas,'Courier New',monospace\">Manim Community <span style=\"color: #008000; text-decoration-color: #008000\">v0.18.1</span>\n",
       "\n",
       "</pre>\n"
      ],
      "text/plain": [
       "Manim Community \u001b[32mv0.\u001b[0m\u001b[32m18.1\u001b[0m\n",
       "\n"
      ]
     },
     "metadata": {},
     "output_type": "display_data"
    },
    {
     "name": "stderr",
     "output_type": "stream",
     "text": [
      "                                                                                                \r"
     ]
    },
    {
     "data": {
      "text/html": [
       "<video src=\"media/jupyter/BitonicMargeIntuition@2024-12-26@17-44-05.mp4\" controls autoplay loop style=\"max-width: 100%;\"  >\n",
       "      Your browser does not support the <code>video</code> element.\n",
       "    </video>"
      ],
      "text/plain": [
       "<IPython.core.display.Video object>"
      ]
     },
     "metadata": {},
     "output_type": "display_data"
    }
   ],
   "source": [
    "%%manim -qm BitonicMargeIntuition\n",
    "\n",
    "config.frame_width = 20\n",
    "\n",
    "def show(self, shift, split=32, do_random=False):\n",
    "    N = 64\n",
    "    if do_random:\n",
    "        all_seq = [random.randint(2, 2*N) for x in range(0, N)]\n",
    "    else:\n",
    "        firsthalf = [random.randint(2, 2*N) for x in range(0, N>>1)]\n",
    "        #firsthalf = [x for x in range(0, nleaves>>1)]\n",
    "        firsthalf.sort()\n",
    "        secondhalf = [random.randint(2, 2*N) for x in range(0, N>>1)]\n",
    "        #secondhalf = [x for x in range(0, nleaves>>1)]\n",
    "        secondhalf.sort(reverse=True)\n",
    "        all_seq = firsthalf + secondhalf\n",
    "    for i in range(0, shift):\n",
    "        all_seq.append(all_seq.pop(0))\n",
    "    new_all_seq = [i for i in all_seq]\n",
    "    maxvalue = max(all_seq)\n",
    "    bar_length = 4\n",
    "    bar_height = 0.3\n",
    "    start_x = -9.5\n",
    "    rects = []\n",
    "    for i, e in zip(range(0, len(all_seq)), all_seq):\n",
    "        r = Rectangle(width=bar_height, height=bar_length*e/maxvalue, fill_opacity=0.5, fill_color=WHITE).move_to([start_x+i*bar_height, bar_length*e/maxvalue/2-4, 0])\n",
    "        rects.append(r)\n",
    "        self.add(r)\n",
    "    \n",
    "    self.wait(1)\n",
    "    self.play(*[rects[i].animate.move_to([start_x+(i-len(all_seq)/2)*bar_height, bar_length*all_seq[i]/maxvalue/2+1, 0]) for i in range(int(len(all_seq)/2), len(all_seq))])\n",
    "\n",
    "    Texts = []\n",
    "    up_move = []\n",
    "    down_move = []\n",
    "    for i in range(0, int(len(all_seq)/2)):\n",
    "        \n",
    "        if all_seq[i] > all_seq[i+int(len(all_seq)/2)]:\n",
    "            # Texts.insert(0, Text(\"✓\", color = GREEN).move_to([start_x+i*bar_height, bar_length*all_seq[i+int(len(all_seq)/2)]/maxvalue/2, 0]))\n",
    "            Texts.append(Text(\"☑︎\", color = GREEN, font_size=32).move_to([start_x+i*bar_height, 0.35, 0]))\n",
    "            down_move.append(rects[i+int(len(all_seq)/2)].animate.move_to([start_x+i*bar_height, bar_length*all_seq[i+int(len(all_seq)/2)]/maxvalue/2-4, 0]))\n",
    "            up_move.append(rects[i].animate.move_to([start_x+i*bar_height, bar_length*all_seq[i]/maxvalue/2+1, 0]))\n",
    "            rects[i], rects[i+int(len(all_seq)/2)] = rects[i+int(len(all_seq)/2)], rects[i]\n",
    "            new_all_seq[i], new_all_seq[i+int(len(all_seq)/2)] = new_all_seq[i+int(len(all_seq)/2)], new_all_seq[i]\n",
    "        else:\n",
    "            Texts.append(Text(\"☒\", color = RED, font_size=32).move_to([start_x+i*bar_height, 0.35, 0]))\n",
    "    self.play(*[Write(t) for t in Texts])\n",
    "    self.wait(1)\n",
    "    self.play(*[up_move], *[down_move])\n",
    "    self.wait(1)\n",
    "    self.play(*[Unwrite(t) for t in Texts], *[rects[i].animate.move_to([start_x+i*bar_height, bar_length*new_all_seq[i]/maxvalue/2-4, 0]) for i in range(int(len(all_seq)/2), len(all_seq))])\n",
    "    self.wait(1)\n",
    "    max_half = max([new_all_seq[i] for i in range(0, int(len(all_seq)/2))])\n",
    "    self.play(Create(Line([-10, -4+bar_length*max_half/maxvalue, 0], [10,  -4+bar_length*max_half/maxvalue, 0], color=RED)))\n",
    "    self.wait(3)\n",
    "\n",
    "class BitonicMargeIntuition(MovingCameraScene):\n",
    "    def construct(self):\n",
    "        show(self, 0)\n"
   ]
  },
  {
   "cell_type": "code",
   "execution_count": 267,
   "metadata": {},
   "outputs": [
    {
     "data": {
      "text/html": [
       "<pre style=\"white-space:pre;overflow-x:auto;line-height:normal;font-family:Menlo,'DejaVu Sans Mono',consolas,'Courier New',monospace\">Manim Community <span style=\"color: #008000; text-decoration-color: #008000\">v0.18.1</span>\n",
       "\n",
       "</pre>\n"
      ],
      "text/plain": [
       "Manim Community \u001b[32mv0.\u001b[0m\u001b[32m18.1\u001b[0m\n",
       "\n"
      ]
     },
     "metadata": {},
     "output_type": "display_data"
    },
    {
     "name": "stderr",
     "output_type": "stream",
     "text": [
      "                                                                                                 \r"
     ]
    },
    {
     "data": {
      "text/html": [
       "<video src=\"media/jupyter/BitonicMargeIntuitionShift@2024-12-26@17-47-11.mp4\" controls autoplay loop style=\"max-width: 100%;\"  >\n",
       "      Your browser does not support the <code>video</code> element.\n",
       "    </video>"
      ],
      "text/plain": [
       "<IPython.core.display.Video object>"
      ]
     },
     "metadata": {},
     "output_type": "display_data"
    }
   ],
   "source": [
    "%%manim -qm BitonicMargeIntuitionShift\n",
    "\n",
    "config.frame_width = 20\n",
    "\n",
    "class BitonicMargeIntuitionShift(MovingCameraScene):\n",
    "    def construct(self):\n",
    "        show(self, 0, 10, True)\n",
    "        self.clear()\n",
    "        show(self, 25)\n",
    "        self.clear()\n",
    "        show(self, 25, 16)\n",
    "        self.clear()\n",
    "        show(self, 25, 22)\n",
    "        self.clear()\n",
    "        show(self, 45, 55)\n",
    "        self.clear()\n",
    "        show(self, 0, 10)\n",
    "        self.clear()\n",
    "        show(self, 0)\n",
    "\n"
   ]
  },
  {
   "cell_type": "code",
   "execution_count": 118,
   "metadata": {},
   "outputs": [
    {
     "data": {
      "text/html": [
       "<pre style=\"white-space:pre;overflow-x:auto;line-height:normal;font-family:Menlo,'DejaVu Sans Mono',consolas,'Courier New',monospace\">Manim Community <span style=\"color: #008000; text-decoration-color: #008000\">v0.18.1</span>\n",
       "\n",
       "</pre>\n"
      ],
      "text/plain": [
       "Manim Community \u001b[32mv0.\u001b[0m\u001b[32m18.1\u001b[0m\n",
       "\n"
      ]
     },
     "metadata": {},
     "output_type": "display_data"
    },
    {
     "name": "stderr",
     "output_type": "stream",
     "text": [
      "                                                                                               \r"
     ]
    },
    {
     "data": {
      "text/html": [
       "<video src=\"media/jupyter/BitonicMargeIntuitionShift2@2024-12-26@14-49-32.mp4\" controls autoplay loop style=\"max-width: 100%;\"  >\n",
       "      Your browser does not support the <code>video</code> element.\n",
       "    </video>"
      ],
      "text/plain": [
       "<IPython.core.display.Video object>"
      ]
     },
     "metadata": {},
     "output_type": "display_data"
    }
   ],
   "source": [
    "%%manim -qm BitonicMargeIntuitionShift2\n",
    "\n",
    "config.frame_width = 20\n",
    "\n",
    "class BitonicMargeIntuitionShift2(MovingCameraScene):\n",
    "    def construct(self):\n",
    "        show(self, 25)\n"
   ]
  },
  {
   "cell_type": "code",
   "execution_count": 258,
   "metadata": {},
   "outputs": [
    {
     "name": "stdout",
     "output_type": "stream",
     "text": [
      "12, 40 - > 7000     \r"
     ]
    },
    {
     "ename": "KeyboardInterrupt",
     "evalue": "",
     "output_type": "error",
     "traceback": [
      "\u001b[0;31m---------------------------------------------------------------------------\u001b[0m",
      "\u001b[0;31mKeyboardInterrupt\u001b[0m                         Traceback (most recent call last)",
      "Cell \u001b[0;32mIn[258], line 41\u001b[0m\n\u001b[1;32m     39\u001b[0m         \u001b[38;5;28;01mfor\u001b[39;00m i \u001b[38;5;129;01min\u001b[39;00m \u001b[38;5;28mrange\u001b[39m(\u001b[38;5;241m1\u001b[39m, \u001b[38;5;241m10009\u001b[39m):\n\u001b[1;32m     40\u001b[0m             \u001b[38;5;28mprint\u001b[39m(\u001b[38;5;124mf\u001b[39m\u001b[38;5;124m'\u001b[39m\u001b[38;5;132;01m{\u001b[39;00mshifts\u001b[38;5;132;01m}\u001b[39;00m\u001b[38;5;124m, \u001b[39m\u001b[38;5;132;01m{\u001b[39;00msplit\u001b[38;5;132;01m}\u001b[39;00m\u001b[38;5;124m - > \u001b[39m\u001b[38;5;132;01m{\u001b[39;00mi\u001b[38;5;132;01m}\u001b[39;00m\u001b[38;5;124m    \u001b[39m\u001b[38;5;124m'\u001b[39m, end\u001b[38;5;241m=\u001b[39m\u001b[38;5;124m'\u001b[39m\u001b[38;5;130;01m\\r\u001b[39;00m\u001b[38;5;124m'\u001b[39m)\n\u001b[0;32m---> 41\u001b[0m             res \u001b[38;5;241m=\u001b[39m \u001b[43mis_bitonic\u001b[49m\u001b[43m(\u001b[49m\u001b[43mgenerate_bitonic\u001b[49m\u001b[43m(\u001b[49m\u001b[38;5;241;43m64\u001b[39;49m\u001b[43m,\u001b[49m\u001b[43m \u001b[49m\u001b[43mshifts\u001b[49m\u001b[43m,\u001b[49m\u001b[43m \u001b[49m\u001b[43msplit\u001b[49m\u001b[43m)\u001b[49m\u001b[43m)\u001b[49m\n\u001b[1;32m     42\u001b[0m             \u001b[38;5;28;01massert\u001b[39;00m(res)\n\u001b[1;32m     44\u001b[0m \u001b[38;5;28;01mfor\u001b[39;00m i \u001b[38;5;129;01min\u001b[39;00m \u001b[38;5;28mrange\u001b[39m(\u001b[38;5;241m1\u001b[39m, \u001b[38;5;241m100009\u001b[39m):\n",
      "Cell \u001b[0;32mIn[258], line 9\u001b[0m, in \u001b[0;36mis_bitonic\u001b[0;34m(seq)\u001b[0m\n\u001b[1;32m      5\u001b[0m \u001b[38;5;66;03m#print(seq)\u001b[39;00m\n\u001b[1;32m      6\u001b[0m \u001b[38;5;66;03m#print(shiftseq)\u001b[39;00m\n\u001b[1;32m      7\u001b[0m \u001b[38;5;66;03m#print(diff)\u001b[39;00m\n\u001b[1;32m      8\u001b[0m filtered_diff \u001b[38;5;241m=\u001b[39m [x \u001b[38;5;28;01mfor\u001b[39;00m x \u001b[38;5;129;01min\u001b[39;00m diff \u001b[38;5;28;01mif\u001b[39;00m x \u001b[38;5;241m!=\u001b[39m \u001b[38;5;241m0\u001b[39m]\n\u001b[0;32m----> 9\u001b[0m sign_seq \u001b[38;5;241m=\u001b[39m [x\u001b[38;5;241m>\u001b[39m\u001b[38;5;241m=\u001b[39m\u001b[38;5;241m0\u001b[39m \u001b[38;5;28;01mfor\u001b[39;00m x \u001b[38;5;129;01min\u001b[39;00m filtered_diff]\n\u001b[1;32m     10\u001b[0m \u001b[38;5;66;03m#print(sign_seq)\u001b[39;00m\n\u001b[1;32m     11\u001b[0m changes \u001b[38;5;241m=\u001b[39m \u001b[38;5;241m0\u001b[39m\n",
      "\u001b[0;31mKeyboardInterrupt\u001b[0m: "
     ]
    }
   ],
   "source": [
    "def is_bitonic(seq):\n",
    "    shiftseq = [i for i in seq]\n",
    "    shiftseq.append(shiftseq.pop(0))\n",
    "    diff = [x-y for x,y in zip(seq, shiftseq)]\n",
    "    #print(seq)\n",
    "    #print(shiftseq)\n",
    "    #print(diff)\n",
    "    filtered_diff = [x for x in diff if x != 0]\n",
    "    sign_seq = [x>=0 for x in filtered_diff]\n",
    "    #print(sign_seq)\n",
    "    changes = 0\n",
    "\n",
    "    v0 = sign_seq[len(sign_seq)-1]\n",
    "    for i in range(0, len(sign_seq)):\n",
    "        if v0^sign_seq[i]:\n",
    "            #print(f'{v0}^{sign_seq[i]}', end=' ')\n",
    "            changes = changes+1\n",
    "            v0 = sign_seq[i]\n",
    "    #print('')\n",
    "    return changes <= 2\n",
    "\n",
    "def generate_bitonic(N, shift=0, split=32):\n",
    "    if split > N:\n",
    "        split = N/2\n",
    "    firsthalf = [random.randint(2, 2*N) for x in range(0, split)]\n",
    "    #firsthalf = [x for x in range(0, nleaves>>1)]\n",
    "    firsthalf.sort()\n",
    "    secondhalf = [random.randint(2, 2*N) for x in range(split, N)]\n",
    "    #secondhalf = [x for x in range(0, nleaves>>1)]\n",
    "    secondhalf.sort(reverse=True)\n",
    "    all_seq = firsthalf + secondhalf\n",
    "    for i in range(0, shift):\n",
    "        all_seq.append(all_seq.pop(0))\n",
    "    \n",
    "    return all_seq\n",
    "\n",
    "for shifts in range(0, 63):\n",
    "    for split in range(20, 50):\n",
    "        for i in range(1, 10009):\n",
    "            print(f'{shifts}, {split} - > {i}    ', end='\\r')\n",
    "            res = is_bitonic(generate_bitonic(64, shifts, split))\n",
    "            assert(res)\n",
    "\n",
    "for i in range(1, 100009):\n",
    "    print(f'random {i}      ', end='\\r')\n",
    "    assert(not is_bitonic([random.randint(2, 2*64) for x in range(0, 64)]))\n",
    "\n",
    "print(\"All OK!\")\n"
   ]
  }
 ],
 "metadata": {
  "kernelspec": {
   "display_name": ".ve",
   "language": "python",
   "name": "python3"
  },
  "language_info": {
   "codemirror_mode": {
    "name": "ipython",
    "version": 3
   },
   "file_extension": ".py",
   "mimetype": "text/x-python",
   "name": "python",
   "nbconvert_exporter": "python",
   "pygments_lexer": "ipython3",
   "version": "3.12.6"
  }
 },
 "nbformat": 4,
 "nbformat_minor": 2
}
