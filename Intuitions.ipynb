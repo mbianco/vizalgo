{
 "cells": [
  {
   "cell_type": "code",
   "execution_count": 2,
   "metadata": {},
   "outputs": [],
   "source": [
    "\n",
    "import networkx as nx\n",
    "import random\n",
    "from manim import *\n",
    "import math\n",
    "\n",
    "config.media_width = \"100%\"\n",
    "config.verbosity = \"WARNING\""
   ]
  },
  {
   "cell_type": "markdown",
   "metadata": {},
   "source": [
    "# Bitonic Merge"
   ]
  },
  {
   "cell_type": "code",
   "execution_count": 264,
   "metadata": {},
   "outputs": [
    {
     "data": {
      "text/html": [
       "<pre style=\"white-space:pre;overflow-x:auto;line-height:normal;font-family:Menlo,'DejaVu Sans Mono',consolas,'Courier New',monospace\">Manim Community <span style=\"color: #008000; text-decoration-color: #008000\">v0.18.1</span>\n",
       "\n",
       "</pre>\n"
      ],
      "text/plain": [
       "Manim Community \u001b[32mv0.\u001b[0m\u001b[32m18.1\u001b[0m\n",
       "\n"
      ]
     },
     "metadata": {},
     "output_type": "display_data"
    },
    {
     "name": "stderr",
     "output_type": "stream",
     "text": [
      "                                                                                                \r"
     ]
    },
    {
     "data": {
      "text/html": [
       "<video src=\"media/jupyter/BitonicMargeIntuition@2024-12-26@17-44-05.mp4\" controls autoplay loop style=\"max-width: 100%;\"  >\n",
       "      Your browser does not support the <code>video</code> element.\n",
       "    </video>"
      ],
      "text/plain": [
       "<IPython.core.display.Video object>"
      ]
     },
     "metadata": {},
     "output_type": "display_data"
    }
   ],
   "source": [
    "%%manim -qm BitonicMargeIntuition\n",
    "\n",
    "config.frame_width = 20\n",
    "\n",
    "def show(self, shift, split=32, do_random=False):\n",
    "    N = 64\n",
    "    if do_random:\n",
    "        all_seq = [random.randint(2, 2*N) for x in range(0, N)]\n",
    "    else:\n",
    "        firsthalf = [random.randint(2, 2*N) for x in range(0, N>>1)]\n",
    "        #firsthalf = [x for x in range(0, nleaves>>1)]\n",
    "        firsthalf.sort()\n",
    "        secondhalf = [random.randint(2, 2*N) for x in range(0, N>>1)]\n",
    "        #secondhalf = [x for x in range(0, nleaves>>1)]\n",
    "        secondhalf.sort(reverse=True)\n",
    "        all_seq = firsthalf + secondhalf\n",
    "    for i in range(0, shift):\n",
    "        all_seq.append(all_seq.pop(0))\n",
    "    new_all_seq = [i for i in all_seq]\n",
    "    maxvalue = max(all_seq)\n",
    "    bar_length = 4\n",
    "    bar_height = 0.3\n",
    "    start_x = -9.5\n",
    "    rects = []\n",
    "    for i, e in zip(range(0, len(all_seq)), all_seq):\n",
    "        r = Rectangle(width=bar_height, height=bar_length*e/maxvalue, fill_opacity=0.5, fill_color=WHITE).move_to([start_x+i*bar_height, bar_length*e/maxvalue/2-4, 0])\n",
    "        rects.append(r)\n",
    "        self.add(r)\n",
    "    \n",
    "    self.wait(1)\n",
    "    self.play(*[rects[i].animate.move_to([start_x+(i-len(all_seq)/2)*bar_height, bar_length*all_seq[i]/maxvalue/2+1, 0]) for i in range(int(len(all_seq)/2), len(all_seq))])\n",
    "\n",
    "    Texts = []\n",
    "    up_move = []\n",
    "    down_move = []\n",
    "    for i in range(0, int(len(all_seq)/2)):\n",
    "        \n",
    "        if all_seq[i] > all_seq[i+int(len(all_seq)/2)]:\n",
    "            # Texts.insert(0, Text(\"✓\", color = GREEN).move_to([start_x+i*bar_height, bar_length*all_seq[i+int(len(all_seq)/2)]/maxvalue/2, 0]))\n",
    "            Texts.append(Text(\"☑︎\", color = GREEN, font_size=32).move_to([start_x+i*bar_height, 0.35, 0]))\n",
    "            down_move.append(rects[i+int(len(all_seq)/2)].animate.move_to([start_x+i*bar_height, bar_length*all_seq[i+int(len(all_seq)/2)]/maxvalue/2-4, 0]))\n",
    "            up_move.append(rects[i].animate.move_to([start_x+i*bar_height, bar_length*all_seq[i]/maxvalue/2+1, 0]))\n",
    "            rects[i], rects[i+int(len(all_seq)/2)] = rects[i+int(len(all_seq)/2)], rects[i]\n",
    "            new_all_seq[i], new_all_seq[i+int(len(all_seq)/2)] = new_all_seq[i+int(len(all_seq)/2)], new_all_seq[i]\n",
    "        else:\n",
    "            Texts.append(Text(\"☒\", color = RED, font_size=32).move_to([start_x+i*bar_height, 0.35, 0]))\n",
    "    self.play(*[Write(t) for t in Texts])\n",
    "    self.wait(1)\n",
    "    self.play(*[up_move], *[down_move])\n",
    "    self.wait(1)\n",
    "    self.play(*[Unwrite(t) for t in Texts], *[rects[i].animate.move_to([start_x+i*bar_height, bar_length*new_all_seq[i]/maxvalue/2-4, 0]) for i in range(int(len(all_seq)/2), len(all_seq))])\n",
    "    self.wait(1)\n",
    "    max_half = max([new_all_seq[i] for i in range(0, int(len(all_seq)/2))])\n",
    "    self.play(Create(Line([-10, -4+bar_length*max_half/maxvalue, 0], [10,  -4+bar_length*max_half/maxvalue, 0], color=RED)))\n",
    "    self.wait(3)\n",
    "\n",
    "class BitonicMargeIntuition(MovingCameraScene):\n",
    "    def construct(self):\n",
    "        show(self, 0)\n"
   ]
  },
  {
   "cell_type": "code",
   "execution_count": 268,
   "metadata": {},
   "outputs": [
    {
     "data": {
      "text/html": [
       "<pre style=\"white-space:pre;overflow-x:auto;line-height:normal;font-family:Menlo,'DejaVu Sans Mono',consolas,'Courier New',monospace\">Manim Community <span style=\"color: #008000; text-decoration-color: #008000\">v0.18.1</span>\n",
       "\n",
       "</pre>\n"
      ],
      "text/plain": [
       "Manim Community \u001b[32mv0.\u001b[0m\u001b[32m18.1\u001b[0m\n",
       "\n"
      ]
     },
     "metadata": {},
     "output_type": "display_data"
    },
    {
     "name": "stderr",
     "output_type": "stream",
     "text": [
      "                                                                                                 \r"
     ]
    },
    {
     "data": {
      "text/html": [
       "<video src=\"media/jupyter/BitonicMargeIntuitionShift@2024-12-26@22-16-27.mp4\" controls autoplay loop style=\"max-width: 100%;\"  >\n",
       "      Your browser does not support the <code>video</code> element.\n",
       "    </video>"
      ],
      "text/plain": [
       "<IPython.core.display.Video object>"
      ]
     },
     "metadata": {},
     "output_type": "display_data"
    }
   ],
   "source": [
    "%%manim -qm BitonicMargeIntuitionShift\n",
    "\n",
    "config.frame_width = 20\n",
    "\n",
    "class BitonicMargeIntuitionShift(MovingCameraScene):\n",
    "    def construct(self):\n",
    "        show(self, 0, 10, True)\n",
    "        self.clear()\n",
    "        show(self, 0, 10, True)\n",
    "        self.clear()\n",
    "        show(self, 25)\n",
    "        self.clear()\n",
    "        show(self, 25, 16)\n",
    "        self.clear()\n",
    "        show(self, 25, 22)\n",
    "        self.clear()\n",
    "        show(self, 45, 55)\n",
    "        self.clear()\n",
    "        show(self, 0, 10)\n",
    "        self.clear()\n",
    "        show(self, 0)\n",
    "\n"
   ]
  },
  {
   "cell_type": "code",
   "execution_count": 118,
   "metadata": {},
   "outputs": [
    {
     "data": {
      "text/html": [
       "<pre style=\"white-space:pre;overflow-x:auto;line-height:normal;font-family:Menlo,'DejaVu Sans Mono',consolas,'Courier New',monospace\">Manim Community <span style=\"color: #008000; text-decoration-color: #008000\">v0.18.1</span>\n",
       "\n",
       "</pre>\n"
      ],
      "text/plain": [
       "Manim Community \u001b[32mv0.\u001b[0m\u001b[32m18.1\u001b[0m\n",
       "\n"
      ]
     },
     "metadata": {},
     "output_type": "display_data"
    },
    {
     "name": "stderr",
     "output_type": "stream",
     "text": [
      "                                                                                               \r"
     ]
    },
    {
     "data": {
      "text/html": [
       "<video src=\"media/jupyter/BitonicMargeIntuitionShift2@2024-12-26@14-49-32.mp4\" controls autoplay loop style=\"max-width: 100%;\"  >\n",
       "      Your browser does not support the <code>video</code> element.\n",
       "    </video>"
      ],
      "text/plain": [
       "<IPython.core.display.Video object>"
      ]
     },
     "metadata": {},
     "output_type": "display_data"
    }
   ],
   "source": [
    "%%manim -qm BitonicMargeIntuitionShift2\n",
    "\n",
    "config.frame_width = 20\n",
    "\n",
    "class BitonicMargeIntuitionShift2(MovingCameraScene):\n",
    "    def construct(self):\n",
    "        show(self, 25)\n"
   ]
  },
  {
   "cell_type": "code",
   "execution_count": 4,
   "metadata": {},
   "outputs": [
    {
     "name": "stdout",
     "output_type": "stream",
     "text": [
      "All OK!          \n"
     ]
    }
   ],
   "source": [
    "def is_bitonic(seq):\n",
    "    shiftseq = [i for i in seq]\n",
    "    shiftseq.append(shiftseq.pop(0))\n",
    "    diff = [x-y for x,y in zip(seq, shiftseq)]\n",
    "    #print(seq)\n",
    "    #print(shiftseq)\n",
    "    #print(diff)\n",
    "    filtered_diff = [x for x in diff if x != 0]\n",
    "    sign_seq = [x>=0 for x in filtered_diff]\n",
    "    #print(sign_seq)\n",
    "    changes = 0\n",
    "\n",
    "    v0 = sign_seq[len(sign_seq)-1]\n",
    "    for i in range(0, len(sign_seq)):\n",
    "        if v0^sign_seq[i]:\n",
    "            #print(f'{v0}^{sign_seq[i]}', end=' ')\n",
    "            changes = changes+1\n",
    "            v0 = sign_seq[i]\n",
    "    #print('')\n",
    "    return changes <= 2\n",
    "\n",
    "def generate_bitonic(N, shift=0, split=32):\n",
    "    if split > N:\n",
    "        split = N/2\n",
    "    firsthalf = [random.randint(2, 2*N) for x in range(0, split)]\n",
    "    #firsthalf = [x for x in range(0, nleaves>>1)]\n",
    "    firsthalf.sort()\n",
    "    secondhalf = [random.randint(2, 2*N) for x in range(split, N)]\n",
    "    #secondhalf = [x for x in range(0, nleaves>>1)]\n",
    "    secondhalf.sort(reverse=True)\n",
    "    all_seq = firsthalf + secondhalf\n",
    "    for i in range(0, shift):\n",
    "        all_seq.append(all_seq.pop(0))\n",
    "    \n",
    "    return all_seq\n",
    "\n",
    "for shifts in range(0, 63):\n",
    "    for split in range(20, 50):\n",
    "        for i in range(1, 100):\n",
    "            print(f'{shifts}, {split} - > {i}    ', end='\\r')\n",
    "            seq = generate_bitonic(64, shifts, split)\n",
    "            res = is_bitonic(seq)\n",
    "            assert(res)\n",
    "            for j in range(0, 32):\n",
    "                if (seq[j]>seq[j+32]):\n",
    "                    seq[j], seq[j+32] = seq[j+32], seq[j]\n",
    "            res = is_bitonic(seq[0:32])\n",
    "            res = is_bitonic(seq[32:64])\n",
    "            assert(res)\n",
    "\n",
    "for i in range(1, 10000):\n",
    "    print(f'random {i}      ', end='\\r')\n",
    "    assert(not is_bitonic([random.randint(2, 2*64) for x in range(0, 64)]))\n",
    "\n",
    "print(\"All OK!          \")\n"
   ]
  },
  {
   "cell_type": "code",
   "execution_count": 82,
   "metadata": {},
   "outputs": [
    {
     "data": {
      "text/html": [
       "<pre style=\"white-space:pre;overflow-x:auto;line-height:normal;font-family:Menlo,'DejaVu Sans Mono',consolas,'Courier New',monospace\">Manim Community <span style=\"color: #008000; text-decoration-color: #008000\">v0.18.1</span>\n",
       "\n",
       "</pre>\n"
      ],
      "text/plain": [
       "Manim Community \u001b[32mv0.\u001b[0m\u001b[32m18.1\u001b[0m\n",
       "\n"
      ]
     },
     "metadata": {},
     "output_type": "display_data"
    },
    {
     "name": "stdout",
     "output_type": "stream",
     "text": [
      "['1', '0', '1', '1', '0', '1', '0', '0']\n"
     ]
    },
    {
     "name": "stderr",
     "output_type": "stream",
     "text": [
      "                                                                          \r"
     ]
    },
    {
     "name": "stdout",
     "output_type": "stream",
     "text": [
      "Text('0') .. Text('0')\n"
     ]
    },
    {
     "name": "stderr",
     "output_type": "stream",
     "text": [
      "                                                                                 \r"
     ]
    },
    {
     "name": "stdout",
     "output_type": "stream",
     "text": [
      "Text('1') .. Text('1')\n"
     ]
    },
    {
     "name": "stderr",
     "output_type": "stream",
     "text": [
      "                                                                                 \r"
     ]
    },
    {
     "name": "stdout",
     "output_type": "stream",
     "text": [
      "Text('1') .. Text('1')\n"
     ]
    },
    {
     "name": "stderr",
     "output_type": "stream",
     "text": [
      "                                                                                 \r"
     ]
    },
    {
     "name": "stdout",
     "output_type": "stream",
     "text": [
      "Text('0') .. Text('1')\n"
     ]
    },
    {
     "name": "stderr",
     "output_type": "stream",
     "text": [
      "                                                                                 \r"
     ]
    },
    {
     "data": {
      "text/html": [
       "<video src=\"media/jupyter/ComparisonIntuition@2024-12-27@10-42-44.mp4\" controls autoplay loop style=\"max-width: 100%;\"  >\n",
       "      Your browser does not support the <code>video</code> element.\n",
       "    </video>"
      ],
      "text/plain": [
       "<IPython.core.display.Video object>"
      ]
     },
     "metadata": {},
     "output_type": "display_data"
    }
   ],
   "source": [
    "%%manim -qm ComparisonIntuition\n",
    "\n",
    "config.frame_width = 10\n",
    "\n",
    "def show(self, N):\n",
    "    f = \"{0:0\"+str(N)+\"b}\"\n",
    "    a = '10110100'\n",
    "    b = '10111010'\n",
    "\n",
    "    A = []\n",
    "    B = []\n",
    "    A.append(Text(a[0]).move_to([-2, 0.5, 0]))\n",
    "    B.append(Text(b[0]).next_to(A[0], DOWN))\n",
    "    for i in range(1,N):\n",
    "        A.append(Text(a[i]).next_to(A[i-1], RIGHT))\n",
    "        B.append(Text(b[i]).next_to(A[i], DOWN))\n",
    "    self.play(*[Write(i) for i in A], *[Write(i) for i in B])\n",
    "\n",
    "    arrow_down = Arrow(start=A[0].get_center()+2*UP, end=A[0].get_center(), color=RED).move_to(A[0].get_center()+UP)\n",
    "    arrow_up = Arrow(start=B[0].get_center()+2*DOWN, end=B[0].get_center(), color=RED).move_to(B[0].get_center()+DOWN)\n",
    "    self.play(Create(arrow_down), Create(arrow_up))\n",
    "    for i in range(1, N):\n",
    "        print(f'{A[i]} .. {B[i]}')\n",
    "        self.play(arrow_down.animate.move_to(A[i].get_center()+UP), arrow_up.animate.move_to(B[i].get_center()+DOWN))\n",
    "        if a[i] != b[i]:\n",
    "            arrow_down.color = GREEN\n",
    "            arrow_up.color = GREEN\n",
    "        self.wait(0.5)\n",
    "        if a[i] != b[i]:\n",
    "            break\n",
    "    self.wait(3)\n",
    "    self.remove(arrow_up)\n",
    "    self.remove(arrow_down)\n",
    "    for i in range(0,N):\n",
    "        self.play(Create(Arrow(start=A[i].get_center()+2*UP, end=A[i], color=RED if a[i]==b[i] else GREEN).move_to(A[i].get_center()+UP)), run_time=0.1)\n",
    "        self.play(Create(Arrow(start=B[i].get_center()+2*DOWN, end=B[i].get_center(), color=RED if a[i]==b[i] else GREEN).move_to(B[i].get_center()+DOWN)), run_time=0.1)\n",
    "    self.wait(3)\n",
    "\n",
    "class ComparisonIntuition(Scene):\n",
    "    def construct(self):\n",
    "        show(self, 8)\n",
    "\n"
   ]
  },
  {
   "cell_type": "code",
   "execution_count": 260,
   "metadata": {},
   "outputs": [
    {
     "data": {
      "text/html": [
       "<pre style=\"white-space:pre;overflow-x:auto;line-height:normal;font-family:Menlo,'DejaVu Sans Mono',consolas,'Courier New',monospace\">Manim Community <span style=\"color: #008000; text-decoration-color: #008000\">v0.18.1</span>\n",
       "\n",
       "</pre>\n"
      ],
      "text/plain": [
       "Manim Community \u001b[32mv0.\u001b[0m\u001b[32m18.1\u001b[0m\n",
       "\n"
      ]
     },
     "metadata": {},
     "output_type": "display_data"
    },
    {
     "name": "stderr",
     "output_type": "stream",
     "text": [
      "                                                                               \r"
     ]
    },
    {
     "name": "stdout",
     "output_type": "stream",
     "text": [
      "0, N-i-1=7, N-i-2=6, N-i-1-(N>>1)=3, N-i-2-(N>>1)=2\n",
      "[-1.47728742  0.5         0.        ], [-2.1509438  0.5        0.       ]\n"
     ]
    },
    {
     "name": "stderr",
     "output_type": "stream",
     "text": [
      "                                                                                \r"
     ]
    },
    {
     "name": "stdout",
     "output_type": "stream",
     "text": [
      "1, N-i-1=6, N-i-2=5, N-i-1-(N>>1)=2, N-i-2-(N>>1)=1\n",
      "[-2.1509438  0.5        0.       ], [-2.82198497  0.5         0.        ]\n"
     ]
    },
    {
     "name": "stderr",
     "output_type": "stream",
     "text": [
      "                                                                                \r"
     ]
    },
    {
     "name": "stdout",
     "output_type": "stream",
     "text": [
      "2, N-i-1=5, N-i-2=4, N-i-1-(N>>1)=1, N-i-2-(N>>1)=0\n",
      "[-2.82198497  0.5         0.        ], [-3.5  0.5  0. ]\n"
     ]
    },
    {
     "name": "stderr",
     "output_type": "stream",
     "text": [
      "                                                                                 \r"
     ]
    },
    {
     "data": {
      "text/html": [
       "<video src=\"media/jupyter/LogTimeSumIntuition@2024-12-28@12-58-09.mp4\" controls autoplay loop style=\"max-width: 100%;\"  >\n",
       "      Your browser does not support the <code>video</code> element.\n",
       "    </video>"
      ],
      "text/plain": [
       "<IPython.core.display.Video object>"
      ]
     },
     "metadata": {},
     "output_type": "display_data"
    }
   ],
   "source": [
    "%%manim -qm LogTimeSumIntuition\n",
    "\n",
    "config.frame_width = 10\n",
    "\n",
    "def show1(self):\n",
    "    t1 = Tex('A number in base $b$ has digits from 0 to $b-1$')\n",
    "    self.add(t1)\n",
    "    self.wait(2)\n",
    "    t2 = Tex('$(b-1)+(b-1) = b + b-2 = [1(b-2)]_b$')\n",
    "    self.play(t1.animate.shift(UP),Create(t2))\n",
    "    self.wait(4)\n",
    "    t3 = Tex('$9+9=18_{10}$').shift(2*LEFT)\n",
    "    t4 = Tex('$1+1=10_2$').shift(RIGHT)\n",
    "    self.play(t1.animate.shift(UP), t2.animate.shift(UP), Create(t3), Create(t4))\n",
    "    self.wait(3)\n",
    "    t5 = Tex('$(b-1)+(b-1) + 1 = b + b-1 = [1(b-1)]_b$').shift(DOWN)\n",
    "    self.wait(5)\n",
    "    self.play(Create(t5))\n",
    "    self.play(  Create(Rectangle(width=0.32, height=0.5, color=RED).move_to([1.65,0,0])),\n",
    "                Create(Rectangle(width=0.32, height=0.5, color=RED).move_to([-1.45,0,0])),\n",
    "                Create(Rectangle(width=0.32, height=0.5, color=RED).move_to([2.51,1.05,0])),\n",
    "                Create(Rectangle(width=0.32, height=0.5, color=RED).move_to([2.98,-0.99,0])))\n",
    "    self.wait(5)\n",
    "\n",
    "def show2(self):\n",
    "    N = 8    \n",
    "    A = []\n",
    "    B = []\n",
    "    A.append(Tex(f'$a_{N-1}$').move_to([-2.5, 0.5, 0]))\n",
    "    B.append(Tex(f'$b_{N-1}$').next_to(A[0], DOWN))\n",
    "    for i in range(1,N):\n",
    "        A.append(Tex(f'$a_{N-1-i}$').next_to(A[i-1], RIGHT))\n",
    "        B.append(Tex(f'$b_{N-1-i}$').next_to(A[i], DOWN))\n",
    "\n",
    "    LineLeft = Line(B[0].get_center()+0.5*LEFT+0.5*DOWN, B[(N>>1)-1].get_center()+0.5*RIGHT+0.5*DOWN)\n",
    "    LineRight = Line(B[N>>1].get_center()+0.5*LEFT+0.5*DOWN, B[N-1].get_center()+0.5*RIGHT+0.5*DOWN)\n",
    "    G1 = Group(*A[0:N>>1], *B[0:N>>1], LineRight)\n",
    "    G2 = Group(*A[(N>>1):N], *B[(N>>1):N], LineLeft)\n",
    "    plusR = Text('+').move_to(A[N-1].get_center()+0.5*RIGHT)\n",
    "    equalR = Text('=').move_to(B[N-1].get_center()+0.5*RIGHT)\n",
    "    plusL = Text('+').move_to(A[(N>>1)-1].get_center()+0.5*RIGHT)\n",
    "    equalL = Text('=').move_to(B[(N>>1)-1].get_center()+0.5*RIGHT)\n",
    "    GL = Group(*A[0:N>>1], *B[0:N>>1], LineLeft, plusL, equalL)\n",
    "    GR = Group(*A[(N>>1):N], *B[(N>>1):N], LineRight, plusR, equalR)\n",
    "    self.play(*[Write(i) for i in A], *[Write(i) for i in B], \n",
    "                Create(LineRight),\n",
    "                Create(LineLeft),\n",
    "                Create(plusR),\n",
    "                Create(equalR))\n",
    "\n",
    "    self.wait(1)\n",
    "    self.play(Create(equalL), Create(plusL), run_time=0.1)\n",
    "    self.play(GL.animate.shift(LEFT), GR.animate.shift(RIGHT))\n",
    "    self.wait(1)\n",
    "\n",
    "    CR = []\n",
    "    CL = []\n",
    "    for i in range(0,N>>1):\n",
    "        CR.append(Tex(f'$r_{i}$').next_to(B[N-i-1], 1.6*DOWN))\n",
    "        CL.append(Tex(f'$r_{i+(N>>1)}$').next_to(B[N-i-1-(N>>1)], 1.6*DOWN))\n",
    "        self.play(Create(CR[i]), Create(CL[i]),run_time=0.2)\n",
    "        if i < (N>>1)-1:\n",
    "            print(f'{i}, N-i-1={N-i-1}, N-i-2={N-i-2}, N-i-1-(N>>1)={N-i-1-(N>>1)}, N-i-2-(N>>1)={N-i-2-(N>>1)}')\n",
    "            print(f'{A[N-i-1-(N>>1)].get_center()}, {A[N-i-2-(N>>1)].get_center()}')\n",
    "            self.play(\n",
    "                    Create(Arrow(A[N-i-1].get_center()+0.2*UP+0.1*LEFT\n",
    "                                , A[N-i-2].get_center()+0.2*UP+0.1*RIGHT\n",
    "                                , path_arc=PI/3))\n",
    "                    , Create(Arrow(A[N-i-1-(N>>1)].get_center()+0.2*UP+0.1*LEFT\n",
    "                                , A[N-i-2-(N>>1)].get_center()+0.2*UP+0.1*RIGHT\n",
    "                                , path_arc=PI/4)\n",
    "                    ))\n",
    "\n",
    "    self.wait(3)\n",
    "\n",
    "def show3(self, a, b):\n",
    "    N = 8\n",
    "    A = []\n",
    "    B = []\n",
    "    A.append(Text(a[0]).move_to([-2, 0.5, 0]))\n",
    "    B.append(Text(b[0]).next_to(A[0], DOWN))\n",
    "    for i in range(1,N):\n",
    "        A.append(Text(a[i]).next_to(A[i-1], RIGHT))\n",
    "        B.append(Text(b[i]).next_to(A[i], DOWN))\n",
    "    self.play(*[Write(i) for i in A], *[Write(i) for i in B], \n",
    "                Create(Line(B[0].get_center()+0.5*LEFT+0.5*DOWN, B[N-1].get_center()+0.5*RIGHT+0.5*DOWN)),\n",
    "                Create(Text('+').move_to(A[N-1].get_center()+0.5*RIGHT)),\n",
    "                Create(Text('=').move_to(B[N-1].get_center()+0.5*RIGHT)))\n",
    "\n",
    "    carry = 0\n",
    "    for i in range(N-1, -1, -1):\n",
    "        res = int(a[i]) + int(b[i]) + carry\n",
    "        carry = math.floor(res/10)\n",
    "        value = res%10\n",
    "        self.play(  Write(Text(str(value)).move_to(B[i].get_center()+DOWN)),\n",
    "                    Write(Text(str(carry), font_size=24).move_to(A[i].get_center()+0.25*UP+0.25*LEFT)))\n",
    "\n",
    "class LogTimeSumIntuition(Scene):\n",
    "    def construct(self):\n",
    "        #show1(self)\n",
    "        #self.clear()\n",
    "        show2(self)\n",
    "        # a = '63420363'\n",
    "        # b = '92352638'\n",
    "        # show3(self, a, b)"
   ]
  }
 ],
 "metadata": {
  "kernelspec": {
   "display_name": ".ve",
   "language": "python",
   "name": "python3"
  },
  "language_info": {
   "codemirror_mode": {
    "name": "ipython",
    "version": 3
   },
   "file_extension": ".py",
   "mimetype": "text/x-python",
   "name": "python",
   "nbconvert_exporter": "python",
   "pygments_lexer": "ipython3",
   "version": "3.12.6"
  }
 },
 "nbformat": 4,
 "nbformat_minor": 2
}
