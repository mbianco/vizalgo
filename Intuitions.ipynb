{
 "cells": [
  {
   "cell_type": "code",
   "execution_count": 5,
   "metadata": {},
   "outputs": [],
   "source": [
    "\n",
    "import networkx as nx\n",
    "import random\n",
    "from manim import *\n",
    "import math\n",
    "\n",
    "config.media_width = \"100%\"\n",
    "config.verbosity = \"WARNING\""
   ]
  },
  {
   "cell_type": "markdown",
   "metadata": {},
   "source": [
    "# Bitonic Merge"
   ]
  },
  {
   "cell_type": "code",
   "execution_count": 112,
   "metadata": {},
   "outputs": [
    {
     "data": {
      "text/html": [
       "<pre style=\"white-space:pre;overflow-x:auto;line-height:normal;font-family:Menlo,'DejaVu Sans Mono',consolas,'Courier New',monospace\">Manim Community <span style=\"color: #008000; text-decoration-color: #008000\">v0.18.1</span>\n",
       "\n",
       "</pre>\n"
      ],
      "text/plain": [
       "Manim Community \u001b[32mv0.\u001b[0m\u001b[32m18.1\u001b[0m\n",
       "\n"
      ]
     },
     "metadata": {},
     "output_type": "display_data"
    },
    {
     "name": "stderr",
     "output_type": "stream",
     "text": [
      "                                                                                               \r"
     ]
    },
    {
     "data": {
      "text/html": [
       "<video src=\"media/jupyter/BitonicMargeIntuition@2024-12-26@13-31-25.mp4\" controls autoplay loop style=\"max-width: 100%;\"  >\n",
       "      Your browser does not support the <code>video</code> element.\n",
       "    </video>"
      ],
      "text/plain": [
       "<IPython.core.display.Video object>"
      ]
     },
     "metadata": {},
     "output_type": "display_data"
    }
   ],
   "source": [
    "%%manim -qm BitonicMargeIntuition\n",
    "\n",
    "config.frame_width = 20\n",
    "\n",
    "def show(self, shift):\n",
    "    N = 64\n",
    "    firsthalf = [random.randint(2, 2*N) for x in range(0, N>>1)]\n",
    "    #firsthalf = [x for x in range(0, nleaves>>1)]\n",
    "    firsthalf.sort()\n",
    "    secondhalf = [random.randint(2, 2*N) for x in range(0, N>>1)]\n",
    "    #secondhalf = [x for x in range(0, nleaves>>1)]\n",
    "    secondhalf.sort(reverse=True)\n",
    "    all_seq = firsthalf + secondhalf\n",
    "    for i in range(0, shift):\n",
    "        all_seq.append(all_seq.pop(0))\n",
    "    new_all_seq = [i for i in all_seq]\n",
    "    maxvalue = max(all_seq)\n",
    "    bar_length = 4\n",
    "    bar_height = 0.3\n",
    "    start_x = -9.5\n",
    "    rects = []\n",
    "    for i, e in zip(range(0, len(all_seq)), all_seq):\n",
    "        r = Rectangle(width=bar_height, height=bar_length*e/maxvalue, fill_opacity=0.5, fill_color=WHITE).move_to([start_x+i*bar_height, bar_length*e/maxvalue/2-4, 0])\n",
    "        rects.append(r)\n",
    "        self.add(r)\n",
    "    \n",
    "    self.wait(1)\n",
    "    self.play(*[rects[i].animate.move_to([start_x+(i-len(all_seq)/2)*bar_height, bar_length*all_seq[i]/maxvalue/2+1, 0]) for i in range(int(len(all_seq)/2), len(all_seq))])\n",
    "\n",
    "    Texts = []\n",
    "    up_move = []\n",
    "    down_move = []\n",
    "    for i in range(0, int(len(all_seq)/2)):\n",
    "        \n",
    "        if all_seq[i] > all_seq[i+int(len(all_seq)/2)]:\n",
    "            # Texts.insert(0, Text(\"✓\", color = GREEN).move_to([start_x+i*bar_height, bar_length*all_seq[i+int(len(all_seq)/2)]/maxvalue/2, 0]))\n",
    "            Texts.append(Text(\"☑︎\", color = GREEN, font_size=32).move_to([start_x+i*bar_height, 0.35, 0]))\n",
    "            down_move.append(rects[i+int(len(all_seq)/2)].animate.move_to([start_x+i*bar_height, bar_length*all_seq[i+int(len(all_seq)/2)]/maxvalue/2-4, 0]))\n",
    "            up_move.append(rects[i].animate.move_to([start_x+i*bar_height, bar_length*all_seq[i]/maxvalue/2+1, 0]))\n",
    "            rects[i], rects[i+int(len(all_seq)/2)] = rects[i+int(len(all_seq)/2)], rects[i]\n",
    "            new_all_seq[i], new_all_seq[i+int(len(all_seq)/2)] = new_all_seq[i+int(len(all_seq)/2)], new_all_seq[i]\n",
    "        else:\n",
    "            Texts.append(Text(\"☒\", color = RED, font_size=32).move_to([start_x+i*bar_height, 0.35, 0]))\n",
    "    self.play(*[Write(t) for t in Texts])\n",
    "    self.wait(1)\n",
    "    self.play(*[up_move], *[down_move])\n",
    "    self.wait(1)\n",
    "    self.play(*[Unwrite(t) for t in Texts], *[rects[i].animate.move_to([start_x+i*bar_height, bar_length*new_all_seq[i]/maxvalue/2-4, 0]) for i in range(int(len(all_seq)/2), len(all_seq))])\n",
    "    self.wait(1)\n",
    "    max_half = max([new_all_seq[i] for i in range(0, int(len(all_seq)/2))])\n",
    "    self.play(Create(Line([-10, -4+bar_length*max_half/maxvalue, 0], [10,  -4+bar_length*max_half/maxvalue, 0], color=RED)))\n",
    "    self.wait(3)\n",
    "\n",
    "class BitonicMargeIntuition(MovingCameraScene):\n",
    "    def construct(self):\n",
    "        show(self, 0)\n"
   ]
  },
  {
   "cell_type": "code",
   "execution_count": 117,
   "metadata": {},
   "outputs": [
    {
     "data": {
      "text/html": [
       "<pre style=\"white-space:pre;overflow-x:auto;line-height:normal;font-family:Menlo,'DejaVu Sans Mono',consolas,'Courier New',monospace\">Manim Community <span style=\"color: #008000; text-decoration-color: #008000\">v0.18.1</span>\n",
       "\n",
       "</pre>\n"
      ],
      "text/plain": [
       "Manim Community \u001b[32mv0.\u001b[0m\u001b[32m18.1\u001b[0m\n",
       "\n"
      ]
     },
     "metadata": {},
     "output_type": "display_data"
    },
    {
     "name": "stderr",
     "output_type": "stream",
     "text": [
      "                                                                                               \r"
     ]
    },
    {
     "data": {
      "text/html": [
       "<video src=\"media/jupyter/BitonicMargeIntuitionShift@2024-12-26@14-47-51.mp4\" controls autoplay loop style=\"max-width: 100%;\"  >\n",
       "      Your browser does not support the <code>video</code> element.\n",
       "    </video>"
      ],
      "text/plain": [
       "<IPython.core.display.Video object>"
      ]
     },
     "metadata": {},
     "output_type": "display_data"
    }
   ],
   "source": [
    "%%manim -qm BitonicMargeIntuitionShift\n",
    "\n",
    "config.frame_width = 20\n",
    "\n",
    "class BitonicMargeIntuitionShift(MovingCameraScene):\n",
    "    def construct(self):\n",
    "        show(self, 25)\n"
   ]
  },
  {
   "cell_type": "code",
   "execution_count": 118,
   "metadata": {},
   "outputs": [
    {
     "data": {
      "text/html": [
       "<pre style=\"white-space:pre;overflow-x:auto;line-height:normal;font-family:Menlo,'DejaVu Sans Mono',consolas,'Courier New',monospace\">Manim Community <span style=\"color: #008000; text-decoration-color: #008000\">v0.18.1</span>\n",
       "\n",
       "</pre>\n"
      ],
      "text/plain": [
       "Manim Community \u001b[32mv0.\u001b[0m\u001b[32m18.1\u001b[0m\n",
       "\n"
      ]
     },
     "metadata": {},
     "output_type": "display_data"
    },
    {
     "name": "stderr",
     "output_type": "stream",
     "text": [
      "                                                                                               \r"
     ]
    },
    {
     "data": {
      "text/html": [
       "<video src=\"media/jupyter/BitonicMargeIntuitionShift2@2024-12-26@14-49-32.mp4\" controls autoplay loop style=\"max-width: 100%;\"  >\n",
       "      Your browser does not support the <code>video</code> element.\n",
       "    </video>"
      ],
      "text/plain": [
       "<IPython.core.display.Video object>"
      ]
     },
     "metadata": {},
     "output_type": "display_data"
    }
   ],
   "source": [
    "%%manim -qm BitonicMargeIntuitionShift2\n",
    "\n",
    "config.frame_width = 20\n",
    "\n",
    "class BitonicMargeIntuitionShift2(MovingCameraScene):\n",
    "    def construct(self):\n",
    "        show(self, 25)\n"
   ]
  }
 ],
 "metadata": {
  "kernelspec": {
   "display_name": ".ve",
   "language": "python",
   "name": "python3"
  },
  "language_info": {
   "codemirror_mode": {
    "name": "ipython",
    "version": 3
   },
   "file_extension": ".py",
   "mimetype": "text/x-python",
   "name": "python",
   "nbconvert_exporter": "python",
   "pygments_lexer": "ipython3",
   "version": "3.12.6"
  }
 },
 "nbformat": 4,
 "nbformat_minor": 2
}
