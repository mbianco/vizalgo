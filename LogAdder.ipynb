{
 "cells": [
  {
   "cell_type": "code",
   "execution_count": 1,
   "id": "3b7198d7-9257-452c-928a-a211a723517b",
   "metadata": {},
   "outputs": [],
   "source": [
    "import networkx as nx\n",
    "from manim import *\n",
    "import math\n",
    "\n",
    "config.media_width = \"100%\"\n",
    "config.verbosity = \"WARNING\""
   ]
  },
  {
   "cell_type": "markdown",
   "id": "9e00115e-4517-4d62-814e-8a6f10c1aa5d",
   "metadata": {},
   "source": [
    "![ciao](media/tree.jpg)\n"
   ]
  },
  {
   "cell_type": "code",
   "execution_count": 3,
   "id": "dbf63ae3-6593-48ee-b9a9-023c270c7069",
   "metadata": {},
   "outputs": [],
   "source": [
    "def xor_op(a, b):\n",
    "    return '1' if (int(a) ^ int(b)) else '0'\n",
    "\n",
    "def and_op(a, b):\n",
    "    return '1' if (int(a) & int(b)) else '0'\n",
    "\n",
    "def or_op(a, b):\n",
    "    return '1' if (int(a) | int(b)) else '0'\n",
    "\n"
   ]
  },
  {
   "cell_type": "code",
   "execution_count": 4,
   "id": "b002bffb",
   "metadata": {},
   "outputs": [],
   "source": [
    "\n",
    "def generic_run(selfi, network, **kwargs):\n",
    "    null_label = kwargs['null_label'] if 'null_label' in kwargs else '-'\n",
    "    (Network, layout, label_edges) = network.get()\n",
    "\n",
    "    unet = Network.to_undirected()\n",
    "    network.init_computation(46, 63)\n",
    "    finished = False\n",
    "    time = 0\n",
    "    while not finished:\n",
    "    #for time in range(0, 2*nbits):\n",
    "        print(f'Iteration {time}')\n",
    "        G = Graph.from_networkx(unet, layout=layout, labels={i : Network.nodes[i]['weight']['value'] for i in Network})\n",
    "        selfi.add(G)\n",
    "        if time == 0:\n",
    "            texts = [Text(str(Network[u][v]['weight']['carry'])).next_to(label_edges[(u, v)])\n",
    "                        for u, v in Network.edges]\n",
    "            for i in texts:\n",
    "                selfi.add(i)\n",
    "        else:\n",
    "            new_texts = [Text(str(Network[u][v]['weight']['carry'])).next_to(label_edges[(u, v)])\n",
    "                        for u, v in Network.edges]\n",
    "            selfi.play(*[Transform(t1, t2) for t1, t2 in zip(texts, new_texts)])\n",
    "        selfi.wait(1)\n",
    "        finished = not network.compute_iteration()\n",
    "        time = time+1\n",
    "    selfi.wait(3)\n",
    "\n"
   ]
  },
  {
   "cell_type": "code",
   "execution_count": 7,
   "id": "0236c831-768f-4284-91dd-ad22ecf8d0c4",
   "metadata": {},
   "outputs": [],
   "source": [
    "class linear_sum:\n",
    "    def is_carry(self, v):\n",
    "        return (v-1)%3==0\n",
    "    \n",
    "    def is_input(self, v):\n",
    "        return not self.is_carry(v)\n",
    "        \n",
    "\n",
    "    def __init__(self, nbits, **kwargs):\n",
    "        # nbits is the number of bits of the operation\n",
    "        self.nbits = nbits\n",
    "        self.Array = nx.DiGraph()\n",
    "        \n",
    "        #        23 22 21 20 19 18 27 16 15 14 13 12 11 10 9  8  7  6  5  4  3  2  1  0\n",
    "        #        i  c  i  i  c  i  i  c  i  i  c  i  i  c  i  i  c  i  i  c  i  i  c  i\n",
    "        # pos_x -12-11-10-9  -8 -7 -6 -5 -4 -3 -2 -1 0  1  2  3  4  5  6  7  8  9 10 11\n",
    "        # pos_y  1  0  1  1  0  1  1  0  1  1  0  1  1  0  1  1  0  1  1  0  1  1  0  1\n",
    "        for x in range(0, 3*self.nbits): # Input nodes\n",
    "            #print(x)\n",
    "            self.Array.add_node(x, weight = {'value': '.'})\n",
    "\n",
    "        # Edges to compute the sum of input bits\n",
    "        for x in range(1, 3*self.nbits, 3):\n",
    "            #print(f'adding input edge ({x-1}, {x})')\n",
    "            self.Array.add_edge(x-1, x, weight={\"carry\": '.'})\n",
    "            #print(f'adding input edge ({x+1}, {x})')\n",
    "            self.Array.add_edge(x+1, x, weight={\"carry\": '.'})\n",
    "\n",
    "        # Edges to propagate the carry\n",
    "        for x in range(1, 3*(self.nbits-1), 3):\n",
    "            #print(f'adding carry edge ({x}, {x+3})')\n",
    "            self.Array.add_edge(x, x+3, weight={\"carry\": '.'})\n",
    "\n",
    "        self.layout = { x: [3*nbits/2-x, 0 if (x-1)%3==0 else -1, 0] for x in range(0, 3*self.nbits)}\n",
    "        print(self.layout)\n",
    "\n",
    "        # Compute the positions of the labels for edges\n",
    "        #        23 22 21 20 19 18 27 16 15 14 13 12 11 10 9  8  7  6  5  4  3  2  1  0\n",
    "        #        i  c  i  i  c  i  i  c  i  i  c  i  i  c  i  i  c  i  i  c  i  i  c  i\n",
    "        # Solution 1 for input edges: put then at the mean between the coordinates of the endpoints\n",
    "        # Solution 1 for carry edges: put label on top and between the x coordinates of the endpoints\n",
    "        edge_labels_x = {u: (self.layout[u][0]+self.layout[v][0])/2 for u, v in self.Array.edges}\n",
    "        edge_labels_y = {}\n",
    "        for u,v in self.Array.edges:\n",
    "            if self.is_input(u):\n",
    "                edge_labels_y[u] = (self.layout[u][1]+self.layout[v][1])/2\n",
    "            else:\n",
    "                edge_labels_y[u] = 0.3\n",
    "        self.labels_position = {(u, v): edge_labels_x[u]*RIGHT+edge_labels_y[u]*UP for u, v in self.Array.edges}\n",
    "\n",
    "    def get(self):\n",
    "        return (self.Array, self.layout, self.labels_position)\n",
    "\n",
    "    def init_computation(self, a, b):\n",
    "        f = \"{0:0\"+str(self.nbits)+\"b}\"\n",
    "        self.a = f.format(a)\n",
    "        self.b = f.format(b)\n",
    "        print(self.a, self.b)\n",
    "\n",
    "        for i in range(0, 3*self.nbits, 3):\n",
    "            self.Array.nodes[i]['weight']['value'] = self.a[self.nbits-1-int(i/3)]\n",
    "            self.Array.nodes[i+2]['weight']['value'] = self.b[self.nbits-1-int(i/3)]\n",
    "\n",
    "    def compute_iteration(self):\n",
    "        some_updates = False\n",
    "\n",
    "        for node in range(3*self.nbits-1, -1, -1):\n",
    "\n",
    "            if self.is_input(node):\n",
    "                for u, v, d in self.Array.out_edges(node, data=True):\n",
    "                    assert(u==node)\n",
    "                    if self.Array.nodes[node]['weight']['value'] != '.':\n",
    "                        some_updates = True\n",
    "                        #print(f'before: node {node}, edge ({u}, {v}), weigth {d} = {self.Array.nodes[node]['weight']['value']}')\n",
    "                        d['weight']['carry'] = self.Array.nodes[node]['weight']['value']\n",
    "                        self.Array.nodes[node]['weight']['value'] = '.'\n",
    "                        #print(f'after:  node {node}, edge ({u}, {v}), weigth {d} = {self.Array.nodes[node]['weight']['value']}')\n",
    "            else:\n",
    "                #print(\"main computaiton\")\n",
    "                in_edges = [d for u, v, d in self.Array.in_edges(node, data=True)]\n",
    "                in_edges_full = [(d, u, v) for u, v, d in self.Array.in_edges(node, data=True)]\n",
    "                # check is the comutation is ready to start\n",
    "                all_set = True\n",
    "                for e in in_edges_full:\n",
    "                    #print(f'              edge ({e[1]}, {e[2]}) -> {e[0]['weight']['carry']}')\n",
    "                    all_set = all_set and (e[0]['weight']['carry'] != '.')\n",
    "                #print (f'everything ok for node {node}? {all_set}')\n",
    "                if all_set:\n",
    "                    some_updates = True\n",
    "                    if (node==1): # it has only two incoming edges\n",
    "                        #print(\"I'm here\")\n",
    "                        assert(len(in_edges) == 2)\n",
    "                        a = in_edges[0]['weight']['carry']\n",
    "                        b = in_edges[1]['weight']['carry']\n",
    "                        in_edges[0]['weight']['carry'] = '.'\n",
    "                        in_edges[1]['weight']['carry'] = '.'\n",
    "                        self.Array.nodes[node]['weight']['value'] = xor_op(a, b)\n",
    "                        for u, v, d in self.Array.out_edges(node, data=True):\n",
    "                            d['weight']['carry'] = and_op(a, b)\n",
    "                    else:\n",
    "                        #print(\"I'm not here\")\n",
    "                        assert(len(in_edges) == 3)\n",
    "                        a = in_edges[0]['weight']['carry']\n",
    "                        b = in_edges[1]['weight']['carry']\n",
    "                        c = in_edges[2]['weight']['carry']\n",
    "                        in_edges[0]['weight']['carry'] = '.'\n",
    "                        in_edges[1]['weight']['carry'] = '.'\n",
    "                        in_edges[2]['weight']['carry'] = '.'\n",
    "                        self.Array.nodes[node]['weight']['value'] = xor_op(xor_op(a, b), c)\n",
    "                        for u, v, d in self.Array.out_edges(node, data=True):\n",
    "                            d['weight']['carry'] = or_op(and_op(a, b), or_op(and_op(a, c), and_op(b, c)))\n",
    "        return some_updates\n",
    "                    "
   ]
  },
  {
   "cell_type": "code",
   "execution_count": 8,
   "id": "c6319f84-c599-4220-9f14-a7319de97cea",
   "metadata": {
    "scrolled": true
   },
   "outputs": [
    {
     "data": {
      "text/html": [
       "<pre style=\"white-space:pre;overflow-x:auto;line-height:normal;font-family:Menlo,'DejaVu Sans Mono',consolas,'Courier New',monospace\">Manim Community <span style=\"color: #008000; text-decoration-color: #008000\">v0.18.1</span>\n",
       "\n",
       "</pre>\n"
      ],
      "text/plain": [
       "Manim Community \u001b[32mv0.\u001b[0m\u001b[32m18.1\u001b[0m\n",
       "\n"
      ]
     },
     "metadata": {},
     "output_type": "display_data"
    },
    {
     "name": "stdout",
     "output_type": "stream",
     "text": [
      "{0: [12.0, -1, 0], 1: [11.0, 0, 0], 2: [10.0, -1, 0], 3: [9.0, -1, 0], 4: [8.0, 0, 0], 5: [7.0, -1, 0], 6: [6.0, -1, 0], 7: [5.0, 0, 0], 8: [4.0, -1, 0], 9: [3.0, -1, 0], 10: [2.0, 0, 0], 11: [1.0, -1, 0], 12: [0.0, -1, 0], 13: [-1.0, 0, 0], 14: [-2.0, -1, 0], 15: [-3.0, -1, 0], 16: [-4.0, 0, 0], 17: [-5.0, -1, 0], 18: [-6.0, -1, 0], 19: [-7.0, 0, 0], 20: [-8.0, -1, 0], 21: [-9.0, -1, 0], 22: [-10.0, 0, 0], 23: [-11.0, -1, 0]}\n",
      "00101110 00111111\n",
      "Iteration 0\n",
      "Iteration 1\n"
     ]
    },
    {
     "name": "stderr",
     "output_type": "stream",
     "text": [
      "                                                                                        \r"
     ]
    },
    {
     "name": "stdout",
     "output_type": "stream",
     "text": [
      "Iteration 2\n"
     ]
    },
    {
     "name": "stderr",
     "output_type": "stream",
     "text": [
      "                                                                                        \r"
     ]
    },
    {
     "name": "stdout",
     "output_type": "stream",
     "text": [
      "Iteration 3\n"
     ]
    },
    {
     "name": "stderr",
     "output_type": "stream",
     "text": [
      "                                                                                        \r"
     ]
    },
    {
     "name": "stdout",
     "output_type": "stream",
     "text": [
      "Iteration 4\n"
     ]
    },
    {
     "name": "stderr",
     "output_type": "stream",
     "text": [
      "                                                                                        \r"
     ]
    },
    {
     "name": "stdout",
     "output_type": "stream",
     "text": [
      "Iteration 5\n"
     ]
    },
    {
     "name": "stderr",
     "output_type": "stream",
     "text": [
      "                                                                                        \r"
     ]
    },
    {
     "name": "stdout",
     "output_type": "stream",
     "text": [
      "Iteration 6\n"
     ]
    },
    {
     "name": "stderr",
     "output_type": "stream",
     "text": [
      "                                                                                         \r"
     ]
    },
    {
     "name": "stdout",
     "output_type": "stream",
     "text": [
      "Iteration 7\n"
     ]
    },
    {
     "name": "stderr",
     "output_type": "stream",
     "text": [
      "                                                                                         \r"
     ]
    },
    {
     "name": "stdout",
     "output_type": "stream",
     "text": [
      "Iteration 8\n"
     ]
    },
    {
     "name": "stderr",
     "output_type": "stream",
     "text": [
      "                                                                                         \r"
     ]
    },
    {
     "name": "stdout",
     "output_type": "stream",
     "text": [
      "Iteration 9\n"
     ]
    },
    {
     "name": "stderr",
     "output_type": "stream",
     "text": [
      "                                                                                         \r"
     ]
    },
    {
     "data": {
      "text/html": [
       "<video src=\"media/jupyter/ShowLinear@2024-11-30@17-07-40.mp4\" controls autoplay loop style=\"max-width: 100%;\"  >\n",
       "      Your browser does not support the <code>video</code> element.\n",
       "    </video>"
      ],
      "text/plain": [
       "<IPython.core.display.Video object>"
      ]
     },
     "metadata": {},
     "output_type": "display_data"
    }
   ],
   "source": [
    "%%manim -qm ShowLinear\n",
    "\n",
    "config.frame_width = 25\n",
    "\n",
    "\n",
    "class ShowLinear(Scene):\n",
    "    \n",
    "    def construct(self):\n",
    "        nbits = 8\n",
    "        network = linear_sum(nbits)\n",
    "        generic_run(self, network, null_label = ' ')\n"
   ]
  },
  {
   "cell_type": "code",
   "execution_count": 41,
   "id": "5ea13c24-8d62-4393-abdb-81c356c22ebd",
   "metadata": {},
   "outputs": [],
   "source": [
    "class tree_sum:\n",
    "    def __init__(self, nbits, **kwargs):\n",
    "        print(kwargs)\n",
    "        self.null_label = kwargs['null_label'] if 'null_label' in kwargs else '-'\n",
    "\n",
    "        # nbits is the number of bits of the operation\n",
    "        # N is the number of nodes in the tree (2^n-1). Nodes in the tree will be from 0 to 2^n-2\n",
    "        self.nbits = nbits\n",
    "        self.N = 2*nbits-1\n",
    "        self.Tree = nx.DiGraph()\n",
    "        for x in range(0, self.N+2*self.nbits):\n",
    "            #print(x)\n",
    "            self.Tree.add_node(x, weight = {'value': self.null_label})\n",
    "\n",
    "        for x in range(0,int(self.N/2)):\n",
    "            #print(f'({x}, {x*2+1}), ({x}, {x*2+2})')\n",
    "            # Edges parent to sons\n",
    "            self.Tree.add_edge(x, x*2+1, weight={\"carry\": self.null_label, \"dir\": \"down\", \"son\": \"left\"})\n",
    "            self.Tree.add_edge(x, x*2+2, weight={\"carry\": self.null_label, \"dir\": \"down\", \"son\": \"right\"})\n",
    "            self.Tree.add_edge(x*2+1, x, weight={\"carry\": self.null_label, \"all1s\": self.null_label, \"dir\": \"up\", 'son': 'left'})\n",
    "            self.Tree.add_edge(x*2+2, x, weight={\"carry\": self.null_label, \"all1s\": self.null_label, \"dir\": \"up\", 'son': 'right'})\n",
    "            # Edges son to parent\n",
    "\n",
    "        # Add edges for the real IO nodes\n",
    "        for x in range(self.nbits-1, self.N):\n",
    "            # self.Tree.add_edge(x, math.floor((x-(self.N+self.nbits))/2)+self.N+self.nbits, weight={\"carry\": self.null_label})\n",
    "            print(f'{(x-self.nbits+1)*2+self.N}, {(x-self.nbits+1)*2+self.N + 1}')\n",
    "            self.Tree.add_edge((x-self.nbits+1)*2+self.N,     x, weight={\"carry\": self.null_label, \"dir\": \"up\"})\n",
    "            self.Tree.add_edge((x-self.nbits+1)*2+self.N + 1, x, weight={\"carry\": self.null_label, \"dir\": \"up\"})\n",
    "    \n",
    "        self.pos_y = [math.floor(math.log2(y+1)) - 2 for y in range(0, self.N)]\n",
    "        self.pos_y = self.pos_y + [math.floor(math.log2(self.N+1)) - 2 for y in range(self.N, self.N+2*self.nbits)]\n",
    "        \n",
    "        self.pos_x = {x: x - self.N - self.nbits for x in range(self.N, self.N+2*self.nbits)}\n",
    "\n",
    "        self.pos_x = {x: (self.pos_x[2*(x-self.nbits+1)+self.N]+self.pos_x[2*(x-self.nbits+1)+self.N+1])/2 for x in range(self.nbits-1, self.N)}|self.pos_x\n",
    "\n",
    "        for level in range(int(math.log2(self.nbits))-1, -1, -1):\n",
    "            self.pos_x = {x: (self.pos_x[x*2+1]+self.pos_x[x*2+2])/2 for x in range(2**level-1, 2**level-1+2**level)}|self.pos_x\n",
    "\n",
    "        self.layout = { v: [self.pos_x[v], self.pos_y[v], 0] for v in range(0, self.N+2*self.nbits)}\n",
    "\n",
    "        self.edges_labels_pos = { (u, v): [ (self.layout[u][0]+self.layout[v][0])/2, \n",
    "                                            (self.layout[u][1]+self.layout[v][1])/2,\n",
    "                                            0]\n",
    "                                    for u, v in self.Tree.edges }\n",
    "\n",
    "    def is_input(self, v):\n",
    "        return v in range(self.N, self.N+2*self.nbits)\n",
    "    \n",
    "    def is_output(self, v):\n",
    "        return v in range(self.nbits-1, self.N)\n",
    "\n",
    "    def is_internal_node(self, v):\n",
    "        return v in range(0, self.nbits-1)\n",
    "\n",
    "    def get(self):\n",
    "        return (self.Tree, self.layout, self.edges_labels_pos)\n",
    "\n",
    "    def init_computation(self, a, b):\n",
    "        f = \"{0:0\"+str(self.nbits)+\"b}\"\n",
    "        self.a = f.format(a)\n",
    "        self.b = f.format(b)\n",
    "        print(self.a, self.b)\n",
    "\n",
    "        for x in range(self.N, self.N+2*self.nbits, 2): # more efficient that checking if a node is input\n",
    "            # nodes are 2 by 2 holding one bit of a and 1 bit of b\n",
    "            #print(f'node {x} and {x+1} setting bit {int((x-(self.N))/2)} from string {self.nbits-int((x-(self.N))/2)-1} = {self.a[self.nbits-int((x-(self.N))/2)-1]}')\n",
    "            self.Tree.nodes[x]['weight']['value'] = self.a[self.nbits-int((x-(self.N))/2)-1]\n",
    "            self.Tree.nodes[x+1]['weight']['value'] = self.b[self.nbits-int((x-(self.N))/2)-1]\n",
    "            \n",
    "    def compute_iteration(self):\n",
    "        some_updates = False\n",
    "        for node in self.Tree:\n",
    "            if self.is_input(node):\n",
    "                for u, v, d in self.Tree.out_edges(node, data=True):\n",
    "                    assert(u==node)\n",
    "                    if self.Tree.nodes[node]['weight']['value'] != self.null_label:\n",
    "                        some_updates = True\n",
    "                        d['weight']['carry'] = self.Tree.nodes[node]['weight']['value']\n",
    "                        self.Tree.nodes[node]['weight']['value'] = self.null_label\n",
    "            if self.is_output(node):\n",
    "                #in_edges = [d for u, v, d in self.Tree.in_edges(node, data=True)]\n",
    "                in_edges_full = [(d, u, v) for u, v, d in self.Tree.in_edges(node, data=True)]\n",
    "                # check is the comutation is ready to start\n",
    "                all_set = True\n",
    "                relevant_edges = []\n",
    "                for e in in_edges_full:\n",
    "                    if e[0]['weight']['dir'] == 'up':\n",
    "                        #print(f'              edge ({e[1]}, {e[2]}) -> {e[0]['weight']['carry']}')\n",
    "                        all_set = all_set and (e[0]['weight']['carry'] != self.null_label)\n",
    "                        relevant_edges.append(e)\n",
    "                        #print (f'everything ok for node {node}? {all_set}')\n",
    "                    else:\n",
    "                        in_going_down = e\n",
    "                #print(f'relevant_edges = {relevant_edges}')\n",
    "                if all_set:\n",
    "                    #print(f'     node {node} is being processed')\n",
    "                    assert(len(relevant_edges) == 2)\n",
    "                    some_updates = True\n",
    "                    self.Tree.nodes[node]['weight']['value'] = xor_op(relevant_edges[0][0]['weight']['carry'], \n",
    "                                                                      relevant_edges[1][0]['weight']['carry'])\n",
    "                    for u, v, d in self.Tree.out_edges(node, data=True):\n",
    "                        if d['weight']['dir'] == 'up':\n",
    "                            d['weight']['carry'] = and_op(relevant_edges[0][0]['weight']['carry'], \n",
    "                                                          relevant_edges[1][0]['weight']['carry'])\n",
    "                            d['weight']['all1s'] = self.Tree.nodes[node]['weight']['value']\n",
    "                    relevant_edges[0][0]['weight']['carry'] = self.null_label\n",
    "                    relevant_edges[1][0]['weight']['carry'] = self.null_label\n",
    "                if in_going_down[0][\"weight\"][\"carry\"] != self.null_label:\n",
    "                    some_updates = True\n",
    "                    self.Tree.nodes[node]['weight']['value'] = xor_op(self.Tree.nodes[node]['weight']['value'], \n",
    "                                                                      in_going_down[0][\"weight\"][\"carry\"])\n",
    "                    in_going_down[0][\"weight\"][\"carry\"] = self.null_label\n",
    "\n",
    "            if self.is_internal_node(node):\n",
    "                # Going up\n",
    "                # check if the computation is ready to start\n",
    "                all_set = True\n",
    "\n",
    "                for (u,v,e) in self.Tree.in_edges(node, data=True):\n",
    "                    if (e['weight']['dir'] == 'up'):\n",
    "                        print(f'node {node}              edge ({u}, {v}) -> {e['weight']['carry']}')\n",
    "                        all_set = all_set and (e['weight']['carry'] != self.null_label)\n",
    "                        if e['weight']['son'] == \"left\":\n",
    "                            in_left = e\n",
    "                        if e['weight']['son'] == \"right\":\n",
    "                            in_right = e\n",
    "                    if e['weight']['dir'] == \"down\":\n",
    "                        print(f'{node} -> input edge ({u}, {v}) = {e['weight']['dir']}')\n",
    "                        in_top = e\n",
    "                for u, v, e in self.Tree.out_edges(node, data=True):\n",
    "                    print(f'node {node} -> ({u}, {v}) -> {e}')\n",
    "                    if e['weight']['son'] == 'left':\n",
    "                        out_left = e\n",
    "                    if e['weight']['son'] == 'right':\n",
    "                        out_right = e\n",
    "                    if e['weight']['dir'] == 'up':\n",
    "                        out_up = e\n",
    "\n",
    "                if all_set:\n",
    "                    #print(f'     node {node} is being processed')\n",
    "                    some_updates = True\n",
    "                    # send left carry down to the right\n",
    "                    out_right['weight']['carry'] = in_left['weight']['carry']\n",
    "                    in_left['weight']['carry'] = self.null_label\n",
    "                    # keep all1s in the node\n",
    "                    self.Tree.nodes[node]['weight']['value'] = in_left['weight']['all1s']\n",
    "                    # send right carry up\n",
    "                    if (node != 0):\n",
    "                        out_up['weight']['carry'] = in_right['weight']['carry']\n",
    "                    in_right['weight']['carry'] = self.null_label\n",
    "\n",
    "                # Going down\n",
    "                if node != 0:\n",
    "                    if in_top['weight']['carry'] == '1' or in_top['weight']['carry'] == '0':\n",
    "                        if self.Tree.nodes[node]['weight']['value'] == '1':\n",
    "                            out_left['weight']['carry'] = in_top['weight']['carry']\n",
    "                            out_right['weight']['carry'] = in_top['weight']['carry']\n",
    "                            in_top['weight']['carry'] = self.null_label\n",
    "                        if self.Tree.nodes[node]['weight']['value'] == '0':\n",
    "                            out_left['weight']['carry'] = in_top['weight']['carry']\n",
    "                            in_top['weight']['carry'] = self.null_label\n",
    "                        \n",
    "        print(some_updates)\n",
    "        return some_updates\n",
    "        "
   ]
  },
  {
   "cell_type": "code",
   "execution_count": 42,
   "id": "a47af5a6",
   "metadata": {},
   "outputs": [
    {
     "data": {
      "text/html": [
       "<pre style=\"white-space:pre;overflow-x:auto;line-height:normal;font-family:Menlo,'DejaVu Sans Mono',consolas,'Courier New',monospace\">Manim Community <span style=\"color: #008000; text-decoration-color: #008000\">v0.18.1</span>\n",
       "\n",
       "</pre>\n"
      ],
      "text/plain": [
       "Manim Community \u001b[32mv0.\u001b[0m\u001b[32m18.1\u001b[0m\n",
       "\n"
      ]
     },
     "metadata": {},
     "output_type": "display_data"
    },
    {
     "name": "stdout",
     "output_type": "stream",
     "text": [
      "{'null_label': '-'}\n",
      "15, 16\n",
      "17, 18\n",
      "19, 20\n",
      "21, 22\n",
      "23, 24\n",
      "25, 26\n",
      "27, 28\n",
      "29, 30\n",
      "00101110 00111111\n",
      "Iteration 0\n",
      "node 0              edge (1, 0) -> -\n",
      "node 0              edge (2, 0) -> -\n",
      "node 0 -> (0, 1) -> {'weight': {'carry': '-', 'dir': 'down', 'son': 'left'}}\n",
      "node 0 -> (0, 2) -> {'weight': {'carry': '-', 'dir': 'down', 'son': 'right'}}\n",
      "1 -> input edge (0, 1) = down\n",
      "node 1              edge (3, 1) -> -\n",
      "node 1              edge (4, 1) -> -\n",
      "node 1 -> (1, 0) -> {'weight': {'carry': '-', 'all1s': '-', 'dir': 'up', 'son': 'left'}}\n",
      "node 1 -> (1, 3) -> {'weight': {'carry': '-', 'dir': 'down', 'son': 'left'}}\n",
      "node 1 -> (1, 4) -> {'weight': {'carry': '-', 'dir': 'down', 'son': 'right'}}\n",
      "2 -> input edge (0, 2) = down\n",
      "node 2              edge (5, 2) -> -\n",
      "node 2              edge (6, 2) -> -\n",
      "node 2 -> (2, 0) -> {'weight': {'carry': '-', 'all1s': '-', 'dir': 'up', 'son': 'right'}}\n",
      "node 2 -> (2, 5) -> {'weight': {'carry': '-', 'dir': 'down', 'son': 'left'}}\n",
      "node 2 -> (2, 6) -> {'weight': {'carry': '-', 'dir': 'down', 'son': 'right'}}\n",
      "3 -> input edge (1, 3) = down\n",
      "node 3              edge (7, 3) -> -\n",
      "node 3              edge (8, 3) -> -\n",
      "node 3 -> (3, 1) -> {'weight': {'carry': '-', 'all1s': '-', 'dir': 'up', 'son': 'left'}}\n",
      "node 3 -> (3, 7) -> {'weight': {'carry': '-', 'dir': 'down', 'son': 'left'}}\n",
      "node 3 -> (3, 8) -> {'weight': {'carry': '-', 'dir': 'down', 'son': 'right'}}\n",
      "4 -> input edge (1, 4) = down\n",
      "node 4              edge (9, 4) -> -\n",
      "node 4              edge (10, 4) -> -\n",
      "node 4 -> (4, 1) -> {'weight': {'carry': '-', 'all1s': '-', 'dir': 'up', 'son': 'right'}}\n",
      "node 4 -> (4, 9) -> {'weight': {'carry': '-', 'dir': 'down', 'son': 'left'}}\n",
      "node 4 -> (4, 10) -> {'weight': {'carry': '-', 'dir': 'down', 'son': 'right'}}\n",
      "5 -> input edge (2, 5) = down\n",
      "node 5              edge (11, 5) -> -\n",
      "node 5              edge (12, 5) -> -\n",
      "node 5 -> (5, 2) -> {'weight': {'carry': '-', 'all1s': '-', 'dir': 'up', 'son': 'left'}}\n",
      "node 5 -> (5, 11) -> {'weight': {'carry': '-', 'dir': 'down', 'son': 'left'}}\n",
      "node 5 -> (5, 12) -> {'weight': {'carry': '-', 'dir': 'down', 'son': 'right'}}\n",
      "6 -> input edge (2, 6) = down\n",
      "node 6              edge (13, 6) -> -\n",
      "node 6              edge (14, 6) -> -\n",
      "node 6 -> (6, 2) -> {'weight': {'carry': '-', 'all1s': '-', 'dir': 'up', 'son': 'right'}}\n",
      "node 6 -> (6, 13) -> {'weight': {'carry': '-', 'dir': 'down', 'son': 'left'}}\n",
      "node 6 -> (6, 14) -> {'weight': {'carry': '-', 'dir': 'down', 'son': 'right'}}\n",
      "True\n",
      "Iteration 1\n"
     ]
    },
    {
     "name": "stderr",
     "output_type": "stream",
     "text": [
      "                                                                              \r"
     ]
    },
    {
     "name": "stdout",
     "output_type": "stream",
     "text": [
      "node 0              edge (1, 0) -> -\n",
      "node 0              edge (2, 0) -> -\n",
      "node 0 -> (0, 1) -> {'weight': {'carry': '-', 'dir': 'down', 'son': 'left'}}\n",
      "node 0 -> (0, 2) -> {'weight': {'carry': '-', 'dir': 'down', 'son': 'right'}}\n",
      "1 -> input edge (0, 1) = down\n",
      "node 1              edge (3, 1) -> -\n",
      "node 1              edge (4, 1) -> -\n",
      "node 1 -> (1, 0) -> {'weight': {'carry': '-', 'all1s': '-', 'dir': 'up', 'son': 'left'}}\n",
      "node 1 -> (1, 3) -> {'weight': {'carry': '-', 'dir': 'down', 'son': 'left'}}\n",
      "node 1 -> (1, 4) -> {'weight': {'carry': '-', 'dir': 'down', 'son': 'right'}}\n",
      "2 -> input edge (0, 2) = down\n",
      "node 2              edge (5, 2) -> -\n",
      "node 2              edge (6, 2) -> -\n",
      "node 2 -> (2, 0) -> {'weight': {'carry': '-', 'all1s': '-', 'dir': 'up', 'son': 'right'}}\n",
      "node 2 -> (2, 5) -> {'weight': {'carry': '-', 'dir': 'down', 'son': 'left'}}\n",
      "node 2 -> (2, 6) -> {'weight': {'carry': '-', 'dir': 'down', 'son': 'right'}}\n",
      "3 -> input edge (1, 3) = down\n",
      "node 3              edge (7, 3) -> -\n",
      "node 3              edge (8, 3) -> -\n",
      "node 3 -> (3, 1) -> {'weight': {'carry': '-', 'all1s': '-', 'dir': 'up', 'son': 'left'}}\n",
      "node 3 -> (3, 7) -> {'weight': {'carry': '-', 'dir': 'down', 'son': 'left'}}\n",
      "node 3 -> (3, 8) -> {'weight': {'carry': '-', 'dir': 'down', 'son': 'right'}}\n",
      "4 -> input edge (1, 4) = down\n",
      "node 4              edge (9, 4) -> -\n",
      "node 4              edge (10, 4) -> -\n",
      "node 4 -> (4, 1) -> {'weight': {'carry': '-', 'all1s': '-', 'dir': 'up', 'son': 'right'}}\n",
      "node 4 -> (4, 9) -> {'weight': {'carry': '-', 'dir': 'down', 'son': 'left'}}\n",
      "node 4 -> (4, 10) -> {'weight': {'carry': '-', 'dir': 'down', 'son': 'right'}}\n",
      "5 -> input edge (2, 5) = down\n",
      "node 5              edge (11, 5) -> -\n",
      "node 5              edge (12, 5) -> -\n",
      "node 5 -> (5, 2) -> {'weight': {'carry': '-', 'all1s': '-', 'dir': 'up', 'son': 'left'}}\n",
      "node 5 -> (5, 11) -> {'weight': {'carry': '-', 'dir': 'down', 'son': 'left'}}\n",
      "node 5 -> (5, 12) -> {'weight': {'carry': '-', 'dir': 'down', 'son': 'right'}}\n",
      "6 -> input edge (2, 6) = down\n",
      "node 6              edge (13, 6) -> -\n",
      "node 6              edge (14, 6) -> -\n",
      "node 6 -> (6, 2) -> {'weight': {'carry': '-', 'all1s': '-', 'dir': 'up', 'son': 'right'}}\n",
      "node 6 -> (6, 13) -> {'weight': {'carry': '-', 'dir': 'down', 'son': 'left'}}\n",
      "node 6 -> (6, 14) -> {'weight': {'carry': '-', 'dir': 'down', 'son': 'right'}}\n",
      "True\n",
      "Iteration 2\n"
     ]
    },
    {
     "name": "stderr",
     "output_type": "stream",
     "text": [
      "                                                                              \r"
     ]
    },
    {
     "name": "stdout",
     "output_type": "stream",
     "text": [
      "node 0              edge (1, 0) -> -\n",
      "node 0              edge (2, 0) -> -\n",
      "node 0 -> (0, 1) -> {'weight': {'carry': '-', 'dir': 'down', 'son': 'left'}}\n",
      "node 0 -> (0, 2) -> {'weight': {'carry': '-', 'dir': 'down', 'son': 'right'}}\n",
      "1 -> input edge (0, 1) = down\n",
      "node 1              edge (3, 1) -> -\n",
      "node 1              edge (4, 1) -> -\n",
      "node 1 -> (1, 0) -> {'weight': {'carry': '-', 'all1s': '-', 'dir': 'up', 'son': 'left'}}\n",
      "node 1 -> (1, 3) -> {'weight': {'carry': '-', 'dir': 'down', 'son': 'left'}}\n",
      "node 1 -> (1, 4) -> {'weight': {'carry': '-', 'dir': 'down', 'son': 'right'}}\n",
      "2 -> input edge (0, 2) = down\n",
      "node 2              edge (5, 2) -> -\n",
      "node 2              edge (6, 2) -> -\n",
      "node 2 -> (2, 0) -> {'weight': {'carry': '-', 'all1s': '-', 'dir': 'up', 'son': 'right'}}\n",
      "node 2 -> (2, 5) -> {'weight': {'carry': '-', 'dir': 'down', 'son': 'left'}}\n",
      "node 2 -> (2, 6) -> {'weight': {'carry': '-', 'dir': 'down', 'son': 'right'}}\n",
      "3 -> input edge (1, 3) = down\n",
      "node 3              edge (7, 3) -> 0\n",
      "node 3              edge (8, 3) -> 1\n",
      "node 3 -> (3, 1) -> {'weight': {'carry': '-', 'all1s': '-', 'dir': 'up', 'son': 'left'}}\n",
      "node 3 -> (3, 7) -> {'weight': {'carry': '-', 'dir': 'down', 'son': 'left'}}\n",
      "node 3 -> (3, 8) -> {'weight': {'carry': '-', 'dir': 'down', 'son': 'right'}}\n",
      "4 -> input edge (1, 4) = down\n",
      "node 4              edge (9, 4) -> 1\n",
      "node 4              edge (10, 4) -> 1\n",
      "node 4 -> (4, 1) -> {'weight': {'carry': '-', 'all1s': '-', 'dir': 'up', 'son': 'right'}}\n",
      "node 4 -> (4, 9) -> {'weight': {'carry': '-', 'dir': 'down', 'son': 'left'}}\n",
      "node 4 -> (4, 10) -> {'weight': {'carry': '-', 'dir': 'down', 'son': 'right'}}\n",
      "5 -> input edge (2, 5) = down\n",
      "node 5              edge (11, 5) -> 0\n",
      "node 5              edge (12, 5) -> 1\n",
      "node 5 -> (5, 2) -> {'weight': {'carry': '-', 'all1s': '-', 'dir': 'up', 'son': 'left'}}\n",
      "node 5 -> (5, 11) -> {'weight': {'carry': '-', 'dir': 'down', 'son': 'left'}}\n",
      "node 5 -> (5, 12) -> {'weight': {'carry': '-', 'dir': 'down', 'son': 'right'}}\n",
      "6 -> input edge (2, 6) = down\n",
      "node 6              edge (13, 6) -> 0\n",
      "node 6              edge (14, 6) -> 0\n",
      "node 6 -> (6, 2) -> {'weight': {'carry': '-', 'all1s': '-', 'dir': 'up', 'son': 'right'}}\n",
      "node 6 -> (6, 13) -> {'weight': {'carry': '-', 'dir': 'down', 'son': 'left'}}\n",
      "node 6 -> (6, 14) -> {'weight': {'carry': '-', 'dir': 'down', 'son': 'right'}}\n",
      "True\n",
      "Iteration 3\n"
     ]
    },
    {
     "name": "stderr",
     "output_type": "stream",
     "text": [
      "                                                                              \r"
     ]
    },
    {
     "name": "stdout",
     "output_type": "stream",
     "text": [
      "node 0              edge (1, 0) -> -\n",
      "node 0              edge (2, 0) -> -\n",
      "node 0 -> (0, 1) -> {'weight': {'carry': '-', 'dir': 'down', 'son': 'left'}}\n",
      "node 0 -> (0, 2) -> {'weight': {'carry': '-', 'dir': 'down', 'son': 'right'}}\n",
      "1 -> input edge (0, 1) = down\n",
      "node 1              edge (3, 1) -> 1\n",
      "node 1              edge (4, 1) -> 1\n",
      "node 1 -> (1, 0) -> {'weight': {'carry': '-', 'all1s': '-', 'dir': 'up', 'son': 'left'}}\n",
      "node 1 -> (1, 3) -> {'weight': {'carry': '-', 'dir': 'down', 'son': 'left'}}\n",
      "node 1 -> (1, 4) -> {'weight': {'carry': '-', 'dir': 'down', 'son': 'right'}}\n",
      "2 -> input edge (0, 2) = down\n",
      "node 2              edge (5, 2) -> 1\n",
      "node 2              edge (6, 2) -> 0\n",
      "node 2 -> (2, 0) -> {'weight': {'carry': '-', 'all1s': '-', 'dir': 'up', 'son': 'right'}}\n",
      "node 2 -> (2, 5) -> {'weight': {'carry': '-', 'dir': 'down', 'son': 'left'}}\n",
      "node 2 -> (2, 6) -> {'weight': {'carry': '-', 'dir': 'down', 'son': 'right'}}\n",
      "3 -> input edge (1, 3) = down\n",
      "node 3              edge (7, 3) -> -\n",
      "node 3              edge (8, 3) -> -\n",
      "node 3 -> (3, 1) -> {'weight': {'carry': '-', 'all1s': '-', 'dir': 'up', 'son': 'left'}}\n",
      "node 3 -> (3, 7) -> {'weight': {'carry': '-', 'dir': 'down', 'son': 'left'}}\n",
      "node 3 -> (3, 8) -> {'weight': {'carry': '-', 'dir': 'down', 'son': 'right'}}\n",
      "4 -> input edge (1, 4) = down\n",
      "node 4              edge (9, 4) -> -\n",
      "node 4              edge (10, 4) -> -\n",
      "node 4 -> (4, 1) -> {'weight': {'carry': '-', 'all1s': '-', 'dir': 'up', 'son': 'right'}}\n",
      "node 4 -> (4, 9) -> {'weight': {'carry': '-', 'dir': 'down', 'son': 'left'}}\n",
      "node 4 -> (4, 10) -> {'weight': {'carry': '-', 'dir': 'down', 'son': 'right'}}\n",
      "5 -> input edge (2, 5) = down\n",
      "node 5              edge (11, 5) -> -\n",
      "node 5              edge (12, 5) -> -\n",
      "node 5 -> (5, 2) -> {'weight': {'carry': '-', 'all1s': '-', 'dir': 'up', 'son': 'left'}}\n",
      "node 5 -> (5, 11) -> {'weight': {'carry': '-', 'dir': 'down', 'son': 'left'}}\n",
      "node 5 -> (5, 12) -> {'weight': {'carry': '-', 'dir': 'down', 'son': 'right'}}\n",
      "6 -> input edge (2, 6) = down\n",
      "node 6              edge (13, 6) -> -\n",
      "node 6              edge (14, 6) -> -\n",
      "node 6 -> (6, 2) -> {'weight': {'carry': '-', 'all1s': '-', 'dir': 'up', 'son': 'right'}}\n",
      "node 6 -> (6, 13) -> {'weight': {'carry': '-', 'dir': 'down', 'son': 'left'}}\n",
      "node 6 -> (6, 14) -> {'weight': {'carry': '-', 'dir': 'down', 'son': 'right'}}\n",
      "True\n",
      "Iteration 4\n"
     ]
    },
    {
     "name": "stderr",
     "output_type": "stream",
     "text": [
      "                                                                                        \r"
     ]
    },
    {
     "name": "stdout",
     "output_type": "stream",
     "text": [
      "node 0              edge (1, 0) -> 1\n",
      "node 0              edge (2, 0) -> 0\n",
      "node 0 -> (0, 1) -> {'weight': {'carry': '-', 'dir': 'down', 'son': 'left'}}\n",
      "node 0 -> (0, 2) -> {'weight': {'carry': '-', 'dir': 'down', 'son': 'right'}}\n",
      "1 -> input edge (0, 1) = down\n",
      "node 1              edge (3, 1) -> -\n",
      "node 1              edge (4, 1) -> -\n",
      "node 1 -> (1, 0) -> {'weight': {'carry': '-', 'all1s': '-', 'dir': 'up', 'son': 'left'}}\n",
      "node 1 -> (1, 3) -> {'weight': {'carry': '-', 'dir': 'down', 'son': 'left'}}\n",
      "node 1 -> (1, 4) -> {'weight': {'carry': '-', 'dir': 'down', 'son': 'right'}}\n",
      "2 -> input edge (0, 2) = down\n",
      "node 2              edge (5, 2) -> -\n",
      "node 2              edge (6, 2) -> -\n",
      "node 2 -> (2, 0) -> {'weight': {'carry': '-', 'all1s': '-', 'dir': 'up', 'son': 'right'}}\n",
      "node 2 -> (2, 5) -> {'weight': {'carry': '-', 'dir': 'down', 'son': 'left'}}\n",
      "node 2 -> (2, 6) -> {'weight': {'carry': '-', 'dir': 'down', 'son': 'right'}}\n",
      "3 -> input edge (1, 3) = down\n",
      "node 3              edge (7, 3) -> -\n",
      "node 3              edge (8, 3) -> -\n",
      "node 3 -> (3, 1) -> {'weight': {'carry': '-', 'all1s': '-', 'dir': 'up', 'son': 'left'}}\n",
      "node 3 -> (3, 7) -> {'weight': {'carry': '-', 'dir': 'down', 'son': 'left'}}\n",
      "node 3 -> (3, 8) -> {'weight': {'carry': '-', 'dir': 'down', 'son': 'right'}}\n",
      "4 -> input edge (1, 4) = down\n",
      "node 4              edge (9, 4) -> -\n",
      "node 4              edge (10, 4) -> -\n",
      "node 4 -> (4, 1) -> {'weight': {'carry': '-', 'all1s': '-', 'dir': 'up', 'son': 'right'}}\n",
      "node 4 -> (4, 9) -> {'weight': {'carry': '-', 'dir': 'down', 'son': 'left'}}\n",
      "node 4 -> (4, 10) -> {'weight': {'carry': '-', 'dir': 'down', 'son': 'right'}}\n",
      "5 -> input edge (2, 5) = down\n",
      "node 5              edge (11, 5) -> -\n",
      "node 5              edge (12, 5) -> -\n",
      "node 5 -> (5, 2) -> {'weight': {'carry': '-', 'all1s': '-', 'dir': 'up', 'son': 'left'}}\n",
      "node 5 -> (5, 11) -> {'weight': {'carry': '-', 'dir': 'down', 'son': 'left'}}\n",
      "node 5 -> (5, 12) -> {'weight': {'carry': '-', 'dir': 'down', 'son': 'right'}}\n",
      "6 -> input edge (2, 6) = down\n",
      "node 6              edge (13, 6) -> -\n",
      "node 6              edge (14, 6) -> -\n",
      "node 6 -> (6, 2) -> {'weight': {'carry': '-', 'all1s': '-', 'dir': 'up', 'son': 'right'}}\n",
      "node 6 -> (6, 13) -> {'weight': {'carry': '-', 'dir': 'down', 'son': 'left'}}\n",
      "node 6 -> (6, 14) -> {'weight': {'carry': '-', 'dir': 'down', 'son': 'right'}}\n",
      "True\n",
      "Iteration 5\n"
     ]
    },
    {
     "name": "stderr",
     "output_type": "stream",
     "text": [
      "                                                                                        \r"
     ]
    },
    {
     "name": "stdout",
     "output_type": "stream",
     "text": [
      "node 0              edge (1, 0) -> -\n",
      "node 0              edge (2, 0) -> -\n",
      "node 0 -> (0, 1) -> {'weight': {'carry': '-', 'dir': 'down', 'son': 'left'}}\n",
      "node 0 -> (0, 2) -> {'weight': {'carry': '1', 'dir': 'down', 'son': 'right'}}\n",
      "1 -> input edge (0, 1) = down\n",
      "node 1              edge (3, 1) -> -\n",
      "node 1              edge (4, 1) -> -\n",
      "node 1 -> (1, 0) -> {'weight': {'carry': '-', 'all1s': '-', 'dir': 'up', 'son': 'left'}}\n",
      "node 1 -> (1, 3) -> {'weight': {'carry': '-', 'dir': 'down', 'son': 'left'}}\n",
      "node 1 -> (1, 4) -> {'weight': {'carry': '-', 'dir': 'down', 'son': 'right'}}\n",
      "2 -> input edge (0, 2) = down\n",
      "node 2              edge (5, 2) -> -\n",
      "node 2              edge (6, 2) -> -\n",
      "node 2 -> (2, 0) -> {'weight': {'carry': '-', 'all1s': '-', 'dir': 'up', 'son': 'right'}}\n",
      "node 2 -> (2, 5) -> {'weight': {'carry': '-', 'dir': 'down', 'son': 'left'}}\n",
      "node 2 -> (2, 6) -> {'weight': {'carry': '-', 'dir': 'down', 'son': 'right'}}\n",
      "3 -> input edge (1, 3) = down\n",
      "node 3              edge (7, 3) -> -\n",
      "node 3              edge (8, 3) -> -\n",
      "node 3 -> (3, 1) -> {'weight': {'carry': '-', 'all1s': '-', 'dir': 'up', 'son': 'left'}}\n",
      "node 3 -> (3, 7) -> {'weight': {'carry': '-', 'dir': 'down', 'son': 'left'}}\n",
      "node 3 -> (3, 8) -> {'weight': {'carry': '-', 'dir': 'down', 'son': 'right'}}\n",
      "4 -> input edge (1, 4) = down\n",
      "node 4              edge (9, 4) -> -\n",
      "node 4              edge (10, 4) -> -\n",
      "node 4 -> (4, 1) -> {'weight': {'carry': '-', 'all1s': '-', 'dir': 'up', 'son': 'right'}}\n",
      "node 4 -> (4, 9) -> {'weight': {'carry': '-', 'dir': 'down', 'son': 'left'}}\n",
      "node 4 -> (4, 10) -> {'weight': {'carry': '-', 'dir': 'down', 'son': 'right'}}\n",
      "5 -> input edge (2, 5) = down\n",
      "node 5              edge (11, 5) -> -\n",
      "node 5              edge (12, 5) -> -\n",
      "node 5 -> (5, 2) -> {'weight': {'carry': '-', 'all1s': '-', 'dir': 'up', 'son': 'left'}}\n",
      "node 5 -> (5, 11) -> {'weight': {'carry': '-', 'dir': 'down', 'son': 'left'}}\n",
      "node 5 -> (5, 12) -> {'weight': {'carry': '-', 'dir': 'down', 'son': 'right'}}\n",
      "6 -> input edge (2, 6) = down\n",
      "node 6              edge (13, 6) -> -\n",
      "node 6              edge (14, 6) -> -\n",
      "node 6 -> (6, 2) -> {'weight': {'carry': '-', 'all1s': '-', 'dir': 'up', 'son': 'right'}}\n",
      "node 6 -> (6, 13) -> {'weight': {'carry': '-', 'dir': 'down', 'son': 'left'}}\n",
      "node 6 -> (6, 14) -> {'weight': {'carry': '-', 'dir': 'down', 'son': 'right'}}\n",
      "False\n"
     ]
    },
    {
     "data": {
      "text/html": [
       "<video src=\"media/jupyter/ShowTree@2024-11-30@21-26-21.mp4\" controls autoplay loop style=\"max-width: 100%;\"  >\n",
       "      Your browser does not support the <code>video</code> element.\n",
       "    </video>"
      ],
      "text/plain": [
       "<IPython.core.display.Video object>"
      ]
     },
     "metadata": {},
     "output_type": "display_data"
    }
   ],
   "source": [
    "%%manim -qm ShowTree\n",
    "\n",
    "config.frame_width = 19\n",
    "class ShowTree(Scene):\n",
    "    \n",
    "    def construct(self):\n",
    "        nbits = 8\n",
    "        network = tree_sum(nbits, null_label='-')\n",
    "        generic_run(self, network, null_label='-')\n"
   ]
  },
  {
   "cell_type": "code",
   "execution_count": null,
   "id": "31df9068-cc90-4993-9e9e-880222a1347e",
   "metadata": {},
   "outputs": [
    {
     "data": {
      "text/html": [
       "<pre style=\"white-space:pre;overflow-x:auto;line-height:normal;font-family:Menlo,'DejaVu Sans Mono',consolas,'Courier New',monospace\">Manim Community <span style=\"color: #008000; text-decoration-color: #008000\">v0.18.1</span>\n",
       "\n",
       "</pre>\n"
      ],
      "text/plain": [
       "Manim Community \u001b[32mv0.\u001b[0m\u001b[32m18.1\u001b[0m\n",
       "\n"
      ]
     },
     "metadata": {},
     "output_type": "display_data"
    },
    {
     "name": "stdout",
     "output_type": "stream",
     "text": [
      "Iteration 0\n",
      "Iteration 1\n"
     ]
    },
    {
     "name": "stderr",
     "output_type": "stream",
     "text": [
      "                                                                                                                                                                                                                  \r"
     ]
    },
    {
     "data": {
      "text/html": [
       "<video src=\"media/jupyter/ShowTree@2024-11-25@20-47-32.mp4\" controls autoplay loop style=\"max-width: 100%;\"  >\n",
       "      Your browser does not support the <code>video</code> element.\n",
       "    </video>"
      ],
      "text/plain": [
       "<IPython.core.display.Video object>"
      ]
     },
     "metadata": {},
     "output_type": "display_data"
    }
   ],
   "source": [
    "%%manim -qm ShowTree\n",
    "\n",
    "config.frame_width = 14\n",
    "\n",
    "class ShowTree(Scene):\n",
    "    \n",
    "    def construct(self):\n",
    "        nbits = 8\n",
    "        network = tree_sum(nbits)\n",
    "        (Network, layout, label_edges) = network.get()\n",
    "        unet = Network.to_undirected()\n",
    "        #network.init_computation(46, 63)\n",
    "        for time in range(0, 2):\n",
    "            print(f'Iteration {time}')\n",
    "            G = DiGraph.from_networkx(unet, layout=layout, layout_scale=2, labels={i : Network.nodes[i]['weight']['value'] for i in Network})\n",
    "            self.add(G)\n",
    "            if time == 0:\n",
    "                texts = [Text(str(Network[u][v]['weight']['carry'])).next_to(label_edges[(u, v)])\n",
    "                            for u, v in Network.edges]\n",
    "                for i in texts:\n",
    "                    self.add(i)\n",
    "            else:\n",
    "                new_texts = [Text(str(Network[u][v]['weight']['carry'])).next_to(label_edges[(u, v)])\n",
    "                            for u, v in Network.edges]\n",
    "                self.play(*[Transform(t1, t2) for t1, t2 in zip(texts, new_texts)])                \n",
    "            self.wait(1)\n",
    "            network.compute_node()\n",
    "        self.wait(3)\n"
   ]
  },
  {
   "cell_type": "code",
   "execution_count": null,
   "id": "82fad985-b051-43eb-b15f-192b837a26a1",
   "metadata": {
    "scrolled": true
   },
   "outputs": [
    {
     "name": "stdout",
     "output_type": "stream",
     "text": [
      "00101110 00111111 01101101\n"
     ]
    }
   ],
   "source": [
    "nbits = 8\n",
    "a=46\n",
    "b=63\n",
    "c=a+b\n",
    "f = \"{0:0\"+str(nbits)+\"b}\"\n",
    "a = f.format(a)\n",
    "b = f.format(b)\n",
    "c = f.format(c)\n",
    "print(a, b, c)\n"
   ]
  },
  {
   "cell_type": "code",
   "execution_count": null,
   "id": "704dadf1-fedf-4f97-b5fc-ab6ff3e8e2bc",
   "metadata": {},
   "outputs": [
    {
     "data": {
      "text/plain": [
       "['1 is a number',\n",
       " '2 is a number',\n",
       " '3 is a number',\n",
       " '4 is a number',\n",
       " '5 is a number',\n",
       " '6 is a number',\n",
       " '7 is a number',\n",
       " '8 is a number',\n",
       " '9 is a number']"
      ]
     },
     "execution_count": 7,
     "metadata": {},
     "output_type": "execute_result"
    }
   ],
   "source": [
    "[ f'{u} is a number' for u in range(1, 10)]\n"
   ]
  },
  {
   "cell_type": "code",
   "execution_count": null,
   "id": "07cb5919-955e-4930-b54c-3c830cef6af7",
   "metadata": {},
   "outputs": [
    {
     "name": "stdout",
     "output_type": "stream",
     "text": [
      "{1: 3, 2: 4, 4: 5}\n"
     ]
    }
   ],
   "source": [
    "x = {1: 3, 2: 4}|{4: 5}\n",
    "print(x)"
   ]
  },
  {
   "cell_type": "code",
   "execution_count": null,
   "id": "46d699bd-7015-45ea-9a66-64bf3e40eeba",
   "metadata": {},
   "outputs": [
    {
     "name": "stdout",
     "output_type": "stream",
     "text": [
      "1 -> 4\n",
      "4 -> 7\n",
      "7 -> 10\n",
      "10 -> 13\n",
      "13 -> 16\n",
      "16 -> 19\n",
      "19 -> 22\n",
      "------------\n",
      "0 -> 1\n",
      "2 -> 1\n",
      "3 -> 4\n",
      "5 -> 4\n",
      "6 -> 7\n",
      "8 -> 7\n",
      "9 -> 10\n",
      "11 -> 10\n",
      "12 -> 13\n",
      "14 -> 13\n",
      "15 -> 16\n",
      "17 -> 16\n",
      "18 -> 19\n",
      "20 -> 19\n",
      "21 -> 22\n",
      "23 -> 22\n"
     ]
    }
   ],
   "source": [
    "for x in range(1, 3*7, 3):\n",
    "    print(f'{x} -> {x+3}')\n",
    "print('------------')\n",
    "for x in range(1, 3*8, 3):\n",
    "    print(f'{x-1} -> {x}')\n",
    "    print(f'{x+1} -> {x}')"
   ]
  },
  {
   "cell_type": "code",
   "execution_count": null,
   "id": "734bfa1b-5a55-4fdc-bcd3-c533ef5b7d0c",
   "metadata": {},
   "outputs": [
    {
     "data": {
      "text/html": [
       "<pre style=\"white-space:pre;overflow-x:auto;line-height:normal;font-family:Menlo,'DejaVu Sans Mono',consolas,'Courier New',monospace\">Manim Community <span style=\"color: #008000; text-decoration-color: #008000\">v0.18.1</span>\n",
       "\n",
       "</pre>\n"
      ],
      "text/plain": [
       "Manim Community \u001b[32mv0.\u001b[0m\u001b[32m18.1\u001b[0m\n",
       "\n"
      ]
     },
     "metadata": {},
     "output_type": "display_data"
    },
    {
     "name": "stdout",
     "output_type": "stream",
     "text": [
      "u0: [0.0, -2, 0]\n",
      "u1: [-1.0, -1, 0]\n",
      "u2: [1.0, -1, 0]\n",
      "u3: [-1.5, 0, 0]\n",
      "u4: [-0.5, 0, 0]\n",
      "u5: [0.5, 0, 0]\n",
      "u6: [1.5, 0, 0]\n",
      "u7: [-1.5, 1, 0]\n",
      "u8: [-0.5, 1, 0]\n",
      "u9: [0.5, 1, 0]\n",
      "u10: [1.5, 1, 0]\n"
     ]
    },
    {
     "name": "stderr",
     "output_type": "stream",
     "text": [
      "                                                                                                                                                                                                                  \r"
     ]
    },
    {
     "data": {
      "text/html": [
       "<video src=\"media/jupyter/ShowTree@2024-11-24@16-00-19.mp4\" controls autoplay loop style=\"max-width: 100%;\"  >\n",
       "      Your browser does not support the <code>video</code> element.\n",
       "    </video>"
      ],
      "text/plain": [
       "<IPython.core.display.Video object>"
      ]
     },
     "metadata": {},
     "output_type": "display_data"
    }
   ],
   "source": [
    "%%manim -qm ShowTree\n",
    "\n",
    "class ShowTree(Scene):\n",
    "    \n",
    "    def construct(self):\n",
    "        network = tree_sum(4)\n",
    "        (Network, px, py, layout) = network.get()\n",
    "        unet = Network.to_undirected()\n",
    "        #network.init_computation(86, 123)\n",
    "        for i in unet:\n",
    "            print(f'u{i}: {layout[i]}')\n",
    "        G = Graph.from_networkx(unet, layout=layout, layout_scale=3.5)\n",
    "        self.play(Create(G))\n",
    "        self.wait(10)\n"
   ]
  },
  {
   "cell_type": "code",
   "execution_count": null,
   "id": "b911311c-47b6-48c8-8ccb-04a7ab9b1d7a",
   "metadata": {},
   "outputs": [
    {
     "data": {
      "text/html": [
       "<pre style=\"white-space:pre;overflow-x:auto;line-height:normal;font-family:Menlo,'DejaVu Sans Mono',consolas,'Courier New',monospace\">Manim Community <span style=\"color: #008000; text-decoration-color: #008000\">v0.18.1</span>\n",
       "\n",
       "</pre>\n"
      ],
      "text/plain": [
       "Manim Community \u001b[32mv0.\u001b[0m\u001b[32m18.1\u001b[0m\n",
       "\n"
      ]
     },
     "metadata": {},
     "output_type": "display_data"
    },
    {
     "name": "stdout",
     "output_type": "stream",
     "text": [
      "{1: 'a', 2: '5', 3: '[c]', 4: 'f', 5: 'a', 6: '5', 7: '[]', 8: 'f'}\n"
     ]
    },
    {
     "data": {
      "image/png": "[encoded data removed]",
      "text/plain": [
       "<IPython.core.display.Image object>"
      ]
     },
     "metadata": {},
     "output_type": "display_data"
    }
   ],
   "source": [
    "class LabeledModifiedGraph(Scene):\n",
    "    def construct(self):\n",
    "        vertices = [1, 2, 3, 4, 5, 6, 7, 8]\n",
    "        values = ['a','5','[c]', 'f','a','5','[]', 'f']\n",
    "        edges = [(1, 7), (1, 8), (2, 3), (2, 4), (2, 5),\n",
    "                 (2, 8), (3, 4), (6, 1), (6, 2),\n",
    "                 (6, 3), (7, 2), (7, 4)]\n",
    "        print({i: label for i, label in zip(vertices, values)})\n",
    "        g = Graph(vertices, edges, layout=\"circular\", layout_scale=3,\n",
    "                  labels={i: label for i, label in zip(vertices, values)}, vertex_config={7: {\"fill_color\": GREEN, 'name':'9'}},\n",
    "                  edge_config={(1, 7): {\"stroke_color\": BLUE},\n",
    "                               (7, 4): {\"stroke_color\": RED}})\n",
    "        self.add(g)\n",
    "\n",
    "\n",
    "\n",
    "# don't remove below command for run button to work\n",
    "%manim -qm -v WARNING LabeledModifiedGraph"
   ]
  },
  {
   "cell_type": "code",
   "execution_count": null,
   "id": "4da88599-99e8-4399-9349-e680971bd2f6",
   "metadata": {
    "scrolled": true
   },
   "outputs": [
    {
     "data": {
      "text/html": [
       "<pre style=\"white-space:pre;overflow-x:auto;line-height:normal;font-family:Menlo,'DejaVu Sans Mono',consolas,'Courier New',monospace\">Manim Community <span style=\"color: #008000; text-decoration-color: #008000\">v0.18.1</span>\n",
       "\n",
       "</pre>\n"
      ],
      "text/plain": [
       "Manim Community \u001b[32mv0.\u001b[0m\u001b[32m18.1\u001b[0m\n",
       "\n"
      ]
     },
     "metadata": {},
     "output_type": "display_data"
    },
    {
     "name": "stderr",
     "output_type": "stream",
     "text": [
      "                                                                                                                                                                                                                  \r"
     ]
    },
    {
     "data": {
      "text/html": [
       "<video src=\"media/jupyter/transtext@2024-11-25@10-29-06.mp4\" controls autoplay loop style=\"max-width: 100%;\"  >\n",
       "      Your browser does not support the <code>video</code> element.\n",
       "    </video>"
      ],
      "text/plain": [
       "<IPython.core.display.Video object>"
      ]
     },
     "metadata": {},
     "output_type": "display_data"
    }
   ],
   "source": [
    "%%manim -qm transtext\n",
    "\n",
    "class transtext(Scene):\n",
    "    def construct(self):\n",
    "        texts = [Text(\"Ciao\").to_edge(LEFT), \n",
    "                 Text(\"Mauro\").next_to(LEFT), \n",
    "                 Text(\"come\").next_to(RIGHT), \n",
    "                 Text(\"stai\").to_edge(RIGHT)]\n",
    "        self.play(*[Write(t) for t in texts])\n",
    "        self.wait(1)\n",
    "        texts2 = [Text(\"Ciao\").to_edge(LEFT), \n",
    "                  Text(\"Mauro\").next_to(LEFT), \n",
    "                  Text(\"come\").next_to(RIGHT), \n",
    "                  Text(\"stai\").to_edge(RIGHT)]\n",
    "        self.play(*[Transform(t1, t2) for t1, t2 in zip(reversed(texts), texts2)], path_arc=1)\n",
    "        self.wait(2)\n",
    "        "
   ]
  },
  {
   "cell_type": "code",
   "execution_count": 121,
   "id": "dc7f90f4-d6e4-4884-8187-a47bf76ca8a5",
   "metadata": {},
   "outputs": [
    {
     "name": "stdout",
     "output_type": "stream",
     "text": [
      "formal arg: 10\n",
      "another keyword arg: ciao: 10\n",
      "*1* *\n"
     ]
    }
   ],
   "source": [
    "def test_var_kwargs(farg, **kwargs):\n",
    "    print(\"formal arg:\", farg)\n",
    "    for key in kwargs:\n",
    "        print(\"another keyword arg: %s: %s\" % (key, kwargs[key]))\n",
    "        \n",
    "test_var_kwargs(10, ciao=10)\n",
    "\n",
    "print(f'*{str(1)}*{str(' ')}*')"
   ]
  }
 ],
 "metadata": {
  "kernelspec": {
   "display_name": ".ve",
   "language": "python",
   "name": "python3"
  },
  "language_info": {
   "codemirror_mode": {
    "name": "ipython",
    "version": 3
   },
   "file_extension": ".py",
   "mimetype": "text/x-python",
   "name": "python",
   "nbconvert_exporter": "python",
   "pygments_lexer": "ipython3",
   "version": "3.12.6"
  }
 },
 "nbformat": 4,
 "nbformat_minor": 5
}
