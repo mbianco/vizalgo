{
 "cells": [
  {
   "cell_type": "code",
   "execution_count": 1,
   "id": "3b7198d7-9257-452c-928a-a211a723517b",
   "metadata": {},
   "outputs": [],
   "source": [
    "import networkx as nx\n",
    "from manim import *\n",
    "import math\n",
    "\n",
    "config.media_width = \"100%\"\n",
    "config.verbosity = \"WARNING\""
   ]
  },
  {
   "cell_type": "markdown",
   "id": "9e00115e-4517-4d62-814e-8a6f10c1aa5d",
   "metadata": {},
   "source": [
    "![ciao](media/tree.jpg)\n"
   ]
  },
  {
   "cell_type": "code",
   "execution_count": 2,
   "id": "dbf63ae3-6593-48ee-b9a9-023c270c7069",
   "metadata": {},
   "outputs": [],
   "source": [
    "def xor_op(a, b):\n",
    "    return '1' if (int(a) ^ int(b)) else '0'\n",
    "\n",
    "def and_op(a, b):\n",
    "    return '1' if (int(a) & int(b)) else '0'\n",
    "\n",
    "def or_op(a, b):\n",
    "    return '1' if (int(a) | int(b)) else '0'\n",
    "\n"
   ]
  },
  {
   "cell_type": "code",
   "execution_count": null,
   "id": "b002bffb",
   "metadata": {},
   "outputs": [],
   "source": [
    "\n",
    "def generic_run(selfi, network, **kwargs):\n",
    "    null_label = kwargs['null_label'] if 'null_label' in kwargs else '-'\n",
    "    delay = kwargs['delay'] if 'delay' in kwargs else 1\n",
    "    (Network, layout, label_edges) = network.get()\n",
    "\n",
    "    unet = Network.to_undirected()\n",
    "    network.init_computation()\n",
    "    finished = False\n",
    "    time = 0\n",
    "    while not finished:\n",
    "    #for time in range(0, 2*nbits):\n",
    "        print(f'Iteration {time}')\n",
    "        G = Graph.from_networkx(Network, layout=layout, labels={i : Network.nodes[i]['weight']['value'] for i in Network})\n",
    "        selfi.add(G)\n",
    "        if time == 0:\n",
    "            counter = Text(str(time)).to_edge(UL)\n",
    "            selfi.add(counter)\n",
    "            texts = [Text(str(Network[u][v]['weight']['carry']), font_size=32, color=BLACK if Network[u][v]['weight']['carry']==null_label else RED).next_to(label_edges[(u, v)])\n",
    "                        for u, v in Network.edges]\n",
    "            for i in texts:\n",
    "                selfi.add(i)\n",
    "        else:\n",
    "            new_texts = [Text(str(Network[u][v]['weight']['carry']), font_size=32, color=BLACK if Network[u][v]['weight']['carry']==null_label else RED).next_to(label_edges[(u, v)])\n",
    "                        for u, v in Network.edges]\n",
    "            selfi.play(Transform(counter, Text(str(time)).to_edge(UL)),*[Transform(t1, t2) for t1, t2 in zip(texts, new_texts)])\n",
    "        selfi.wait(delay)\n",
    "        finished = not network.compute_iteration()\n",
    "        time = time+1\n",
    "    selfi.wait(delay)\n",
    "\n"
   ]
  },
  {
   "cell_type": "code",
   "execution_count": 4,
   "id": "0236c831-768f-4284-91dd-ad22ecf8d0c4",
   "metadata": {},
   "outputs": [],
   "source": [
    "class linear_sum:\n",
    "    def is_carry(self, v):\n",
    "        return (v-1)%3==0\n",
    "    \n",
    "    def is_input(self, v):\n",
    "        return not self.is_carry(v)\n",
    "        \n",
    "\n",
    "    def __init__(self, nbits, a, b, **kwargs):\n",
    "        # nbits is the number of bits of the operation\n",
    "        self.nbits = nbits\n",
    "\n",
    "        f = \"{0:0\"+str(self.nbits)+\"b}\"\n",
    "        self.a = f.format(a)\n",
    "        self.b = f.format(b)\n",
    "\n",
    "        self.null_label = '-'\n",
    "        self.Array = nx.DiGraph()\n",
    "        \n",
    "        #        23 22 21 20 19 18 27 16 15 14 13 12 11 10 9  8  7  6  5  4  3  2  1  0\n",
    "        #        i  c  i  i  c  i  i  c  i  i  c  i  i  c  i  i  c  i  i  c  i  i  c  i\n",
    "        # pos_x -12-11-10-9  -8 -7 -6 -5 -4 -3 -2 -1 0  1  2  3  4  5  6  7  8  9 10 11\n",
    "        # pos_y  1  0  1  1  0  1  1  0  1  1  0  1  1  0  1  1  0  1  1  0  1  1  0  1\n",
    "        for x in range(0, 3*self.nbits): # Input nodes\n",
    "            #print(x)\n",
    "            self.Array.add_node(x, weight = {'value': self.null_label})\n",
    "\n",
    "        # Edges to compute the sum of input bits\n",
    "        for x in range(1, 3*self.nbits, 3):\n",
    "            #print(f'adding input edge ({x-1}, {x})')\n",
    "            self.Array.add_edge(x-1, x, weight={\"carry\": self.null_label})\n",
    "            #print(f'adding input edge ({x+1}, {x})')\n",
    "            self.Array.add_edge(x+1, x, weight={\"carry\": self.null_label})\n",
    "\n",
    "        # Edges to propagate the carry\n",
    "        for x in range(1, 3*(self.nbits-1), 3):\n",
    "            #print(f'adding carry edge ({x}, {x+3})')\n",
    "            self.Array.add_edge(x, x+3, weight={\"carry\": self.null_label})\n",
    "\n",
    "        self.layout = { x: [3*nbits/2-x, 0 if (x-1)%3==0 else -1, 0] for x in range(0, 3*self.nbits)}\n",
    "        print(self.layout)\n",
    "\n",
    "        # Compute the positions of the labels for edges\n",
    "        #        23 22 21 20 19 18 27 16 15 14 13 12 11 10 9  8  7  6  5  4  3  2  1  0\n",
    "        #        i  c  i  i  c  i  i  c  i  i  c  i  i  c  i  i  c  i  i  c  i  i  c  i\n",
    "        # Solution 1 for input edges: put then at the mean between the coordinates of the endpoints\n",
    "        # Solution 1 for carry edges: put label on top and between the x coordinates of the endpoints\n",
    "        edge_labels_x = {u: (self.layout[u][0]+self.layout[v][0])/2 for u, v in self.Array.edges}\n",
    "        edge_labels_y = {}\n",
    "        for u,v in self.Array.edges:\n",
    "            if self.is_input(u):\n",
    "                edge_labels_y[u] = (self.layout[u][1]+self.layout[v][1])/2\n",
    "            else:\n",
    "                edge_labels_y[u] = 0.3\n",
    "        self.labels_position = {(u, v): edge_labels_x[u]*RIGHT+edge_labels_y[u]*UP for u, v in self.Array.edges}\n",
    "\n",
    "    def get(self):\n",
    "        return (self.Array, self.layout, self.labels_position)\n",
    "\n",
    "    def init_computation(self):\n",
    "        print(self.a, self.b)\n",
    "\n",
    "        for i in range(0, 3*self.nbits, 3):\n",
    "            self.Array.nodes[i]['weight']['value'] = self.a[self.nbits-1-int(i/3)]\n",
    "            self.Array.nodes[i+2]['weight']['value'] = self.b[self.nbits-1-int(i/3)]\n",
    "\n",
    "    def compute_iteration(self):\n",
    "        some_updates = False\n",
    "\n",
    "        for node in range(3*self.nbits-1, -1, -1):\n",
    "\n",
    "            if self.is_input(node):\n",
    "                for u, v, d in self.Array.out_edges(node, data=True):\n",
    "                    assert(u==node)\n",
    "                    if self.Array.nodes[node]['weight']['value'] != self.null_label:\n",
    "                        some_updates = True\n",
    "                        #print(f'before: node {node}, edge ({u}, {v}), weigth {d} = {self.Array.nodes[node]['weight']['value']}')\n",
    "                        d['weight']['carry'] = self.Array.nodes[node]['weight']['value']\n",
    "                        self.Array.nodes[node]['weight']['value'] = self.null_label\n",
    "                        #print(f'after:  node {node}, edge ({u}, {v}), weigth {d} = {self.Array.nodes[node]['weight']['value']}')\n",
    "            else:\n",
    "                #print(\"main computaiton\")\n",
    "                in_edges = [d for u, v, d in self.Array.in_edges(node, data=True)]\n",
    "                in_edges_full = [(d, u, v) for u, v, d in self.Array.in_edges(node, data=True)]\n",
    "                # check is the comutation is ready to start\n",
    "                all_set = True\n",
    "                for e in in_edges_full:\n",
    "                    #print(f'              edge ({e[1]}, {e[2]}) -> {e[0]['weight']['carry']}')\n",
    "                    all_set = all_set and (e[0]['weight']['carry'] != self.null_label)\n",
    "                #print (f'everything ok for node {node}? {all_set}')\n",
    "                if all_set:\n",
    "                    some_updates = True\n",
    "                    if (node==1): # it has only two incoming edges\n",
    "                        #print(\"I'm here\")\n",
    "                        assert(len(in_edges) == 2)\n",
    "                        a = in_edges[0]['weight']['carry']\n",
    "                        b = in_edges[1]['weight']['carry']\n",
    "                        in_edges[0]['weight']['carry'] = self.null_label\n",
    "                        in_edges[1]['weight']['carry'] = self.null_label\n",
    "                        self.Array.nodes[node]['weight']['value'] = xor_op(a, b)\n",
    "                        for u, v, d in self.Array.out_edges(node, data=True):\n",
    "                            d['weight']['carry'] = and_op(a, b)\n",
    "                    else:\n",
    "                        #print(\"I'm not here\")\n",
    "                        assert(len(in_edges) == 3)\n",
    "                        a = in_edges[0]['weight']['carry']\n",
    "                        b = in_edges[1]['weight']['carry']\n",
    "                        c = in_edges[2]['weight']['carry']\n",
    "                        in_edges[0]['weight']['carry'] = self.null_label\n",
    "                        in_edges[1]['weight']['carry'] = self.null_label\n",
    "                        in_edges[2]['weight']['carry'] = self.null_label\n",
    "                        self.Array.nodes[node]['weight']['value'] = xor_op(xor_op(a, b), c)\n",
    "                        for u, v, d in self.Array.out_edges(node, data=True):\n",
    "                            d['weight']['carry'] = or_op(and_op(a, b), or_op(and_op(a, c), and_op(b, c)))\n",
    "        return some_updates\n",
    "    \n",
    "    def read_output(self):\n",
    "        s = \"\"\n",
    "        n = 0\n",
    "        i = 0\n",
    "        for node in range(1, 3*(self.nbits), 3):\n",
    "            s = s + self.Array.nodes[node]['weight']['value']\n",
    "            if self.Array.nodes[node]['weight']['value'] != self.null_label:\n",
    "                n = n + 2**i*int(self.Array.nodes[node]['weight']['value'])\n",
    "            i = i + 1\n",
    "        return s, n"
   ]
  },
  {
   "cell_type": "code",
   "execution_count": null,
   "id": "a43fb729",
   "metadata": {},
   "outputs": [],
   "source": [
    "# Testing networkw\n",
    "nbits = 8\n",
    "for i in range(0, 2**nbits):\n",
    "\tfor j in range(0, 2**nbits):\n",
    "\t\tif (i+j < 2**nbits):\n",
    "\t\t\tnetwork = linear_sum(nbits, i, j)\n",
    "\t\t\tnetwork.init_computation()\n",
    "\t\t\twhile network.compute_iteration():\n",
    "\t\t\t\tNone\n",
    "\t\t\tassert( i+j == network.read_output()[1])"
   ]
  },
  {
   "cell_type": "code",
   "execution_count": 8,
   "id": "c6319f84-c599-4220-9f14-a7319de97cea",
   "metadata": {
    "scrolled": true
   },
   "outputs": [
    {
     "data": {
      "text/html": [
       "<pre style=\"white-space:pre;overflow-x:auto;line-height:normal;font-family:Menlo,'DejaVu Sans Mono',consolas,'Courier New',monospace\">Manim Community <span style=\"color: #008000; text-decoration-color: #008000\">v0.18.1</span>\n",
       "\n",
       "</pre>\n"
      ],
      "text/plain": [
       "Manim Community \u001b[32mv0.\u001b[0m\u001b[32m18.1\u001b[0m\n",
       "\n"
      ]
     },
     "metadata": {},
     "output_type": "display_data"
    },
    {
     "name": "stdout",
     "output_type": "stream",
     "text": [
      "{0: [12.0, -1, 0], 1: [11.0, 0, 0], 2: [10.0, -1, 0], 3: [9.0, -1, 0], 4: [8.0, 0, 0], 5: [7.0, -1, 0], 6: [6.0, -1, 0], 7: [5.0, 0, 0], 8: [4.0, -1, 0], 9: [3.0, -1, 0], 10: [2.0, 0, 0], 11: [1.0, -1, 0], 12: [0.0, -1, 0], 13: [-1.0, 0, 0], 14: [-2.0, -1, 0], 15: [-3.0, -1, 0], 16: [-4.0, 0, 0], 17: [-5.0, -1, 0], 18: [-6.0, -1, 0], 19: [-7.0, 0, 0], 20: [-8.0, -1, 0], 21: [-9.0, -1, 0], 22: [-10.0, 0, 0], 23: [-11.0, -1, 0]}\n",
      "01110100 01101101\n",
      "Iteration 0\n",
      "Iteration 1\n"
     ]
    },
    {
     "name": "stderr",
     "output_type": "stream",
     "text": [
      "                                                                                        \r"
     ]
    },
    {
     "name": "stdout",
     "output_type": "stream",
     "text": [
      "Iteration 2\n"
     ]
    },
    {
     "name": "stderr",
     "output_type": "stream",
     "text": [
      "                                                                                        \r"
     ]
    },
    {
     "name": "stdout",
     "output_type": "stream",
     "text": [
      "Iteration 3\n"
     ]
    },
    {
     "name": "stderr",
     "output_type": "stream",
     "text": [
      "                                                                                        \r"
     ]
    },
    {
     "name": "stdout",
     "output_type": "stream",
     "text": [
      "Iteration 4\n"
     ]
    },
    {
     "name": "stderr",
     "output_type": "stream",
     "text": [
      "                                                                                        \r"
     ]
    },
    {
     "name": "stdout",
     "output_type": "stream",
     "text": [
      "Iteration 5\n"
     ]
    },
    {
     "name": "stderr",
     "output_type": "stream",
     "text": [
      "                                                                                        \r"
     ]
    },
    {
     "name": "stdout",
     "output_type": "stream",
     "text": [
      "Iteration 6\n"
     ]
    },
    {
     "name": "stderr",
     "output_type": "stream",
     "text": [
      "                                                                                         \r"
     ]
    },
    {
     "name": "stdout",
     "output_type": "stream",
     "text": [
      "Iteration 7\n"
     ]
    },
    {
     "name": "stderr",
     "output_type": "stream",
     "text": [
      "                                                                                         \r"
     ]
    },
    {
     "name": "stdout",
     "output_type": "stream",
     "text": [
      "Iteration 8\n"
     ]
    },
    {
     "name": "stderr",
     "output_type": "stream",
     "text": [
      "                                                                                         \r"
     ]
    },
    {
     "name": "stdout",
     "output_type": "stream",
     "text": [
      "Iteration 9\n"
     ]
    },
    {
     "name": "stderr",
     "output_type": "stream",
     "text": [
      "                                                                                         \r"
     ]
    },
    {
     "name": "stdout",
     "output_type": "stream",
     "text": [
      "('10000111', 225)\n"
     ]
    },
    {
     "data": {
      "text/html": [
       "<video src=\"media/jupyter/ShowLinear@2024-12-04@18-59-40.mp4\" controls autoplay loop style=\"max-width: 100%;\"  >\n",
       "      Your browser does not support the <code>video</code> element.\n",
       "    </video>"
      ],
      "text/plain": [
       "<IPython.core.display.Video object>"
      ]
     },
     "metadata": {},
     "output_type": "display_data"
    }
   ],
   "source": [
    "%%manim -qm ShowLinear\n",
    "\n",
    "config.frame_width = 25\n",
    "\n",
    "\n",
    "class ShowLinear(Scene):\n",
    "    \n",
    "    def construct(self):\n",
    "        nbits = 8\n",
    "        network = linear_sum(nbits, 32+84, 77+32, delay=0.2)\n",
    "        generic_run(self, network)\n",
    "        print(network.read_output())"
   ]
  },
  {
   "cell_type": "code",
   "execution_count": 574,
   "id": "5ea13c24-8d62-4393-abdb-81c356c22ebd",
   "metadata": {},
   "outputs": [],
   "source": [
    "class tree_sum:\n",
    "    def __init__(self, nbits, a, b, **kwargs):\n",
    "        #print(kwargs)\n",
    "        self.null_label = kwargs['null_label'] if 'null_label' in kwargs else '-'\n",
    "        self.verbose = kwargs['verbose'] if 'verbose' in kwargs else False\n",
    "\n",
    "        # nbits is the number of bits of the operation\n",
    "        # N is the number of nodes in the tree (2^n-1). Nodes in the tree will be from 0 to 2^n-2\n",
    "        self.nbits = nbits\n",
    "        self.N = 2*nbits-1\n",
    "\n",
    "        f = \"{0:0\"+str(self.nbits)+\"b}\"\n",
    "        self.a = f.format(a)\n",
    "        self.b = f.format(b)\n",
    "\n",
    "        self.Tree = nx.DiGraph()\n",
    "        for x in range(0, self.N+2*self.nbits):\n",
    "            #print(x)\n",
    "            self.Tree.add_node(x, weight = {'value': self.null_label})\n",
    "\n",
    "        for x in range(0,int(self.N/2)):\n",
    "            # Edges parent to sons\n",
    "            self.Tree.add_edge(x, x*2+1, weight={\"carry\": self.null_label, \"dir\": \"down\", \"son\": \"left\", \"epoch\": 0})\n",
    "            self.Tree.add_edge(x, x*2+2, weight={\"carry\": self.null_label, \"dir\": \"down\", \"son\": \"right\", \"epoch\": 0})\n",
    "            self.Tree.add_edge(x*2+1, x, weight={\"carry\": self.null_label, \"all1s\": self.null_label, \"dir\": \"up\", 'son': 'left', \"epoch\": 0})\n",
    "            self.Tree.add_edge(x*2+2, x, weight={\"carry\": self.null_label, \"all1s\": self.null_label, \"dir\": \"up\", 'son': 'right', \"epoch\": 0})\n",
    "            # Edges son to parent\n",
    "\n",
    "        # Add edges for the real IO nodes\n",
    "        for x in range(self.nbits-1, self.N):\n",
    "            self.Tree.add_edge((x-self.nbits+1)*2+self.N,     x, weight={\"carry\": self.null_label, \"dir\": \"up\", \"in\": 'a', \"epoch\": 0})\n",
    "            self.Tree.add_edge((x-self.nbits+1)*2+self.N + 1, x, weight={\"carry\": self.null_label, \"dir\": \"up\", 'in': 'b', \"epoch\": 0})\n",
    "    \n",
    "        self.pos_y = [1.5*math.floor(math.log2(y+1)) - 3 for y in range(0, self.N)]\n",
    "        self.pos_y = self.pos_y + [1.5*math.floor(math.log2(self.N+1)) - 3 for y in range(self.N, self.N+2*self.nbits)]\n",
    "        \n",
    "        self.pos_x = {x: x - self.N - self.nbits for x in range(self.N, self.N+2*self.nbits)}\n",
    "\n",
    "        self.pos_x = {x: (self.pos_x[2*(x-self.nbits+1)+self.N]+self.pos_x[2*(x-self.nbits+1)+self.N+1])/2 for x in range(self.nbits-1, self.N)}|self.pos_x\n",
    "\n",
    "        for level in range(int(math.log2(self.nbits))-1, -1, -1):\n",
    "            self.pos_x = {x: (self.pos_x[x*2+1]+self.pos_x[x*2+2])/2 for x in range(2**level-1, 2**level-1+2**level)}|self.pos_x\n",
    "\n",
    "        self.layout = { v: [self.pos_x[v], self.pos_y[v], 0] for v in range(0, self.N+2*self.nbits)}\n",
    "\n",
    "        self.edges_labels_pos = {}\n",
    "        for u, v, d in self.Tree.edges(data=True):\n",
    "            if u in range(self.N, self.N+2*self.nbits): # IO nodes\n",
    "                self.edges_labels_pos[(u,v)] = [(self.layout[u][0]+self.layout[v][0])/2, \n",
    "                                                (self.layout[u][1]+self.layout[v][1])/2, \n",
    "                                                0 ]\n",
    "            else:\n",
    "                if d['weight']['dir'] == 'down':\n",
    "                    if d['weight']['son'] == 'left':\n",
    "                        self.edges_labels_pos[(u,v)] = [(self.layout[u][0]+self.layout[v][0])/2 + -0.2, \n",
    "                                                        (self.layout[u][1]+self.layout[v][1])/2 + 0.15, \n",
    "                                                        0 ]\n",
    "                    if d['weight']['son'] == 'right':\n",
    "                        self.edges_labels_pos[(u,v)] = [(self.layout[u][0]+self.layout[v][0])/2 - 0.4, \n",
    "                                                        (self.layout[u][1]+self.layout[v][1])/2 + 0.15, \n",
    "                                                        0 ]\n",
    "                else:\n",
    "                    if d['weight']['son'] == 'left':\n",
    "                        self.edges_labels_pos[(u,v)] = [(self.layout[u][0]+self.layout[v][0])/2 - 0.8, \n",
    "                                                        (self.layout[u][1]+self.layout[v][1])/2 + 0, \n",
    "                                                        0 ]\n",
    "                    if d['weight']['son'] == 'right':\n",
    "                        self.edges_labels_pos[(u,v)] = [(self.layout[u][0]+self.layout[v][0])/2 + 0.25, \n",
    "                                                        (self.layout[u][1]+self.layout[v][1])/2 + 0, \n",
    "                                                        0 ]\n",
    "\n",
    "\n",
    "        #self.visiting_list = self.visit_order(0) + [x for x in range(self.N, self.N+2*self.nbits)]\n",
    "        #print(f'{self.visiting_list}') if self.verbose else None\n",
    "        self.epoch = 0\n",
    "\n",
    "    def visit_order(self, node):\n",
    "        sons = [ v for u, v, e in self.Tree.out_edges(node, data=True) if e['weight']['dir'] == 'down']\n",
    "        assert(len(sons) == 2 or len(sons) == 0)\n",
    "        if not sons:\n",
    "            return [node]\n",
    "        print(f'visiting {sons[0]} and {sons[1]}') if self.verbose else None\n",
    "        list = self.visit_order(sons[1]) + [node] + self.visit_order(sons[0])\n",
    "        return list\n",
    "\n",
    "    def is_input(self, v):\n",
    "        return v in range(self.N, self.N+2*self.nbits)\n",
    "    \n",
    "    def is_output(self, v):\n",
    "        return v in range(self.nbits-1, self.N)\n",
    "\n",
    "    def is_internal_node(self, v):\n",
    "        return v in range(0, self.nbits-1)\n",
    "\n",
    "    def get(self):\n",
    "        return (self.Tree, self.layout, self.edges_labels_pos)\n",
    "\n",
    "    def init_computation(self):\n",
    "        print(self.a, self.b) if self.verbose else None\n",
    "\n",
    "        for x in range(self.N, self.N+2*self.nbits, 2): # more efficient that checking if a node is input\n",
    "            # nodes are 2 by 2 holding one bit of a and 1 bit of b\n",
    "            self.Tree.nodes[x]['weight']['value'] = self.a[self.nbits-int((x-(self.N))/2)-1]\n",
    "            self.Tree.nodes[x+1]['weight']['value'] = self.b[self.nbits-int((x-(self.N))/2)-1]\n",
    "\n",
    "    def compute_iteration(self):\n",
    "        some_updates = False\n",
    "        for node in self.Tree:\n",
    "            if self.is_input(node):\n",
    "                for u, v, d in self.Tree.out_edges(node, data=True):\n",
    "                    assert(u==node)\n",
    "                    if self.Tree.nodes[node]['weight']['value'] != self.null_label:\n",
    "                        some_updates = True\n",
    "                        d['weight']['carry'] = self.Tree.nodes[node]['weight']['value']\n",
    "                        d['weight']['epoch'] = self.epoch+1\n",
    "                        self.Tree.nodes[node]['weight']['value'] = self.null_label\n",
    "            if self.is_output(node):\n",
    "                in_a = None\n",
    "                in_b = None\n",
    "                in_top = None\n",
    "                out_up = None\n",
    "                for (u,v,e) in self.Tree.in_edges(node, data=True):\n",
    "                    if (e['weight']['dir'] == 'up'):\n",
    "                        if e['weight']['in'] == \"a\":\n",
    "                            in_a = e\n",
    "                        if e['weight']['in'] == \"b\":\n",
    "                            in_b = e\n",
    "                    if e['weight']['dir'] == \"down\":\n",
    "                        in_top = e\n",
    "\n",
    "                for u, v, e in self.Tree.out_edges(node, data=True):\n",
    "                    if e['weight']['dir'] == 'up':\n",
    "                        out_up = e\n",
    "                assert(in_a != None)\n",
    "                assert(in_b != None)\n",
    "                assert(in_top != None)\n",
    "                assert(out_up != None)\n",
    "\n",
    "                if in_a['weight']['carry'] != self.null_label and in_b['weight']['carry'] != self.null_label:\n",
    "                    self.Tree.nodes[node]['weight']['value'] = xor_op(in_a['weight']['carry'], \n",
    "                                                                      in_b['weight']['carry'])\n",
    "                    out_up['weight']['carry'] = and_op(in_a['weight']['carry'], in_b['weight']['carry'])\n",
    "                    out_up['weight']['all1s'] = self.Tree.nodes[node]['weight']['value']\n",
    "                    out_up['weight']['epoch'] = self.epoch+1\n",
    "                    in_a['weight']['carry'] = self.null_label\n",
    "                    in_b['weight']['carry'] = self.null_label\n",
    "                    some_updates = True\n",
    "                \n",
    "                if in_top['weight']['carry'] != self.null_label and in_top['weight']['epoch'] <= self.epoch:\n",
    "                    self.Tree.nodes[node]['weight']['value'] = xor_op(self.Tree.nodes[node]['weight']['value'], \n",
    "                                                                      in_top['weight']['carry'])\n",
    "                    in_top['weight']['carry'] = self.null_label\n",
    "                    some_updates = True\n",
    "\n",
    "            if self.is_internal_node(node):\n",
    "                in_left = None\n",
    "                in_right = None\n",
    "                in_top = None\n",
    "                out_up = None\n",
    "                out_left = None\n",
    "                out_right = None\n",
    "                for (u,v,e) in self.Tree.in_edges(node, data=True):\n",
    "                    if (e['weight']['dir'] == 'up'):\n",
    "                        if e['weight']['son'] == 'left':\n",
    "                            in_left = e\n",
    "                        if e['weight']['son'] == 'right':\n",
    "                            in_right = e\n",
    "                    if e['weight']['dir'] == 'down':\n",
    "                        in_top = e\n",
    "\n",
    "                for u, v, e in self.Tree.out_edges(node, data=True):\n",
    "                    if e['weight']['dir'] == 'up':\n",
    "                        out_up = e\n",
    "                    if (e['weight']['dir'] == 'down'):\n",
    "                        if e['weight']['son'] == 'left':\n",
    "                            out_left = e\n",
    "                        if e['weight']['son'] == 'right':\n",
    "                            out_right = e\n",
    "                assert(in_left != None)\n",
    "                assert(in_right != None)\n",
    "                assert(in_top != None if node!=0 else True)\n",
    "                assert(out_up != None if node!=0 else True)\n",
    "                assert(out_left != None)\n",
    "                assert(out_right != None)\n",
    "\n",
    "                if in_left['weight']['carry'] != self.null_label and in_right['weight']['carry'] != self.null_label and in_left['weight']['epoch'] <= self.epoch and in_right['weight']['epoch'] <= self.epoch:\n",
    "                    self.Tree.nodes[node]['weight']['value'] = in_left['weight']['all1s']\n",
    "                    out_right['weight']['carry'] = in_left['weight']['carry']\n",
    "                    if node != 0:\n",
    "                        out_up['weight']['carry'] = or_op(in_right['weight']['carry'], \n",
    "                                                          and_op(in_right['weight']['all1s'], in_left['weight']['carry']))\n",
    "                        out_up['weight']['all1s'] = and_op(in_left['weight']['all1s'], in_right['weight']['all1s'])\n",
    "                        out_up['weight']['epoch'] = self.epoch+1\n",
    "                    \n",
    "                    some_updates = True\n",
    "                    in_left['weight']['carry'] = self.null_label\n",
    "                    in_right['weight']['carry'] = self.null_label\n",
    "                \n",
    "                if node != 0:\n",
    "                    if in_top['weight']['carry'] != self.null_label and in_top['weight']['epoch'] <= self.epoch:\n",
    "                        if self.Tree.nodes[node]['weight']['value'] == '1':\n",
    "                            out_right['weight']['carry'] = in_top['weight']['carry']\n",
    "                            out_right['weight']['epoch'] = self.epoch + 1\n",
    "                        else:\n",
    "                            out_right['weight']['carry'] = '0'\n",
    "                            out_right['weight']['epoch'] = self.epoch + 1\n",
    "                        out_left['weight']['carry'] = in_top['weight']['carry']\n",
    "                        out_left['weight']['epoch'] = self.epoch + 1\n",
    "                        in_top['weight']['carry'] = self.null_label\n",
    "                        some_updates = True\n",
    "        self.epoch = self.epoch + 1\n",
    "        return some_updates\n",
    "\n",
    "    def read_output(self):\n",
    "        s = \"\"\n",
    "        n = 0\n",
    "        i = 0\n",
    "        for node in range(self.nbits-1, self.N):\n",
    "            #print(f\"self.Tree.nodes[node]['weight']['value'] = {self.Tree.nodes[node]['weight']['value']}\")\n",
    "            s = s + self.Tree.nodes[node]['weight']['value']\n",
    "            if self.Tree.nodes[node]['weight']['value'] != self.null_label:\n",
    "                n = n + (2**i)*int(self.Tree.nodes[node]['weight']['value'])\n",
    "            i = i+1\n",
    "        return s, n"
   ]
  },
  {
   "cell_type": "code",
   "execution_count": null,
   "id": "ee5df44a",
   "metadata": {},
   "outputs": [],
   "source": [
    "# Testing networkw\n",
    "nbits = 8\n",
    "for i in range(0, 2**nbits):\n",
    "\tfor j in range(0, 2**nbits):\n",
    "\t\tif (i+j < 2**nbits):\n",
    "\t\t\tnetwork = tree_sum(nbits, i, j, verbose = False)\n",
    "\t\t\tnetwork.init_computation()\n",
    "\t\t\twhile network.compute_iteration():\n",
    "\t\t\t\tNone\n",
    "\t\t\tif i+j != network.read_output()[1]:\n",
    "\t\t\t\tprint(f'error in checking that {i} + {j} = {network.read_output()[1]} ({i+j})')\n",
    "\t\t\tassert( i+j == network.read_output()[1])˜"
   ]
  },
  {
   "cell_type": "code",
   "execution_count": 584,
   "id": "a47af5a6",
   "metadata": {},
   "outputs": [
    {
     "data": {
      "text/html": [
       "<pre style=\"white-space:pre;overflow-x:auto;line-height:normal;font-family:Menlo,'DejaVu Sans Mono',consolas,'Courier New',monospace\">Manim Community <span style=\"color: #008000; text-decoration-color: #008000\">v0.18.1</span>\n",
       "\n",
       "</pre>\n"
      ],
      "text/plain": [
       "Manim Community \u001b[32mv0.\u001b[0m\u001b[32m18.1\u001b[0m\n",
       "\n"
      ]
     },
     "metadata": {},
     "output_type": "display_data"
    },
    {
     "name": "stdout",
     "output_type": "stream",
     "text": [
      "Iteration 0\n",
      "Iteration 1\n"
     ]
    },
    {
     "name": "stderr",
     "output_type": "stream",
     "text": [
      "                                                                              \r"
     ]
    },
    {
     "name": "stdout",
     "output_type": "stream",
     "text": [
      "Iteration 2\n"
     ]
    },
    {
     "name": "stderr",
     "output_type": "stream",
     "text": [
      "                                                                              \r"
     ]
    },
    {
     "name": "stdout",
     "output_type": "stream",
     "text": [
      "Iteration 3\n"
     ]
    },
    {
     "name": "stderr",
     "output_type": "stream",
     "text": [
      "                                                                              \r"
     ]
    },
    {
     "name": "stdout",
     "output_type": "stream",
     "text": [
      "Iteration 4\n"
     ]
    },
    {
     "name": "stderr",
     "output_type": "stream",
     "text": [
      "                                                                              \r"
     ]
    },
    {
     "name": "stdout",
     "output_type": "stream",
     "text": [
      "Iteration 5\n"
     ]
    },
    {
     "name": "stderr",
     "output_type": "stream",
     "text": [
      "                                                                              \r"
     ]
    },
    {
     "name": "stdout",
     "output_type": "stream",
     "text": [
      "Iteration 6\n"
     ]
    },
    {
     "name": "stderr",
     "output_type": "stream",
     "text": [
      "                                                                               \r"
     ]
    },
    {
     "name": "stdout",
     "output_type": "stream",
     "text": [
      "Iteration 7\n"
     ]
    },
    {
     "name": "stderr",
     "output_type": "stream",
     "text": [
      "                                                                                       \r"
     ]
    },
    {
     "name": "stdout",
     "output_type": "stream",
     "text": [
      "('10000111', 225)\n"
     ]
    },
    {
     "data": {
      "text/html": [
       "<video src=\"media/jupyter/ShowTree@2024-12-03@19-22-37.mp4\" controls autoplay loop style=\"max-width: 100%;\"  >\n",
       "      Your browser does not support the <code>video</code> element.\n",
       "    </video>"
      ],
      "text/plain": [
       "<IPython.core.display.Video object>"
      ]
     },
     "metadata": {},
     "output_type": "display_data"
    }
   ],
   "source": [
    "%%manim -qm ShowTree\n",
    "\n",
    "config.frame_width = 19\n",
    "class ShowTree(Scene):\n",
    "    \n",
    "    def construct(self):\n",
    "        nbits = 8\n",
    "        network = tree_sum(nbits, 84+32, 77+32, null_label='-')\n",
    "        generic_run(self, network, null_lable='-', delay=0.2)\n",
    "        print(network.read_output())\n"
   ]
  }
 ],
 "metadata": {
  "kernelspec": {
   "display_name": ".ve",
   "language": "python",
   "name": "python3"
  },
  "language_info": {
   "codemirror_mode": {
    "name": "ipython",
    "version": 3
   },
   "file_extension": ".py",
   "mimetype": "text/x-python",
   "name": "python",
   "nbconvert_exporter": "python",
   "pygments_lexer": "ipython3",
   "version": "3.12.6"
  }
 },
 "nbformat": 4,
 "nbformat_minor": 5
}
