{
 "cells": [
  {
   "cell_type": "markdown",
   "id": "54d89d66",
   "metadata": {},
   "source": [
    "# Visualization of Computing Networks"
   ]
  },
  {
   "cell_type": "code",
   "execution_count": 1,
   "id": "3b7198d7-9257-452c-928a-a211a723517b",
   "metadata": {},
   "outputs": [],
   "source": [
    "import networkx as nx\n",
    "from manim import *\n",
    "import math\n",
    "\n",
    "config.media_width = \"100%\"\n",
    "config.verbosity = \"WARNING\""
   ]
  },
  {
   "cell_type": "markdown",
   "id": "9e00115e-4517-4d62-814e-8a6f10c1aa5d",
   "metadata": {},
   "source": [
    "![ciao](media/tree.jpg)\n"
   ]
  },
  {
   "cell_type": "markdown",
   "id": "8d83c2f2",
   "metadata": {},
   "source": [
    "## Operations needed for the operations in the nodes of the graphs\n",
    "The values stored in the graph are actually strings, so far. This means that the numeric operations need to be performed on strings."
   ]
  },
  {
   "cell_type": "code",
   "execution_count": 2,
   "id": "dbf63ae3-6593-48ee-b9a9-023c270c7069",
   "metadata": {},
   "outputs": [],
   "source": [
    "def xor_op(a, b):\n",
    "    return '1' if (int(a) ^ int(b)) else '0'\n",
    "\n",
    "def and_op(a, b):\n",
    "    return '1' if (int(a) & int(b)) else '0'\n",
    "\n",
    "def or_op(a, b):\n",
    "    return '1' if (int(a) | int(b)) else '0'\n",
    "\n",
    "def add_op(a, b):\n",
    "    assert(int(a) in range(0,10))\n",
    "    assert(int(b) in range(0,10))\n",
    "    c = int(a)+int(b)\n",
    "    return str(c) if c<10 else str(c)[1]\n",
    "\n",
    "def carry_op(a, b):\n",
    "    assert(int(a) in range(0,10))\n",
    "    assert(int(b) in range(0,10))\n",
    "    c = int(a)+int(b)\n",
    "    return '0' if c<10 else '1'"
   ]
  },
  {
   "cell_type": "markdown",
   "id": "ba050aeb",
   "metadata": {},
   "source": [
    "## Generic Run\n",
    "This function takes a computing network and iterate on it to produce the visualization"
   ]
  },
  {
   "cell_type": "code",
   "execution_count": 3,
   "id": "b002bffb",
   "metadata": {},
   "outputs": [],
   "source": [
    "\n",
    "def generic_run(selfi, network, **kwargs):\n",
    "    null_label = kwargs['null_label'] if 'null_label' in kwargs else '-'\n",
    "    delay = kwargs['delay'] if 'delay' in kwargs else 1\n",
    "    (Network, layout) = network.get()\n",
    "\n",
    "    unet = Network.to_undirected()\n",
    "    network.init_computation()\n",
    "    finished = False\n",
    "    time = 0\n",
    "    while not finished:\n",
    "        print(f'Iteration {time}')\n",
    "        if time == 0:\n",
    "            selfi.G = Graph.from_networkx(Network, layout=layout, labels={i : Network.nodes[i]['weight']['value'] for i in Network}, \n",
    "                                    edge_config={(u,v): {'stroke_color': (WHITE if d['weight']['carry'] != null_label else d['weight']['color']),\n",
    "                                                         'stroke_width': (6 if d['weight']['carry'] != null_label else 3)} \n",
    "                                                         for u, v, d in Network.edges(data = True)},\n",
    "                                    vertex_config={u: {'fill_color': (WHITE if Network.nodes[u]['weight']['value'] != null_label else BLACK),\n",
    "                                                       'stroke_width': 3, 'stroke_color': Network.nodes[u]['weight']['color']}\n",
    "                                                   for u in Network.nodes})\n",
    "            selfi.play(Create(selfi.G))\n",
    "            counter = Text(str(time)).to_edge(UL)\n",
    "            selfi.add(counter)\n",
    "            try:\n",
    "                network.additional_items_to_draw(selfi)\n",
    "            except Exception as e:\n",
    "                print(\"Nothing to add:\", e)\n",
    "        else:\n",
    "            selfi.wait(delay)\n",
    "\n",
    "            G1 = Graph.from_networkx(Network, layout=layout, labels={i : Network.nodes[i]['weight']['value'] for i in Network}, \n",
    "                                    edge_config={(u,v): {'stroke_color': (WHITE if d['weight']['carry'] != null_label else d['weight']['color']),\n",
    "                                                         'stroke_width': (6 if d['weight']['carry'] != null_label else 3)} \n",
    "                                                         for u, v, d in Network.edges(data = True)},\n",
    "                                    vertex_config={u: {'fill_color': (WHITE if Network.nodes[u]['weight']['value'] != null_label else BLACK),\n",
    "                                                       'stroke_width': 3, 'stroke_color': Network.nodes[u]['weight']['color']}\n",
    "                                                   for u in Network.nodes})\n",
    "\n",
    "            try:\n",
    "                new_texts_from = {(u, v): Text(str(network.string_for_edge(u,v)), color=RED, font_size=32)\n",
    "                            for u, v, d in Network.edges(data=True) if d['weight']['carry'] != null_label}\n",
    "                new_texts_to = {(u, v): Text(str(network.string_for_edge(u,v)), color=RED, font_size=32)\n",
    "                            for u, v, d in Network.edges(data=True) if d['weight']['carry'] != null_label}\n",
    "            except:\n",
    "                new_texts_from = {(u, v): Text(str(Network[u][v]['weight']['carry']), color=RED, font_size=32)\n",
    "                            for u, v, d in Network.edges(data=True) if d['weight']['carry'] != null_label}\n",
    "                new_texts_to = {(u, v): Text(str(Network[u][v]['weight']['carry']), color=RED, font_size=32)\n",
    "                            for u, v, d in Network.edges(data=True) if d['weight']['carry'] != null_label}\n",
    "\n",
    "            try:\n",
    "                network.additional_items_to_draw(selfi)\n",
    "            except Exception as e:\n",
    "                print(\"Nothing to add:\", e)\n",
    "\n",
    "            selfi.play(Transform(selfi.G, G1), *[Transform(new_texts_from[(u, v)].move_to(selfi.G[u]), new_texts_to[(u, v)].move_to(selfi.G[v])) \n",
    "                                           for u, v, d in Network.edges(data=True) if d['weight']['carry'] != null_label], \n",
    "                        path_arc = 70 * DEGREES, run_time=1.5*delay)\n",
    "            selfi.play(Transform(counter, Text(str(time)).to_edge(UL)) ,*[FadeOut(new_texts_from[(u, v)]) for u, v, d in Network.edges(data=True) if d['weight']['carry'] != null_label], run_time=1.5*delay)\n",
    "        finished = not network.compute_iteration()\n",
    "        time = time+1\n",
    "    selfi.wait(delay)\n"
   ]
  },
  {
   "cell_type": "markdown",
   "id": "41b3dd96",
   "metadata": {},
   "source": [
    "## Linear binary sum\n",
    "This is a basic example of a computing network computing the sum of two binary numbers.\n",
    "The linearity of the operation is apparent when comparing it with later binary sum implementation."
   ]
  },
  {
   "cell_type": "code",
   "execution_count": 4,
   "id": "0236c831-768f-4284-91dd-ad22ecf8d0c4",
   "metadata": {},
   "outputs": [],
   "source": [
    "class linear_sum:\n",
    "    def is_carry(self, v):\n",
    "        return (v-1)%3==0\n",
    "    \n",
    "    def is_input(self, v):\n",
    "        return not self.is_carry(v)\n",
    "        \n",
    "\n",
    "    def __init__(self, nbits, a, b, **kwargs):\n",
    "        # nbits is the number of bits of the operation\n",
    "        self.nbits = nbits\n",
    "\n",
    "        f = \"{0:0\"+str(self.nbits)+\"b}\"\n",
    "        self.a = f.format(a)\n",
    "        self.b = f.format(b)\n",
    "\n",
    "        self.null_label = '-'\n",
    "        self.Array = nx.DiGraph()\n",
    "        \n",
    "        #        23 22 21 20 19 18 27 16 15 14 13 12 11 10 9  8  7  6  5  4  3  2  1  0\n",
    "        #        i  c  i  i  c  i  i  c  i  i  c  i  i  c  i  i  c  i  i  c  i  i  c  i\n",
    "        # pos_x -12-11-10-9  -8 -7 -6 -5 -4 -3 -2 -1 0  1  2  3  4  5  6  7  8  9 10 11\n",
    "        # pos_y  1  0  1  1  0  1  1  0  1  1  0  1  1  0  1  1  0  1  1  0  1  1  0  1\n",
    "        for x in range(0, 3*self.nbits): # Input nodes\n",
    "            #print(x)\n",
    "            self.Array.add_node(x, weight = {'value': self.null_label, 'color': WHITE if x-1%3==0 else GREEN})\n",
    "\n",
    "        # Edges to compute the sum of input bits\n",
    "        for x in range(1, 3*self.nbits, 3):\n",
    "            #print(f'adding input edge ({x-1}, {x})')\n",
    "            self.Array.add_edge(x-1, x, weight={\"carry\": self.null_label, 'color': GREEN})\n",
    "            #print(f'adding input edge ({x+1}, {x})')\n",
    "            self.Array.add_edge(x+1, x, weight={\"carry\": self.null_label, 'color': GREEN})\n",
    "\n",
    "        # Edges to propagate the carry\n",
    "        for x in range(1, 3*(self.nbits-1), 3):\n",
    "            #print(f'adding carry edge ({x}, {x+3})')\n",
    "            self.Array.add_edge(x, x+3, weight={\"carry\": self.null_label, 'color': GREEN})\n",
    "\n",
    "        self.layout = { x: [3*nbits/2-x, 0 if (x-1)%3==0 else (-1 if x%3==0 else -2), 0] for x in range(0, 3*self.nbits)}\n",
    "\n",
    "        ### The following code is not needed anymore\n",
    "        # Compute the positions of the labels for edges\n",
    "        #        23 22 21 20 19 18 27 16 15 14 13 12 11 10 9  8  7  6  5  4  3  2  1  0\n",
    "        #        i  c  i  i  c  i  i  c  i  i  c  i  i  c  i  i  c  i  i  c  i  i  c  i\n",
    "        # Solution 1 for input edges: put then at the mean between the coordinates of the endpoints\n",
    "        # Solution 1 for carry edges: put label on top and between the x coordinates of the endpoints\n",
    "        # edge_labels_x = {u: (self.layout[u][0]+self.layout[v][0])/2 for u, v in self.Array.edges}\n",
    "        # edge_labels_y = {}\n",
    "        # for u,v in self.Array.edges:\n",
    "        #     if self.is_input(u):\n",
    "        #         edge_labels_y[u] = (self.layout[u][1]+self.layout[v][1])/2\n",
    "        #     else:\n",
    "        #         edge_labels_y[u] = 0.3\n",
    "        # self.labels_position = {(u, v): edge_labels_x[u]*RIGHT+edge_labels_y[u]*UP for u, v in self.Array.edges}\n",
    "\n",
    "    def additional_items_to_draw(self, selfi):\n",
    "        if self.time == 0:\n",
    "            input1 = Group(*[selfi.G[x] for x in range(0, 3*self.nbits, 3)])\n",
    "            input2 = Group(*[selfi.G[x] for x in range(2, 3*self.nbits, 3)])\n",
    "            output = Group(*[selfi.G[x] for x in range(1, 3*self.nbits, 3)])\n",
    "            #t = Text(\"Ouptut\", font_size=24).next_to(output, UP)\n",
    "            #box = Group(output, t)\n",
    "            selfi.add(  SurroundingRectangle(input1, color=YELLOW)\n",
    "                        , SurroundingRectangle(input2, color=YELLOW)\n",
    "                        , SurroundingRectangle(output, color=BLUE)\n",
    "            )\n",
    "\n",
    "    def get(self):\n",
    "        return (self.Array, self.layout)#, self.labels_position)\n",
    "\n",
    "    def init_computation(self):\n",
    "        self.time = 0\n",
    "        for i in range(0, 3*self.nbits, 3):\n",
    "            self.Array.nodes[i]['weight']['value'] = self.a[self.nbits-1-int(i/3)]\n",
    "            self.Array.nodes[i+2]['weight']['value'] = self.b[self.nbits-1-int(i/3)]\n",
    "\n",
    "    def compute_iteration(self):\n",
    "        some_updates = False\n",
    "\n",
    "        for node in range(3*self.nbits-1, -1, -1):\n",
    "\n",
    "            if self.is_input(node) and self.time == 0:\n",
    "                for u, v, d in self.Array.out_edges(node, data=True):\n",
    "                    assert(u==node)\n",
    "                    if self.Array.nodes[node]['weight']['value'] != self.null_label:\n",
    "                        some_updates = True\n",
    "                        #print(f'before: node {node}, edge ({u}, {v}), weigth {d} = {self.Array.nodes[node]['weight']['value']}')\n",
    "                        d['weight']['carry'] = self.Array.nodes[node]['weight']['value']\n",
    "                        #self.Array.nodes[node]['weight']['value'] = self.null_label\n",
    "                        #print(f'after:  node {node}, edge ({u}, {v}), weigth {d} = {self.Array.nodes[node]['weight']['value']}')\n",
    "            if not self.is_input(node):\n",
    "                #print(\"main computaiton\")\n",
    "                in_edges = [d for u, v, d in self.Array.in_edges(node, data=True)]\n",
    "                in_edges_full = [(d, u, v) for u, v, d in self.Array.in_edges(node, data=True)]\n",
    "                # check is the comutation is ready to start\n",
    "                all_set = True\n",
    "                for e in in_edges_full:\n",
    "                    #print(f'              edge ({e[1]}, {e[2]}) -> {e[0]['weight']['carry']}')\n",
    "                    all_set = all_set and (e[0]['weight']['carry'] != self.null_label)\n",
    "                #print (f'everything ok for node {node}? {all_set}')\n",
    "                if all_set:\n",
    "                    some_updates = True\n",
    "                    if (node==1): # it has only two incoming edges\n",
    "                        assert(len(in_edges) == 2)\n",
    "                        a = in_edges[0]['weight']['carry']\n",
    "                        b = in_edges[1]['weight']['carry']\n",
    "                        in_edges[0]['weight']['carry'] = self.null_label\n",
    "                        in_edges[1]['weight']['carry'] = self.null_label\n",
    "                        self.Array.nodes[node]['weight']['value'] = xor_op(a, b)\n",
    "                        for u, v, d in self.Array.out_edges(node, data=True):\n",
    "                            d['weight']['carry'] = and_op(a, b)\n",
    "                    else:\n",
    "                        #print(\"I'm not here\")\n",
    "                        assert(len(in_edges) == 3)\n",
    "                        a = in_edges[0]['weight']['carry']\n",
    "                        b = in_edges[1]['weight']['carry']\n",
    "                        c = in_edges[2]['weight']['carry']\n",
    "                        in_edges[0]['weight']['carry'] = self.null_label\n",
    "                        in_edges[1]['weight']['carry'] = self.null_label\n",
    "                        in_edges[2]['weight']['carry'] = self.null_label\n",
    "                        self.Array.nodes[node]['weight']['value'] = xor_op(xor_op(a, b), c)\n",
    "                        for u, v, d in self.Array.out_edges(node, data=True):\n",
    "                            d['weight']['carry'] = or_op(and_op(a, b), or_op(and_op(a, c), and_op(b, c)))\n",
    "        self.time = self.time + 1\n",
    "        return some_updates\n",
    "    \n",
    "    def read_output(self):\n",
    "        s = \"\"\n",
    "        n = 0\n",
    "        i = 0\n",
    "        for node in range(1, 3*(self.nbits), 3):\n",
    "            s = s + self.Array.nodes[node]['weight']['value']\n",
    "            if self.Array.nodes[node]['weight']['value'] != self.null_label:\n",
    "                n = n + 2**i*int(self.Array.nodes[node]['weight']['value'])\n",
    "            i = i + 1\n",
    "        return s, n"
   ]
  },
  {
   "cell_type": "markdown",
   "id": "81d94d97",
   "metadata": {},
   "source": [
    "## Tesitng linear binary sum\n",
    "This function takes the computing network above and test all possible inputs, quite naively, without visualization."
   ]
  },
  {
   "cell_type": "code",
   "execution_count": 5,
   "id": "a43fb729",
   "metadata": {},
   "outputs": [],
   "source": [
    "# Testing networkw\n",
    "nbits = 8\n",
    "for i in range(0, 2**nbits):\n",
    "\tfor j in range(0, 2**nbits):\n",
    "\t\tif (i+j < 2**nbits):\n",
    "\t\t\tnetwork = linear_sum(nbits, i, j)\n",
    "\t\t\tnetwork.init_computation()\n",
    "\t\t\twhile network.compute_iteration():\n",
    "\t\t\t\tNone\n",
    "\t\t\tassert( i+j == network.read_output()[1])"
   ]
  },
  {
   "cell_type": "markdown",
   "id": "3c0994bb",
   "metadata": {},
   "source": [
    "## Visualize the Linear Binary Addition\n",
    "The following code visualizes the linear sum network."
   ]
  },
  {
   "cell_type": "code",
   "execution_count": 6,
   "id": "c6319f84-c599-4220-9f14-a7319de97cea",
   "metadata": {
    "scrolled": true
   },
   "outputs": [
    {
     "data": {
      "text/html": [
       "<pre style=\"white-space:pre;overflow-x:auto;line-height:normal;font-family:Menlo,'DejaVu Sans Mono',consolas,'Courier New',monospace\">Manim Community <span style=\"color: #008000; text-decoration-color: #008000\">v0.18.1</span>\n",
       "\n",
       "</pre>\n"
      ],
      "text/plain": [
       "Manim Community \u001b[32mv0.\u001b[0m\u001b[32m18.1\u001b[0m\n",
       "\n"
      ]
     },
     "metadata": {},
     "output_type": "display_data"
    },
    {
     "name": "stdout",
     "output_type": "stream",
     "text": [
      "Iteration 0\n"
     ]
    },
    {
     "name": "stderr",
     "output_type": "stream",
     "text": [
      "                                                                                                                  \r"
     ]
    },
    {
     "name": "stdout",
     "output_type": "stream",
     "text": [
      "Iteration 1\n"
     ]
    },
    {
     "name": "stderr",
     "output_type": "stream",
     "text": [
      "                                                                                                                           \r"
     ]
    },
    {
     "name": "stdout",
     "output_type": "stream",
     "text": [
      "Iteration 2\n"
     ]
    },
    {
     "name": "stderr",
     "output_type": "stream",
     "text": [
      "                                                                                                                           \r"
     ]
    },
    {
     "name": "stdout",
     "output_type": "stream",
     "text": [
      "Iteration 3\n"
     ]
    },
    {
     "name": "stderr",
     "output_type": "stream",
     "text": [
      "                                                                                                                           \r"
     ]
    },
    {
     "name": "stdout",
     "output_type": "stream",
     "text": [
      "Iteration 4\n"
     ]
    },
    {
     "name": "stderr",
     "output_type": "stream",
     "text": [
      "                                                                                                                            \r"
     ]
    },
    {
     "name": "stdout",
     "output_type": "stream",
     "text": [
      "Iteration 5\n"
     ]
    },
    {
     "name": "stderr",
     "output_type": "stream",
     "text": [
      "                                                                                                                            \r"
     ]
    },
    {
     "name": "stdout",
     "output_type": "stream",
     "text": [
      "Iteration 6\n"
     ]
    },
    {
     "name": "stderr",
     "output_type": "stream",
     "text": [
      "                                                                                                                            \r"
     ]
    },
    {
     "name": "stdout",
     "output_type": "stream",
     "text": [
      "Iteration 7\n"
     ]
    },
    {
     "name": "stderr",
     "output_type": "stream",
     "text": [
      "                                                                                                                            \r"
     ]
    },
    {
     "name": "stdout",
     "output_type": "stream",
     "text": [
      "Iteration 8\n"
     ]
    },
    {
     "name": "stderr",
     "output_type": "stream",
     "text": [
      "                                                                                                                            \r"
     ]
    },
    {
     "name": "stdout",
     "output_type": "stream",
     "text": [
      "Iteration 9\n"
     ]
    },
    {
     "name": "stderr",
     "output_type": "stream",
     "text": [
      "                                                                                                                      \r"
     ]
    },
    {
     "name": "stdout",
     "output_type": "stream",
     "text": [
      "('10000111', 225)\n"
     ]
    },
    {
     "data": {
      "text/html": [
       "<video src=\"media/jupyter/ShowLinear@2025-03-14@10-30-25.mp4\" controls autoplay loop style=\"max-width: 100%;\"  >\n",
       "      Your browser does not support the <code>video</code> element.\n",
       "    </video>"
      ],
      "text/plain": [
       "<IPython.core.display.Video object>"
      ]
     },
     "metadata": {},
     "output_type": "display_data"
    }
   ],
   "source": [
    "%%manim -qm ShowLinear\n",
    "\n",
    "config.frame_width = 25\n",
    "\n",
    "\n",
    "class ShowLinear(Scene):\n",
    "    \n",
    "    def construct(self):\n",
    "        nbits = 8\n",
    "        network = linear_sum(nbits, 32+84, 77+32, delay=1)\n",
    "        generic_run(self, network)\n",
    "        print(network.read_output())"
   ]
  },
  {
   "cell_type": "markdown",
   "id": "a12b0b82",
   "metadata": {},
   "source": [
    "## Base tree for binary operations\n",
    "\n",
    "This class implements a binary tree with an additional layer below the leaves for carrying the input values.\n",
    "The input values will be placed by the start of the actual computation on the edges so that the tree can start processing to produce the results, which are stored at the leaves of the tree."
   ]
  },
  {
   "cell_type": "code",
   "execution_count": 7,
   "id": "5ea13c24-8d62-4393-abdb-81c356c22ebd",
   "metadata": {},
   "outputs": [],
   "source": [
    "class base_tree_sum:\n",
    "    def __init__(self, nbits, **kwargs):\n",
    "        #print(kwargs)\n",
    "        self.null_label = kwargs['null_label'] if 'null_label' in kwargs else '-'\n",
    "        self.verbose = kwargs['verbose'] if 'verbose' in kwargs else False\n",
    "\n",
    "        # nbits is the number of bits of the operation\n",
    "        # N is the number of nodes in the tree (2^n-1). Nodes in the tree will be from 0 to 2^n-2\n",
    "        self.nbits = nbits\n",
    "        self.N = 2*nbits-1\n",
    "\n",
    "        self.Tree = nx.DiGraph()\n",
    "        for x in range(0, self.N+2*self.nbits):\n",
    "            #print(x)\n",
    "            self.Tree.add_node(x, weight = {'value': self.null_label, 'color': GREEN})\n",
    "\n",
    "        for x in range(0,int(self.N/2)):\n",
    "            # Edges parent to sons\n",
    "            self.Tree.add_edge(x, x*2+1, weight={\"carry\": self.null_label, \"dir\": \"down\", \"son\": \"left\", \"epoch\": 0, 'color': GREEN})\n",
    "            self.Tree.add_edge(x, x*2+2, weight={\"carry\": self.null_label, \"dir\": \"down\", \"son\": \"right\", \"epoch\": 0, 'color': GREEN})\n",
    "            self.Tree.add_edge(x*2+1, x, weight={\"carry\": self.null_label, \"all1s\": self.null_label, \"dir\": \"up\", 'son': 'left', \"epoch\": 0, 'color': GREEN})\n",
    "            self.Tree.add_edge(x*2+2, x, weight={\"carry\": self.null_label, \"all1s\": self.null_label, \"dir\": \"up\", 'son': 'right', \"epoch\": 0, 'color': GREEN})\n",
    "            # Edges son to parent\n",
    "\n",
    "        # Add edges for the real IO nodes\n",
    "        for x in range(self.nbits-1, self.N):\n",
    "            self.Tree.add_edge((x-self.nbits+1)*2+self.N,     x, weight={\"carry\": self.null_label, \"dir\": \"up\", \"in\": 'a', \"epoch\": 0, 'color': GREEN})\n",
    "            self.Tree.add_edge((x-self.nbits+1)*2+self.N + 1, x, weight={\"carry\": self.null_label, \"dir\": \"up\", 'in': 'b', \"epoch\": 0, 'color': GREEN})\n",
    "    \n",
    "        self.pos_y = [1.5*math.floor(math.log2(y+1)) - 3 for y in range(0, self.N)]\n",
    "        self.pos_y = self.pos_y + [1.5*math.floor(math.log2(self.N+1)) - (3 if y%2==0 else 2) for y in range(self.N, self.N+2*self.nbits)]\n",
    "        \n",
    "        self.pos_x = {x: x - self.N - self.nbits for x in range(self.N, self.N+2*self.nbits)}\n",
    "\n",
    "        self.pos_x = {x: (self.pos_x[2*(x-self.nbits+1)+self.N]+self.pos_x[2*(x-self.nbits+1)+self.N+1])/2 for x in range(self.nbits-1, self.N)}|self.pos_x\n",
    "\n",
    "        for level in range(int(math.log2(self.nbits))-1, -1, -1):\n",
    "            self.pos_x = {x: (self.pos_x[x*2+1]+self.pos_x[x*2+2])/2 for x in range(2**level-1, 2**level-1+2**level)}|self.pos_x\n",
    "\n",
    "        self.layout = { v: [self.pos_x[v], self.pos_y[v], 0] for v in range(0, self.N+2*self.nbits)}\n",
    "\n",
    "        self.epoch = 0\n",
    "\n",
    "    def string_for_edge(self, u,v):\n",
    "        if 'all1s' in self.Tree.get_edge_data(u,v)['weight']:\n",
    "            if self.Tree.get_edge_data(u,v)['weight']['carry'] == self.null_label:\n",
    "                return self.null_label\n",
    "            else:\n",
    "                if self.Tree.get_edge_data(u,v)['weight']['all1s'] != self.null_label:\n",
    "                    return self.Tree.get_edge_data(u,v)['weight']['carry'] + self.Tree.get_edge_data(u,v)['weight']['all1s']\n",
    "                else:\n",
    "                    return self.Tree.get_edge_data(u,v)['weight']['carry']\n",
    "        return self.Tree.get_edge_data(u,v)['weight']['carry']\n",
    "\n",
    "    def additional_items_to_draw(self, selfi):\n",
    "        if self.epoch==0:\n",
    "            selfi.add(SurroundingRectangle(Group(*[selfi.G[x] for x in range(self.N, self.N+2*self.nbits, 2)]), color=YELLOW))\n",
    "            selfi.add(SurroundingRectangle(Group(*[selfi.G[x] for x in range(self.N+1, self.N+2*self.nbits, 2)]), color=YELLOW))\n",
    "            selfi.add(SurroundingRectangle(Group(*[selfi.G[x] for x in range(self.N-self.nbits, self.N)]), color=BLUE))\n",
    "\n",
    "    def is_input(self, v):\n",
    "        return v in range(self.N, self.N+2*self.nbits)\n",
    "    \n",
    "    def is_output(self, v):\n",
    "        return v in range(self.nbits-1, self.N)\n",
    "\n",
    "    def is_internal_node(self, v):\n",
    "        return v in range(0, self.nbits-1)\n",
    "\n",
    "    def get(self):\n",
    "        return (self.Tree, self.layout)#, self.edges_labels_pos)\n",
    "\n"
   ]
  },
  {
   "cell_type": "markdown",
   "id": "5d2d7953",
   "metadata": {},
   "source": [
    "## Generic tree for sums\n",
    "The algorithm to perform additions is gneric. Given a number in base $b>2$ adding two digits will always result in a carry that is $0$ of $1$. This means that the internal nodes of the tree performs always the same computations. At the leaves, the computations need to be adapted based on the base. If the base is 2, the logical operations (`xor` and `and`) are needed, but in the case of base 10 the addition is between the digits between 0 and 9 (this could be computed with a lookup table, in case we do not want to use the arithmetic operations, so to highliht the _procedural_ (a.k.a. dumb) nature of the computation).\n",
    "The key observation to make this algorithm work is that the only way a carry, inserted before the least significan digit, can affect the carry after the most significant one, is whether all the digits in the number are $b-1$ (where $b$ is the base). An internal node, then, stores \"1\" if the \"left\" (least significant) tree is only made of $b-1$ digits. In this case, a carry coming from above is pushed to both sons, otherwise only on the lefr, where it will be _absorbed_ by the computation and would not propagate to the right."
   ]
  },
  {
   "cell_type": "code",
   "execution_count": 8,
   "id": "72f2a388",
   "metadata": {},
   "outputs": [],
   "source": [
    "class tree_sum(base_tree_sum):\n",
    "\n",
    "    def __init__(self, nbits, numerical_base, sum_op, carry_op, **kwargs):\n",
    "        super(tree_sum, self).__init__(nbits, **kwargs)\n",
    "        self.sum_op = sum_op\n",
    "        self.carry_op = carry_op\n",
    "        self.max_digit = str(numerical_base-1)\n",
    "\n",
    "    def init_computation(self):\n",
    "        print(self.a, self.b) if self.verbose else None\n",
    "\n",
    "        for x in range(self.N, self.N+2*self.nbits, 2): # more efficient that checking if a node is input\n",
    "            # nodes are 2 by 2 holding one bit of a and 1 bit of b\n",
    "            self.Tree.nodes[x]['weight']['value'] = self.a[self.nbits-int((x-(self.N))/2)-1]\n",
    "            self.Tree.nodes[x+1]['weight']['value'] = self.b[self.nbits-int((x-(self.N))/2)-1]\n",
    "\n",
    "    def compute_iteration(self):\n",
    "        some_updates = False\n",
    "        for node in self.Tree:\n",
    "            if self.is_input(node) and self.epoch == 0:\n",
    "                for u, v, d in self.Tree.out_edges(node, data=True):\n",
    "                    assert(u==node)\n",
    "                    if self.Tree.nodes[node]['weight']['value'] != self.null_label:\n",
    "                        some_updates = True\n",
    "                        d['weight']['carry'] = self.Tree.nodes[node]['weight']['value']\n",
    "                        d['weight']['epoch'] = self.epoch+1\n",
    "                        # self.Tree.nodes[node]['weight']['value'] = self.null_label\n",
    "            if self.is_output(node):\n",
    "                in_a = None\n",
    "                in_b = None\n",
    "                in_top = None\n",
    "                out_up = None\n",
    "                for (u,v,e) in self.Tree.in_edges(node, data=True):\n",
    "                    if (e['weight']['dir'] == 'up'):\n",
    "                        if e['weight']['in'] == \"a\":\n",
    "                            in_a = e\n",
    "                        if e['weight']['in'] == \"b\":\n",
    "                            in_b = e\n",
    "                    if e['weight']['dir'] == \"down\":\n",
    "                        in_top = e\n",
    "\n",
    "                for u, v, e in self.Tree.out_edges(node, data=True):\n",
    "                    if e['weight']['dir'] == 'up':\n",
    "                        out_up = e\n",
    "                assert(in_a != None)\n",
    "                assert(in_b != None)\n",
    "                assert(in_top != None)\n",
    "                assert(out_up != None)\n",
    "\n",
    "                if in_a['weight']['carry'] != self.null_label and in_b['weight']['carry'] != self.null_label:\n",
    "                    self.Tree.nodes[node]['weight']['value'] = self.sum_op(in_a['weight']['carry'], \n",
    "                                                                      in_b['weight']['carry'])\n",
    "                    out_up['weight']['carry'] = self.carry_op(in_a['weight']['carry'], in_b['weight']['carry'])\n",
    "                    out_up['weight']['all1s'] = '1' if self.Tree.nodes[node]['weight']['value'] == self.max_digit else '0'\n",
    "                    out_up['weight']['epoch'] = self.epoch+1\n",
    "                    in_a['weight']['carry'] = self.null_label\n",
    "                    in_b['weight']['carry'] = self.null_label\n",
    "                    some_updates = True\n",
    "                \n",
    "                if in_top['weight']['carry'] != self.null_label and in_top['weight']['epoch'] <= self.epoch:\n",
    "                    self.Tree.nodes[node]['weight']['value'] = self.sum_op(self.Tree.nodes[node]['weight']['value'], \n",
    "                                                                      in_top['weight']['carry'])\n",
    "                    in_top['weight']['carry'] = self.null_label\n",
    "                    some_updates = True\n",
    "\n",
    "            if self.is_internal_node(node):\n",
    "                in_left = None\n",
    "                in_right = None\n",
    "                in_top = None\n",
    "                out_up = None\n",
    "                out_left = None\n",
    "                out_right = None\n",
    "                for (u,v,e) in self.Tree.in_edges(node, data=True):\n",
    "                    if (e['weight']['dir'] == 'up'):\n",
    "                        if e['weight']['son'] == 'left':\n",
    "                            in_left = e\n",
    "                        if e['weight']['son'] == 'right':\n",
    "                            in_right = e\n",
    "                    if e['weight']['dir'] == 'down':\n",
    "                        in_top = e\n",
    "\n",
    "                for u, v, e in self.Tree.out_edges(node, data=True):\n",
    "                    if e['weight']['dir'] == 'up':\n",
    "                        out_up = e\n",
    "                    if (e['weight']['dir'] == 'down'):\n",
    "                        if e['weight']['son'] == 'left':\n",
    "                            out_left = e\n",
    "                        if e['weight']['son'] == 'right':\n",
    "                            out_right = e\n",
    "                assert(in_left != None)\n",
    "                assert(in_right != None)\n",
    "                assert(in_top != None if node!=0 else True)\n",
    "                assert(out_up != None if node!=0 else True)\n",
    "                assert(out_left != None)\n",
    "                assert(out_right != None)\n",
    "\n",
    "                if in_left['weight']['carry'] != self.null_label and in_right['weight']['carry'] != self.null_label and in_left['weight']['epoch'] <= self.epoch and in_right['weight']['epoch'] <= self.epoch:\n",
    "                    self.Tree.nodes[node]['weight']['value'] = in_left['weight']['all1s']\n",
    "                    out_right['weight']['carry'] = in_left['weight']['carry']\n",
    "                    out_right['weight']['epoch'] = self.epoch+1\n",
    "                    if node != 0:\n",
    "                        out_up['weight']['carry'] = or_op(in_right['weight']['carry'], \n",
    "                                                          and_op(in_right['weight']['all1s'], in_left['weight']['carry']))\n",
    "                        out_up['weight']['all1s'] = and_op(in_left['weight']['all1s'], in_right['weight']['all1s'])\n",
    "                        out_up['weight']['epoch'] = self.epoch+1\n",
    "                    \n",
    "                    some_updates = True\n",
    "                    in_left['weight']['carry'] = self.null_label\n",
    "                    in_right['weight']['carry'] = self.null_label\n",
    "                \n",
    "                if node != 0:\n",
    "                    if in_top['weight']['carry'] != self.null_label and in_top['weight']['epoch'] <= self.epoch:\n",
    "                        if self.Tree.nodes[node]['weight']['value'] == '1':\n",
    "                            out_right['weight']['carry'] = in_top['weight']['carry']\n",
    "                            out_right['weight']['epoch'] = self.epoch + 1\n",
    "                        else:\n",
    "                            out_right['weight']['carry'] = '0'\n",
    "                            out_right['weight']['epoch'] = self.epoch + 1\n",
    "                        out_left['weight']['carry'] = in_top['weight']['carry']\n",
    "                        out_left['weight']['epoch'] = self.epoch + 1\n",
    "                        in_top['weight']['carry'] = self.null_label\n",
    "                        some_updates = True\n",
    "        self.epoch = self.epoch + 1\n",
    "        return some_updates\n",
    "\n",
    "    def init_computation(self):\n",
    "        print(self.a, self.b) if self.verbose else None\n",
    "\n",
    "        for x in range(self.N, self.N+2*self.nbits, 2): # more efficient that checking if a node is input\n",
    "            # nodes are 2 by 2 holding one bit of a and 1 bit of b\n",
    "            self.Tree.nodes[x]['weight']['value'] = self.a[self.nbits-int((x-(self.N))/2)-1]\n",
    "            self.Tree.nodes[x+1]['weight']['value'] = self.b[self.nbits-int((x-(self.N))/2)-1]\n"
   ]
  },
  {
   "cell_type": "markdown",
   "id": "cbb41f8e",
   "metadata": {},
   "source": [
    "## Binary Sum Tree\n",
    "What is specific here is the fact that the operations are `xor` and `and`, that $b-1=1$, and that the input is a binary string."
   ]
  },
  {
   "cell_type": "code",
   "execution_count": 9,
   "id": "b5bb953b",
   "metadata": {},
   "outputs": [],
   "source": [
    "class bin_tree_sum(tree_sum):\n",
    "\n",
    "    def __init__(self, nbits, **kwargs):\n",
    "        super(bin_tree_sum, self).__init__(nbits, 2, xor_op, and_op, **kwargs)\n",
    "\n",
    "    def set_input(self, a, b):\n",
    "        f = \"{0:0\"+str(self.nbits)+\"b}\"\n",
    "        self.a = f.format(a)\n",
    "        self.b = f.format(b)\n",
    "\n",
    "    def read_output(self):\n",
    "        s = \"\"\n",
    "        n = 0\n",
    "        i = 0\n",
    "        for node in range(self.nbits-1, self.N):\n",
    "            #print(f\"self.Tree.nodes[node]['weight']['value'] = {self.Tree.nodes[node]['weight']['value']}\")\n",
    "            s = s + self.Tree.nodes[node]['weight']['value']\n",
    "            if self.Tree.nodes[node]['weight']['value'] != self.null_label:\n",
    "                n = n + (2**i)*int(self.Tree.nodes[node]['weight']['value'])\n",
    "            i = i+1\n",
    "        return s, n"
   ]
  },
  {
   "cell_type": "markdown",
   "id": "02afba52",
   "metadata": {},
   "source": [
    "## Decimal Sum Tree\n",
    "What is specific here is the fact that the operations are `+` and the carry is '0' or '1' depending whether the sum is snaller than 10 or no, that $b-1=9$, and that the input is just the numner padded to '0' on the left, in case."
   ]
  },
  {
   "cell_type": "code",
   "execution_count": 10,
   "id": "82aac923",
   "metadata": {},
   "outputs": [],
   "source": [
    "class dec_tree_sum(tree_sum):\n",
    "\n",
    "    def __init__(self, nbits, **kwargs):\n",
    "        super(dec_tree_sum, self).__init__(nbits, 10, add_op, carry_op, **kwargs)\n",
    "\n",
    "    def set_input(self, a, b):\n",
    "        f = \"{0:0\"+str(self.nbits)+\"}\"\n",
    "        self.a = f.format(a)\n",
    "        self.b = f.format(b)\n",
    "\n",
    "\n",
    "    def read_output(self):\n",
    "        s = \"\"\n",
    "        n = 0\n",
    "        i = 0\n",
    "        for node in range(self.nbits-1, self.N):\n",
    "            #print(f\"self.Tree.nodes[node]['weight']['value'] = {self.Tree.nodes[node]['weight']['value']}\")\n",
    "            s = s + self.Tree.nodes[node]['weight']['value']\n",
    "            if self.Tree.nodes[node]['weight']['value'] != self.null_label:\n",
    "                n = n + (10**i)*int(self.Tree.nodes[node]['weight']['value'])\n",
    "            i = i+1\n",
    "        return s, n"
   ]
  },
  {
   "cell_type": "markdown",
   "id": "dc9011fd",
   "metadata": {},
   "source": [
    "## Testing the binary sum"
   ]
  },
  {
   "cell_type": "code",
   "execution_count": 13,
   "id": "ee5df44a",
   "metadata": {},
   "outputs": [
    {
     "name": "stdout",
     "output_type": "stream",
     "text": [
      "65246+25280\r"
     ]
    }
   ],
   "source": [
    "# Testing network\n",
    "nbits = 16\n",
    "for i in range(0, 2**nbits, 323):\n",
    "\tfor j in range(0, 2**nbits, 252):\n",
    "\t\tif (i+j < 2**nbits):\n",
    "\t\t\tprint(f'{i}+{j}', end='\\r')\n",
    "\t\t\tnetwork = bin_tree_sum(nbits, verbose = False)\n",
    "\t\t\tnetwork.set_input(i,j)\n",
    "\t\t\tnetwork.init_computation()\n",
    "\t\t\twhile network.compute_iteration():\n",
    "\t\t\t\tNone\n",
    "\t\t\tstrres, numres = network.read_output()\n",
    "\t\t\t#print(f'error in checking that {i} + {j} = {numres} ({i+j}) [{strres}]')\n",
    "\t\t\tif i+j != numres:\n",
    "\t\t\t\tprint(f'error in checking that {i} + {j} = {numres} ({i+j}) [{strres}]')\n",
    "\t\t\tassert( i+j == network.read_output()[1])"
   ]
  },
  {
   "cell_type": "markdown",
   "id": "a9616fce",
   "metadata": {},
   "source": [
    "## Visualizing the Binary Sum on a tree"
   ]
  },
  {
   "cell_type": "code",
   "execution_count": 14,
   "id": "a47af5a6",
   "metadata": {},
   "outputs": [
    {
     "data": {
      "text/html": [
       "<pre style=\"white-space:pre;overflow-x:auto;line-height:normal;font-family:Menlo,'DejaVu Sans Mono',consolas,'Courier New',monospace\">Manim Community <span style=\"color: #008000; text-decoration-color: #008000\">v0.18.1</span>\n",
       "\n",
       "</pre>\n"
      ],
      "text/plain": [
       "Manim Community \u001b[32mv0.\u001b[0m\u001b[32m18.1\u001b[0m\n",
       "\n"
      ]
     },
     "metadata": {},
     "output_type": "display_data"
    },
    {
     "name": "stdout",
     "output_type": "stream",
     "text": [
      "Iteration 0\n"
     ]
    },
    {
     "name": "stderr",
     "output_type": "stream",
     "text": [
      "                                                                                                        "
     ]
    },
    {
     "name": "stdout",
     "output_type": "stream",
     "text": [
      "Iteration 1\n"
     ]
    },
    {
     "name": "stderr",
     "output_type": "stream",
     "text": [
      "                                                                                                                 \r"
     ]
    },
    {
     "name": "stdout",
     "output_type": "stream",
     "text": [
      "Iteration 2\n"
     ]
    },
    {
     "name": "stderr",
     "output_type": "stream",
     "text": [
      "                                                                                                                 \r"
     ]
    },
    {
     "name": "stdout",
     "output_type": "stream",
     "text": [
      "Iteration 3\n"
     ]
    },
    {
     "name": "stderr",
     "output_type": "stream",
     "text": [
      "                                                                                                                 \r"
     ]
    },
    {
     "name": "stdout",
     "output_type": "stream",
     "text": [
      "Iteration 4\n"
     ]
    },
    {
     "name": "stderr",
     "output_type": "stream",
     "text": [
      "                                                                                                                  \r"
     ]
    },
    {
     "name": "stdout",
     "output_type": "stream",
     "text": [
      "Iteration 5\n"
     ]
    },
    {
     "name": "stderr",
     "output_type": "stream",
     "text": [
      "                                                                                                                  \r"
     ]
    },
    {
     "name": "stdout",
     "output_type": "stream",
     "text": [
      "Iteration 6\n"
     ]
    },
    {
     "name": "stderr",
     "output_type": "stream",
     "text": [
      "                                                                                                                  \r"
     ]
    },
    {
     "name": "stdout",
     "output_type": "stream",
     "text": [
      "Iteration 7\n"
     ]
    },
    {
     "name": "stderr",
     "output_type": "stream",
     "text": [
      "                                                                                                                  \r"
     ]
    },
    {
     "name": "stdout",
     "output_type": "stream",
     "text": [
      "Iteration 8\n"
     ]
    },
    {
     "name": "stderr",
     "output_type": "stream",
     "text": [
      "                                                                                                            \r"
     ]
    },
    {
     "name": "stdout",
     "output_type": "stream",
     "text": [
      "('00000001', 128)\n"
     ]
    },
    {
     "data": {
      "text/html": [
       "<video src=\"media/jupyter/ShowBinaryTreeSum@2025-03-14@10-34-59.mp4\" controls autoplay loop style=\"max-width: 100%;\"  >\n",
       "      Your browser does not support the <code>video</code> element.\n",
       "    </video>"
      ],
      "text/plain": [
       "<IPython.core.display.Video object>"
      ]
     },
     "metadata": {},
     "output_type": "display_data"
    }
   ],
   "source": [
    "%%manim -qm ShowBinaryTreeSum\n",
    "\n",
    "config.frame_width = 19\n",
    "class ShowBinaryTreeSum(Scene):\n",
    "    \n",
    "    def construct(self):\n",
    "        nbits = 8\n",
    "        network = bin_tree_sum(nbits, null_label='-')\n",
    "        network.set_input(64+32+8+16, 8)\n",
    "        generic_run(self, network, null_lable='-', delay=1)\n",
    "        print(network.read_output())\n"
   ]
  },
  {
   "cell_type": "markdown",
   "id": "e67c0ac6",
   "metadata": {},
   "source": [
    "## Testing the decimal sum"
   ]
  },
  {
   "cell_type": "code",
   "execution_count": 33,
   "id": "52e91169",
   "metadata": {},
   "outputs": [
    {
     "name": "stdout",
     "output_type": "stream",
     "text": [
      "test 30219/60000: 764840+9030695270\r"
     ]
    }
   ],
   "source": [
    "import random\n",
    "\n",
    "# Testing networkw for DEC TREE SUM\n",
    "# Testing network\n",
    "nbits = 8\n",
    "ntests = 60000\n",
    "actual_tests = 0\n",
    "for t in range(0, ntests):\n",
    "\ta = random.randint(0, 10**nbits)\n",
    "\tb = random.randint(0, 10**nbits)\n",
    "\tif (a+b < 10**nbits):\n",
    "\t\tactual_tests += 1\n",
    "\t\tprint(f'test {actual_tests}/{ntests}: {a}+{b}', end='\\r')\n",
    "\t\tnetwork = dec_tree_sum(nbits, verbose = False)\n",
    "\t\tnetwork.set_input(a,b)\n",
    "\t\tnetwork.init_computation()\n",
    "\t\twhile network.compute_iteration():\n",
    "\t\t\tNone\n",
    "\t\tstrres, numres = network.read_output()\n",
    "\t\t#print(f'error in checking that {a} + {b} = {numres} ({a+b}) [{strres}]')\n",
    "\t\tif a+b != numres:\n",
    "\t\t\tprint(f'error in checking that {a} + {b} = {numres} ({a+b}) [{strres}]')\n",
    "\t\tassert( a+b == network.read_output()[1])"
   ]
  },
  {
   "cell_type": "markdown",
   "id": "cbf96da6",
   "metadata": {},
   "source": [
    "## Visualizing the Sum of decimal numbers on a tree"
   ]
  },
  {
   "cell_type": "code",
   "execution_count": 34,
   "id": "48569de0",
   "metadata": {},
   "outputs": [
    {
     "data": {
      "text/html": [
       "<pre style=\"white-space:pre;overflow-x:auto;line-height:normal;font-family:Menlo,'DejaVu Sans Mono',consolas,'Courier New',monospace\">Manim Community <span style=\"color: #008000; text-decoration-color: #008000\">v0.18.1</span>\n",
       "\n",
       "</pre>\n"
      ],
      "text/plain": [
       "Manim Community \u001b[32mv0.\u001b[0m\u001b[32m18.1\u001b[0m\n",
       "\n"
      ]
     },
     "metadata": {},
     "output_type": "display_data"
    },
    {
     "name": "stdout",
     "output_type": "stream",
     "text": [
      "Iteration 0\n"
     ]
    },
    {
     "name": "stderr",
     "output_type": "stream",
     "text": [
      "                                                                                                                  \r"
     ]
    },
    {
     "name": "stdout",
     "output_type": "stream",
     "text": [
      "Iteration 1\n"
     ]
    },
    {
     "name": "stderr",
     "output_type": "stream",
     "text": [
      "                                                                                                                           \r"
     ]
    },
    {
     "name": "stdout",
     "output_type": "stream",
     "text": [
      "Iteration 2\n"
     ]
    },
    {
     "name": "stderr",
     "output_type": "stream",
     "text": [
      "                                                                                                                           \r"
     ]
    },
    {
     "name": "stdout",
     "output_type": "stream",
     "text": [
      "Iteration 3\n"
     ]
    },
    {
     "name": "stderr",
     "output_type": "stream",
     "text": [
      "                                                                                                                           \r"
     ]
    },
    {
     "name": "stdout",
     "output_type": "stream",
     "text": [
      "Iteration 4\n"
     ]
    },
    {
     "name": "stderr",
     "output_type": "stream",
     "text": [
      "                                                                                                                            \r"
     ]
    },
    {
     "name": "stdout",
     "output_type": "stream",
     "text": [
      "Iteration 5\n"
     ]
    },
    {
     "name": "stderr",
     "output_type": "stream",
     "text": [
      "                                                                                                                            \r"
     ]
    },
    {
     "name": "stdout",
     "output_type": "stream",
     "text": [
      "Iteration 6\n"
     ]
    },
    {
     "name": "stderr",
     "output_type": "stream",
     "text": [
      "                                                                                                                            \r"
     ]
    },
    {
     "name": "stdout",
     "output_type": "stream",
     "text": [
      "Iteration 7\n"
     ]
    },
    {
     "name": "stderr",
     "output_type": "stream",
     "text": [
      "                                                                                                                            \r"
     ]
    },
    {
     "name": "stdout",
     "output_type": "stream",
     "text": [
      "Iteration 8\n"
     ]
    },
    {
     "name": "stderr",
     "output_type": "stream",
     "text": [
      "                                                                                                                      \r"
     ]
    },
    {
     "name": "stdout",
     "output_type": "stream",
     "text": [
      "result: ('24999394', 49399942), should be 49399942\n"
     ]
    },
    {
     "data": {
      "text/html": [
       "<video src=\"media/jupyter/ShowDecTree@2025-03-14@10-54-42.mp4\" controls autoplay loop style=\"max-width: 100%;\"  >\n",
       "      Your browser does not support the <code>video</code> element.\n",
       "    </video>"
      ],
      "text/plain": [
       "<IPython.core.display.Video object>"
      ]
     },
     "metadata": {},
     "output_type": "display_data"
    }
   ],
   "source": [
    "%%manim -qm ShowDecTree\n",
    "\n",
    "config.frame_width = 19\n",
    "class ShowDecTree(Scene):\n",
    "    \n",
    "    def construct(self):\n",
    "        nbits = 8\n",
    "        network = dec_tree_sum(nbits, null_label='-')\n",
    "        a = 3765708\n",
    "        b = 45634234\n",
    "        network.set_input(a, b)\n",
    "        generic_run(self, network, null_lable='-', delay=1)\n",
    "        print(f'result: {network.read_output()}, should be {a+b}')\n"
   ]
  },
  {
   "cell_type": "markdown",
   "id": "fb6d9222",
   "metadata": {},
   "source": [
    "## Binary Comparator in Log Time"
   ]
  },
  {
   "cell_type": "code",
   "execution_count": 35,
   "id": "e86076f2",
   "metadata": {},
   "outputs": [],
   "source": [
    "class bin_comparator(base_tree_sum):\n",
    "\n",
    "    def __init__(self, nbits, **kwargs):\n",
    "        super(bin_comparator, self).__init__(nbits, **kwargs)\n",
    "\n",
    "    def set_input(self, a, b):\n",
    "        f = \"{0:0\"+str(self.nbits)+\"b}\"\n",
    "        self.a = f.format(a)\n",
    "        self.b = f.format(b)\n",
    "\n",
    "    def init_computation(self):\n",
    "        print(self.a, self.b) if self.verbose else None\n",
    "\n",
    "        for x in range(self.N, self.N+2*self.nbits, 2): # more efficient that checking if a node is input\n",
    "            # nodes are 2 by 2 holding one bit of a and 1 bit of b\n",
    "            self.Tree.nodes[x]['weight']['value'] = self.a[self.nbits-int((x-(self.N))/2)-1]\n",
    "            self.Tree.nodes[x+1]['weight']['value'] = self.b[self.nbits-int((x-(self.N))/2)-1]\n",
    "\n",
    "    def compute_iteration(self):\n",
    "        some_updates = False\n",
    "        for node in self.Tree:\n",
    "            if self.is_input(node) and self.epoch < 1:\n",
    "                for u, v, d in self.Tree.out_edges(node, data=True):\n",
    "                    assert(u==node)\n",
    "                    if self.Tree.nodes[node]['weight']['value'] != self.null_label:\n",
    "                        some_updates = True\n",
    "                        d['weight']['carry'] = self.Tree.nodes[node]['weight']['value']\n",
    "                        d['weight']['epoch'] = self.epoch+1\n",
    "                        #self.Tree.nodes[node]['weight']['value'] = self.null_label\n",
    "            if self.is_output(node):\n",
    "                in_a = None\n",
    "                in_b = None\n",
    "                in_top = None\n",
    "                out_up = None\n",
    "                for (u,v,e) in self.Tree.in_edges(node, data=True):\n",
    "                    if (e['weight']['dir'] == 'up'):\n",
    "                        if e['weight']['in'] == \"a\":\n",
    "                            in_a = e\n",
    "                        if e['weight']['in'] == \"b\":\n",
    "                            in_b = e\n",
    "                    if e['weight']['dir'] == \"down\":\n",
    "                        in_top = e\n",
    "\n",
    "                for u, v, e in self.Tree.out_edges(node, data=True):\n",
    "                    if e['weight']['dir'] == 'up':\n",
    "                        out_up = e\n",
    "                assert(in_a != None)\n",
    "                assert(in_b != None)\n",
    "                assert(in_top != None)\n",
    "                assert(out_up != None)\n",
    "\n",
    "                if in_a['weight']['carry'] != self.null_label and in_b['weight']['carry'] != self.null_label:\n",
    "                    if int(in_a['weight']['carry']) > int(in_b['weight']['carry']):\n",
    "                        self.Tree.nodes[node]['weight']['value'] = '10' \n",
    "                    else:\n",
    "                        if int(in_a['weight']['carry']) < int(in_b['weight']['carry']):\n",
    "                            self.Tree.nodes[node]['weight']['value'] = '01'\n",
    "                        else:\n",
    "                            self.Tree.nodes[node]['weight']['value'] = '00'\n",
    "                    out_up['weight']['carry'] = self.Tree.nodes[node]['weight']['value']\n",
    "                    out_up['weight']['epoch'] = self.epoch+1\n",
    "                    in_a['weight']['carry'] = self.null_label\n",
    "                    in_b['weight']['carry'] = self.null_label\n",
    "                    some_updates = True\n",
    "                \n",
    "            if self.is_internal_node(node):\n",
    "                # The following code is just \"standard\", comparator does not need to descent the tree\n",
    "                in_left = None\n",
    "                in_right = None\n",
    "                in_top = None\n",
    "                out_up = None\n",
    "                out_left = None\n",
    "                out_right = None\n",
    "                for (u,v,e) in self.Tree.in_edges(node, data=True):\n",
    "                    if (e['weight']['dir'] == 'up'):\n",
    "                        if e['weight']['son'] == 'left':\n",
    "                            in_left = e\n",
    "                        if e['weight']['son'] == 'right':\n",
    "                            in_right = e\n",
    "                    if e['weight']['dir'] == 'down':\n",
    "                        in_top = e\n",
    "\n",
    "                for u, v, e in self.Tree.out_edges(node, data=True):\n",
    "                    if e['weight']['dir'] == 'up':\n",
    "                        out_up = e\n",
    "                    if (e['weight']['dir'] == 'down'):\n",
    "                        if e['weight']['son'] == 'left':\n",
    "                            out_left = e\n",
    "                        if e['weight']['son'] == 'right':\n",
    "                            out_right = e\n",
    "                assert(in_left != None)\n",
    "                assert(in_right != None)\n",
    "                assert(in_top != None if node!=0 else True)\n",
    "                assert(out_up != None if node!=0 else True)\n",
    "                assert(out_left != None)\n",
    "                assert(out_right != None)\n",
    "\n",
    "                if in_left['weight']['carry'] != self.null_label and in_right['weight']['carry'] != self.null_label and in_left['weight']['epoch'] <= self.epoch and in_right['weight']['epoch'] <= self.epoch:\n",
    "                    if in_right['weight']['carry'] != '00':\n",
    "                        self.Tree.nodes[node]['weight']['value'] = in_right['weight']['carry']\n",
    "                    else: \n",
    "                        self.Tree.nodes[node]['weight']['value'] = in_left['weight']['carry']\n",
    "\n",
    "                    if node != 0:\n",
    "                        out_up['weight']['carry'] = self.Tree.nodes[node]['weight']['value']\n",
    "                        out_up['weight']['epoch'] = self.epoch+1\n",
    "\n",
    "                    some_updates = True\n",
    "                    in_left['weight']['carry'] = self.null_label\n",
    "                    in_right['weight']['carry'] = self.null_label\n",
    "\n",
    "\n",
    "                \n",
    "        self.epoch = self.epoch + 1\n",
    "        return some_updates\n",
    "\n",
    "    def init_computation(self):\n",
    "        print(self.a, self.b) if self.verbose else None\n",
    "\n",
    "        for x in range(self.N, self.N+2*self.nbits, 2): # more efficient that checking if a node is input\n",
    "            # nodes are 2 by 2 holding one bit of a and 1 bit of b\n",
    "            self.Tree.nodes[x]['weight']['value'] = self.a[self.nbits-int((x-(self.N))/2)-1]\n",
    "            self.Tree.nodes[x+1]['weight']['value'] = self.b[self.nbits-int((x-(self.N))/2)-1]\n",
    "\n",
    "    def read_output(self):\n",
    "        return self.Tree.nodes[0]['weight']['value']\n"
   ]
  },
  {
   "cell_type": "code",
   "execution_count": 36,
   "id": "d29d922c",
   "metadata": {},
   "outputs": [
    {
     "name": "stdout",
     "output_type": "stream",
     "text": [
      "All OK!\n"
     ]
    }
   ],
   "source": [
    "# Testing networkw for DEC TREE SUM\n",
    "# Testing network\n",
    "nbits = 8\n",
    "for i in range(0, 2**nbits):\n",
    "\tfor j in range(0, 2**nbits):\n",
    "\t\tif (i+j < 2**nbits):\n",
    "\t\t\tnetwork = bin_comparator(nbits, verbose = False)\n",
    "\t\t\tnetwork.set_input(i,j)\n",
    "\t\t\tnetwork.init_computation()\n",
    "\t\t\twhile network.compute_iteration():\n",
    "\t\t\t\tNone\n",
    "\t\t\tstrres = network.read_output()\n",
    "\t\t\tright_answer = '10' if i>j else ('00' if i==j else '01')\n",
    "\t\t\t#print(f'error in checking that {i}>{j} = {right_answer} [{strres}]')\n",
    "\t\t\tassert( right_answer == strres )\n",
    "print(\"All OK!\")"
   ]
  },
  {
   "cell_type": "code",
   "execution_count": 37,
   "id": "1deba78b",
   "metadata": {},
   "outputs": [
    {
     "data": {
      "text/html": [
       "<pre style=\"white-space:pre;overflow-x:auto;line-height:normal;font-family:Menlo,'DejaVu Sans Mono',consolas,'Courier New',monospace\">Manim Community <span style=\"color: #008000; text-decoration-color: #008000\">v0.18.1</span>\n",
       "\n",
       "</pre>\n"
      ],
      "text/plain": [
       "Manim Community \u001b[32mv0.\u001b[0m\u001b[32m18.1\u001b[0m\n",
       "\n"
      ]
     },
     "metadata": {},
     "output_type": "display_data"
    },
    {
     "name": "stdout",
     "output_type": "stream",
     "text": [
      "Iteration 0\n"
     ]
    },
    {
     "name": "stderr",
     "output_type": "stream",
     "text": [
      "                                                                                                        "
     ]
    },
    {
     "name": "stdout",
     "output_type": "stream",
     "text": [
      "Iteration 1\n"
     ]
    },
    {
     "name": "stderr",
     "output_type": "stream",
     "text": [
      "                                                                                                                 \r"
     ]
    },
    {
     "name": "stdout",
     "output_type": "stream",
     "text": [
      "Iteration 2\n"
     ]
    },
    {
     "name": "stderr",
     "output_type": "stream",
     "text": [
      "                                                                                                                           \r"
     ]
    },
    {
     "name": "stdout",
     "output_type": "stream",
     "text": [
      "Iteration 3\n"
     ]
    },
    {
     "name": "stderr",
     "output_type": "stream",
     "text": [
      "                                                                                                                           \r"
     ]
    },
    {
     "name": "stdout",
     "output_type": "stream",
     "text": [
      "Iteration 4\n"
     ]
    },
    {
     "name": "stderr",
     "output_type": "stream",
     "text": [
      "                                                                                                                  \r"
     ]
    },
    {
     "name": "stdout",
     "output_type": "stream",
     "text": [
      "Iteration 5\n"
     ]
    },
    {
     "name": "stderr",
     "output_type": "stream",
     "text": [
      "                                                                                                                      \r"
     ]
    },
    {
     "name": "stdout",
     "output_type": "stream",
     "text": [
      "result: 01, should be 01\n"
     ]
    },
    {
     "data": {
      "text/html": [
       "<video src=\"media/jupyter/ShowBinaryComparatorTree@2025-03-14@10-56-18.mp4\" controls autoplay loop style=\"max-width: 100%;\"  >\n",
       "      Your browser does not support the <code>video</code> element.\n",
       "    </video>"
      ],
      "text/plain": [
       "<IPython.core.display.Video object>"
      ]
     },
     "metadata": {},
     "output_type": "display_data"
    }
   ],
   "source": [
    "%%manim -qm ShowBinaryComparatorTree\n",
    "\n",
    "config.frame_width = 19\n",
    "class ShowBinaryComparatorTree(Scene):\n",
    "    \n",
    "    def construct(self):\n",
    "        nbits = 8\n",
    "        network = bin_comparator(nbits, null_label='-')\n",
    "        a = 184\n",
    "        b = 226\n",
    "        network.set_input(a, b)\n",
    "        generic_run(self, network, null_lable='-', delay=1)\n",
    "        print(f'result: {network.read_output()}, should be 01')\n"
   ]
  },
  {
   "cell_type": "markdown",
   "id": "c686c34f",
   "metadata": {},
   "source": [
    "### Playground to test stuff"
   ]
  },
  {
   "cell_type": "code",
   "execution_count": 38,
   "id": "d0f1827e",
   "metadata": {},
   "outputs": [
    {
     "data": {
      "text/html": [
       "<pre style=\"white-space:pre;overflow-x:auto;line-height:normal;font-family:Menlo,'DejaVu Sans Mono',consolas,'Courier New',monospace\">Manim Community <span style=\"color: #008000; text-decoration-color: #008000\">v0.18.1</span>\n",
       "\n",
       "</pre>\n"
      ],
      "text/plain": [
       "Manim Community \u001b[32mv0.\u001b[0m\u001b[32m18.1\u001b[0m\n",
       "\n"
      ]
     },
     "metadata": {},
     "output_type": "display_data"
    },
    {
     "name": "stderr",
     "output_type": "stream",
     "text": [
      "                                                                                            \r"
     ]
    },
    {
     "data": {
      "text/html": [
       "<video src=\"media/jupyter/LabeledModifiedGraph@2025-03-14@10-56-27.mp4\" controls autoplay loop style=\"max-width: 100%;\"  >\n",
       "      Your browser does not support the <code>video</code> element.\n",
       "    </video>"
      ],
      "text/plain": [
       "<IPython.core.display.Video object>"
      ]
     },
     "metadata": {},
     "output_type": "display_data"
    }
   ],
   "source": [
    "%%manim -qm LabeledModifiedGraph\n",
    "class LabeledModifiedGraph(Scene):\n",
    "    def construct(self):\n",
    "        vertices = [1, 2, 3, 4, 5, 6, 7, 8]\n",
    "        edges = [(1, 7), (1, 8), (2, 3), (2, 4), (2, 5),\n",
    "                 (2, 8), (3, 4), (6, 1), (6, 2),\n",
    "                 (6, 3), (7, 2), (7, 4)]\n",
    "        g = Graph(vertices, edges, layout=\"circular\", layout_scale=3,\n",
    "                  labels=True, vertex_config={7: {\"fill_color\": RED}},\n",
    "                  edge_config={(1, 7): {\"stroke_color\": RED},\n",
    "                               (2, 7): {\"stroke_color\": RED},\n",
    "                               (4, 7): {\"stroke_color\": RED}})\n",
    "        self.add(g)\n",
    "        t = Text(\"ciao\").next_to(g[3])\n",
    "        self.play(Transform(Text(\"ciao\").move_to(g[4]), Text(\"ciao\").move_to(g[4])),\n",
    "                  Transform(Text(\"ciao\").move_to(g[5]), Text(\"ciao\").next_to(g[1])), \n",
    "                  Transform(Text(\"ciao\").move_to(g[3]), Text(\"ciao\").next_to(g[8])), path_arc = 90*DEGREES)"
   ]
  }
 ],
 "metadata": {
  "kernelspec": {
   "display_name": ".ve",
   "language": "python",
   "name": "python3"
  },
  "language_info": {
   "codemirror_mode": {
    "name": "ipython",
    "version": 3
   },
   "file_extension": ".py",
   "mimetype": "text/x-python",
   "name": "python",
   "nbconvert_exporter": "python",
   "pygments_lexer": "ipython3",
   "version": "3.12.6"
  }
 },
 "nbformat": 4,
 "nbformat_minor": 5
}
