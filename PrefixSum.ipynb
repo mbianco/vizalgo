{
 "cells": [
  {
   "cell_type": "code",
   "execution_count": 10,
   "metadata": {},
   "outputs": [],
   "source": [
    "import networkx as nx\n",
    "from manim import *\n",
    "import math\n",
    "import random\n",
    "\n",
    "config.media_width = \"100%\"\n",
    "config.verbosity = \"WARNING\""
   ]
  },
  {
   "cell_type": "markdown",
   "metadata": {},
   "source": [
    "# Prefix Sum"
   ]
  },
  {
   "cell_type": "code",
   "execution_count": 11,
   "metadata": {},
   "outputs": [],
   "source": [
    "def generic_run(selfi, network, **kwargs):\n",
    "    null_label = kwargs['null_label'] if 'null_label' in kwargs else '-'\n",
    "    delay = kwargs['delay'] if 'delay' in kwargs else 1\n",
    "    (Network, layout) = network.get()\n",
    "\n",
    "    unet = Network.to_undirected()\n",
    "    network.init_computation()\n",
    "    finished = False\n",
    "    time = 0\n",
    "    while not finished:\n",
    "        print(f'Iteration {time}')\n",
    "        if time == 0:\n",
    "            G = Graph.from_networkx(Network, layout=layout, labels={i : Network.nodes[i]['weight']['value'] for i in Network}, \n",
    "                                    edge_config={(u,v): {'stroke_color': (WHITE if d['weight']['carry'] != null_label else GREEN),\n",
    "                                                         'stroke_width': (6 if d['weight']['carry'] != null_label else 1)} \n",
    "                                                         for u, v, d in Network.edges(data = True)},\n",
    "                                    vertex_config={u: {'fill_color': (WHITE if Network.nodes[u]['weight']['value'] != null_label else BLACK),\n",
    "                                                       'stroke_width': 2, 'stroke_color': WHITE}\n",
    "                                                   for u in Network.nodes})\n",
    "            selfi.add(G)\n",
    "            counter = Text(str(time)).to_edge(UL)\n",
    "            selfi.add(counter)\n",
    "            try:\n",
    "                list = network.additional_items_to_draw()\n",
    "                for item in list:\n",
    "                    if (item[0] == \"RectangleAroundNodes\"):\n",
    "                        group = Group(*[G[x] for x in item[1]])\n",
    "                        selfi.add(SurroundingRectangle(group))\n",
    "            except Exception as e:\n",
    "                print(\"Nothing to add:\", e)\n",
    "\n",
    "        else:\n",
    "            selfi.wait(delay)\n",
    "            G1 = Graph.from_networkx(Network, layout=layout, labels={i : Network.nodes[i]['weight']['value'] for i in Network}, \n",
    "                                    edge_config={(u,v): {'stroke_color': (WHITE if d['weight']['carry'] != null_label else GREEN),\n",
    "                                                         'stroke_width': (6 if d['weight']['carry'] != null_label else 1)} \n",
    "                                                         for u, v, d in Network.edges(data = True)},\n",
    "                                    vertex_config={u: {'fill_color': (WHITE if Network.nodes[u]['weight']['value'] != null_label else BLACK),\n",
    "                                                       'stroke_width': 2, 'stroke_color': WHITE}\n",
    "                                                   for u in Network.nodes})\n",
    "\n",
    "            new_texts_from = {(u, v): Text(str(Network[u][v]['weight']['carry']), color=RED, font_size=32)\n",
    "                        for u, v, d in Network.edges(data=True) if d['weight']['carry'] != null_label}\n",
    "            new_texts_to = {(u, v): Text(str(Network[u][v]['weight']['carry']), color=RED, font_size=32)\n",
    "                        for u, v, d in Network.edges(data=True) if d['weight']['carry'] != null_label}\n",
    "            selfi.play(Transform(G, G1), *[Transform(new_texts_from[(u, v)].move_to(G[u]), new_texts_to[(u, v)].move_to(G[v])) \n",
    "                                           for u, v, d in Network.edges(data=True) if d['weight']['carry'] != null_label], \n",
    "                        path_arc = 70 * DEGREES, run_time=1.5*delay)\n",
    "            selfi.play(Transform(counter, Text(str(time)).to_edge(UL)) ,*[FadeOut(new_texts_from[(u, v)]) for u, v, d in Network.edges(data=True) if d['weight']['carry'] != null_label])\n",
    "        finished = not network.compute_iteration()\n",
    "        time = time+1\n",
    "    selfi.wait(delay)\n"
   ]
  },
  {
   "cell_type": "code",
   "execution_count": 24,
   "metadata": {},
   "outputs": [],
   "source": [
    "class prefix_tree:\n",
    "    def __init__(self, nbits, **kwargs):\n",
    "        #print(kwargs)\n",
    "        self.null_label = kwargs['null_label'] if 'null_label' in kwargs else '-'\n",
    "        self.verbose = kwargs['verbose'] if 'verbose' in kwargs else False\n",
    "\n",
    "        # nbits is the number of bits of the operation\n",
    "        # N is the number of nodes in the tree (2^n-1). Nodes in the tree will be from 0 to 2^n-2\n",
    "        self.nbits = nbits\n",
    "        self.N = 2*nbits-1\n",
    "\n",
    "        self.Tree = nx.DiGraph()\n",
    "        for x in range(0, self.N+self.nbits):\n",
    "            #print(x)\n",
    "            self.Tree.add_node(x, weight = {'value': self.null_label})\n",
    "\n",
    "        for x in range(0,int(self.N/2)):\n",
    "            # Edges parent to sons\n",
    "            self.Tree.add_edge(x, x*2+1, weight={\"carry\": self.null_label, \"dir\": \"down\", \"son\": \"left\", \"epoch\": 0})\n",
    "            self.Tree.add_edge(x, x*2+2, weight={\"carry\": self.null_label, \"dir\": \"down\", \"son\": \"right\", \"epoch\": 0})\n",
    "            self.Tree.add_edge(x*2+1, x, weight={\"carry\": self.null_label, \"all1s\": self.null_label, \"dir\": \"up\", 'son': 'left', \"epoch\": 0})\n",
    "            self.Tree.add_edge(x*2+2, x, weight={\"carry\": self.null_label, \"all1s\": self.null_label, \"dir\": \"up\", 'son': 'right', \"epoch\": 0})\n",
    "            # Edges son to parent\n",
    "\n",
    "        # Add edges for the real IO nodes\n",
    "        for x in range(self.nbits-1, self.N):\n",
    "            self.Tree.add_edge(x+self.nbits, x, weight={\"carry\": self.null_label, \"dir\": \"up\", \"in\": 'a', \"epoch\": 0})\n",
    "    \n",
    "        self.pos_y = [1.5*math.floor(math.log2(y+1)) - math.floor(math.log2(self.N-1)) for y in range(0, self.N)]\n",
    "        self.pos_y = self.pos_y + [1.5*math.floor(math.log2(self.N+1)) - math.floor(math.log2(self.N-1)) for y in range(self.N, self.N+self.nbits)]\n",
    "        \n",
    "        self.pos_x = {x: x - self.N - self.nbits/2 for x in range(self.N, self.N+self.nbits)}\n",
    "\n",
    "        self.pos_x = {x: self.pos_x[x+self.nbits] for x in range(self.nbits-1, self.N)}|self.pos_x\n",
    "\n",
    "        for level in range(int(math.log2(self.nbits))-1, -1, -1):\n",
    "            self.pos_x = {x: (self.pos_x[x*2+1]+self.pos_x[x*2+2])/2 for x in range(2**level-1, 2**level-1+2**level)}|self.pos_x\n",
    "\n",
    "        self.layout = { v: [self.pos_x[v], self.pos_y[v], 0] for v in range(0, self.N+self.nbits)}\n",
    "\n",
    "        self.epoch = 0\n",
    "\n",
    "    def additional_items_to_draw(self):\n",
    "        list = []\n",
    "        list.append(('RectangleAroundNodes', [x for x in range(self.N, self.N+self.nbits)]))\n",
    "        list.append(('RectangleAroundNodes', [x for x in range(self.nbits-1, self.N)]))\n",
    "        return list\n",
    "\n",
    "    def is_input(self, v):\n",
    "        return v in range(self.N, self.N+self.nbits)\n",
    "    \n",
    "    def is_output(self, v):\n",
    "        return v in range(self.nbits-1, self.N)\n",
    "\n",
    "    def is_internal_node(self, v):\n",
    "        return v in range(0, self.nbits-1)\n",
    "\n",
    "    def get(self):\n",
    "        return (self.Tree, self.layout)#, self.edges_labels_pos)\n",
    "\n",
    "    def set_input(self, in_seq):\n",
    "        self.in_seq = in_seq\n",
    "\n",
    "    def init_computation(self):\n",
    "\n",
    "        for x in range(self.N, self.N+self.nbits): # more efficient that checking if a node is input\n",
    "            # nodes are 2 by 2 holding one bit of a and 1 bit of b\n",
    "            self.Tree.nodes[x]['weight']['value'] = str(self.in_seq[x-self.N])\n",
    "\n",
    "    def compute_iteration(self):\n",
    "        some_updates = False\n",
    "        for node in self.Tree.nodes:\n",
    "            if self.is_input(node) and self.epoch == 0:\n",
    "                for u, v, d in self.Tree.out_edges(node, data=True):\n",
    "                    assert(u==node)\n",
    "                    if self.Tree.nodes[node]['weight']['value'] != self.null_label:\n",
    "                        some_updates = True\n",
    "                        d['weight']['carry'] = self.Tree.nodes[node]['weight']['value']\n",
    "                        d['weight']['epoch'] = self.epoch+1\n",
    "                        #self.Tree.nodes[node]['weight']['value'] = self.null_label\n",
    "            if self.is_output(node):\n",
    "                in_a = None\n",
    "                in_top = None\n",
    "                out_up = None\n",
    "                for (u,v,e) in self.Tree.in_edges(node, data=True):\n",
    "                    if (e['weight']['dir'] == 'up'):\n",
    "                        in_a = e\n",
    "                    if e['weight']['dir'] == \"down\":\n",
    "                        in_top = e\n",
    "\n",
    "                for u, v, e in self.Tree.out_edges(node, data=True):\n",
    "                    if e['weight']['dir'] == 'up':\n",
    "                        out_up = e\n",
    "                assert(in_a != None)\n",
    "                assert(in_top != None)\n",
    "                assert(out_up != None)\n",
    "\n",
    "                if in_a['weight']['carry'] != self.null_label and in_a['weight']['epoch'] <= self.epoch: # The epoch check is not needed here\n",
    "                    self.Tree.nodes[node]['weight']['value'] = in_a['weight']['carry']\n",
    "                    out_up['weight']['carry'] = in_a['weight']['carry']\n",
    "                    out_up['weight']['epoch'] = self.epoch+1\n",
    "                    in_a['weight']['carry'] = self.null_label\n",
    "                    some_updates = True\n",
    "\n",
    "                if in_top['weight']['carry'] != self.null_label and in_top['weight']['epoch'] <= self.epoch:\n",
    "                    self.Tree.nodes[node]['weight']['value'] = str(int(in_top['weight']['carry']) + int(self.Tree.nodes[node]['weight']['value']))\n",
    "                    in_top['weight']['carry'] = self.null_label\n",
    "                    some_updates = True\n",
    "\n",
    "            if self.is_internal_node(node):\n",
    "                in_left = None # the code to collect aliases is identical to the one for the tree_sum\n",
    "                in_right = None\n",
    "                in_top = None\n",
    "                out_up = None\n",
    "                out_left = None\n",
    "                out_right = None\n",
    "                for (u,v,e) in self.Tree.in_edges(node, data=True):\n",
    "                    if (e['weight']['dir'] == 'up'):\n",
    "                        if e['weight']['son'] == 'left':\n",
    "                            in_left = e\n",
    "                        if e['weight']['son'] == 'right':\n",
    "                            in_right = e\n",
    "                    if e['weight']['dir'] == 'down':\n",
    "                        in_top = e\n",
    "\n",
    "                for u, v, e in self.Tree.out_edges(node, data=True):\n",
    "                    if e['weight']['dir'] == 'up':\n",
    "                        out_up = e\n",
    "                    if (e['weight']['dir'] == 'down'):\n",
    "                        if e['weight']['son'] == 'left':\n",
    "                            out_left = e\n",
    "                        if e['weight']['son'] == 'right':\n",
    "                            out_right = e\n",
    "                assert(in_left != None)\n",
    "                assert(in_right != None)\n",
    "                assert(in_top != None if node!=0 else True)\n",
    "                assert(out_up != None if node!=0 else True)\n",
    "                assert(out_left != None)\n",
    "                assert(out_right != None)\n",
    "\n",
    "                if in_left['weight']['carry'] != self.null_label and in_right['weight']['carry'] != self.null_label and in_left['weight']['epoch'] <= self.epoch and in_right['weight']['epoch'] <= self.epoch:\n",
    "                    out_right['weight']['carry'] = in_left['weight']['carry']\n",
    "                    out_right['weight']['epoch'] = self.epoch+1\n",
    "                    self.Tree.nodes[node]['weight']['value'] = str(int(in_left['weight']['carry']) + int(in_right['weight']['carry']))\n",
    "                    if node != 0:\n",
    "                        out_up['weight']['carry'] = str(int(in_left['weight']['carry']) + int(in_right['weight']['carry']))\n",
    "                        out_up['weight']['epoch'] = self.epoch+1\n",
    "                    in_left['weight']['carry'] = self.null_label\n",
    "                    in_right['weight']['carry'] = self.null_label\n",
    "                    some_updates = True\n",
    "                \n",
    "                if node != 0:\n",
    "                    if in_top['weight']['carry'] != self.null_label and in_top['weight']['epoch'] <= self.epoch:\n",
    "                        out_left['weight']['carry'] = in_top['weight']['carry']\n",
    "                        out_right['weight']['carry'] = in_top['weight']['carry']\n",
    "                        out_left['weight']['epoch'] = self.epoch + 1\n",
    "                        out_right['weight']['epoch'] = self.epoch + 1\n",
    "                        in_top['weight']['carry'] = self.null_label\n",
    "                        some_updates = True\n",
    "\n",
    "        self.epoch = self.epoch + 1\n",
    "        return some_updates\n",
    "\n",
    "    def read_output(self):\n",
    "        res = []\n",
    "        for node in range(self.nbits-1, self.N):\n",
    "            res.append(int(self.Tree.nodes[node]['weight']['value']))\n",
    "        return res\n"
   ]
  },
  {
   "cell_type": "code",
   "execution_count": 25,
   "metadata": {},
   "outputs": [
    {
     "name": "stdout",
     "output_type": "stream",
     "text": [
      "All OK!\n"
     ]
    }
   ],
   "source": [
    "nleaves = 16\n",
    "test_seq = [x for x in range(0, nleaves)]\n",
    "for i in range(0, 1000):\n",
    "\tnetwork = prefix_tree(nleaves, verbose = False)\n",
    "\tnetwork.set_input(test_seq)\n",
    "\tnetwork.init_computation()\n",
    "\twhile network.compute_iteration():\n",
    "\t\tNone\n",
    "\tres = network.read_output()\n",
    "\tassert(res[0] == test_seq[0])\n",
    "\ttest_out = res[0]\n",
    "\tfor x in range(1, nleaves):\n",
    "\t\ttest_out = test_out + test_seq[x]\n",
    "\t\tassert(test_out == res[x])\n",
    "\ttest_seq = [random.randint(-nleaves, nleaves*nleaves) for x in range(0, nleaves)]\n",
    "print(\"All OK!\")"
   ]
  },
  {
   "cell_type": "code",
   "execution_count": 26,
   "metadata": {},
   "outputs": [
    {
     "data": {
      "text/html": [
       "<pre style=\"white-space:pre;overflow-x:auto;line-height:normal;font-family:Menlo,'DejaVu Sans Mono',consolas,'Courier New',monospace\">Manim Community <span style=\"color: #008000; text-decoration-color: #008000\">v0.18.1</span>\n",
       "\n",
       "</pre>\n"
      ],
      "text/plain": [
       "Manim Community \u001b[32mv0.\u001b[0m\u001b[32m18.1\u001b[0m\n",
       "\n"
      ]
     },
     "metadata": {},
     "output_type": "display_data"
    },
    {
     "name": "stdout",
     "output_type": "stream",
     "text": [
      "Iteration 0\n",
      "Iteration 1\n"
     ]
    },
    {
     "name": "stderr",
     "output_type": "stream",
     "text": [
      "                                                                                                                           \r"
     ]
    },
    {
     "name": "stdout",
     "output_type": "stream",
     "text": [
      "Iteration 2\n"
     ]
    },
    {
     "name": "stderr",
     "output_type": "stream",
     "text": [
      "                                                                                                                           \r"
     ]
    },
    {
     "name": "stdout",
     "output_type": "stream",
     "text": [
      "Iteration 3\n"
     ]
    },
    {
     "name": "stderr",
     "output_type": "stream",
     "text": [
      "                                                                                                                           \r"
     ]
    },
    {
     "name": "stdout",
     "output_type": "stream",
     "text": [
      "Iteration 4\n"
     ]
    },
    {
     "name": "stderr",
     "output_type": "stream",
     "text": [
      "                                                                                                                            \r"
     ]
    },
    {
     "name": "stdout",
     "output_type": "stream",
     "text": [
      "Iteration 5\n"
     ]
    },
    {
     "name": "stderr",
     "output_type": "stream",
     "text": [
      "                                                                                                                            \r"
     ]
    },
    {
     "name": "stdout",
     "output_type": "stream",
     "text": [
      "Iteration 6\n"
     ]
    },
    {
     "name": "stderr",
     "output_type": "stream",
     "text": [
      "                                                                                                                            \r"
     ]
    },
    {
     "name": "stdout",
     "output_type": "stream",
     "text": [
      "Iteration 7\n"
     ]
    },
    {
     "name": "stderr",
     "output_type": "stream",
     "text": [
      "                                                                                                                            \r"
     ]
    },
    {
     "name": "stdout",
     "output_type": "stream",
     "text": [
      "Iteration 8\n"
     ]
    },
    {
     "name": "stderr",
     "output_type": "stream",
     "text": [
      "                                                                                                                            \r"
     ]
    },
    {
     "name": "stdout",
     "output_type": "stream",
     "text": [
      "Iteration 9\n"
     ]
    },
    {
     "name": "stderr",
     "output_type": "stream",
     "text": [
      "                                                                                                                            \r"
     ]
    },
    {
     "name": "stdout",
     "output_type": "stream",
     "text": [
      "Iteration 10\n"
     ]
    },
    {
     "name": "stderr",
     "output_type": "stream",
     "text": [
      "                                                                                                                      \r"
     ]
    },
    {
     "data": {
      "text/html": [
       "<video src=\"media/jupyter/ShowLinear@2024-12-11@18-05-22.mp4\" controls autoplay loop style=\"max-width: 100%;\"  >\n",
       "      Your browser does not support the <code>video</code> element.\n",
       "    </video>"
      ],
      "text/plain": [
       "<IPython.core.display.Video object>"
      ]
     },
     "metadata": {},
     "output_type": "display_data"
    }
   ],
   "source": [
    "%%manim -qm ShowLinear\n",
    "\n",
    "config.frame_width = 20\n",
    "\n",
    "class ShowLinear(Scene):\n",
    "    \n",
    "    def construct(self):\n",
    "        nleaves = 16\n",
    "        network = prefix_tree(nleaves, delay=1)\n",
    "        network.set_input([random.randint(0, nleaves) for x in range(0, nleaves)])\n",
    "        generic_run(self, network)\n",
    "        #print(network.read_output())"
   ]
  }
 ],
 "metadata": {
  "kernelspec": {
   "display_name": ".ve",
   "language": "python",
   "name": "python3"
  },
  "language_info": {
   "codemirror_mode": {
    "name": "ipython",
    "version": 3
   },
   "file_extension": ".py",
   "mimetype": "text/x-python",
   "name": "python",
   "nbconvert_exporter": "python",
   "pygments_lexer": "ipython3",
   "version": "3.12.6"
  }
 },
 "nbformat": 4,
 "nbformat_minor": 2
}
