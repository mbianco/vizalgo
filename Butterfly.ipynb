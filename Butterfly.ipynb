{
 "cells": [
  {
   "cell_type": "code",
   "execution_count": 53,
   "metadata": {},
   "outputs": [],
   "source": [
    "import networkx as nx\n",
    "from manim import *\n",
    "import math\n",
    "\n",
    "config.media_width = \"100%\"\n",
    "config.verbosity = \"WARNING\""
   ]
  },
  {
   "cell_type": "code",
   "execution_count": 543,
   "metadata": {},
   "outputs": [],
   "source": [
    "# Bitwise operations needed\n",
    "def flip_bit(a, n):\n",
    "\t# a: number to modify\n",
    "\t# n: bit to flip (starting at 0)\n",
    "\tx = 1<<n\n",
    "\treturn a^x\n",
    "\n",
    "def count_ones(x):\n",
    "\tres = 0\n",
    "\t#f = \"{0:0\"+str(8)+\"b}\"\n",
    "\n",
    "\twhile x!=0:\n",
    "\t\t#print(f.format(x))\n",
    "\t\tif (x%2 == 1):\n",
    "\t\t\tres = res+1\n",
    "\t\tx = x>>1\n",
    "\t#print(f'{f.format(x)} result = {res}')\n",
    "\treturn res\n"
   ]
  },
  {
   "cell_type": "code",
   "execution_count": 55,
   "metadata": {},
   "outputs": [],
   "source": [
    "# Test bitwise operations\n",
    "assert(flip_bit(7, 0) == 6)\n",
    "assert(flip_bit(7, 1) == 5)\n",
    "assert(flip_bit(7, 2) == 3)\n",
    "assert(flip_bit(7, 3) == 15)"
   ]
  },
  {
   "cell_type": "code",
   "execution_count": 272,
   "metadata": {},
   "outputs": [],
   "source": [
    "def generic_run(selfi, network, **kwargs):\n",
    "    null_label = kwargs['null_label'] if 'null_label' in kwargs else '-'\n",
    "    delay = kwargs['delay'] if 'delay' in kwargs else 1\n",
    "    (Network, layout) = network.get()\n",
    "\n",
    "    unet = Network.to_undirected()\n",
    "    network.init_computation()\n",
    "    finished = False\n",
    "    time = 0\n",
    "    while not finished:\n",
    "        print(f'Iteration {time}')\n",
    "        if time == 0:\n",
    "            G = Graph.from_networkx(Network, layout=layout, labels={i : Network.nodes[i]['weight']['value'] for i in Network}, \n",
    "                                    edge_config={(u,v): {'stroke_color': (WHITE if d['weight']['carry'] != null_label else GREEN),\n",
    "                                                         'stroke_width': (6 if d['weight']['carry'] != null_label else 1)} \n",
    "                                                         for u, v, d in Network.edges(data = True)},\n",
    "                                    vertex_config={u: {'fill_color': (WHITE if Network.nodes[u]['weight']['value'] != null_label else BLACK),\n",
    "                                                       'stroke_width': 2, 'stroke_color': WHITE}\n",
    "                                                   for u in Network.nodes})\n",
    "            selfi.play(Create(G))\n",
    "            counter = Text(str(time)).to_edge(UL)\n",
    "            selfi.add(counter)\n",
    "            try:\n",
    "                list = network.additional_items_to_draw()\n",
    "                for item in list:\n",
    "                    if (item[0] == \"RectangleAroundNodes\"):\n",
    "                        group = Group(*[G[x] for x in item[1]])\n",
    "                        selfi.add(SurroundingRectangle(group))\n",
    "            except Exception as e:\n",
    "                print(\"Nothing to add:\", e)\n",
    "        else:\n",
    "            selfi.wait(delay)\n",
    "            G1 = Graph.from_networkx(Network, layout=layout, labels={i : Network.nodes[i]['weight']['value'] for i in Network}, \n",
    "                                    edge_config={(u,v): {'stroke_color': (WHITE if d['weight']['carry'] != null_label else GREEN),\n",
    "                                                         'stroke_width': (6 if d['weight']['carry'] != null_label else 1)} \n",
    "                                                         for u, v, d in Network.edges(data = True)},\n",
    "                                    vertex_config={u: {'fill_color': (WHITE if Network.nodes[u]['weight']['value'] != null_label else BLACK),\n",
    "                                                       'stroke_width': 2, 'stroke_color': WHITE}\n",
    "                                                   for u in Network.nodes})\n",
    "\n",
    "            new_texts_from = {(u, v): Text(str(Network[u][v]['weight']['carry']), color=RED, font_size=32)\n",
    "                        for u, v, d in Network.edges(data=True) if d['weight']['carry'] != null_label}\n",
    "            new_texts_to = {(u, v): Text(str(Network[u][v]['weight']['carry']), color=RED, font_size=32)\n",
    "                        for u, v, d in Network.edges(data=True) if d['weight']['carry'] != null_label}\n",
    "            selfi.play(Transform(G, G1), *[Transform(new_texts_from[(u, v)].move_to(G[u]), new_texts_to[(u, v)].move_to(G[v])) \n",
    "                                           for u, v, d in Network.edges(data=True) if d['weight']['carry'] != null_label], \n",
    "                        path_arc = 70 * DEGREES, run_time=1.5*delay)\n",
    "            selfi.play(Transform(counter, Text(str(time)).to_edge(UL)) ,*[FadeOut(new_texts_from[(u, v)]) for u, v, d in Network.edges(data=True) if d['weight']['carry'] != null_label], run_time=1.5*delay)\n",
    "        finished = not network.compute_iteration()\n",
    "        time = time+1\n",
    "    selfi.wait(delay)\n"
   ]
  },
  {
   "cell_type": "markdown",
   "metadata": {},
   "source": [
    "## Odd-Even Sort"
   ]
  },
  {
   "cell_type": "code",
   "execution_count": null,
   "metadata": {},
   "outputs": [],
   "source": [
    "class odd_even:\n",
    "    def node_id(self, line, stage, comparator):\n",
    "        assert(comparator>=0 and comparator < 4)\n",
    "        assert(line < self.lines)\n",
    "        assert(stage < self.lines)\n",
    "        return (line<<int(math.log2(self.lines)*2+2)) + (stage<<int(math.log2(self.lines)+2)) + comparator\n",
    "    \n",
    "    def items_from_node_id(self, nodeid):\n",
    "        return ((nodeid &  ((1<<int(math.log2(self.lines)))-1)<<int(math.log2(self.lines)*2+2)) >> int(math.log2(self.lines)*2+2),\n",
    "                (nodeid &  ((1<<int(math.log2(self.lines)))-1)<<int(math.log2(self.lines)+2)) >> int(math.log2(self.lines)+2),\n",
    "                nodeid&3)\n",
    "\n",
    "    def input_node(self, line):\n",
    "        return -(line+1)\n",
    "    \n",
    "    def inputs(self):\n",
    "        return range(-1, -(self.lines+1), -1)\n",
    "    \n",
    "    def output_node(self, line):\n",
    "        return -(line+1)-2*self.lines\n",
    "\n",
    "    def outputs(self):\n",
    "        return range(-1-2*self.lines, -(self.lines+1)-2*self.lines, -1)\n",
    "    \n",
    "    def __init__(self, nlines, **kwargs):\n",
    "        #print(kwargs)\n",
    "        self.null_label = kwargs['null_label'] if 'null_label' in kwargs else '-'\n",
    "        self.verbose = kwargs['verbose'] if 'verbose' in kwargs else False\n",
    "\n",
    "        # nbits is the number of bits of the operation\n",
    "        # N is the number of nodes in the tree (2^n-1). Nodes in the tree will be from 0 to 2^n-2\n",
    "        self.lines = nlines\n",
    "        self.N = 2*nlines-1\n",
    "\n",
    "        self.Butterly = nx.DiGraph()\n",
    "        self.layout = {}\n",
    "        for stage in range(0, self.lines):\n",
    "            for line in range((stage%2), self.lines-(stage%2), 2):\n",
    "                #print(f'{stage}, {line}: {self.node_id(line, stage, 0)} {self.node_id(line, stage, 1)} {self.node_id(line+1, stage, 0)} {self.node_id(line+1, stage, 1)}')\n",
    "                if stage%2 == 0:\n",
    "                    self.OddEven.add_node(self.node_id(line, stage, 0), weight = {'value': self.null_label})\n",
    "                    self.OddEven.add_node(self.node_id(line, stage, 1), weight = {'value': self.null_label})\n",
    "                    self.OddEven.add_node(self.node_id(line+1, stage, 0), weight = {'value': self.null_label})\n",
    "                    self.OddEven.add_node(self.node_id(line+1, stage, 1), weight = {'value': self.null_label})\n",
    "                    self.OddEven.add_edge(self.node_id(line, stage, 0), self.node_id(line, stage, 1), weight={\"carry\": self.null_label, \"epoch\": 0})\n",
    "                    self.OddEven.add_edge(self.node_id(line+1, stage, 0), self.node_id(line+1, stage, 1), weight={\"carry\": self.null_label, \"epoch\": 0})\n",
    "                    self.OddEven.add_edge(self.node_id(line, stage, 0), self.node_id(line+1, stage, 1), weight={\"carry\": self.null_label, \"epoch\": 0})\n",
    "                    self.OddEven.add_edge(self.node_id(line+1, stage, 0), self.node_id(line, stage, 1), weight={\"carry\": self.null_label, \"epoch\": 0})\n",
    "                    self.layout[self.node_id(line, stage, 0)] = [2*stage - self.lines+1, -(line - self.lines/2+1), 0]\n",
    "                    self.layout[self.node_id(line, stage, 1)] = [2*stage+1 - self.lines+1, -(line - self.lines/2+1), 0]\n",
    "                    self.layout[self.node_id(line+1, stage, 0)] = [2*stage - self.lines+1, -(line+1 - self.lines/2+1), 0]\n",
    "                    self.layout[self.node_id(line+1, stage, 1)] = [2*stage+1 - self.lines+1, -(line+1 - self.lines/2+1), 0]\n",
    "                else:\n",
    "                    self.OddEven.add_node(self.node_id(line, stage, 0), weight = {'value': self.null_label})\n",
    "                    self.OddEven.add_node(self.node_id(line, stage, 1), weight = {'value': self.null_label})\n",
    "                    self.OddEven.add_node(self.node_id(line+1, stage, 0), weight = {'value': self.null_label})\n",
    "                    self.OddEven.add_node(self.node_id(line+1, stage, 1), weight = {'value': self.null_label})\n",
    "                    self.OddEven.add_edge(self.node_id(line, stage, 0), self.node_id(line, stage, 1), weight={\"carry\": self.null_label, \"epoch\": 0})\n",
    "                    self.OddEven.add_edge(self.node_id(line+1, stage, 0), self.node_id(line+1, stage, 1), weight={\"carry\": self.null_label, \"epoch\": 0})\n",
    "                    self.OddEven.add_edge(self.node_id(line, stage, 0), self.node_id(line+1, stage, 1), weight={\"carry\": self.null_label, \"epoch\": 0})\n",
    "                    self.OddEven.add_edge(self.node_id(line+1, stage, 0), self.node_id(line, stage, 1), weight={\"carry\": self.null_label, \"epoch\": 0})\n",
    "                    self.layout[self.node_id(line, stage, 0)] = [2*stage - self.lines+1, -(line - self.lines/2+1), 0]\n",
    "                    self.layout[self.node_id(line, stage, 1)] = [2*stage+1 - self.lines+1, -(line - self.lines/2+1), 0]\n",
    "                    self.layout[self.node_id(line+1, stage, 0)] = [2*stage - self.lines+1, -(line+1 - self.lines/2+1), 0]\n",
    "                    self.layout[self.node_id(line+1, stage, 1)] = [2*stage+1 - self.lines+1, -(line+1 - self.lines/2+1), 0]\n",
    "\n",
    "        # Input and output nodes\n",
    "        for line in range(0, self.lines):\n",
    "            self.OddEven.add_node(self.input_node(line), weight = {'value': self.null_label})\n",
    "            self.OddEven.add_edge(self.input_node(line), self.node_id(line, 0, 0), weight={\"carry\": self.null_label, \"epoch\": 0})\n",
    "            self.OddEven.add_node(self.output_node(line), weight = {'value': self.null_label})\n",
    "            if line == 0 or line == self.lines-1:\n",
    "                self.OddEven.add_edge(self.node_id(line, self.lines-2, 1), self.output_node(line), weight={\"carry\": self.null_label, \"epoch\": 0})\n",
    "            else:\n",
    "                self.OddEven.add_edge(self.node_id(line, self.lines-1, 1), self.output_node(line), weight={\"carry\": self.null_label, \"epoch\": 0})\n",
    "            self.layout[self.input_node(line)] = [0 - self.lines - 1+1, -(line - self.lines/2+1), 0]\n",
    "            self.layout[self.output_node(line)] = [2*self.lines - self.lines - 2+3, -(line - self.lines/2+1), 0]\n",
    "\n",
    "        # Inter-comparator connections\n",
    "        for gap in range(0, self.lines-1):\n",
    "            for line in range(1, self.lines-1):\n",
    "                assert(self.node_id(line, gap, 1) in self.OddEven.nodes)\n",
    "                assert(self.node_id(line, gap+1, 0) in self.OddEven.nodes)\n",
    "                self.OddEven.add_edge(self.node_id(line, gap, 1), self.node_id(line, gap+1, 0), weight={\"carry\": self.null_label, \"epoch\": 0})\n",
    "        for gap in range(0, self.lines-2, 2):\n",
    "            assert(self.node_id(0, gap, 1) in self.OddEven.nodes)\n",
    "            assert(self.node_id(0, gap+2, 0) in self.OddEven.nodes)\n",
    "            self.OddEven.add_edge(self.node_id(0, gap, 1), self.node_id(0, gap+2, 0), weight={\"carry\": self.null_label, \"epoch\": 0})\n",
    "            self.OddEven.add_edge(self.node_id(self.lines-1, gap, 1), self.node_id(self.lines-1, gap+2, 0), weight={\"carry\": self.null_label, \"epoch\": 0})\n",
    "\n",
    "    def additional_items_to_draw(self):\n",
    "        list = []\n",
    "        list.append(('RectangleAroundNodes', [x for x in self.inputs()]))\n",
    "        list.append(('RectangleAroundNodes', [x for x in self.outputs()]))\n",
    "        return list\n",
    "\n",
    "    def set_input(self, seq):\n",
    "        self.seq = seq\n",
    "\n",
    "    def get(self):\n",
    "        return self.OddEven, self.layout\n",
    "\n",
    "    def init_computation(self):\n",
    "        for node, value in zip(self.inputs(), self.seq):\n",
    "            self.OddEven.nodes[node]['weight']['value'] = str(value)\n",
    "        self.epoch = 0\n",
    "\n",
    "    def compute_iteration(self):\n",
    "        some_updates = False\n",
    "        for node in self.OddEven:\n",
    "            if node in self.inputs():\n",
    "                if self.epoch == 0:\n",
    "                    for u, v, d in self.OddEven.out_edges(node, data=True):\n",
    "                        assert(u==node)\n",
    "                        if self.OddEven.nodes[node]['weight']['value'] != self.null_label:\n",
    "                            some_updates = True\n",
    "                            d['weight']['carry'] = self.OddEven.nodes[node]['weight']['value']\n",
    "                            d['weight']['epoch'] = self.epoch+1\n",
    "                else:\n",
    "                    None\n",
    "            else:\n",
    "                if node in self.outputs():\n",
    "                    in_a = None\n",
    "                    for u, v, e in self.OddEven.in_edges(node, data=True):\n",
    "                        in_a = e\n",
    "                    assert(in_a != None)\n",
    "\n",
    "                    if in_a['weight']['carry'] != self.null_label and in_a['weight']['epoch'] <= self.epoch:\n",
    "                        some_updates = True\n",
    "                        self.OddEven.nodes[node]['weight']['value'] = in_a['weight']['carry']\n",
    "                        in_a['weight']['carry'] = self.null_label\n",
    "\n",
    "                else:\n",
    "                    line, stage, comp = self.items_from_node_id(node)\n",
    "                    #print(f'node {node} ({line}, {stage}, {comp})')\n",
    "                    if comp == 0: # First stage of the comparator\n",
    "                        in_a = None\n",
    "                        for u, v, e in self.OddEven.in_edges(node, data=True):\n",
    "                            in_a = e\n",
    "\n",
    "                        out = []\n",
    "                        for u, v, e in self.OddEven.out_edges(node, data=True):\n",
    "                            out.append(e)\n",
    "\n",
    "                        assert(len(out) == 2)\n",
    "                        assert(in_a != None)\n",
    "                        if in_a['weight']['carry'] != self.null_label and in_a['weight']['epoch'] <= self.epoch:\n",
    "                            some_updates = True\n",
    "                            self.OddEven.nodes[node]['weight']['value'] = in_a['weight']['carry']\n",
    "                            out[0]['weight']['carry'] = self.OddEven.nodes[node]['weight']['value']\n",
    "                            out[0]['weight']['epoch'] = self.epoch+1\n",
    "                            out[1]['weight']['carry'] = self.OddEven.nodes[node]['weight']['value']\n",
    "                            out[1]['weight']['epoch'] = self.epoch+1\n",
    "                            in_a['weight']['carry'] = self.null_label\n",
    "                    else:\n",
    "                        assert(comp==1)\n",
    "                        out_a = None\n",
    "                        for u, v, e in self.OddEven.out_edges(node, data=True):\n",
    "                            out_a = e\n",
    "                        ins = []\n",
    "                        for u, v, e in self.OddEven.in_edges(node, data=True):\n",
    "                            ins.append(e)\n",
    "                        assert(len(ins) == 2)\n",
    "                        assert(out_a != None)\n",
    "                        if ins[0]['weight']['carry'] != self.null_label and ins[1]['weight']['carry'] != self.null_label and ins[0]['weight']['epoch'] <= self.epoch and ins[1]['weight']['epoch'] <= self.epoch:\n",
    "                            #if stage%2==0:\n",
    "                                if line%2==stage%2:\n",
    "                                    # Up\n",
    "                                    some_updates = True\n",
    "                                    out_a['weight']['carry'] = str(min(int(ins[0]['weight']['carry']), int(ins[1]['weight']['carry'])))\n",
    "                                    self.OddEven.nodes[node]['weight']['value'] = out_a['weight']['carry']\n",
    "                                    out_a['weight']['epoch'] = self.epoch+1\n",
    "                                    ins[0]['weight']['carry'] = self.null_label\n",
    "                                    ins[1]['weight']['carry'] = self.null_label\n",
    "                                else:\n",
    "                                    # Down\n",
    "                                    some_updates = True\n",
    "                                    out_a['weight']['carry'] = str(max(int(ins[0]['weight']['carry']), int(ins[1]['weight']['carry'])))\n",
    "                                    self.OddEven.nodes[node]['weight']['value'] = out_a['weight']['carry']\n",
    "                                    out_a['weight']['epoch'] = self.epoch+1\n",
    "                                    ins[0]['weight']['carry'] = self.null_label\n",
    "                                    ins[1]['weight']['carry'] = self.null_label\n",
    "\n",
    "        self.epoch = self.epoch + 1\n",
    "        return some_updates\n",
    "\n",
    "    def read_output(self):\n",
    "        return [self.OddEven.nodes[x]['weight']['value'] for x in self.outputs()]"
   ]
  },
  {
   "cell_type": "code",
   "execution_count": 268,
   "metadata": {},
   "outputs": [
    {
     "name": "stdout",
     "output_type": "stream",
     "text": [
      "All is OK!\n"
     ]
    }
   ],
   "source": [
    "import random\n",
    "\n",
    "for l in range(1, 6):\n",
    "    lines = 1<<l\n",
    "    net = odd_even(lines)\n",
    "    for line in range(0, lines, 2):\n",
    "        for stage in range(0, lines, 2):\n",
    "            for comp in range(0, 4):\n",
    "                id = net.node_id(line, stage, comp)\n",
    "                (l, s, c) = net.items_from_node_id(id)\n",
    "                assert(line == l)\n",
    "                assert(stage == s)\n",
    "                assert(comp == c)\n",
    "                id = net.node_id(line+1, stage, comp)\n",
    "                (l, s, c) = net.items_from_node_id(id)\n",
    "                assert(line+1 == l)\n",
    "                assert(stage == s)\n",
    "                assert(comp == c)\n",
    "                id = net.node_id(line, stage+1, comp)\n",
    "                (l, s, c) = net.items_from_node_id(id)\n",
    "                assert(line == l)\n",
    "                assert(stage+1 == s)\n",
    "                assert(comp == c)\n",
    "                id = net.node_id(line+1, stage+1, comp)\n",
    "                (l, s, c) = net.items_from_node_id(id)\n",
    "                assert(line+1 == l)\n",
    "                assert(stage+1 == s)\n",
    "                assert(comp == c)\n",
    "\n",
    "nleaves = 8\n",
    "test_seq = [x for x in range(nleaves, 0, -1)]\n",
    "for i in range(0, 1000):\n",
    "    network = odd_even(nleaves, verbose = False)\n",
    "    network.set_input(test_seq)\n",
    "    network.init_computation()\n",
    "    while network.compute_iteration():\n",
    "        None\n",
    "\n",
    "    res = network.read_output()\n",
    "    #print(res)\n",
    "    v = res[0]\n",
    "    for x in range(1, nleaves):\n",
    "        assert(int(v) <= int(res[x]))\n",
    "        v = int(res[x])\n",
    "    test_seq = [random.randint(-nleaves, nleaves*nleaves) for x in range(0, nleaves)]\n",
    "\n",
    "print(\"All is OK!\")\n"
   ]
  },
  {
   "cell_type": "code",
   "execution_count": 271,
   "metadata": {},
   "outputs": [
    {
     "data": {
      "text/html": [
       "<pre style=\"white-space:pre;overflow-x:auto;line-height:normal;font-family:Menlo,'DejaVu Sans Mono',consolas,'Courier New',monospace\">Manim Community <span style=\"color: #008000; text-decoration-color: #008000\">v0.18.1</span>\n",
       "\n",
       "</pre>\n"
      ],
      "text/plain": [
       "Manim Community \u001b[32mv0.\u001b[0m\u001b[32m18.1\u001b[0m\n",
       "\n"
      ]
     },
     "metadata": {},
     "output_type": "display_data"
    },
    {
     "name": "stdout",
     "output_type": "stream",
     "text": [
      "Iteration 0\n"
     ]
    },
    {
     "name": "stderr",
     "output_type": "stream",
     "text": [
      "                                                                                                                    \r"
     ]
    },
    {
     "name": "stdout",
     "output_type": "stream",
     "text": [
      "Iteration 1\n"
     ]
    },
    {
     "name": "stderr",
     "output_type": "stream",
     "text": [
      "                                                                                                                             \r"
     ]
    },
    {
     "name": "stdout",
     "output_type": "stream",
     "text": [
      "Iteration 2\n"
     ]
    },
    {
     "name": "stderr",
     "output_type": "stream",
     "text": [
      "                                                                                                                           \r"
     ]
    },
    {
     "name": "stdout",
     "output_type": "stream",
     "text": [
      "Iteration 3\n"
     ]
    },
    {
     "name": "stderr",
     "output_type": "stream",
     "text": [
      "                                                                                                                             \r"
     ]
    },
    {
     "name": "stdout",
     "output_type": "stream",
     "text": [
      "Iteration 4\n"
     ]
    },
    {
     "name": "stderr",
     "output_type": "stream",
     "text": [
      "                                                                                                                              \r"
     ]
    },
    {
     "name": "stdout",
     "output_type": "stream",
     "text": [
      "Iteration 5\n"
     ]
    },
    {
     "name": "stderr",
     "output_type": "stream",
     "text": [
      "                                                                                                                              \r"
     ]
    },
    {
     "name": "stdout",
     "output_type": "stream",
     "text": [
      "Iteration 6\n"
     ]
    },
    {
     "name": "stderr",
     "output_type": "stream",
     "text": [
      "                                                                                                                            \r"
     ]
    },
    {
     "name": "stdout",
     "output_type": "stream",
     "text": [
      "Iteration 7\n"
     ]
    },
    {
     "name": "stderr",
     "output_type": "stream",
     "text": [
      "                                                                                                                              \r"
     ]
    },
    {
     "name": "stdout",
     "output_type": "stream",
     "text": [
      "Iteration 8\n"
     ]
    },
    {
     "name": "stderr",
     "output_type": "stream",
     "text": [
      "                                                                                                                              \r"
     ]
    },
    {
     "name": "stdout",
     "output_type": "stream",
     "text": [
      "Iteration 9\n"
     ]
    },
    {
     "name": "stderr",
     "output_type": "stream",
     "text": [
      "                                                                                                                              \r"
     ]
    },
    {
     "name": "stdout",
     "output_type": "stream",
     "text": [
      "Iteration 10\n"
     ]
    },
    {
     "name": "stderr",
     "output_type": "stream",
     "text": [
      "                                                                                                                              \r"
     ]
    },
    {
     "name": "stdout",
     "output_type": "stream",
     "text": [
      "Iteration 11\n"
     ]
    },
    {
     "name": "stderr",
     "output_type": "stream",
     "text": [
      "                                                                                                                              \r"
     ]
    },
    {
     "name": "stdout",
     "output_type": "stream",
     "text": [
      "Iteration 12\n"
     ]
    },
    {
     "name": "stderr",
     "output_type": "stream",
     "text": [
      "                                                                                                                              \r"
     ]
    },
    {
     "name": "stdout",
     "output_type": "stream",
     "text": [
      "Iteration 13\n"
     ]
    },
    {
     "name": "stderr",
     "output_type": "stream",
     "text": [
      "                                                                                                                              \r"
     ]
    },
    {
     "name": "stdout",
     "output_type": "stream",
     "text": [
      "Iteration 14\n"
     ]
    },
    {
     "name": "stderr",
     "output_type": "stream",
     "text": [
      "                                                                                                                              \r"
     ]
    },
    {
     "name": "stdout",
     "output_type": "stream",
     "text": [
      "Iteration 15\n"
     ]
    },
    {
     "name": "stderr",
     "output_type": "stream",
     "text": [
      "                                                                                                                              \r"
     ]
    },
    {
     "name": "stdout",
     "output_type": "stream",
     "text": [
      "Iteration 16\n"
     ]
    },
    {
     "name": "stderr",
     "output_type": "stream",
     "text": [
      "                                                                                                                              \r"
     ]
    },
    {
     "name": "stdout",
     "output_type": "stream",
     "text": [
      "Iteration 17\n"
     ]
    },
    {
     "name": "stderr",
     "output_type": "stream",
     "text": [
      "                                                                                                                              \r"
     ]
    },
    {
     "name": "stdout",
     "output_type": "stream",
     "text": [
      "Iteration 18\n"
     ]
    },
    {
     "name": "stderr",
     "output_type": "stream",
     "text": [
      "                                                                                                                        \r"
     ]
    },
    {
     "data": {
      "text/html": [
       "<video src=\"media/jupyter/ShowOddEven@2024-12-12@16-52-37.mp4\" controls autoplay loop style=\"max-width: 100%;\"  >\n",
       "      Your browser does not support the <code>video</code> element.\n",
       "    </video>"
      ],
      "text/plain": [
       "<IPython.core.display.Video object>"
      ]
     },
     "metadata": {},
     "output_type": "display_data"
    }
   ],
   "source": [
    "%%manim -qm ShowOddEven\n",
    "\n",
    "config.frame_width = 20\n",
    "\n",
    "\n",
    "class ShowOddEven(Scene):\n",
    "    \n",
    "    def construct(self):\n",
    "        nbits = 8\n",
    "        network = odd_even(nbits, delay=0.1)\n",
    "        network.set_input([8, 7, 6, 5, 4, 3, 2 ,1])\n",
    "        network.init_computation()\n",
    "        generic_run(self, network)\n",
    "        #print(network.read_output())"
   ]
  },
  {
   "cell_type": "markdown",
   "metadata": {},
   "source": [
    "# Butterly Network (for DFT)"
   ]
  },
  {
   "cell_type": "code",
   "execution_count": 774,
   "metadata": {},
   "outputs": [],
   "source": [
    "class butterfly:\n",
    "    def node_id(self, line, stage, comparator):\n",
    "        assert(comparator>=0 and comparator < 4)\n",
    "        assert(line < self.lines)\n",
    "        assert(stage < self.lines)\n",
    "        return (line<<int(math.log2(self.lines)*2+2)) + (stage<<int(math.log2(self.lines)+2)) + comparator\n",
    "    \n",
    "    def items_from_node_id(self, nodeid):\n",
    "        return ((nodeid &  ((1<<int(math.log2(self.lines)))-1)<<int(math.log2(self.lines)*2+2)) >> int(math.log2(self.lines)*2+2),\n",
    "                (nodeid &  ((1<<int(math.log2(self.lines)))-1)<<int(math.log2(self.lines)+2)) >> int(math.log2(self.lines)+2),\n",
    "                nodeid&3)\n",
    "\n",
    "    def input_node(self, line):\n",
    "        return -(line+1)\n",
    "    \n",
    "    def inputs(self):\n",
    "        return range(-1, -(self.lines+1), -1)\n",
    "    \n",
    "    def output_node(self, line):\n",
    "        return -(line+1)-2*self.lines\n",
    "\n",
    "    def outputs(self):\n",
    "        return range(-1-2*self.lines, -(self.lines+1)-2*self.lines, -1)\n",
    "\n",
    "    def __init__(self, nlines, **kwargs):\n",
    "        #print(kwargs)\n",
    "        self.null_label = kwargs['null_label'] if 'null_label' in kwargs else '-'\n",
    "        self.verbose = kwargs['verbose'] if 'verbose' in kwargs else False\n",
    "\n",
    "        # nbits is the number of bits of the operation\n",
    "        # N is the number of nodes in the tree (2^n-1). Nodes in the tree will be from 0 to 2^n-2\n",
    "        self.lines = nlines\n",
    "        self.N = 2*nlines-1\n",
    "\n",
    "        self.Butterfly = nx.DiGraph()\n",
    "\n",
    "        node = 0\n",
    "        self.layout = {}\n",
    "        stage_x_starts = -self.lines/2\n",
    "        for stage in range(0, int(math.log2(self.lines))):\n",
    "            bit_to_flip = int(math.log2(self.lines)) - stage - 1\n",
    "            stage_width = 1+bit_to_flip\n",
    "            for line in range(0, self.lines):\n",
    "                if line&(1<<bit_to_flip) == 0:\n",
    "                    # starting line\n",
    "                    node0 = self.node_id(line, stage, 0)\n",
    "                    node1 = self.node_id(line, stage, 1)\n",
    "                    node2 = self.node_id( flip_bit(line, bit_to_flip), stage, 0)\n",
    "                    node3 = self.node_id( flip_bit(line, bit_to_flip), stage, 1)\n",
    "                    self.Butterfly.add_node(node0, weight = {'value': self.null_label})\n",
    "                    self.Butterfly.add_node(node1, weight = {'value': self.null_label})\n",
    "                    self.Butterfly.add_node(node2, weight = {'value': self.null_label})\n",
    "                    self.Butterfly.add_node(node3, weight = {'value': self.null_label})\n",
    "                    self.Butterfly.add_edge(node0, node1, weight={\"carry\": self.null_label, \"epoch\": 0})\n",
    "                    self.Butterfly.add_edge(node0, node3, weight={\"carry\": self.null_label, \"epoch\": 0})\n",
    "                    self.Butterfly.add_edge(node2, node1, weight={\"carry\": self.null_label, \"epoch\": 0})\n",
    "                    self.Butterfly.add_edge(node2, node3, weight={\"carry\": self.null_label, \"epoch\": 0})\n",
    "                    self.layout[node0] = [ stage_x_starts,   - line + self.lines/2, 0 ]\n",
    "                    self.layout[node1] = [ stage_x_starts+stage_width, - line + self.lines/2, 0 ]\n",
    "                    self.layout[node2] = [ stage_x_starts,   - flip_bit(line, bit_to_flip) + self.lines/2, 0 ]\n",
    "                    self.layout[node3] = [ stage_x_starts+stage_width, - flip_bit(line, bit_to_flip) + self.lines/2, 0 ]\n",
    "\n",
    "            stage_x_starts = stage_x_starts + stage_width + 1\n",
    "\n",
    "        minx = min([x[0] for x in self.layout.values()])\n",
    "        maxx = max([x[0] for x in self.layout.values()])\n",
    "        miny = min([x[1] for x in self.layout.values()])\n",
    "        maxy = max([x[1] for x in self.layout.values()])\n",
    "\n",
    "        # Input and output nodes\n",
    "        for line in range(0, self.lines):\n",
    "            self.Butterfly.add_node(self.input_node(line), weight = {'value': self.null_label})\n",
    "            self.Butterfly.add_edge(self.input_node(line), self.node_id(line, 0, 0), weight={\"carry\": self.null_label, \"epoch\": 0})\n",
    "            self.Butterfly.add_node(self.output_node(line), weight = {'value': self.null_label})\n",
    "            self.Butterfly.add_edge(self.node_id(line, int(math.log2(self.lines))-1, 1), self.output_node(line), weight={\"carry\": self.null_label, \"epoch\": 0})\n",
    "            self.layout[self.input_node(line)] = [minx-1, maxy - line, 0]\n",
    "            self.layout[self.output_node(line)] = [maxx+1, maxy - line, 0]\n",
    "\n",
    "        for stage in range(0, int(math.log2(self.lines))-1):\n",
    "            for line in range(0, self.lines):\n",
    "                source = self.node_id(line, stage, 1)\n",
    "                dest   = self.node_id(line, stage+1, 0)\n",
    "                self.Butterfly.add_edge(source, dest, weight={\"carry\": self.null_label, \"epoch\": 0})\n",
    "\n",
    "        self.epoch = 0\n",
    "        \n",
    "    def get(self):\n",
    "        return (self.Butterfly, self.layout)#, self.edges_labels_pos)\n",
    "\n",
    "    def set_input(self, in_seq):\n",
    "        self.in_seq = in_seq\n",
    "\n",
    "    def init_computation(self):\n",
    "        for n, v in zip(self.inputs(), self.in_seq):\n",
    "            self.Butterfly.nodes[n]['weight']['value'] = str(v)\n",
    "\n",
    "    def compute_iteration(self):\n",
    "        None\n",
    "        \n",
    "    def read_output(self):\n",
    "        None"
   ]
  },
  {
   "cell_type": "code",
   "execution_count": 768,
   "metadata": {},
   "outputs": [
    {
     "data": {
      "text/html": [
       "<pre style=\"white-space:pre;overflow-x:auto;line-height:normal;font-family:Menlo,'DejaVu Sans Mono',consolas,'Courier New',monospace\">Manim Community <span style=\"color: #008000; text-decoration-color: #008000\">v0.18.1</span>\n",
       "\n",
       "</pre>\n"
      ],
      "text/plain": [
       "Manim Community \u001b[32mv0.\u001b[0m\u001b[32m18.1\u001b[0m\n",
       "\n"
      ]
     },
     "metadata": {},
     "output_type": "display_data"
    },
    {
     "name": "stdout",
     "output_type": "stream",
     "text": [
      "Iteration 0\n"
     ]
    },
    {
     "name": "stderr",
     "output_type": "stream",
     "text": [
      "                                                                                                                    \r"
     ]
    },
    {
     "name": "stdout",
     "output_type": "stream",
     "text": [
      "Nothing to add: 'butterfly' object has no attribute 'additional_items_to_draw'\n"
     ]
    },
    {
     "data": {
      "text/html": [
       "<video src=\"media/jupyter/ShowButterfly@2024-12-20@17-45-39.mp4\" controls autoplay loop style=\"max-width: 100%;\"  >\n",
       "      Your browser does not support the <code>video</code> element.\n",
       "    </video>"
      ],
      "text/plain": [
       "<IPython.core.display.Video object>"
      ]
     },
     "metadata": {},
     "output_type": "display_data"
    }
   ],
   "source": [
    "%%manim -qm ShowButterfly\n",
    "\n",
    "config.frame_width = 32\n",
    "import random\n",
    "\n",
    "class ShowButterfly(Scene):\n",
    "    \n",
    "    def construct(self):\n",
    "        nleaves = 16\n",
    "        network = butterfly(nleaves, delay=1)\n",
    "        firsthalf = [random.randint(0, nleaves) for x in range(0, nleaves>>1)]\n",
    "        firsthalf.sort()\n",
    "        secondhalf = [random.randint(0, nleaves) for x in range(0, nleaves>>1)]\n",
    "        secondhalf.sort(reverse=True)\n",
    "        network.set_input(firsthalf + secondhalf)\n",
    "        generic_run(self, network)\n",
    "        #print(network.read_output())"
   ]
  },
  {
   "cell_type": "code",
   "execution_count": 776,
   "metadata": {},
   "outputs": [
    {
     "data": {
      "text/html": [
       "<pre style=\"white-space:pre;overflow-x:auto;line-height:normal;font-family:Menlo,'DejaVu Sans Mono',consolas,'Courier New',monospace\">Manim Community <span style=\"color: #008000; text-decoration-color: #008000\">v0.18.1</span>\n",
       "\n",
       "</pre>\n"
      ],
      "text/plain": [
       "Manim Community \u001b[32mv0.\u001b[0m\u001b[32m18.1\u001b[0m\n",
       "\n"
      ]
     },
     "metadata": {},
     "output_type": "display_data"
    },
    {
     "name": "stdout",
     "output_type": "stream",
     "text": [
      "Iteration 0\n"
     ]
    },
    {
     "name": "stderr",
     "output_type": "stream",
     "text": [
      "                                                                                                                    \r"
     ]
    },
    {
     "name": "stdout",
     "output_type": "stream",
     "text": [
      "Nothing to add: 'BitonicSequenceMerge' object has no attribute 'additional_items_to_draw'\n",
      "Iteration 1\n"
     ]
    },
    {
     "name": "stderr",
     "output_type": "stream",
     "text": [
      "                                                                                                                             \r"
     ]
    },
    {
     "name": "stdout",
     "output_type": "stream",
     "text": [
      "Iteration 2\n"
     ]
    },
    {
     "name": "stderr",
     "output_type": "stream",
     "text": [
      "                                                                                                                             \r"
     ]
    },
    {
     "name": "stdout",
     "output_type": "stream",
     "text": [
      "Iteration 3\n"
     ]
    },
    {
     "name": "stderr",
     "output_type": "stream",
     "text": [
      "                                                                                                                             \r"
     ]
    },
    {
     "name": "stdout",
     "output_type": "stream",
     "text": [
      "Iteration 4\n"
     ]
    },
    {
     "name": "stderr",
     "output_type": "stream",
     "text": [
      "                                                                                                                              \r"
     ]
    },
    {
     "name": "stdout",
     "output_type": "stream",
     "text": [
      "Iteration 5\n"
     ]
    },
    {
     "name": "stderr",
     "output_type": "stream",
     "text": [
      "                                                                                                                              \r"
     ]
    },
    {
     "name": "stdout",
     "output_type": "stream",
     "text": [
      "Iteration 6\n"
     ]
    },
    {
     "name": "stderr",
     "output_type": "stream",
     "text": [
      "                                                                                                                              \r"
     ]
    },
    {
     "name": "stdout",
     "output_type": "stream",
     "text": [
      "Iteration 7\n"
     ]
    },
    {
     "name": "stderr",
     "output_type": "stream",
     "text": [
      "                                                                                                                              \r"
     ]
    },
    {
     "name": "stdout",
     "output_type": "stream",
     "text": [
      "Iteration 8\n"
     ]
    },
    {
     "name": "stderr",
     "output_type": "stream",
     "text": [
      "                                                                                                                              \r"
     ]
    },
    {
     "name": "stdout",
     "output_type": "stream",
     "text": [
      "Iteration 9\n"
     ]
    },
    {
     "name": "stderr",
     "output_type": "stream",
     "text": [
      "                                                                                                                              \r"
     ]
    },
    {
     "name": "stdout",
     "output_type": "stream",
     "text": [
      "Iteration 10\n"
     ]
    },
    {
     "name": "stderr",
     "output_type": "stream",
     "text": [
      "                                                                                                                        \r"
     ]
    },
    {
     "data": {
      "text/html": [
       "<video src=\"media/jupyter/BitonicMerge@2024-12-20@17-56-54.mp4\" controls autoplay loop style=\"max-width: 100%;\"  >\n",
       "      Your browser does not support the <code>video</code> element.\n",
       "    </video>"
      ],
      "text/plain": [
       "<IPython.core.display.Video object>"
      ]
     },
     "metadata": {},
     "output_type": "display_data"
    }
   ],
   "source": [
    "%%manim -qm BitonicMerge\n",
    "\n",
    "config.frame_width = 32\n",
    "\n",
    "class BitonicSequenceMerge(butterfly):\n",
    "    def __init__(self, nlines, **kwargs):\n",
    "        super(BitonicSequenceMerge, self).__init__(nlines, **kwargs)\n",
    "\n",
    "    def compute_iteration(self):\n",
    "        some_updates = False\n",
    "        for node in self.Butterfly:\n",
    "            if node in self.inputs():\n",
    "                if self.epoch == 0:\n",
    "                    for u, v, d in self.Butterfly.out_edges(node, data=True):\n",
    "                        assert(u==node)\n",
    "                        if self.Butterfly.nodes[node]['weight']['value'] != self.null_label:\n",
    "                            some_updates = True\n",
    "                            d['weight']['carry'] = self.Butterfly.nodes[node]['weight']['value']\n",
    "                            d['weight']['epoch'] = self.epoch+1\n",
    "                else:\n",
    "                    None\n",
    "            else:\n",
    "                if node in self.outputs():\n",
    "                    in_a = None\n",
    "                    for u, v, e in self.Butterfly.in_edges(node, data=True):\n",
    "                        in_a = e\n",
    "                    assert(in_a != None)\n",
    "\n",
    "                    if in_a['weight']['carry'] != self.null_label and in_a['weight']['epoch'] <= self.epoch:\n",
    "                        some_updates = True\n",
    "                        self.Butterfly.nodes[node]['weight']['value'] = in_a['weight']['carry']\n",
    "                        in_a['weight']['carry'] = self.null_label\n",
    "\n",
    "                else:\n",
    "                    line, stage, comp = self.items_from_node_id(node)\n",
    "                    #print(f'node {node} ({line}, {stage}, {comp})')\n",
    "                    if comp == 0: # First stage of the comparator\n",
    "                        in_a = None\n",
    "                        for u, v, e in self.Butterfly.in_edges(node, data=True):\n",
    "                            in_a = e\n",
    "\n",
    "                        out = []\n",
    "                        for u, v, e in self.Butterfly.out_edges(node, data=True):\n",
    "                            out.append(e)\n",
    "\n",
    "                        assert(len(out) == 2)\n",
    "                        assert(in_a != None)\n",
    "                        if in_a['weight']['carry'] != self.null_label and in_a['weight']['epoch'] <= self.epoch:\n",
    "                            some_updates = True\n",
    "                            self.Butterfly.nodes[node]['weight']['value'] = in_a['weight']['carry']\n",
    "                            out[0]['weight']['carry'] = self.Butterfly.nodes[node]['weight']['value']\n",
    "                            out[0]['weight']['epoch'] = self.epoch+1\n",
    "                            out[1]['weight']['carry'] = self.Butterfly.nodes[node]['weight']['value']\n",
    "                            out[1]['weight']['epoch'] = self.epoch+1\n",
    "                            in_a['weight']['carry'] = self.null_label\n",
    "                    else:\n",
    "                        assert(comp==1)\n",
    "                        out_a = None\n",
    "                        for u, v, e in self.Butterfly.out_edges(node, data=True):\n",
    "                            out_a = e\n",
    "                        ins = []\n",
    "                        for u, v, e in self.Butterfly.in_edges(node, data=True):\n",
    "                            ins.append(e)\n",
    "                        assert(len(ins) == 2)\n",
    "                        assert(out_a != None)\n",
    "                        if ins[0]['weight']['carry'] != self.null_label and ins[1]['weight']['carry'] != self.null_label and ins[0]['weight']['epoch'] <= self.epoch and ins[1]['weight']['epoch'] <= self.epoch:\n",
    "                            #if stage%2==0:\n",
    "                                if line%2==stage%2:\n",
    "                                    # Up\n",
    "                                    some_updates = True\n",
    "                                    out_a['weight']['carry'] = str(min(int(ins[0]['weight']['carry']), int(ins[1]['weight']['carry'])))\n",
    "                                    self.Butterfly.nodes[node]['weight']['value'] = out_a['weight']['carry']\n",
    "                                    out_a['weight']['epoch'] = self.epoch+1\n",
    "                                    ins[0]['weight']['carry'] = self.null_label\n",
    "                                    ins[1]['weight']['carry'] = self.null_label\n",
    "                                else:\n",
    "                                    # Down\n",
    "                                    some_updates = True\n",
    "                                    out_a['weight']['carry'] = str(max(int(ins[0]['weight']['carry']), int(ins[1]['weight']['carry'])))\n",
    "                                    self.Butterfly.nodes[node]['weight']['value'] = out_a['weight']['carry']\n",
    "                                    out_a['weight']['epoch'] = self.epoch+1\n",
    "                                    ins[0]['weight']['carry'] = self.null_label\n",
    "                                    ins[1]['weight']['carry'] = self.null_label\n",
    "\n",
    "        self.epoch = self.epoch + 1\n",
    "        return some_updates\n",
    "    \n",
    "class BitonicMerge(Scene):\n",
    "    \n",
    "    def construct(self):\n",
    "        nleaves = 16\n",
    "        network = BitonicSequenceMerge(nleaves, delay=1)\n",
    "        firsthalf = [random.randint(0, nleaves) for x in range(0, nleaves>>1)]\n",
    "        firsthalf.sort()\n",
    "        secondhalf = [random.randint(0, nleaves) for x in range(0, nleaves>>1)]\n",
    "        secondhalf.sort(reverse=True)\n",
    "        network.set_input(firsthalf + secondhalf)\n",
    "        generic_run(self, network)\n",
    "        #print(network.read_output())"
   ]
  },
  {
   "cell_type": "code",
   "execution_count": 722,
   "metadata": {},
   "outputs": [
    {
     "data": {
      "text/html": [
       "<pre style=\"white-space:pre;overflow-x:auto;line-height:normal;font-family:Menlo,'DejaVu Sans Mono',consolas,'Courier New',monospace\">Manim Community <span style=\"color: #008000; text-decoration-color: #008000\">v0.18.1</span>\n",
       "\n",
       "</pre>\n"
      ],
      "text/plain": [
       "Manim Community \u001b[32mv0.\u001b[0m\u001b[32m18.1\u001b[0m\n",
       "\n"
      ]
     },
     "metadata": {},
     "output_type": "display_data"
    },
    {
     "name": "stdout",
     "output_type": "stream",
     "text": [
      "                          ITERATION 1 (width=14)\n",
      "new_nodes = {1: VGroup(Dot, Text('1'))}\n"
     ]
    },
    {
     "name": "stderr",
     "output_type": "stream",
     "text": [
      "                                                                                                      \r"
     ]
    },
    {
     "name": "stdout",
     "output_type": "stream",
     "text": [
      "nodes: {0: VGroup(Dot, Text('0')), 1: VGroup(Dot, Text('1'))}\n",
      "edges: dict_keys([(0, 1)])\n",
      "                          ITERATION 2 (width=18)\n",
      "new_nodes = {2: VGroup(Dot, Text('10')), 3: VGroup(Dot, Text('11'))}\n"
     ]
    },
    {
     "name": "stderr",
     "output_type": "stream",
     "text": [
      "                                                                                                              \r"
     ]
    },
    {
     "name": "stdout",
     "output_type": "stream",
     "text": [
      "nodes: {0: VGroup(Dot, Text('0')), 1: VGroup(Dot, Text('1')), 2: VGroup(Dot, Text('10')), 3: VGroup(Dot, Text('11'))}\n",
      "edges: dict_keys([(0, 1), (0, 2), (1, 3), (2, 3)])\n",
      "                          ITERATION 3 (width=30)\n",
      "new_nodes = {4: VGroup(Dot, Text('100')), 5: VGroup(Dot, Text('101')), 6: VGroup(Dot, Text('110')), 7: VGroup(Dot, Text('111'))}\n"
     ]
    },
    {
     "name": "stderr",
     "output_type": "stream",
     "text": [
      "                                                                                                    \r"
     ]
    },
    {
     "name": "stdout",
     "output_type": "stream",
     "text": [
      "nodes: {0: VGroup(Dot, Text('0')), 1: VGroup(Dot, Text('1')), 2: VGroup(Dot, Text('10')), 3: VGroup(Dot, Text('11')), 4: VGroup(Dot, Text('100')), 5: VGroup(Dot, Text('101')), 6: VGroup(Dot, Text('110')), 7: VGroup(Dot, Text('111'))}\n",
      "edges: dict_keys([(0, 1), (0, 2), (1, 3), (2, 3), (0, 4), (1, 5), (2, 6), (3, 7), (4, 5), (4, 6), (5, 7), (6, 7)])\n",
      "                          ITERATION 4 (width=32)\n",
      "new_nodes = {8: VGroup(Dot, Text('1000')), 9: VGroup(Dot, Text('1001')), 10: VGroup(Dot, Text('1010')), 11: VGroup(Dot, Text('1011')), 12: VGroup(Dot, Text('1100')), 13: VGroup(Dot, Text('1101')), 14: VGroup(Dot, Text('1110')), 15: VGroup(Dot, Text('1111'))}\n"
     ]
    },
    {
     "name": "stderr",
     "output_type": "stream",
     "text": [
      "                                                                                                    \r"
     ]
    },
    {
     "name": "stdout",
     "output_type": "stream",
     "text": [
      "nodes: {0: VGroup(Dot, Text('0')), 1: VGroup(Dot, Text('1')), 2: VGroup(Dot, Text('10')), 3: VGroup(Dot, Text('11')), 4: VGroup(Dot, Text('100')), 5: VGroup(Dot, Text('101')), 6: VGroup(Dot, Text('110')), 7: VGroup(Dot, Text('111')), 8: VGroup(Dot, Text('1000')), 9: VGroup(Dot, Text('1001')), 10: VGroup(Dot, Text('1010')), 11: VGroup(Dot, Text('1011')), 12: VGroup(Dot, Text('1100')), 13: VGroup(Dot, Text('1101')), 14: VGroup(Dot, Text('1110')), 15: VGroup(Dot, Text('1111'))}\n",
      "edges: dict_keys([(0, 1), (0, 2), (1, 3), (2, 3), (0, 4), (1, 5), (2, 6), (3, 7), (4, 5), (4, 6), (5, 7), (6, 7), (0, 8), (1, 9), (2, 10), (3, 11), (4, 12), (5, 13), (6, 14), (7, 15), (8, 9), (8, 10), (8, 12), (9, 11), (9, 13), (10, 11), (10, 14), (11, 15), (12, 13), (12, 14), (13, 15), (14, 15)])\n",
      "                          ITERATION 5 (width=34)\n",
      "new_nodes = {16: VGroup(Dot, Text('10000')), 17: VGroup(Dot, Text('10001')), 18: VGroup(Dot, Text('10010')), 19: VGroup(Dot, Text('10011')), 20: VGroup(Dot, Text('10100')), 21: VGroup(Dot, Text('10101')), 22: VGroup(Dot, Text('10110')), 23: VGroup(Dot, Text('10111')), 24: VGroup(Dot, Text('11000')), 25: VGroup(Dot, Text('11001')), 26: VGroup(Dot, Text('11010')), 27: VGroup(Dot, Text('11011')), 28: VGroup(Dot, Text('11100')), 29: VGroup(Dot, Text('11101')), 30: VGroup(Dot, Text('11110')), 31: VGroup(Dot, Text('11111'))}\n"
     ]
    },
    {
     "name": "stderr",
     "output_type": "stream",
     "text": [
      "                                                                                                    \r"
     ]
    },
    {
     "name": "stdout",
     "output_type": "stream",
     "text": [
      "nodes: {0: VGroup(Dot, Text('0')), 1: VGroup(Dot, Text('1')), 2: VGroup(Dot, Text('10')), 3: VGroup(Dot, Text('11')), 4: VGroup(Dot, Text('100')), 5: VGroup(Dot, Text('101')), 6: VGroup(Dot, Text('110')), 7: VGroup(Dot, Text('111')), 8: VGroup(Dot, Text('1000')), 9: VGroup(Dot, Text('1001')), 10: VGroup(Dot, Text('1010')), 11: VGroup(Dot, Text('1011')), 12: VGroup(Dot, Text('1100')), 13: VGroup(Dot, Text('1101')), 14: VGroup(Dot, Text('1110')), 15: VGroup(Dot, Text('1111')), 16: VGroup(Dot, Text('10000')), 17: VGroup(Dot, Text('10001')), 18: VGroup(Dot, Text('10010')), 19: VGroup(Dot, Text('10011')), 20: VGroup(Dot, Text('10100')), 21: VGroup(Dot, Text('10101')), 22: VGroup(Dot, Text('10110')), 23: VGroup(Dot, Text('10111')), 24: VGroup(Dot, Text('11000')), 25: VGroup(Dot, Text('11001')), 26: VGroup(Dot, Text('11010')), 27: VGroup(Dot, Text('11011')), 28: VGroup(Dot, Text('11100')), 29: VGroup(Dot, Text('11101')), 30: VGroup(Dot, Text('11110')), 31: VGroup(Dot, Text('11111'))}\n",
      "edges: dict_keys([(0, 1), (0, 2), (1, 3), (2, 3), (0, 4), (1, 5), (2, 6), (3, 7), (4, 5), (4, 6), (5, 7), (6, 7), (0, 8), (1, 9), (2, 10), (3, 11), (4, 12), (5, 13), (6, 14), (7, 15), (8, 9), (8, 10), (8, 12), (9, 11), (9, 13), (10, 11), (10, 14), (11, 15), (12, 13), (12, 14), (13, 15), (14, 15), (0, 16), (1, 17), (2, 18), (3, 19), (4, 20), (5, 21), (6, 22), (7, 23), (8, 24), (9, 25), (10, 26), (11, 27), (12, 28), (13, 29), (14, 30), (15, 31), (16, 17), (16, 18), (16, 20), (16, 24), (17, 19), (17, 21), (17, 25), (18, 19), (18, 22), (18, 26), (19, 23), (19, 27), (20, 21), (20, 22), (20, 28), (21, 23), (21, 29), (22, 23), (22, 30), (23, 31), (24, 25), (24, 26), (24, 28), (25, 27), (25, 29), (26, 27), (26, 30), (27, 31), (28, 29), (28, 30), (29, 31), (30, 31)])\n"
     ]
    },
    {
     "data": {
      "text/html": [
       "<video src=\"media/jupyter/Hypercube@2024-12-20@15-07-36.mp4\" controls autoplay loop style=\"max-width: 100%;\"  >\n",
       "      Your browser does not support the <code>video</code> element.\n",
       "    </video>"
      ],
      "text/plain": [
       "<IPython.core.display.Video object>"
      ]
     },
     "metadata": {},
     "output_type": "display_data"
    }
   ],
   "source": [
    "%%manim -qm Hypercube\n",
    "\n",
    "config.frame_width = 10\n",
    "import random\n",
    "\n",
    "def draw_node(id, bits, pos):\n",
    "    result = VGroup()\n",
    "    f = \"{0:0\"+str(bits)+\"b}\"\n",
    "    text = Text(f.format(id), color=BLACK, font='monospace', font_size=16).move_to(pos)\n",
    "    #print(f'radius=max(text.width, text.height) = radius=max({text.width}, {text.height}) = {max(text.width, text.height)}')\n",
    "    circle = Dot(point=pos, radius=max(text.width, text.height), color=WHITE)\n",
    "    return result.add(circle, text)\n",
    "\n",
    "class myarch(ArcBetweenPoints):\n",
    "    def __init__(self, *args, **kwargs):\n",
    "        super(myarch, self).__init__(angle=PI/3, *args, **kwargs)\n",
    "\n",
    "class Hypercube(MovingCameraScene):\n",
    "\n",
    "    def construct(self):\n",
    "        edges_full = {}\n",
    "        new_nodes = []\n",
    "\n",
    "        nodes = {0: draw_node(0, 0, [0,0,0])}\n",
    "        nodes[0].z_index = 1\n",
    "        self.add(nodes[0])\n",
    "        Title = Text(\"Hyercube\").move_to(UP)\n",
    "\n",
    "        shifts = [[0,0,0], [-2, 0, 0], [0,-2,0], [-1,-1,0], [-2, -4, 0], [-4, 1, 0], [0,0,0]]\n",
    "        arches = [Line, Line, Line, Line, Line, Line, Line]\n",
    "        widths = [0, 14, 18, 30, 32, 34, 34]\n",
    "        for bits in range(1, 6):\n",
    "            print(f'                          ITERATION {bits} (width={widths[bits]})')\n",
    "            new_nodes = {i+len(nodes) : draw_node(i+len(nodes), bits, nodes[i].get_center()) for i in range(0, len(nodes))}\n",
    "            print(f'new_nodes = {new_nodes}')\n",
    "            new_sub_edges = {}\n",
    "            new_cross_edges = {}\n",
    "            f = \"{0:0\"+str(bits)+\"b}\"\n",
    "            for src in range(0, len(nodes)+len(new_nodes)):\n",
    "                for dst in range(src, len(nodes)+len(new_nodes)):\n",
    "                    if not (src,dst) in edges_full:\n",
    "                        if count_ones(src^dst)==1:\n",
    "                            if not src in nodes:\n",
    "                                new_sub_edges[(src, dst)] = arches[bits](new_nodes[src], new_nodes[dst])\n",
    "                            else:\n",
    "                                assert(src in nodes)\n",
    "                                new_cross_edges[(src, dst)] = arches[bits](nodes[src], new_nodes[dst])\n",
    "            self.play(*[n.animate.shift(shifts[bits]) for n in nodes.values()],\n",
    "                        *[e.animate.shift(shifts[bits]) for e in edges_full.values()])\n",
    "            update_labels = [draw_node(i, bits, nodes[i].get_center()) for i in range(0, len(nodes))]\n",
    "\n",
    "            self.play(*[Transform(nodes[i], update_labels[i]) for i in range(0, len(nodes))]) \n",
    "\n",
    "            for i in range(0, len(nodes)):\n",
    "                new_nodes[i+len(nodes)].move_to(nodes[i])\n",
    "                new_nodes[i+len(nodes)].z_index = 1\n",
    "            [new_sub_edges[(i,j)].put_start_and_end_on(new_nodes[i].get_center(),new_nodes[j].get_center()) for (i,j) in new_sub_edges]\n",
    "\n",
    "            self.play(*[Create(n) for n in new_nodes.values()], *[Create(e) for e in new_sub_edges.values()], run_time=0.01)\n",
    "            self.play(*[n.animate.shift([-2*i for i in shifts[bits]]) for n in new_nodes.values()],\n",
    "                         *[e.animate.shift([-2*i for i in shifts[bits]]) for e in new_sub_edges.values()])\n",
    "            if new_cross_edges:\n",
    "                [new_cross_edges[(i,j)].put_start_and_end_on(nodes[i].get_center(),new_nodes[j].get_center()) for (i,j) in new_cross_edges]\n",
    "\n",
    "                self.play(self.camera.frame.animate.set(width=widths[bits]),*[Create(e) for e in new_cross_edges.values()])\n",
    "            self.wait(1)\n",
    "            nodes = nodes | new_nodes\n",
    "            edges_full = edges_full | new_cross_edges | new_sub_edges\n",
    "            print(f'nodes: {nodes}')\n",
    "            print(f'edges: {edges_full.keys()}')\n",
    "        self.wait(2)\n"
   ]
  }
 ],
 "metadata": {
  "kernelspec": {
   "display_name": ".ve",
   "language": "python",
   "name": "python3"
  },
  "language_info": {
   "codemirror_mode": {
    "name": "ipython",
    "version": 3
   },
   "file_extension": ".py",
   "mimetype": "text/x-python",
   "name": "python",
   "nbconvert_exporter": "python",
   "pygments_lexer": "ipython3",
   "version": "3.12.6"
  }
 },
 "nbformat": 4,
 "nbformat_minor": 2
}
