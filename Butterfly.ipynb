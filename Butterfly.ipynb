{
 "cells": [
  {
   "cell_type": "code",
   "execution_count": 53,
   "metadata": {},
   "outputs": [],
   "source": [
    "import networkx as nx\n",
    "from manim import *\n",
    "import math\n",
    "\n",
    "config.media_width = \"100%\"\n",
    "config.verbosity = \"WARNING\""
   ]
  },
  {
   "cell_type": "code",
   "execution_count": 54,
   "metadata": {},
   "outputs": [],
   "source": [
    "# Bitwise operations needed\n",
    "def flip_bit(a, n):\n",
    "\t# a: number to modify\n",
    "\t# n: bit to flip (starting at 0)\n",
    "\tx = 1<<n\n",
    "\treturn a^x"
   ]
  },
  {
   "cell_type": "code",
   "execution_count": 55,
   "metadata": {},
   "outputs": [],
   "source": [
    "# Test bitwise operations\n",
    "assert(flip_bit(7, 0) == 6)\n",
    "assert(flip_bit(7, 1) == 5)\n",
    "assert(flip_bit(7, 2) == 3)\n",
    "assert(flip_bit(7, 3) == 15)"
   ]
  },
  {
   "cell_type": "code",
   "execution_count": 244,
   "metadata": {},
   "outputs": [],
   "source": [
    "def generic_run(selfi, network, **kwargs):\n",
    "    null_label = kwargs['null_label'] if 'null_label' in kwargs else '-'\n",
    "    delay = kwargs['delay'] if 'delay' in kwargs else 1\n",
    "    (Network, layout) = network.get()\n",
    "\n",
    "    unet = Network.to_undirected()\n",
    "    network.init_computation()\n",
    "    finished = False\n",
    "    time = 0\n",
    "    while not finished:\n",
    "        print(f'Iteration {time}')\n",
    "        if time == 0:\n",
    "            G = Graph.from_networkx(Network, layout=layout, labels={i : Network.nodes[i]['weight']['value'] for i in Network}, \n",
    "                                    edge_config={(u,v): {'stroke_color': (WHITE if d['weight']['carry'] != null_label else GREEN),\n",
    "                                                         'stroke_width': (6 if d['weight']['carry'] != null_label else 1)} \n",
    "                                                         for u, v, d in Network.edges(data = True)},\n",
    "                                    vertex_config={u: {'fill_color': (WHITE if Network.nodes[u]['weight']['value'] != null_label else BLACK),\n",
    "                                                       'stroke_width': 2, 'stroke_color': WHITE}\n",
    "                                                   for u in Network.nodes})\n",
    "            selfi.add(G)\n",
    "            counter = Text(str(time)).to_edge(UL)\n",
    "            selfi.add(counter)\n",
    "            try:\n",
    "                list = network.additional_items_to_draw()\n",
    "                for item in list:\n",
    "                    if (item[0] == \"RectangleAroundNodes\"):\n",
    "                        group = Group(*[G[x] for x in item[1]])\n",
    "                        selfi.add(SurroundingRectangle(group))\n",
    "            except Exception as e:\n",
    "                print(\"Nothing to add:\", e)\n",
    "        else:\n",
    "            selfi.wait(delay)\n",
    "            G1 = Graph.from_networkx(Network, layout=layout, labels={i : Network.nodes[i]['weight']['value'] for i in Network}, \n",
    "                                    edge_config={(u,v): {'stroke_color': (WHITE if d['weight']['carry'] != null_label else GREEN),\n",
    "                                                         'stroke_width': (6 if d['weight']['carry'] != null_label else 1)} \n",
    "                                                         for u, v, d in Network.edges(data = True)},\n",
    "                                    vertex_config={u: {'fill_color': (WHITE if Network.nodes[u]['weight']['value'] != null_label else BLACK),\n",
    "                                                       'stroke_width': 2, 'stroke_color': WHITE}\n",
    "                                                   for u in Network.nodes})\n",
    "\n",
    "            new_texts_from = {(u, v): Text(str(Network[u][v]['weight']['carry']), color=RED, font_size=32)\n",
    "                        for u, v, d in Network.edges(data=True) if d['weight']['carry'] != null_label}\n",
    "            new_texts_to = {(u, v): Text(str(Network[u][v]['weight']['carry']), color=RED, font_size=32)\n",
    "                        for u, v, d in Network.edges(data=True) if d['weight']['carry'] != null_label}\n",
    "            selfi.play(Transform(G, G1), *[Transform(new_texts_from[(u, v)].move_to(G[u]), new_texts_to[(u, v)].move_to(G[v])) \n",
    "                                           for u, v, d in Network.edges(data=True) if d['weight']['carry'] != null_label], \n",
    "                        path_arc = 70 * DEGREES, run_time=1.5*delay)\n",
    "            selfi.play(Transform(counter, Text(str(time)).to_edge(UL)) ,*[FadeOut(new_texts_from[(u, v)]) for u, v, d in Network.edges(data=True) if d['weight']['carry'] != null_label])\n",
    "        finished = not network.compute_iteration()\n",
    "        time = time+1\n",
    "    selfi.wait(delay)\n"
   ]
  },
  {
   "cell_type": "markdown",
   "metadata": {},
   "source": [
    "## Odd-Even Sort"
   ]
  },
  {
   "cell_type": "code",
   "execution_count": 245,
   "metadata": {},
   "outputs": [],
   "source": [
    "class odd_even:\n",
    "    def node_id(self, line, stage, comparator):\n",
    "        assert(comparator>=0 and comparator < 4)\n",
    "        assert(line < self.lines)\n",
    "        assert(stage < self.lines)\n",
    "        return (line<<int(math.log2(self.lines)*2+2)) + (stage<<int(math.log2(self.lines)+2)) + comparator\n",
    "    \n",
    "    def items_from_node_id(self, nodeid):\n",
    "        return ((nodeid &  ((1<<int(math.log2(self.lines)))-1)<<int(math.log2(self.lines)*2+2)) >> int(math.log2(self.lines)*2+2),\n",
    "                (nodeid &  ((1<<int(math.log2(self.lines)))-1)<<int(math.log2(self.lines)+2)) >> int(math.log2(self.lines)+2),\n",
    "                nodeid&3)\n",
    "\n",
    "    def input_node(self, line):\n",
    "        return -(line+1)\n",
    "    \n",
    "    def inputs(self):\n",
    "        return range(-1, -(self.lines+1), -1)\n",
    "    \n",
    "    def output_node(self, line):\n",
    "        return -(line+1)-2*self.lines\n",
    "\n",
    "    def outputs(self):\n",
    "        return range(-1-2*self.lines, -(self.lines+1)-2*self.lines, -1)\n",
    "    \n",
    "    def __init__(self, nlines, **kwargs):\n",
    "        #print(kwargs)\n",
    "        self.null_label = kwargs['null_label'] if 'null_label' in kwargs else '-'\n",
    "        self.verbose = kwargs['verbose'] if 'verbose' in kwargs else False\n",
    "\n",
    "        # nbits is the number of bits of the operation\n",
    "        # N is the number of nodes in the tree (2^n-1). Nodes in the tree will be from 0 to 2^n-2\n",
    "        self.lines = nlines\n",
    "        self.N = 2*nlines-1\n",
    "\n",
    "        self.OddEven = nx.DiGraph()\n",
    "        self.layout = {}\n",
    "        for stage in range(0, self.lines):\n",
    "            for line in range((stage%2), self.lines-(stage%2), 2):\n",
    "                #print(f'{stage}, {line}: {self.node_id(line, stage, 0)} {self.node_id(line, stage, 1)} {self.node_id(line+1, stage, 0)} {self.node_id(line+1, stage, 1)}')\n",
    "                if stage%2 == 0:\n",
    "                    self.OddEven.add_node(self.node_id(line, stage, 0), weight = {'value': self.null_label})\n",
    "                    self.OddEven.add_node(self.node_id(line, stage, 1), weight = {'value': self.null_label})\n",
    "                    self.OddEven.add_node(self.node_id(line+1, stage, 0), weight = {'value': self.null_label})\n",
    "                    self.OddEven.add_node(self.node_id(line+1, stage, 1), weight = {'value': self.null_label})\n",
    "                    self.OddEven.add_edge(self.node_id(line, stage, 0), self.node_id(line, stage, 1), weight={\"carry\": self.null_label, \"epoch\": 0})\n",
    "                    self.OddEven.add_edge(self.node_id(line+1, stage, 0), self.node_id(line+1, stage, 1), weight={\"carry\": self.null_label, \"epoch\": 0})\n",
    "                    self.OddEven.add_edge(self.node_id(line, stage, 0), self.node_id(line+1, stage, 1), weight={\"carry\": self.null_label, \"epoch\": 0})\n",
    "                    self.OddEven.add_edge(self.node_id(line+1, stage, 0), self.node_id(line, stage, 1), weight={\"carry\": self.null_label, \"epoch\": 0})\n",
    "                    self.layout[self.node_id(line, stage, 0)] = [2*stage - self.lines+1, -(line - self.lines/2+1), 0]\n",
    "                    self.layout[self.node_id(line, stage, 1)] = [2*stage+1 - self.lines+1, -(line - self.lines/2+1), 0]\n",
    "                    self.layout[self.node_id(line+1, stage, 0)] = [2*stage - self.lines+1, -(line+1 - self.lines/2+1), 0]\n",
    "                    self.layout[self.node_id(line+1, stage, 1)] = [2*stage+1 - self.lines+1, -(line+1 - self.lines/2+1), 0]\n",
    "                else:\n",
    "                    self.OddEven.add_node(self.node_id(line, stage, 0), weight = {'value': self.null_label})\n",
    "                    self.OddEven.add_node(self.node_id(line, stage, 1), weight = {'value': self.null_label})\n",
    "                    self.OddEven.add_node(self.node_id(line+1, stage, 0), weight = {'value': self.null_label})\n",
    "                    self.OddEven.add_node(self.node_id(line+1, stage, 1), weight = {'value': self.null_label})\n",
    "                    self.OddEven.add_edge(self.node_id(line, stage, 0), self.node_id(line, stage, 1), weight={\"carry\": self.null_label, \"epoch\": 0})\n",
    "                    self.OddEven.add_edge(self.node_id(line+1, stage, 0), self.node_id(line+1, stage, 1), weight={\"carry\": self.null_label, \"epoch\": 0})\n",
    "                    self.OddEven.add_edge(self.node_id(line, stage, 0), self.node_id(line+1, stage, 1), weight={\"carry\": self.null_label, \"epoch\": 0})\n",
    "                    self.OddEven.add_edge(self.node_id(line+1, stage, 0), self.node_id(line, stage, 1), weight={\"carry\": self.null_label, \"epoch\": 0})\n",
    "                    self.layout[self.node_id(line, stage, 0)] = [2*stage - self.lines+1, -(line - self.lines/2+1), 0]\n",
    "                    self.layout[self.node_id(line, stage, 1)] = [2*stage+1 - self.lines+1, -(line - self.lines/2+1), 0]\n",
    "                    self.layout[self.node_id(line+1, stage, 0)] = [2*stage - self.lines+1, -(line+1 - self.lines/2+1), 0]\n",
    "                    self.layout[self.node_id(line+1, stage, 1)] = [2*stage+1 - self.lines+1, -(line+1 - self.lines/2+1), 0]\n",
    "\n",
    "        # Input and output nodes\n",
    "        for line in range(0, self.lines):\n",
    "            self.OddEven.add_node(self.input_node(line), weight = {'value': self.null_label})\n",
    "            self.OddEven.add_edge(self.input_node(line), self.node_id(line, 0, 0), weight={\"carry\": self.null_label, \"epoch\": 0})\n",
    "            self.OddEven.add_node(self.output_node(line), weight = {'value': self.null_label})\n",
    "            if line == 0 or line == self.lines-1:\n",
    "                self.OddEven.add_edge(self.node_id(line, self.lines-2, 1), self.output_node(line), weight={\"carry\": self.null_label, \"epoch\": 0})\n",
    "            else:\n",
    "                self.OddEven.add_edge(self.node_id(line, self.lines-1, 1), self.output_node(line), weight={\"carry\": self.null_label, \"epoch\": 0})\n",
    "            self.layout[self.input_node(line)] = [0 - self.lines - 1+1, -(line - self.lines/2+1), 0]\n",
    "            self.layout[self.output_node(line)] = [2*self.lines - self.lines - 2+3, -(line - self.lines/2+1), 0]\n",
    "\n",
    "        # Inter-comparator connections\n",
    "        for gap in range(0, self.lines-1):\n",
    "            for line in range(1, self.lines-1):\n",
    "                assert(self.node_id(line, gap, 1) in self.OddEven.nodes)\n",
    "                assert(self.node_id(line, gap+1, 0) in self.OddEven.nodes)\n",
    "                self.OddEven.add_edge(self.node_id(line, gap, 1), self.node_id(line, gap+1, 0), weight={\"carry\": self.null_label, \"epoch\": 0})\n",
    "        for gap in range(0, self.lines-2, 2):\n",
    "            assert(self.node_id(0, gap, 1) in self.OddEven.nodes)\n",
    "            assert(self.node_id(0, gap+2, 0) in self.OddEven.nodes)\n",
    "            self.OddEven.add_edge(self.node_id(0, gap, 1), self.node_id(0, gap+2, 0), weight={\"carry\": self.null_label, \"epoch\": 0})\n",
    "            self.OddEven.add_edge(self.node_id(self.lines-1, gap, 1), self.node_id(self.lines-1, gap+2, 0), weight={\"carry\": self.null_label, \"epoch\": 0})\n",
    "\n",
    "    def additional_items_to_draw(self):\n",
    "        list = []\n",
    "        list.append(('RectangleAroundNodes', [x for x in self.inputs()]))\n",
    "        list.append(('RectangleAroundNodes', [x for x in self.outputs()]))\n",
    "        return list\n",
    "\n",
    "    def set_input(self, seq):\n",
    "        self.seq = seq\n",
    "\n",
    "    def get(self):\n",
    "        return self.OddEven, self.layout\n",
    "\n",
    "    def init_computation(self):\n",
    "        for node, value in zip(self.inputs(), self.seq):\n",
    "            self.OddEven.nodes[node]['weight']['value'] = str(value)\n",
    "        self.epoch = 0\n",
    "\n",
    "    def compute_iteration(self):\n",
    "        some_updates = False\n",
    "        for node in self.OddEven:\n",
    "            if node in self.inputs():\n",
    "                if self.epoch == 0:\n",
    "                    for u, v, d in self.OddEven.out_edges(node, data=True):\n",
    "                        assert(u==node)\n",
    "                        if self.OddEven.nodes[node]['weight']['value'] != self.null_label:\n",
    "                            some_updates = True\n",
    "                            d['weight']['carry'] = self.OddEven.nodes[node]['weight']['value']\n",
    "                            d['weight']['epoch'] = self.epoch+1\n",
    "                else:\n",
    "                    None\n",
    "            else:\n",
    "                if node in self.outputs():\n",
    "                    in_a = None\n",
    "                    for u, v, e in self.OddEven.in_edges(node, data=True):\n",
    "                        in_a = e\n",
    "                    assert(in_a != None)\n",
    "\n",
    "                    if in_a['weight']['carry'] != self.null_label and in_a['weight']['epoch'] <= self.epoch:\n",
    "                        some_updates = True\n",
    "                        self.OddEven.nodes[node]['weight']['value'] = in_a['weight']['carry']\n",
    "                        in_a['weight']['carry'] = self.null_label\n",
    "\n",
    "                else:\n",
    "                    line, stage, comp = self.items_from_node_id(node)\n",
    "                    #print(f'node {node} ({line}, {stage}, {comp})')\n",
    "                    if comp == 0: # First stage of the comparator\n",
    "                        in_a = None\n",
    "                        for u, v, e in self.OddEven.in_edges(node, data=True):\n",
    "                            in_a = e\n",
    "\n",
    "                        out = []\n",
    "                        for u, v, e in self.OddEven.out_edges(node, data=True):\n",
    "                            out.append(e)\n",
    "\n",
    "                        assert(len(out) == 2)\n",
    "                        assert(in_a != None)\n",
    "                        if in_a['weight']['carry'] != self.null_label and in_a['weight']['epoch'] <= self.epoch:\n",
    "                            some_updates = True\n",
    "                            self.OddEven.nodes[node]['weight']['value'] = in_a['weight']['carry']\n",
    "                            out[0]['weight']['carry'] = self.OddEven.nodes[node]['weight']['value']\n",
    "                            out[0]['weight']['epoch'] = self.epoch+1\n",
    "                            out[1]['weight']['carry'] = self.OddEven.nodes[node]['weight']['value']\n",
    "                            out[1]['weight']['epoch'] = self.epoch+1\n",
    "                            in_a['weight']['carry'] = self.null_label\n",
    "                    else:\n",
    "                        assert(comp==1)\n",
    "                        out_a = None\n",
    "                        for u, v, e in self.OddEven.out_edges(node, data=True):\n",
    "                            out_a = e\n",
    "                        ins = []\n",
    "                        for u, v, e in self.OddEven.in_edges(node, data=True):\n",
    "                            ins.append(e)\n",
    "                        assert(len(ins) == 2)\n",
    "                        assert(out_a != None)\n",
    "                        if ins[0]['weight']['carry'] != self.null_label and ins[1]['weight']['carry'] != self.null_label and ins[0]['weight']['epoch'] <= self.epoch and ins[1]['weight']['epoch'] <= self.epoch:\n",
    "                            #if stage%2==0:\n",
    "                                if line%2==stage%2:\n",
    "                                    # Up\n",
    "                                    some_updates = True\n",
    "                                    out_a['weight']['carry'] = str(min(int(ins[0]['weight']['carry']), int(ins[1]['weight']['carry'])))\n",
    "                                    self.OddEven.nodes[node]['weight']['value'] = out_a['weight']['carry']\n",
    "                                    out_a['weight']['epoch'] = self.epoch+1\n",
    "                                    ins[0]['weight']['carry'] = self.null_label\n",
    "                                    ins[1]['weight']['carry'] = self.null_label\n",
    "                                else:\n",
    "                                    # Down\n",
    "                                    some_updates = True\n",
    "                                    out_a['weight']['carry'] = str(max(int(ins[0]['weight']['carry']), int(ins[1]['weight']['carry'])))\n",
    "                                    self.OddEven.nodes[node]['weight']['value'] = out_a['weight']['carry']\n",
    "                                    out_a['weight']['epoch'] = self.epoch+1\n",
    "                                    ins[0]['weight']['carry'] = self.null_label\n",
    "                                    ins[1]['weight']['carry'] = self.null_label\n",
    "\n",
    "        self.epoch = self.epoch + 1\n",
    "        return some_updates\n"
   ]
  },
  {
   "cell_type": "code",
   "execution_count": 202,
   "metadata": {},
   "outputs": [
    {
     "name": "stdout",
     "output_type": "stream",
     "text": [
      "All is OK!\n"
     ]
    }
   ],
   "source": [
    "for l in range(1, 6):\n",
    "    lines = 1<<l\n",
    "    net = odd_even(lines)\n",
    "    for line in range(0, lines, 2):\n",
    "        for stage in range(0, lines, 2):\n",
    "            for comp in range(0, 4):\n",
    "                id = net.node_id(line, stage, comp)\n",
    "                (l, s, c) = net.items_from_node_id(id)\n",
    "                assert(line == l)\n",
    "                assert(stage == s)\n",
    "                assert(comp == c)\n",
    "                id = net.node_id(line+1, stage, comp)\n",
    "                (l, s, c) = net.items_from_node_id(id)\n",
    "                assert(line+1 == l)\n",
    "                assert(stage == s)\n",
    "                assert(comp == c)\n",
    "                id = net.node_id(line, stage+1, comp)\n",
    "                (l, s, c) = net.items_from_node_id(id)\n",
    "                assert(line == l)\n",
    "                assert(stage+1 == s)\n",
    "                assert(comp == c)\n",
    "                id = net.node_id(line+1, stage+1, comp)\n",
    "                (l, s, c) = net.items_from_node_id(id)\n",
    "                assert(line+1 == l)\n",
    "                assert(stage+1 == s)\n",
    "                assert(comp == c)\n",
    "\n",
    "print(\"All is OK!\")\n"
   ]
  },
  {
   "cell_type": "code",
   "execution_count": 246,
   "metadata": {},
   "outputs": [
    {
     "data": {
      "text/html": [
       "<pre style=\"white-space:pre;overflow-x:auto;line-height:normal;font-family:Menlo,'DejaVu Sans Mono',consolas,'Courier New',monospace\">Manim Community <span style=\"color: #008000; text-decoration-color: #008000\">v0.18.1</span>\n",
       "\n",
       "</pre>\n"
      ],
      "text/plain": [
       "Manim Community \u001b[32mv0.\u001b[0m\u001b[32m18.1\u001b[0m\n",
       "\n"
      ]
     },
     "metadata": {},
     "output_type": "display_data"
    },
    {
     "name": "stdout",
     "output_type": "stream",
     "text": [
      "Iteration 0\n",
      "Iteration 1\n"
     ]
    },
    {
     "name": "stderr",
     "output_type": "stream",
     "text": [
      "                                                                                                                             \r"
     ]
    },
    {
     "name": "stdout",
     "output_type": "stream",
     "text": [
      "Iteration 2\n"
     ]
    },
    {
     "name": "stderr",
     "output_type": "stream",
     "text": [
      "                                                                                                                             \r"
     ]
    },
    {
     "name": "stdout",
     "output_type": "stream",
     "text": [
      "Iteration 3\n"
     ]
    },
    {
     "name": "stderr",
     "output_type": "stream",
     "text": [
      "                                                                                                                             \r"
     ]
    },
    {
     "name": "stdout",
     "output_type": "stream",
     "text": [
      "Iteration 4\n"
     ]
    },
    {
     "name": "stderr",
     "output_type": "stream",
     "text": [
      "                                                                                                                              \r"
     ]
    },
    {
     "name": "stdout",
     "output_type": "stream",
     "text": [
      "Iteration 5\n"
     ]
    },
    {
     "name": "stderr",
     "output_type": "stream",
     "text": [
      "                                                                                                                              \r"
     ]
    },
    {
     "name": "stdout",
     "output_type": "stream",
     "text": [
      "Iteration 6\n"
     ]
    },
    {
     "name": "stderr",
     "output_type": "stream",
     "text": [
      "                                                                                                                              \r"
     ]
    },
    {
     "name": "stdout",
     "output_type": "stream",
     "text": [
      "Iteration 7\n"
     ]
    },
    {
     "name": "stderr",
     "output_type": "stream",
     "text": [
      "                                                                                                                              \r"
     ]
    },
    {
     "name": "stdout",
     "output_type": "stream",
     "text": [
      "Iteration 8\n"
     ]
    },
    {
     "name": "stderr",
     "output_type": "stream",
     "text": [
      "                                                                                                                              \r"
     ]
    },
    {
     "name": "stdout",
     "output_type": "stream",
     "text": [
      "Iteration 9\n"
     ]
    },
    {
     "name": "stderr",
     "output_type": "stream",
     "text": [
      "                                                                                                                              \r"
     ]
    },
    {
     "name": "stdout",
     "output_type": "stream",
     "text": [
      "Iteration 10\n"
     ]
    },
    {
     "name": "stderr",
     "output_type": "stream",
     "text": [
      "                                                                                                                              \r"
     ]
    },
    {
     "name": "stdout",
     "output_type": "stream",
     "text": [
      "Iteration 11\n"
     ]
    },
    {
     "name": "stderr",
     "output_type": "stream",
     "text": [
      "                                                                                                                              \r"
     ]
    },
    {
     "name": "stdout",
     "output_type": "stream",
     "text": [
      "Iteration 12\n"
     ]
    },
    {
     "name": "stderr",
     "output_type": "stream",
     "text": [
      "                                                                                                                              \r"
     ]
    },
    {
     "name": "stdout",
     "output_type": "stream",
     "text": [
      "Iteration 13\n"
     ]
    },
    {
     "name": "stderr",
     "output_type": "stream",
     "text": [
      "                                                                                                                              \r"
     ]
    },
    {
     "name": "stdout",
     "output_type": "stream",
     "text": [
      "Iteration 14\n"
     ]
    },
    {
     "name": "stderr",
     "output_type": "stream",
     "text": [
      "                                                                                                                              \r"
     ]
    },
    {
     "name": "stdout",
     "output_type": "stream",
     "text": [
      "Iteration 15\n"
     ]
    },
    {
     "name": "stderr",
     "output_type": "stream",
     "text": [
      "                                                                                                                              \r"
     ]
    },
    {
     "name": "stdout",
     "output_type": "stream",
     "text": [
      "Iteration 16\n"
     ]
    },
    {
     "name": "stderr",
     "output_type": "stream",
     "text": [
      "                                                                                                                              \r"
     ]
    },
    {
     "name": "stdout",
     "output_type": "stream",
     "text": [
      "Iteration 17\n"
     ]
    },
    {
     "name": "stderr",
     "output_type": "stream",
     "text": [
      "                                                                                                                              \r"
     ]
    },
    {
     "name": "stdout",
     "output_type": "stream",
     "text": [
      "Iteration 18\n"
     ]
    },
    {
     "name": "stderr",
     "output_type": "stream",
     "text": [
      "                                                                                                                        \r"
     ]
    },
    {
     "data": {
      "text/html": [
       "<video src=\"media/jupyter/ShowOddEven@2024-12-12@00-24-20.mp4\" controls autoplay loop style=\"max-width: 100%;\"  >\n",
       "      Your browser does not support the <code>video</code> element.\n",
       "    </video>"
      ],
      "text/plain": [
       "<IPython.core.display.Video object>"
      ]
     },
     "metadata": {},
     "output_type": "display_data"
    }
   ],
   "source": [
    "%%manim -qm ShowOddEven\n",
    "\n",
    "config.frame_width = 25\n",
    "\n",
    "\n",
    "class ShowOddEven(Scene):\n",
    "    \n",
    "    def construct(self):\n",
    "        nbits = 8\n",
    "        network = odd_even(nbits, delay=1)\n",
    "        network.set_input([8, 7, 6, 5, 4, 3, 2 ,1])\n",
    "        network.init_computation()\n",
    "        generic_run(self, network)\n",
    "        #print(network.read_output())"
   ]
  },
  {
   "cell_type": "markdown",
   "metadata": {},
   "source": [
    "# Butterly Network (for DFT)"
   ]
  },
  {
   "cell_type": "code",
   "execution_count": 8,
   "metadata": {},
   "outputs": [],
   "source": [
    "class butterly:\n",
    "    def __init__(self, nlines, **kwargs):\n",
    "        #print(kwargs)\n",
    "        self.null_label = kwargs['null_label'] if 'null_label' in kwargs else '-'\n",
    "        self.verbose = kwargs['verbose'] if 'verbose' in kwargs else False\n",
    "\n",
    "        # nbits is the number of bits of the operation\n",
    "        # N is the number of nodes in the tree (2^n-1). Nodes in the tree will be from 0 to 2^n-2\n",
    "        self.lines = nlines\n",
    "        self.N = 2*nlines-1\n",
    "\n",
    "        self.Butterfly = nx.DiGraph()\n",
    "\n",
    "        node = 0\n",
    "        self.layout = {}\n",
    "        for stage in range(0, math.log2(self.lines)):\n",
    "            for line in range(0, self.lines):\n",
    "                node1 = (line, stage, 0)\n",
    "                node2 = (line, stage, 1)\n",
    "                self.Butterfly.add_node(node1)\n",
    "                self.Butterfly.add_node(node2)\n",
    "            for line in range(0, self.lines):\n",
    "                almost_node1 = line\n",
    "                almost_node2 = flip_bit(node1, stage)\n",
    "                if (almost_node2 > line):\n",
    "                    self.Butterfly.add_edge((almost_node1, stage, 0), (flip_bit(almost_node1, stage), stage, 1))\n",
    "                    self.layout[node] = [stage*0, line - self.lines/2, 0]\n",
    "                else:\n",
    "                    self.Butterfly.add_edge((almost_node1, stage, 1), (flip_bit(almost_node1, stage), stage, 0))\n",
    "                    self.layout[node] = [stage*1+1, line - self.lines/2, 0]\n",
    "\n",
    "\n",
    "    def get(self):\n",
    "        return (self.Butterfly, self.layout)#, self.edges_labels_pos)\n",
    "\n",
    "    def set_input(self, in_seq):\n",
    "        self.in_seq = in_seq\n",
    "\n",
    "    def init_computation(self):\n",
    "        None\n",
    "\n",
    "    def compute_iteration(self):\n",
    "        None\n",
    "    def read_output(self):\n",
    "        None"
   ]
  },
  {
   "cell_type": "code",
   "execution_count": 10,
   "metadata": {},
   "outputs": [
    {
     "ename": "NameError",
     "evalue": "name 'butterfly' is not defined",
     "output_type": "error",
     "traceback": [
      "\u001b[0;31m---------------------------------------------------------------------------\u001b[0m",
      "\u001b[0;31mNameError\u001b[0m                                 Traceback (most recent call last)",
      "Cell \u001b[0;32mIn[10], line 4\u001b[0m\n\u001b[1;32m      2\u001b[0m test_seq \u001b[38;5;241m=\u001b[39m [x \u001b[38;5;28;01mfor\u001b[39;00m x \u001b[38;5;129;01min\u001b[39;00m \u001b[38;5;28mrange\u001b[39m(\u001b[38;5;241m0\u001b[39m, nleaves)]\n\u001b[1;32m      3\u001b[0m \u001b[38;5;28;01mfor\u001b[39;00m i \u001b[38;5;129;01min\u001b[39;00m \u001b[38;5;28mrange\u001b[39m(\u001b[38;5;241m0\u001b[39m, \u001b[38;5;241m100\u001b[39m):\n\u001b[0;32m----> 4\u001b[0m \tnetwork \u001b[38;5;241m=\u001b[39m \u001b[43mbutterfly\u001b[49m(nleaves, verbose \u001b[38;5;241m=\u001b[39m \u001b[38;5;28;01mFalse\u001b[39;00m)\n\u001b[1;32m      5\u001b[0m \tnetwork\u001b[38;5;241m.\u001b[39mset_input(test_seq)\n\u001b[1;32m      6\u001b[0m \tnetwork\u001b[38;5;241m.\u001b[39minit_computation()\n",
      "\u001b[0;31mNameError\u001b[0m: name 'butterfly' is not defined"
     ]
    }
   ],
   "source": [
    "nleaves = 16\n",
    "test_seq = [x for x in range(0, nleaves)]\n",
    "for i in range(0, 100):\n",
    "\tnetwork = butterfly(nleaves, verbose = False)\n",
    "\tnetwork.set_input(test_seq)\n",
    "\tnetwork.init_computation()\n",
    "\twhile network.compute_iteration():\n",
    "\t\tNone\n",
    "\tres = network.read_output()\n",
    "\tassert(res[0] == test_seq[0])\n",
    "\ttest_out = res[0]\n",
    "\tfor x in range(1, nleaves):\n",
    "\t\ttest_out = test_out + test_seq[x]\n",
    "\t\t#print(f'{test_out} == {test_seq[x]}?')\n",
    "\t\tassert(test_out == res[x])\n",
    "\t\n"
   ]
  },
  {
   "cell_type": "code",
   "execution_count": 9,
   "metadata": {},
   "outputs": [
    {
     "data": {
      "text/html": [
       "<pre style=\"white-space:pre;overflow-x:auto;line-height:normal;font-family:Menlo,'DejaVu Sans Mono',consolas,'Courier New',monospace\">Manim Community <span style=\"color: #008000; text-decoration-color: #008000\">v0.18.1</span>\n",
       "\n",
       "</pre>\n"
      ],
      "text/plain": [
       "Manim Community \u001b[32mv0.\u001b[0m\u001b[32m18.1\u001b[0m\n",
       "\n"
      ]
     },
     "metadata": {},
     "output_type": "display_data"
    },
    {
     "ename": "NameError",
     "evalue": "name 'prefix_tree' is not defined",
     "output_type": "error",
     "traceback": [
      "\u001b[0;31m---------------------------------------------------------------------------\u001b[0m",
      "\u001b[0;31mNameError\u001b[0m                                 Traceback (most recent call last)",
      "Cell \u001b[0;32mIn[9], line 1\u001b[0m\n\u001b[0;32m----> 1\u001b[0m \u001b[43mget_ipython\u001b[49m\u001b[43m(\u001b[49m\u001b[43m)\u001b[49m\u001b[38;5;241;43m.\u001b[39;49m\u001b[43mrun_cell_magic\u001b[49m\u001b[43m(\u001b[49m\u001b[38;5;124;43m'\u001b[39;49m\u001b[38;5;124;43mmanim\u001b[39;49m\u001b[38;5;124;43m'\u001b[39;49m\u001b[43m,\u001b[49m\u001b[43m \u001b[49m\u001b[38;5;124;43m'\u001b[39;49m\u001b[38;5;124;43m-qm ShowLinear\u001b[39;49m\u001b[38;5;124;43m'\u001b[39;49m\u001b[43m,\u001b[49m\u001b[43m \u001b[49m\u001b[38;5;124;43m'\u001b[39;49m\u001b[38;5;130;43;01m\\n\u001b[39;49;00m\u001b[38;5;124;43mconfig.frame_width = 20\u001b[39;49m\u001b[38;5;130;43;01m\\n\u001b[39;49;00m\u001b[38;5;124;43mimport random\u001b[39;49m\u001b[38;5;130;43;01m\\n\u001b[39;49;00m\u001b[38;5;130;43;01m\\n\u001b[39;49;00m\u001b[38;5;124;43mclass ShowLinear(Scene):\u001b[39;49m\u001b[38;5;130;43;01m\\n\u001b[39;49;00m\u001b[38;5;124;43m    \u001b[39;49m\u001b[38;5;130;43;01m\\n\u001b[39;49;00m\u001b[38;5;124;43m    def construct(self):\u001b[39;49m\u001b[38;5;130;43;01m\\n\u001b[39;49;00m\u001b[38;5;124;43m        nleaves = 8\u001b[39;49m\u001b[38;5;130;43;01m\\n\u001b[39;49;00m\u001b[38;5;124;43m        network = prefix_tree(nleaves, delay=1)\u001b[39;49m\u001b[38;5;130;43;01m\\n\u001b[39;49;00m\u001b[38;5;124;43m        network.set_input([random.randint(0, nleaves) for x in range(0, nleaves)])\u001b[39;49m\u001b[38;5;130;43;01m\\n\u001b[39;49;00m\u001b[38;5;124;43m        generic_run(self, network)\u001b[39;49m\u001b[38;5;130;43;01m\\n\u001b[39;49;00m\u001b[38;5;124;43m        #print(network.read_output())\u001b[39;49m\u001b[38;5;130;43;01m\\n\u001b[39;49;00m\u001b[38;5;124;43m'\u001b[39;49m\u001b[43m)\u001b[49m\n",
      "File \u001b[0;32m~/hobby/playground/vizalgo/.ve/lib/python3.12/site-packages/IPython/core/interactiveshell.py:2541\u001b[0m, in \u001b[0;36mInteractiveShell.run_cell_magic\u001b[0;34m(self, magic_name, line, cell)\u001b[0m\n\u001b[1;32m   2539\u001b[0m \u001b[38;5;28;01mwith\u001b[39;00m \u001b[38;5;28mself\u001b[39m\u001b[38;5;241m.\u001b[39mbuiltin_trap:\n\u001b[1;32m   2540\u001b[0m     args \u001b[38;5;241m=\u001b[39m (magic_arg_s, cell)\n\u001b[0;32m-> 2541\u001b[0m     result \u001b[38;5;241m=\u001b[39m \u001b[43mfn\u001b[49m\u001b[43m(\u001b[49m\u001b[38;5;241;43m*\u001b[39;49m\u001b[43margs\u001b[49m\u001b[43m,\u001b[49m\u001b[43m \u001b[49m\u001b[38;5;241;43m*\u001b[39;49m\u001b[38;5;241;43m*\u001b[39;49m\u001b[43mkwargs\u001b[49m\u001b[43m)\u001b[49m\n\u001b[1;32m   2543\u001b[0m \u001b[38;5;66;03m# The code below prevents the output from being displayed\u001b[39;00m\n\u001b[1;32m   2544\u001b[0m \u001b[38;5;66;03m# when using magics with decorator @output_can_be_silenced\u001b[39;00m\n\u001b[1;32m   2545\u001b[0m \u001b[38;5;66;03m# when the last Python token in the expression is a ';'.\u001b[39;00m\n\u001b[1;32m   2546\u001b[0m \u001b[38;5;28;01mif\u001b[39;00m \u001b[38;5;28mgetattr\u001b[39m(fn, magic\u001b[38;5;241m.\u001b[39mMAGIC_OUTPUT_CAN_BE_SILENCED, \u001b[38;5;28;01mFalse\u001b[39;00m):\n",
      "File \u001b[0;32m~/hobby/playground/vizalgo/.ve/lib/python3.12/site-packages/manim/utils/ipython_magic.py:143\u001b[0m, in \u001b[0;36mManimMagic.manim\u001b[0;34m(self, line, cell, local_ns)\u001b[0m\n\u001b[1;32m    141\u001b[0m     SceneClass \u001b[38;5;241m=\u001b[39m local_ns[config[\u001b[38;5;124m\"\u001b[39m\u001b[38;5;124mscene_names\u001b[39m\u001b[38;5;124m\"\u001b[39m][\u001b[38;5;241m0\u001b[39m]]\n\u001b[1;32m    142\u001b[0m     scene \u001b[38;5;241m=\u001b[39m SceneClass(renderer\u001b[38;5;241m=\u001b[39mrenderer)\n\u001b[0;32m--> 143\u001b[0m     \u001b[43mscene\u001b[49m\u001b[38;5;241;43m.\u001b[39;49m\u001b[43mrender\u001b[49m\u001b[43m(\u001b[49m\u001b[43m)\u001b[49m\n\u001b[1;32m    144\u001b[0m \u001b[38;5;28;01mfinally\u001b[39;00m:\n\u001b[1;32m    145\u001b[0m     \u001b[38;5;66;03m# Shader cache becomes invalid as the context is destroyed\u001b[39;00m\n\u001b[1;32m    146\u001b[0m     shader_program_cache\u001b[38;5;241m.\u001b[39mclear()\n",
      "File \u001b[0;32m~/hobby/playground/vizalgo/.ve/lib/python3.12/site-packages/manim/scene/scene.py:229\u001b[0m, in \u001b[0;36mScene.render\u001b[0;34m(self, preview)\u001b[0m\n\u001b[1;32m    227\u001b[0m \u001b[38;5;28mself\u001b[39m\u001b[38;5;241m.\u001b[39msetup()\n\u001b[1;32m    228\u001b[0m \u001b[38;5;28;01mtry\u001b[39;00m:\n\u001b[0;32m--> 229\u001b[0m     \u001b[38;5;28;43mself\u001b[39;49m\u001b[38;5;241;43m.\u001b[39;49m\u001b[43mconstruct\u001b[49m\u001b[43m(\u001b[49m\u001b[43m)\u001b[49m\n\u001b[1;32m    230\u001b[0m \u001b[38;5;28;01mexcept\u001b[39;00m EndSceneEarlyException:\n\u001b[1;32m    231\u001b[0m     \u001b[38;5;28;01mpass\u001b[39;00m\n",
      "File \u001b[0;32m<string>:9\u001b[0m, in \u001b[0;36mconstruct\u001b[0;34m(self)\u001b[0m\n",
      "\u001b[0;31mNameError\u001b[0m: name 'prefix_tree' is not defined"
     ]
    }
   ],
   "source": [
    "%%manim -qm ShowLinear\n",
    "\n",
    "config.frame_width = 20\n",
    "import random\n",
    "\n",
    "class ShowLinear(Scene):\n",
    "    \n",
    "    def construct(self):\n",
    "        nleaves = 8\n",
    "        network = prefix_tree(nleaves, delay=1)\n",
    "        network.set_input([random.randint(0, nleaves) for x in range(0, nleaves)])\n",
    "        generic_run(self, network)\n",
    "        #print(network.read_output())"
   ]
  },
  {
   "cell_type": "code",
   "execution_count": 136,
   "metadata": {},
   "outputs": [
    {
     "name": "stdout",
     "output_type": "stream",
     "text": [
      "-1\n",
      "-2\n",
      "-3\n",
      "-4\n",
      "-5\n",
      "-6\n",
      "-7\n",
      "-8\n"
     ]
    }
   ],
   "source": [
    "for i in range(-1, -9, -1):\n",
    "    print(f'{i}')"
   ]
  }
 ],
 "metadata": {
  "kernelspec": {
   "display_name": ".ve",
   "language": "python",
   "name": "python3"
  },
  "language_info": {
   "codemirror_mode": {
    "name": "ipython",
    "version": 3
   },
   "file_extension": ".py",
   "mimetype": "text/x-python",
   "name": "python",
   "nbconvert_exporter": "python",
   "pygments_lexer": "ipython3",
   "version": "3.12.6"
  }
 },
 "nbformat": 4,
 "nbformat_minor": 2
}
