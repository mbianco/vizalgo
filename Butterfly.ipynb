{
 "cells": [
  {
   "cell_type": "code",
   "execution_count": 6,
   "metadata": {},
   "outputs": [],
   "source": [
    "import networkx as nx\n",
    "from manim import *\n",
    "import math\n",
    "import vizutils as viz\n",
    "\n",
    "config.media_width = \"100%\"\n",
    "config.verbosity = \"WARNING\""
   ]
  },
  {
   "cell_type": "code",
   "execution_count": 7,
   "metadata": {},
   "outputs": [],
   "source": [
    "# Bitwise operations needed\n",
    "def flip_bit(a, n):\n",
    "\t# a: number to modify\n",
    "\t# n: bit to flip (starting at 0)\n",
    "\tx = 1<<n\n",
    "\treturn a^x\n",
    "\n",
    "def count_ones(x):\n",
    "\tres = 0\n",
    "\t#f = \"{0:0\"+str(8)+\"b}\"\n",
    "\n",
    "\twhile x!=0:\n",
    "\t\t#print(f.format(x))\n",
    "\t\tif (x%2 == 1):\n",
    "\t\t\tres = res+1\n",
    "\t\tx = x>>1\n",
    "\t#print(f'{f.format(x)} result = {res}')\n",
    "\treturn res\n"
   ]
  },
  {
   "cell_type": "code",
   "execution_count": 8,
   "metadata": {},
   "outputs": [],
   "source": [
    "# Test bitwise operations\n",
    "assert(flip_bit(7, 0) == 6)\n",
    "assert(flip_bit(7, 1) == 5)\n",
    "assert(flip_bit(7, 2) == 3)\n",
    "assert(flip_bit(7, 3) == 15)"
   ]
  },
  {
   "cell_type": "code",
   "execution_count": 9,
   "metadata": {},
   "outputs": [
    {
     "data": {
      "text/html": [
       "<pre style=\"white-space:pre;overflow-x:auto;line-height:normal;font-family:Menlo,'DejaVu Sans Mono',consolas,'Courier New',monospace\">Manim Community <span style=\"color: #008000; text-decoration-color: #008000\">v0.19.0</span>\n",
       "\n",
       "</pre>\n"
      ],
      "text/plain": [
       "Manim Community \u001b[32mv0.\u001b[0m\u001b[32m19.0\u001b[0m\n",
       "\n"
      ]
     },
     "metadata": {},
     "output_type": "display_data"
    },
    {
     "name": "stdout",
     "output_type": "stream",
     "text": [
      "Iteration 0\n"
     ]
    },
    {
     "name": "stderr",
     "output_type": "stream",
     "text": [
      "                                                                                                       "
     ]
    },
    {
     "name": "stdout",
     "output_type": "stream",
     "text": [
      "Iteration 1\n"
     ]
    },
    {
     "name": "stderr",
     "output_type": "stream",
     "text": [
      "                                                                                                                          \r"
     ]
    },
    {
     "name": "stdout",
     "output_type": "stream",
     "text": [
      "Iteration 2\n"
     ]
    },
    {
     "name": "stderr",
     "output_type": "stream",
     "text": [
      "                                                                                                                    \r"
     ]
    },
    {
     "data": {
      "text/html": [
       "<video src=\"media/jupyter/SimpleComparator@2025-04-03@16-14-14.mp4\" controls autoplay loop style=\"max-width: 100%;\"  >\n",
       "      Your browser does not support the <code>video</code> element.\n",
       "    </video>"
      ],
      "text/plain": [
       "<IPython.core.display.Video object>"
      ]
     },
     "metadata": {},
     "output_type": "display_data"
    }
   ],
   "source": [
    "%%manim -qm SimpleComparator\n",
    "\n",
    "config.frame_width = 8\n",
    "\n",
    "class SimpleComparatorImpl:\n",
    "    def __init__(self, **kwargs):\n",
    "        self.null_label = kwargs['null_label'] if 'null_label' in kwargs else '-'\n",
    "        self.verbose = kwargs['verbose'] if 'verbose' in kwargs else False\n",
    "\n",
    "        self.Comparator = nx.DiGraph()\n",
    "        self.layout = {}\n",
    "\n",
    "        self.Comparator.add_node(0, weight = {'value': self.null_label, 'color':WHITE})\n",
    "        self.Comparator.add_node(1, weight = {'value': self.null_label, 'color':GREEN})\n",
    "        self.Comparator.add_node(2, weight = {'value': self.null_label, 'color':WHITE})\n",
    "        self.Comparator.add_node(3, weight = {'value': self.null_label, 'color':RED})\n",
    "\n",
    "        self.Comparator.add_edge(0, 1, weight={\"carry\": self.null_label, \"epoch\": 0, 'color':GREEN})\n",
    "        self.Comparator.add_edge(0, 3, weight={\"carry\": self.null_label, \"epoch\": 0, 'color':RED})\n",
    "        self.Comparator.add_edge(2, 1, weight={\"carry\": self.null_label, \"epoch\": 0, 'color':GREEN})\n",
    "        self.Comparator.add_edge(2, 3, weight={\"carry\": self.null_label, \"epoch\": 0, 'color':RED})\n",
    "\n",
    "        self.layout[0] = [-1,  1, 0]\n",
    "        self.layout[1] = [ 1,  1, 0]\n",
    "        self.layout[2] = [-1, -1, 0]\n",
    "        self.layout[3] = [ 1, -1, 0]\n",
    "\n",
    "    def additional_items_to_draw(self, selfi):\n",
    "        if (self.epoch == 2):\n",
    "            selfi.add(Tex(f\"min({self.a}, {self.b})\", font_size = 24).next_to(selfi.G[1]))\n",
    "            selfi.add(Tex(f\"max({self.a}, {self.b})\", font_size = 24).next_to(selfi.G[3]))\n",
    "        if (self.epoch == 0):\n",
    "            selfi.add(Tex(f\"broadcast({self.a})\", font_size = 24).next_to(selfi.G[0], LEFT))\n",
    "            selfi.add(Tex(f\"broadcast({self.b})\", font_size = 24).next_to(selfi.G[2], LEFT))\n",
    "\n",
    "        list = []\n",
    "        return list\n",
    "\n",
    "\n",
    "    def set_input(self, a, b):\n",
    "        self.a = a\n",
    "        self.b = b\n",
    "\n",
    "    def get(self):\n",
    "        return self.Comparator, self.layout\n",
    "\n",
    "    def init_computation(self):\n",
    "        self.Comparator.nodes[0]['weight']['value'] = str(self.a)\n",
    "        self.Comparator.nodes[2]['weight']['value'] = str(self.b)\n",
    "        self.epoch = 0\n",
    "\n",
    "    def compute_iteration(self):\n",
    "        some_updates = False\n",
    "\n",
    "        if self.epoch==2:\n",
    "            return False\n",
    "\n",
    "        if self.epoch == 0:\n",
    "            for u,v,d in self.Comparator.out_edges(0, data=True):\n",
    "                d['weight']['carry'] = self.Comparator.nodes[u]['weight']['value']\n",
    "            for u,v,d in self.Comparator.out_edges(2, data=True):\n",
    "                d['weight']['carry'] = self.Comparator.nodes[u]['weight']['value']\n",
    "            some_updates = True\n",
    "            self.epoch = self.epoch + 1\n",
    "        else:\n",
    "            in1 = []\n",
    "            in3 = []\n",
    "            for u,v,d in self.Comparator.in_edges(1, data=True):\n",
    "                in1.append(int(d['weight']['carry']))\n",
    "                d['weight']['carry'] = self.null_label\n",
    "            for u,v,d in self.Comparator.in_edges(3, data=True):\n",
    "                in3.append(int(d['weight']['carry']))\n",
    "                d['weight']['carry'] = self.null_label\n",
    "            self.Comparator.nodes[1]['weight']['value'] = str(min(in1))\n",
    "            self.Comparator.nodes[3]['weight']['value'] = str(max(in3))\n",
    "            some_updates = True\n",
    "            self.epoch = self.epoch + 1\n",
    "\n",
    "        return some_updates\n",
    "\n",
    "class SimpleComparator(Scene):\n",
    "    \n",
    "    def construct(self):\n",
    "        nbits = 8\n",
    "        network = SimpleComparatorImpl()\n",
    "        network.set_input(8, 5)\n",
    "        network.init_computation()\n",
    "        viz.generic_run(self, network)\n",
    "        #print(network.read_output())"
   ]
  },
  {
   "cell_type": "markdown",
   "metadata": {},
   "source": [
    "## Odd-Even Sort"
   ]
  },
  {
   "cell_type": "code",
   "execution_count": 10,
   "metadata": {},
   "outputs": [],
   "source": [
    "class odd_even:\n",
    "    def node_id(self, line, stage, comparator):\n",
    "        assert(comparator>=0 and comparator < 4)\n",
    "        assert(line < self.lines)\n",
    "        assert(stage < self.lines)\n",
    "        return (line<<int(math.log2(self.lines)*2+2)) + (stage<<int(math.log2(self.lines)+2)) + comparator\n",
    "    \n",
    "    def items_from_node_id(self, nodeid):\n",
    "        return ((nodeid &  ((1<<int(math.log2(self.lines)))-1)<<int(math.log2(self.lines)*2+2)) >> int(math.log2(self.lines)*2+2),\n",
    "                (nodeid &  ((1<<int(math.log2(self.lines)))-1)<<int(math.log2(self.lines)+2)) >> int(math.log2(self.lines)+2),\n",
    "                nodeid&3)\n",
    "\n",
    "    def input_node(self, line):\n",
    "        return -(line+1)\n",
    "    \n",
    "    def inputs(self):\n",
    "        return range(-1, -(self.lines+1), -1)\n",
    "    \n",
    "    def output_node(self, line):\n",
    "        return -(line+1)-2*self.lines\n",
    "\n",
    "    def outputs(self):\n",
    "        return range(-1-2*self.lines, -(self.lines+1)-2*self.lines, -1)\n",
    "    \n",
    "    def __init__(self, nlines, **kwargs):\n",
    "        #print(kwargs)\n",
    "        self.null_label = kwargs['null_label'] if 'null_label' in kwargs else '-'\n",
    "        self.verbose = kwargs['verbose'] if 'verbose' in kwargs else False\n",
    "\n",
    "        # nbits is the number of bits of the operation\n",
    "        # N is the number of nodes in the tree (2^n-1). Nodes in the tree will be from 0 to 2^n-2\n",
    "        self.lines = nlines\n",
    "        self.N = 2*nlines-1\n",
    "\n",
    "        self.OddEven = nx.DiGraph()\n",
    "        self.layout = {}\n",
    "        for stage in range(0, self.lines):\n",
    "            for line in range((stage%2), self.lines-(stage%2), 2):\n",
    "                #print(f'{stage}, {line}: {self.node_id(line, stage, 0)} {self.node_id(line, stage, 1)} {self.node_id(line+1, stage, 0)} {self.node_id(line+1, stage, 1)}')\n",
    "                if stage%2 == 0:\n",
    "                    self.OddEven.add_node(self.node_id(line, stage, 0), weight = {'value': self.null_label, 'color':WHITE})\n",
    "                    self.OddEven.add_node(self.node_id(line, stage, 1), weight = {'value': self.null_label, 'color':GREEN})\n",
    "                    self.OddEven.add_node(self.node_id(line+1, stage, 0), weight = {'value': self.null_label, 'color':WHITE})\n",
    "                    self.OddEven.add_node(self.node_id(line+1, stage, 1), weight = {'value': self.null_label, 'color':RED})\n",
    "                    self.OddEven.add_edge(self.node_id(line, stage, 0), self.node_id(line, stage, 1), weight={\"carry\": self.null_label, \"epoch\": 0, 'color':GREEN})\n",
    "                    self.OddEven.add_edge(self.node_id(line+1, stage, 0), self.node_id(line+1, stage, 1), weight={\"carry\": self.null_label, \"epoch\": 0, 'color':RED})\n",
    "                    self.OddEven.add_edge(self.node_id(line, stage, 0), self.node_id(line+1, stage, 1), weight={\"carry\": self.null_label, \"epoch\": 0, 'color':RED})\n",
    "                    self.OddEven.add_edge(self.node_id(line+1, stage, 0), self.node_id(line, stage, 1), weight={\"carry\": self.null_label, \"epoch\": 0, 'color':GREEN})\n",
    "                    self.layout[self.node_id(line, stage, 0)] = [2*stage - self.lines+1, -(line - self.lines/2+1), 0]\n",
    "                    self.layout[self.node_id(line, stage, 1)] = [2*stage+1 - self.lines+1, -(line - self.lines/2+1), 0]\n",
    "                    self.layout[self.node_id(line+1, stage, 0)] = [2*stage - self.lines+1, -(line+1 - self.lines/2+1), 0]\n",
    "                    self.layout[self.node_id(line+1, stage, 1)] = [2*stage+1 - self.lines+1, -(line+1 - self.lines/2+1), 0]\n",
    "                else:\n",
    "                    self.OddEven.add_node(self.node_id(line, stage, 0), weight = {'value': self.null_label, 'color':WHITE})\n",
    "                    self.OddEven.add_node(self.node_id(line, stage, 1), weight = {'value': self.null_label, 'color':GREEN})\n",
    "                    self.OddEven.add_node(self.node_id(line+1, stage, 0), weight = {'value': self.null_label, 'color':WHITE})\n",
    "                    self.OddEven.add_node(self.node_id(line+1, stage, 1), weight = {'value': self.null_label, 'color':RED})\n",
    "                    self.OddEven.add_edge(self.node_id(line, stage, 0), self.node_id(line, stage, 1), weight={\"carry\": self.null_label, \"epoch\": 0, 'color':GREEN})\n",
    "                    self.OddEven.add_edge(self.node_id(line+1, stage, 0), self.node_id(line+1, stage, 1), weight={\"carry\": self.null_label, \"epoch\": 0, 'color':RED})\n",
    "                    self.OddEven.add_edge(self.node_id(line, stage, 0), self.node_id(line+1, stage, 1), weight={\"carry\": self.null_label, \"epoch\": 0, 'color':RED})\n",
    "                    self.OddEven.add_edge(self.node_id(line+1, stage, 0), self.node_id(line, stage, 1), weight={\"carry\": self.null_label, \"epoch\": 0, 'color':GREEN})\n",
    "                    self.layout[self.node_id(line, stage, 0)] = [2*stage - self.lines+1, -(line - self.lines/2+1), 0]\n",
    "                    self.layout[self.node_id(line, stage, 1)] = [2*stage+1 - self.lines+1, -(line - self.lines/2+1), 0]\n",
    "                    self.layout[self.node_id(line+1, stage, 0)] = [2*stage - self.lines+1, -(line+1 - self.lines/2+1), 0]\n",
    "                    self.layout[self.node_id(line+1, stage, 1)] = [2*stage+1 - self.lines+1, -(line+1 - self.lines/2+1), 0]\n",
    "\n",
    "        # Input and output nodes\n",
    "        for line in range(0, self.lines):\n",
    "            self.OddEven.add_node(self.input_node(line), weight = {'value': self.null_label, 'color':WHITE})\n",
    "            self.OddEven.add_edge(self.input_node(line), self.node_id(line, 0, 0), weight={\"carry\": self.null_label, \"epoch\": 0, 'color':WHITE})\n",
    "            self.OddEven.add_node(self.output_node(line), weight = {'value': self.null_label, 'color':WHITE})\n",
    "            if line == 0 or line == self.lines-1:\n",
    "                self.OddEven.add_edge(self.node_id(line, self.lines-2, 1), self.output_node(line), weight={\"carry\": self.null_label, \"epoch\": 0, 'color':WHITE})\n",
    "            else:\n",
    "                self.OddEven.add_edge(self.node_id(line, self.lines-1, 1), self.output_node(line), weight={\"carry\": self.null_label, \"epoch\": 0, 'color':WHITE})\n",
    "            self.layout[self.input_node(line)] = [0 - self.lines - 1+1, -(line - self.lines/2+1), 0]\n",
    "            self.layout[self.output_node(line)] = [2*self.lines - self.lines - 2+3, -(line - self.lines/2+1), 0]\n",
    "\n",
    "        # Inter-comparator connections\n",
    "        for gap in range(0, self.lines-1):\n",
    "            for line in range(1, self.lines-1):\n",
    "                assert(self.node_id(line, gap, 1) in self.OddEven.nodes)\n",
    "                assert(self.node_id(line, gap+1, 0) in self.OddEven.nodes)\n",
    "                self.OddEven.add_edge(self.node_id(line, gap, 1), self.node_id(line, gap+1, 0), weight={\"carry\": self.null_label, \"epoch\": 0, 'color':WHITE})\n",
    "        for gap in range(0, self.lines-2, 2):\n",
    "            assert(self.node_id(0, gap, 1) in self.OddEven.nodes)\n",
    "            assert(self.node_id(0, gap+2, 0) in self.OddEven.nodes)\n",
    "            self.OddEven.add_edge(self.node_id(0, gap, 1), self.node_id(0, gap+2, 0), weight={\"carry\": self.null_label, \"epoch\": 0, 'color':WHITE})\n",
    "            self.OddEven.add_edge(self.node_id(self.lines-1, gap, 1), self.node_id(self.lines-1, gap+2, 0), weight={\"carry\": self.null_label, \"epoch\": 0, 'color':WHITE})\n",
    "\n",
    "    def additional_items_to_draw(self, selfi):\n",
    "        if self.epoch == 0:\n",
    "            group = Group(*[selfi.G[x] for x in self.inputs()])\n",
    "            selfi.add(SurroundingRectangle(group))\n",
    "            group = Group(*[selfi.G[x] for x in self.outputs()])\n",
    "            selfi.add(SurroundingRectangle(group))\n",
    "\n",
    "    def set_input(self, seq):\n",
    "        self.seq = seq\n",
    "\n",
    "    def get(self):\n",
    "        return self.OddEven, self.layout\n",
    "\n",
    "    def init_computation(self):\n",
    "        for node, value in zip(self.inputs(), self.seq):\n",
    "            self.OddEven.nodes[node]['weight']['value'] = str(value)\n",
    "        self.epoch = 0\n",
    "\n",
    "    def compute_iteration(self):\n",
    "        some_updates = False\n",
    "        for node in self.OddEven:\n",
    "            if node in self.inputs():\n",
    "                if self.epoch == 0:\n",
    "                    for u, v, d in self.OddEven.out_edges(node, data=True):\n",
    "                        assert(u==node)\n",
    "                        if self.OddEven.nodes[node]['weight']['value'] != self.null_label:\n",
    "                            some_updates = True\n",
    "                            d['weight']['carry'] = self.OddEven.nodes[node]['weight']['value']\n",
    "                            d['weight']['epoch'] = self.epoch+1\n",
    "                else:\n",
    "                    None\n",
    "            else:\n",
    "                if node in self.outputs():\n",
    "                    in_a = None\n",
    "                    for u, v, e in self.OddEven.in_edges(node, data=True):\n",
    "                        in_a = e\n",
    "                    assert(in_a != None)\n",
    "\n",
    "                    if in_a['weight']['carry'] != self.null_label and in_a['weight']['epoch'] <= self.epoch:\n",
    "                        some_updates = True\n",
    "                        self.OddEven.nodes[node]['weight']['value'] = in_a['weight']['carry']\n",
    "                        in_a['weight']['carry'] = self.null_label\n",
    "\n",
    "                else:\n",
    "                    line, stage, comp = self.items_from_node_id(node)\n",
    "                    #print(f'node {node} ({line}, {stage}, {comp})')\n",
    "                    if comp == 0: # First stage of the comparator\n",
    "                        in_a = None\n",
    "                        for u, v, e in self.OddEven.in_edges(node, data=True):\n",
    "                            in_a = e\n",
    "\n",
    "                        out = []\n",
    "                        for u, v, e in self.OddEven.out_edges(node, data=True):\n",
    "                            out.append(e)\n",
    "\n",
    "                        assert(len(out) == 2)\n",
    "                        assert(in_a != None)\n",
    "                        if in_a['weight']['carry'] != self.null_label and in_a['weight']['epoch'] <= self.epoch:\n",
    "                            some_updates = True\n",
    "                            self.OddEven.nodes[node]['weight']['value'] = in_a['weight']['carry']\n",
    "                            out[0]['weight']['carry'] = self.OddEven.nodes[node]['weight']['value']\n",
    "                            out[0]['weight']['epoch'] = self.epoch+1\n",
    "                            out[1]['weight']['carry'] = self.OddEven.nodes[node]['weight']['value']\n",
    "                            out[1]['weight']['epoch'] = self.epoch+1\n",
    "                            in_a['weight']['carry'] = self.null_label\n",
    "                    else:\n",
    "                        assert(comp==1)\n",
    "                        out_a = None\n",
    "                        for u, v, e in self.OddEven.out_edges(node, data=True):\n",
    "                            out_a = e\n",
    "                        ins = []\n",
    "                        for u, v, e in self.OddEven.in_edges(node, data=True):\n",
    "                            ins.append(e)\n",
    "                        assert(len(ins) == 2)\n",
    "                        assert(out_a != None)\n",
    "                        if ins[0]['weight']['carry'] != self.null_label and ins[1]['weight']['carry'] != self.null_label and ins[0]['weight']['epoch'] <= self.epoch and ins[1]['weight']['epoch'] <= self.epoch:\n",
    "                            #if stage%2==0:\n",
    "                                if line%2==stage%2:\n",
    "                                    # Up\n",
    "                                    some_updates = True\n",
    "                                    out_a['weight']['carry'] = str(min(int(ins[0]['weight']['carry']), int(ins[1]['weight']['carry'])))\n",
    "                                    self.OddEven.nodes[node]['weight']['value'] = out_a['weight']['carry']\n",
    "                                    out_a['weight']['epoch'] = self.epoch+1\n",
    "                                    ins[0]['weight']['carry'] = self.null_label\n",
    "                                    ins[1]['weight']['carry'] = self.null_label\n",
    "                                else:\n",
    "                                    # Down\n",
    "                                    some_updates = True\n",
    "                                    out_a['weight']['carry'] = str(max(int(ins[0]['weight']['carry']), int(ins[1]['weight']['carry'])))\n",
    "                                    self.OddEven.nodes[node]['weight']['value'] = out_a['weight']['carry']\n",
    "                                    out_a['weight']['epoch'] = self.epoch+1\n",
    "                                    ins[0]['weight']['carry'] = self.null_label\n",
    "                                    ins[1]['weight']['carry'] = self.null_label\n",
    "\n",
    "        self.epoch = self.epoch + 1\n",
    "        return some_updates\n",
    "\n",
    "    def read_output(self):\n",
    "        return [self.OddEven.nodes[x]['weight']['value'] for x in self.outputs()]"
   ]
  },
  {
   "cell_type": "code",
   "execution_count": 11,
   "metadata": {},
   "outputs": [
    {
     "name": "stdout",
     "output_type": "stream",
     "text": [
      "All is OK!\n"
     ]
    }
   ],
   "source": [
    "import random\n",
    "\n",
    "for l in range(1, 6):\n",
    "    lines = 1<<l\n",
    "    net = odd_even(lines)\n",
    "    for line in range(0, lines, 2):\n",
    "        for stage in range(0, lines, 2):\n",
    "            for comp in range(0, 4):\n",
    "                id = net.node_id(line, stage, comp)\n",
    "                (l, s, c) = net.items_from_node_id(id)\n",
    "                assert(line == l)\n",
    "                assert(stage == s)\n",
    "                assert(comp == c)\n",
    "                id = net.node_id(line+1, stage, comp)\n",
    "                (l, s, c) = net.items_from_node_id(id)\n",
    "                assert(line+1 == l)\n",
    "                assert(stage == s)\n",
    "                assert(comp == c)\n",
    "                id = net.node_id(line, stage+1, comp)\n",
    "                (l, s, c) = net.items_from_node_id(id)\n",
    "                assert(line == l)\n",
    "                assert(stage+1 == s)\n",
    "                assert(comp == c)\n",
    "                id = net.node_id(line+1, stage+1, comp)\n",
    "                (l, s, c) = net.items_from_node_id(id)\n",
    "                assert(line+1 == l)\n",
    "                assert(stage+1 == s)\n",
    "                assert(comp == c)\n",
    "\n",
    "nleaves = 8\n",
    "test_seq = [x for x in range(nleaves, 0, -1)]\n",
    "for i in range(0, 1000):\n",
    "    network = odd_even(nleaves, verbose = False)\n",
    "    network.set_input(test_seq)\n",
    "    network.init_computation()\n",
    "    while network.compute_iteration():\n",
    "        None\n",
    "\n",
    "    res = network.read_output()\n",
    "    #print(res)\n",
    "    v = res[0]\n",
    "    for x in range(1, nleaves):\n",
    "        assert(int(v) <= int(res[x]))\n",
    "        v = int(res[x])\n",
    "    test_seq = [random.randint(-nleaves, nleaves*nleaves) for x in range(0, nleaves)]\n",
    "\n",
    "print(\"All is OK!\")\n"
   ]
  },
  {
   "cell_type": "code",
   "execution_count": 13,
   "metadata": {},
   "outputs": [
    {
     "data": {
      "text/html": [
       "<pre style=\"white-space:pre;overflow-x:auto;line-height:normal;font-family:Menlo,'DejaVu Sans Mono',consolas,'Courier New',monospace\">Manim Community <span style=\"color: #008000; text-decoration-color: #008000\">v0.19.0</span>\n",
       "\n",
       "</pre>\n"
      ],
      "text/plain": [
       "Manim Community \u001b[32mv0.\u001b[0m\u001b[32m19.0\u001b[0m\n",
       "\n"
      ]
     },
     "metadata": {},
     "output_type": "display_data"
    },
    {
     "name": "stdout",
     "output_type": "stream",
     "text": [
      "Iteration 0\n"
     ]
    },
    {
     "name": "stderr",
     "output_type": "stream",
     "text": [
      "                                                                                                                    \r"
     ]
    },
    {
     "name": "stdout",
     "output_type": "stream",
     "text": [
      "Iteration 1\n"
     ]
    },
    {
     "name": "stderr",
     "output_type": "stream",
     "text": [
      "                                                                                                                             \r"
     ]
    },
    {
     "name": "stdout",
     "output_type": "stream",
     "text": [
      "Iteration 2\n"
     ]
    },
    {
     "name": "stderr",
     "output_type": "stream",
     "text": [
      "                                                                                                                             \r"
     ]
    },
    {
     "name": "stdout",
     "output_type": "stream",
     "text": [
      "Iteration 3\n"
     ]
    },
    {
     "name": "stderr",
     "output_type": "stream",
     "text": [
      "                                                                                                                             \r"
     ]
    },
    {
     "name": "stdout",
     "output_type": "stream",
     "text": [
      "Iteration 4\n"
     ]
    },
    {
     "name": "stderr",
     "output_type": "stream",
     "text": [
      "                                                                                                                              \r"
     ]
    },
    {
     "name": "stdout",
     "output_type": "stream",
     "text": [
      "Iteration 5\n"
     ]
    },
    {
     "name": "stderr",
     "output_type": "stream",
     "text": [
      "                                                                                                                              \r"
     ]
    },
    {
     "name": "stdout",
     "output_type": "stream",
     "text": [
      "Iteration 6\n"
     ]
    },
    {
     "name": "stderr",
     "output_type": "stream",
     "text": [
      "                                                                                                                              \r"
     ]
    },
    {
     "name": "stdout",
     "output_type": "stream",
     "text": [
      "Iteration 7\n"
     ]
    },
    {
     "name": "stderr",
     "output_type": "stream",
     "text": [
      "                                                                                                                              \r"
     ]
    },
    {
     "name": "stdout",
     "output_type": "stream",
     "text": [
      "Iteration 8\n"
     ]
    },
    {
     "name": "stderr",
     "output_type": "stream",
     "text": [
      "                                                                                                                              \r"
     ]
    },
    {
     "name": "stdout",
     "output_type": "stream",
     "text": [
      "Iteration 9\n"
     ]
    },
    {
     "name": "stderr",
     "output_type": "stream",
     "text": [
      "                                                                                                                              \r"
     ]
    },
    {
     "name": "stdout",
     "output_type": "stream",
     "text": [
      "Iteration 10\n"
     ]
    },
    {
     "name": "stderr",
     "output_type": "stream",
     "text": [
      "                                                                                                                              \r"
     ]
    },
    {
     "name": "stdout",
     "output_type": "stream",
     "text": [
      "Iteration 11\n"
     ]
    },
    {
     "name": "stderr",
     "output_type": "stream",
     "text": [
      "                                                                                                                              \r"
     ]
    },
    {
     "name": "stdout",
     "output_type": "stream",
     "text": [
      "Iteration 12\n"
     ]
    },
    {
     "name": "stderr",
     "output_type": "stream",
     "text": [
      "                                                                                                                              \r"
     ]
    },
    {
     "name": "stdout",
     "output_type": "stream",
     "text": [
      "Iteration 13\n"
     ]
    },
    {
     "name": "stderr",
     "output_type": "stream",
     "text": [
      "                                                                                                                              \r"
     ]
    },
    {
     "name": "stdout",
     "output_type": "stream",
     "text": [
      "Iteration 14\n"
     ]
    },
    {
     "name": "stderr",
     "output_type": "stream",
     "text": [
      "                                                                                                                              \r"
     ]
    },
    {
     "name": "stdout",
     "output_type": "stream",
     "text": [
      "Iteration 15\n"
     ]
    },
    {
     "name": "stderr",
     "output_type": "stream",
     "text": [
      "                                                                                                                              \r"
     ]
    },
    {
     "name": "stdout",
     "output_type": "stream",
     "text": [
      "Iteration 16\n"
     ]
    },
    {
     "name": "stderr",
     "output_type": "stream",
     "text": [
      "                                                                                                                              \r"
     ]
    },
    {
     "name": "stdout",
     "output_type": "stream",
     "text": [
      "Iteration 17\n"
     ]
    },
    {
     "name": "stderr",
     "output_type": "stream",
     "text": [
      "                                                                                                                              \r"
     ]
    },
    {
     "name": "stdout",
     "output_type": "stream",
     "text": [
      "Iteration 18\n"
     ]
    },
    {
     "name": "stderr",
     "output_type": "stream",
     "text": [
      "                                                                                                                        \r"
     ]
    },
    {
     "data": {
      "text/html": [
       "<video src=\"media/jupyter/ShowOddEven@2025-04-03@16-18-05.mp4\" controls autoplay loop style=\"max-width: 100%;\"  >\n",
       "      Your browser does not support the <code>video</code> element.\n",
       "    </video>"
      ],
      "text/plain": [
       "<IPython.core.display.Video object>"
      ]
     },
     "metadata": {},
     "output_type": "display_data"
    }
   ],
   "source": [
    "%%manim -qm ShowOddEven\n",
    "\n",
    "config.frame_width = 20\n",
    "\n",
    "\n",
    "class ShowOddEven(Scene):\n",
    "    \n",
    "    def construct(self):\n",
    "        nbits = 8\n",
    "        network = odd_even(nbits, delay=0.1)\n",
    "        network.set_input([8, 7, 6, 5, 4, 3, 2 ,1])\n",
    "        network.init_computation()\n",
    "        viz.generic_run(self, network)\n",
    "        #print(network.read_output())"
   ]
  },
  {
   "cell_type": "markdown",
   "metadata": {},
   "source": [
    "# Butterly Network (for DFT)"
   ]
  },
  {
   "cell_type": "code",
   "execution_count": 14,
   "metadata": {},
   "outputs": [],
   "source": [
    "class butterfly:\n",
    "    def node_id(self, line, stage, comparator):\n",
    "        assert(comparator>=0 and comparator < 4)\n",
    "        assert(line < self.lines)\n",
    "        assert(stage < math.log2(self.lines))\n",
    "        return (line<<int(math.log2(self.lines)*2+2)) + (stage<<int(math.log2(self.lines)+2)) + comparator\n",
    "    \n",
    "    def items_from_node_id(self, nodeid):\n",
    "        return ((nodeid &  ((1<<int(math.log2(self.lines)))-1)<<int(math.log2(self.lines)*2+2)) >> int(math.log2(self.lines)*2+2),\n",
    "                (nodeid &  ((1<<int(math.log2(self.lines)))-1)<<int(math.log2(self.lines)+2)) >> int(math.log2(self.lines)+2),\n",
    "                nodeid&3)\n",
    "\n",
    "    def input_node(self, line):\n",
    "        return -(line+1)\n",
    "    \n",
    "    def inputs(self):\n",
    "        return range(-1, -(self.lines+1), -1)\n",
    "    \n",
    "    def output_node(self, line):\n",
    "        return -(line+1)-2*self.lines\n",
    "\n",
    "    def outputs(self):\n",
    "        return range(-1-2*self.lines, -(self.lines+1)-2*self.lines, -1)\n",
    "\n",
    "    def __init__(self, nlines, **kwargs):\n",
    "        #print(kwargs)\n",
    "        self.null_label = kwargs['null_label'] if 'null_label' in kwargs else '-'\n",
    "        self.verbose = kwargs['verbose'] if 'verbose' in kwargs else False\n",
    "\n",
    "        # nbits is the number of bits of the operation\n",
    "        # N is the number of nodes in the tree (2^n-1). Nodes in the tree will be from 0 to 2^n-2\n",
    "        self.lines = nlines\n",
    "        self.N = 2*nlines-1\n",
    "\n",
    "        self.Butterfly = nx.DiGraph()\n",
    "\n",
    "        node = 0\n",
    "        self.layout = {}\n",
    "        total_width = 0\n",
    "        for stage in range(0, int(math.log2(self.lines))):\n",
    "            bit_to_flip = int(math.log2(self.lines)) - stage - 1\n",
    "            stage_width = 1+bit_to_flip \n",
    "            total_width = total_width + stage_width\n",
    "            \n",
    "        stage_x_starts = -(total_width+2+2)/2\n",
    "        for stage in range(0, int(math.log2(self.lines))):\n",
    "            bit_to_flip = int(math.log2(self.lines)) - stage - 1\n",
    "            stage_width = 1+bit_to_flip\n",
    "            for line in range(0, self.lines):\n",
    "                if line&(1<<bit_to_flip) == 0:\n",
    "                    # starting line\n",
    "                    node0 = self.node_id(line, stage, 0)\n",
    "                    node1 = self.node_id(line, stage, 1)\n",
    "                    node2 = self.node_id( flip_bit(line, bit_to_flip), stage, 0)\n",
    "                    node3 = self.node_id( flip_bit(line, bit_to_flip), stage, 1)\n",
    "                    self.Butterfly.add_node(node0, weight = {'value': self.null_label, 'color': WHITE})\n",
    "                    self.Butterfly.add_node(node1, weight = {'value': self.null_label, 'color': GREEN})\n",
    "                    self.Butterfly.add_node(node2, weight = {'value': self.null_label, 'color': WHITE})\n",
    "                    self.Butterfly.add_node(node3, weight = {'value': self.null_label, 'color': RED})\n",
    "                    self.Butterfly.add_edge(node0, node1, weight={\"carry\": self.null_label, \"epoch\": 0, 'color': GREEN})\n",
    "                    self.Butterfly.add_edge(node0, node3, weight={\"carry\": self.null_label, \"epoch\": 0, 'color': RED})\n",
    "                    self.Butterfly.add_edge(node2, node1, weight={\"carry\": self.null_label, \"epoch\": 0, 'color': GREEN})\n",
    "                    self.Butterfly.add_edge(node2, node3, weight={\"carry\": self.null_label, \"epoch\": 0, 'color': RED})\n",
    "                    self.layout[node0] = [ stage_x_starts,   - line + self.lines/2, 0 ]\n",
    "                    self.layout[node1] = [ stage_x_starts+stage_width, - line + self.lines/2, 0 ]\n",
    "                    self.layout[node2] = [ stage_x_starts,   - flip_bit(line, bit_to_flip) + self.lines/2, 0 ]\n",
    "                    self.layout[node3] = [ stage_x_starts+stage_width, - flip_bit(line, bit_to_flip) + self.lines/2, 0 ]\n",
    "\n",
    "            stage_x_starts = stage_x_starts + stage_width + 1\n",
    "\n",
    "        minx = min([x[0] for x in self.layout.values()])\n",
    "        maxx = max([x[0] for x in self.layout.values()])\n",
    "        miny = min([x[1] for x in self.layout.values()])\n",
    "        maxy = max([x[1] for x in self.layout.values()])\n",
    "\n",
    "        # Input and output nodes\n",
    "        for line in range(0, self.lines):\n",
    "            self.Butterfly.add_node(self.input_node(line), weight = {'value': self.null_label, 'color': WHITE})\n",
    "            self.Butterfly.add_edge(self.input_node(line), self.node_id(line, 0, 0), weight={\"carry\": self.null_label, \"epoch\": 0, 'color': YELLOW})\n",
    "            self.Butterfly.add_node(self.output_node(line), weight = {'value': self.null_label, 'color': WHITE})\n",
    "            self.Butterfly.add_edge(self.node_id(line, int(math.log2(self.lines))-1, 1), self.output_node(line), weight={\"carry\": self.null_label, \"epoch\": 0, 'color': YELLOW})\n",
    "            self.layout[self.input_node(line)] = [minx-1, maxy - line, 0]\n",
    "            self.layout[self.output_node(line)] = [maxx+1, maxy - line, 0]\n",
    "\n",
    "        for stage in range(0, int(math.log2(self.lines))-1):\n",
    "            for line in range(0, self.lines):\n",
    "                source = self.node_id(line, stage, 1)\n",
    "                dest   = self.node_id(line, stage+1, 0)\n",
    "                self.Butterfly.add_edge(source, dest, weight={\"carry\": self.null_label, \"epoch\": 0, 'color': WHITE})\n",
    "\n",
    "        self.epoch = 0\n",
    "        \n",
    "    def additional_items_to_draw(self, selfi):\n",
    "        if self.epoch == 0:\n",
    "            group = Group(*[selfi.G[x] for x in self.inputs()])\n",
    "            selfi.add(SurroundingRectangle(group))\n",
    "            group = Group(*[selfi.G[x] for x in self.outputs()])\n",
    "            selfi.add(SurroundingRectangle(group))\n",
    "\n",
    "    def get(self):\n",
    "        return (self.Butterfly, self.layout)#, self.edges_labels_pos)\n",
    "\n",
    "    def set_input(self, in_seq):\n",
    "        self.in_seq = in_seq\n",
    "\n",
    "    def init_computation(self):\n",
    "        for n, v in zip(self.inputs(), self.in_seq):\n",
    "            self.Butterfly.nodes[n]['weight']['value'] = str(v)\n",
    "\n",
    "    def compute_iteration(self):\n",
    "        None\n",
    "        \n",
    "    def read_output(self):\n",
    "        res = []\n",
    "        for n, v in zip(self.outputs(), self.in_seq):\n",
    "            res.append(self.Butterfly.nodes[n]['weight']['value'])\n",
    "        return res\n"
   ]
  },
  {
   "cell_type": "code",
   "execution_count": 15,
   "metadata": {},
   "outputs": [
    {
     "data": {
      "text/html": [
       "<pre style=\"white-space:pre;overflow-x:auto;line-height:normal;font-family:Menlo,'DejaVu Sans Mono',consolas,'Courier New',monospace\">Manim Community <span style=\"color: #008000; text-decoration-color: #008000\">v0.19.0</span>\n",
       "\n",
       "</pre>\n"
      ],
      "text/plain": [
       "Manim Community \u001b[32mv0.\u001b[0m\u001b[32m19.0\u001b[0m\n",
       "\n"
      ]
     },
     "metadata": {},
     "output_type": "display_data"
    },
    {
     "name": "stdout",
     "output_type": "stream",
     "text": [
      "Iteration 0\n"
     ]
    },
    {
     "name": "stderr",
     "output_type": "stream",
     "text": [
      "                                                                                                                    \r"
     ]
    },
    {
     "data": {
      "text/html": [
       "<video src=\"media/jupyter/ShowButterfly@2025-04-03@16-28-01.mp4\" controls autoplay loop style=\"max-width: 100%;\"  >\n",
       "      Your browser does not support the <code>video</code> element.\n",
       "    </video>"
      ],
      "text/plain": [
       "<IPython.core.display.Video object>"
      ]
     },
     "metadata": {},
     "output_type": "display_data"
    }
   ],
   "source": [
    "%%manim -qm ShowButterfly\n",
    "\n",
    "config.frame_width = 32\n",
    "import random\n",
    "\n",
    "class ShowButterfly(Scene):\n",
    "    \n",
    "    def construct(self):\n",
    "        nleaves = 16\n",
    "        network = butterfly(nleaves, delay=1)\n",
    "        firsthalf = [random.randint(0, nleaves) for x in range(0, nleaves>>1)]\n",
    "        firsthalf.sort()\n",
    "        secondhalf = [random.randint(0, nleaves) for x in range(0, nleaves>>1)]\n",
    "        secondhalf.sort(reverse=True)\n",
    "        network.set_input(firsthalf + secondhalf)\n",
    "        viz.generic_run(self, network)\n",
    "        #print(network.read_output())"
   ]
  },
  {
   "cell_type": "code",
   "execution_count": 16,
   "metadata": {},
   "outputs": [
    {
     "data": {
      "text/html": [
       "<pre style=\"white-space:pre;overflow-x:auto;line-height:normal;font-family:Menlo,'DejaVu Sans Mono',consolas,'Courier New',monospace\">Manim Community <span style=\"color: #008000; text-decoration-color: #008000\">v0.19.0</span>\n",
       "\n",
       "</pre>\n"
      ],
      "text/plain": [
       "Manim Community \u001b[32mv0.\u001b[0m\u001b[32m19.0\u001b[0m\n",
       "\n"
      ]
     },
     "metadata": {},
     "output_type": "display_data"
    },
    {
     "name": "stdout",
     "output_type": "stream",
     "text": [
      "All is OK!\n",
      "Iteration 0\n"
     ]
    },
    {
     "name": "stderr",
     "output_type": "stream",
     "text": [
      "                                                                                                                    \r"
     ]
    },
    {
     "name": "stdout",
     "output_type": "stream",
     "text": [
      "Iteration 1\n"
     ]
    },
    {
     "name": "stderr",
     "output_type": "stream",
     "text": [
      "                                                                                                                             \r"
     ]
    },
    {
     "name": "stdout",
     "output_type": "stream",
     "text": [
      "Iteration 2\n"
     ]
    },
    {
     "name": "stderr",
     "output_type": "stream",
     "text": [
      "                                                                                                                             \r"
     ]
    },
    {
     "name": "stdout",
     "output_type": "stream",
     "text": [
      "Iteration 3\n"
     ]
    },
    {
     "name": "stderr",
     "output_type": "stream",
     "text": [
      "                                                                                                                             \r"
     ]
    },
    {
     "name": "stdout",
     "output_type": "stream",
     "text": [
      "Iteration 4\n"
     ]
    },
    {
     "name": "stderr",
     "output_type": "stream",
     "text": [
      "                                                                                                                              \r"
     ]
    },
    {
     "name": "stdout",
     "output_type": "stream",
     "text": [
      "Iteration 5\n"
     ]
    },
    {
     "name": "stderr",
     "output_type": "stream",
     "text": [
      "                                                                                                                              \r"
     ]
    },
    {
     "name": "stdout",
     "output_type": "stream",
     "text": [
      "Iteration 6\n"
     ]
    },
    {
     "name": "stderr",
     "output_type": "stream",
     "text": [
      "                                                                                                                              \r"
     ]
    },
    {
     "name": "stdout",
     "output_type": "stream",
     "text": [
      "Iteration 7\n"
     ]
    },
    {
     "name": "stderr",
     "output_type": "stream",
     "text": [
      "                                                                                                                              \r"
     ]
    },
    {
     "name": "stdout",
     "output_type": "stream",
     "text": [
      "Iteration 8\n"
     ]
    },
    {
     "name": "stderr",
     "output_type": "stream",
     "text": [
      "                                                                                                                              \r"
     ]
    },
    {
     "name": "stdout",
     "output_type": "stream",
     "text": [
      "Iteration 9\n"
     ]
    },
    {
     "name": "stderr",
     "output_type": "stream",
     "text": [
      "                                                                                                                              \r"
     ]
    },
    {
     "name": "stdout",
     "output_type": "stream",
     "text": [
      "Iteration 10\n"
     ]
    },
    {
     "name": "stderr",
     "output_type": "stream",
     "text": [
      "                                                                                                                        \r"
     ]
    },
    {
     "data": {
      "text/html": [
       "<video src=\"media/jupyter/BitonicMerge@2025-04-03@16-30-59.mp4\" controls autoplay loop style=\"max-width: 100%;\"  >\n",
       "      Your browser does not support the <code>video</code> element.\n",
       "    </video>"
      ],
      "text/plain": [
       "<IPython.core.display.Video object>"
      ]
     },
     "metadata": {},
     "output_type": "display_data"
    }
   ],
   "source": [
    "%%manim -qm BitonicMerge\n",
    "\n",
    "config.frame_width = 32\n",
    "\n",
    "class BitonicSequenceMerge(butterfly):\n",
    "    def __init__(self, nlines, **kwargs):\n",
    "        super(BitonicSequenceMerge, self).__init__(nlines, **kwargs)\n",
    "\n",
    "    def compute_iteration(self):\n",
    "        some_updates = False\n",
    "        for node in self.Butterfly:\n",
    "            if node in self.inputs():\n",
    "                if self.epoch == 0:\n",
    "                    for u, v, d in self.Butterfly.out_edges(node, data=True):\n",
    "                        assert(u==node)\n",
    "                        if self.Butterfly.nodes[node]['weight']['value'] != self.null_label:\n",
    "                            some_updates = True\n",
    "                            d['weight']['carry'] = self.Butterfly.nodes[node]['weight']['value']\n",
    "                            d['weight']['epoch'] = self.epoch+1\n",
    "                else:\n",
    "                    None\n",
    "            else:\n",
    "                if node in self.outputs():\n",
    "                    in_a = None\n",
    "                    for u, v, e in self.Butterfly.in_edges(node, data=True):\n",
    "                        in_a = e\n",
    "                    assert(in_a != None)\n",
    "\n",
    "                    if in_a['weight']['carry'] != self.null_label and in_a['weight']['epoch'] <= self.epoch:\n",
    "                        some_updates = True\n",
    "                        self.Butterfly.nodes[node]['weight']['value'] = in_a['weight']['carry']\n",
    "                        in_a['weight']['carry'] = self.null_label\n",
    "\n",
    "                else:\n",
    "                    line, stage, comp = self.items_from_node_id(node)\n",
    "                    #print(f'node {node} ({line}, {stage}, {comp})')\n",
    "                    if comp == 0: # First stage of the comparator\n",
    "                        in_a = None\n",
    "                        for u, v, e in self.Butterfly.in_edges(node, data=True):\n",
    "                            in_a = e\n",
    "\n",
    "                        out = []\n",
    "                        for u, v, e in self.Butterfly.out_edges(node, data=True):\n",
    "                            out.append(e)\n",
    "\n",
    "                        assert(len(out) == 2)\n",
    "                        assert(in_a != None)\n",
    "                        if in_a['weight']['carry'] != self.null_label and in_a['weight']['epoch'] <= self.epoch:\n",
    "                            some_updates = True\n",
    "                            self.Butterfly.nodes[node]['weight']['value'] = in_a['weight']['carry']\n",
    "                            out[0]['weight']['carry'] = self.Butterfly.nodes[node]['weight']['value']\n",
    "                            out[0]['weight']['epoch'] = self.epoch+1\n",
    "                            out[1]['weight']['carry'] = self.Butterfly.nodes[node]['weight']['value']\n",
    "                            out[1]['weight']['epoch'] = self.epoch+1\n",
    "                            in_a['weight']['carry'] = self.null_label\n",
    "                    else:\n",
    "                        assert(comp==1)\n",
    "                        out_a = None\n",
    "                        for u, v, e in self.Butterfly.out_edges(node, data=True):\n",
    "                            out_a = e\n",
    "                        ins = []\n",
    "                        for u, v, e in self.Butterfly.in_edges(node, data=True):\n",
    "                            ins.append(e)\n",
    "                        assert(len(ins) == 2)\n",
    "                        assert(out_a != None)\n",
    "                        if ins[0]['weight']['carry'] != self.null_label and ins[1]['weight']['carry'] != self.null_label and ins[0]['weight']['epoch'] <= self.epoch and ins[1]['weight']['epoch'] <= self.epoch:\n",
    "                            #if stage%2==0:\n",
    "                                bit_to_flip = int(math.log2(self.lines)) - stage - 1\n",
    "                                if line&(1<<bit_to_flip) == 0:\n",
    "                                    # Up\n",
    "                                    some_updates = True\n",
    "                                    out_a['weight']['carry'] = str(min(int(ins[0]['weight']['carry']), int(ins[1]['weight']['carry'])))\n",
    "                                    self.Butterfly.nodes[node]['weight']['value'] = out_a['weight']['carry']\n",
    "                                    out_a['weight']['epoch'] = self.epoch+1\n",
    "                                    ins[0]['weight']['carry'] = self.null_label\n",
    "                                    ins[1]['weight']['carry'] = self.null_label\n",
    "                                else:\n",
    "                                    # Down\n",
    "                                    some_updates = True\n",
    "                                    out_a['weight']['carry'] = str(max(int(ins[0]['weight']['carry']), int(ins[1]['weight']['carry'])))\n",
    "                                    self.Butterfly.nodes[node]['weight']['value'] = out_a['weight']['carry']\n",
    "                                    out_a['weight']['epoch'] = self.epoch+1\n",
    "                                    ins[0]['weight']['carry'] = self.null_label\n",
    "                                    ins[1]['weight']['carry'] = self.null_label\n",
    "\n",
    "        self.epoch = self.epoch + 1\n",
    "        return some_updates\n",
    "\n",
    "def test_bitonic_merge():\n",
    "    nleaves = 16\n",
    "    firsthalf = [x for x in range(0, nleaves>>1)]\n",
    "    firsthalf.sort()\n",
    "    secondhalf = [x for x in range(0, nleaves>>1)]\n",
    "    secondhalf.sort(reverse=True)\n",
    "    test_seq = firsthalf + secondhalf\n",
    "    for i in range(0, 100):\n",
    "        network = BitonicSequenceMerge(nleaves, verbose = False)\n",
    "        network.set_input(test_seq)\n",
    "        network.init_computation()\n",
    "        while network.compute_iteration():\n",
    "            None\n",
    "\n",
    "        res = network.read_output()\n",
    "        #print(res)\n",
    "        v = res[0]\n",
    "        for x in range(1, nleaves):\n",
    "            assert(int(v) <= int(res[x]))\n",
    "            v = int(res[x])\n",
    "        firsthalf = [random.randint(0, nleaves) for x in range(0, nleaves>>1)]\n",
    "        firsthalf.sort()\n",
    "        secondhalf = [random.randint(0, nleaves) for x in range(0, nleaves>>1)]\n",
    "        secondhalf.sort(reverse=True)\n",
    "        test_seq = firsthalf + secondhalf\n",
    "\n",
    "    print(\"All is OK!\")\n",
    "\n",
    "\n",
    "class BitonicMerge(Scene):\n",
    "    \n",
    "    def construct(self):\n",
    "        test_bitonic_merge()\n",
    "        nleaves = 16\n",
    "        network = BitonicSequenceMerge(nleaves, delay=1)\n",
    "        firsthalf = [random.randint(0, 4*nleaves) for x in range(0, nleaves>>1)]\n",
    "        #firsthalf = [x for x in range(0, nleaves>>1)]\n",
    "        firsthalf.sort()\n",
    "        secondhalf = [random.randint(0, 4*nleaves) for x in range(0, nleaves>>1)]\n",
    "        #secondhalf = [x for x in range(0, nleaves>>1)]\n",
    "        secondhalf.sort(reverse=True)\n",
    "        inseq = firsthalf + secondhalf\n",
    "        for i in range(0, 5):\n",
    "            inseq.append(inseq.pop(0))\n",
    "        network.set_input(inseq)\n",
    "        viz.generic_run(self, network)\n",
    "        #print(network.read_output())"
   ]
  },
  {
   "cell_type": "code",
   "execution_count": 17,
   "metadata": {},
   "outputs": [
    {
     "data": {
      "text/html": [
       "<pre style=\"white-space:pre;overflow-x:auto;line-height:normal;font-family:Menlo,'DejaVu Sans Mono',consolas,'Courier New',monospace\">Manim Community <span style=\"color: #008000; text-decoration-color: #008000\">v0.19.0</span>\n",
       "\n",
       "</pre>\n"
      ],
      "text/plain": [
       "Manim Community \u001b[32mv0.\u001b[0m\u001b[32m19.0\u001b[0m\n",
       "\n"
      ]
     },
     "metadata": {},
     "output_type": "display_data"
    },
    {
     "name": "stdout",
     "output_type": "stream",
     "text": [
      "                          ITERATION 1 (width=14)\n",
      "new_nodes = {1: VGroup(Dot, Text('1'))}\n"
     ]
    },
    {
     "name": "stderr",
     "output_type": "stream",
     "text": [
      "                                                                                              \r"
     ]
    },
    {
     "name": "stdout",
     "output_type": "stream",
     "text": [
      "nodes: {0: VGroup(Dot, Text('0')), 1: VGroup(Dot, Text('1'))}\n",
      "edges: dict_keys([(0, 1)])\n",
      "                          ITERATION 2 (width=18)\n",
      "new_nodes = {2: VGroup(Dot, Text('10')), 3: VGroup(Dot, Text('11'))}\n"
     ]
    },
    {
     "name": "stderr",
     "output_type": "stream",
     "text": [
      "                                                                                                    \r"
     ]
    },
    {
     "name": "stdout",
     "output_type": "stream",
     "text": [
      "nodes: {0: VGroup(Dot, Text('0')), 1: VGroup(Dot, Text('1')), 2: VGroup(Dot, Text('10')), 3: VGroup(Dot, Text('11'))}\n",
      "edges: dict_keys([(0, 1), (0, 2), (1, 3), (2, 3)])\n",
      "                          ITERATION 3 (width=30)\n",
      "new_nodes = {4: VGroup(Dot, Text('100')), 5: VGroup(Dot, Text('101')), 6: VGroup(Dot, Text('110')), 7: VGroup(Dot, Text('111'))}\n"
     ]
    },
    {
     "name": "stderr",
     "output_type": "stream",
     "text": [
      "                                                                                                               \r"
     ]
    },
    {
     "name": "stdout",
     "output_type": "stream",
     "text": [
      "nodes: {0: VGroup(Dot, Text('0')), 1: VGroup(Dot, Text('1')), 2: VGroup(Dot, Text('10')), 3: VGroup(Dot, Text('11')), 4: VGroup(Dot, Text('100')), 5: VGroup(Dot, Text('101')), 6: VGroup(Dot, Text('110')), 7: VGroup(Dot, Text('111'))}\n",
      "edges: dict_keys([(0, 1), (0, 2), (1, 3), (2, 3), (0, 4), (1, 5), (2, 6), (3, 7), (4, 5), (4, 6), (5, 7), (6, 7)])\n",
      "                          ITERATION 4 (width=32)\n",
      "new_nodes = {8: VGroup(Dot, Text('1000')), 9: VGroup(Dot, Text('1001')), 10: VGroup(Dot, Text('1010')), 11: VGroup(Dot, Text('1011')), 12: VGroup(Dot, Text('1100')), 13: VGroup(Dot, Text('1101')), 14: VGroup(Dot, Text('1110')), 15: VGroup(Dot, Text('1111'))}\n"
     ]
    },
    {
     "name": "stderr",
     "output_type": "stream",
     "text": [
      "                                                                                                               \r"
     ]
    },
    {
     "name": "stdout",
     "output_type": "stream",
     "text": [
      "nodes: {0: VGroup(Dot, Text('0')), 1: VGroup(Dot, Text('1')), 2: VGroup(Dot, Text('10')), 3: VGroup(Dot, Text('11')), 4: VGroup(Dot, Text('100')), 5: VGroup(Dot, Text('101')), 6: VGroup(Dot, Text('110')), 7: VGroup(Dot, Text('111')), 8: VGroup(Dot, Text('1000')), 9: VGroup(Dot, Text('1001')), 10: VGroup(Dot, Text('1010')), 11: VGroup(Dot, Text('1011')), 12: VGroup(Dot, Text('1100')), 13: VGroup(Dot, Text('1101')), 14: VGroup(Dot, Text('1110')), 15: VGroup(Dot, Text('1111'))}\n",
      "edges: dict_keys([(0, 1), (0, 2), (1, 3), (2, 3), (0, 4), (1, 5), (2, 6), (3, 7), (4, 5), (4, 6), (5, 7), (6, 7), (0, 8), (1, 9), (2, 10), (3, 11), (4, 12), (5, 13), (6, 14), (7, 15), (8, 9), (8, 10), (8, 12), (9, 11), (9, 13), (10, 11), (10, 14), (11, 15), (12, 13), (12, 14), (13, 15), (14, 15)])\n",
      "                          ITERATION 5 (width=34)\n",
      "new_nodes = {16: VGroup(Dot, Text('10000')), 17: VGroup(Dot, Text('10001')), 18: VGroup(Dot, Text('10010')), 19: VGroup(Dot, Text('10011')), 20: VGroup(Dot, Text('10100')), 21: VGroup(Dot, Text('10101')), 22: VGroup(Dot, Text('10110')), 23: VGroup(Dot, Text('10111')), 24: VGroup(Dot, Text('11000')), 25: VGroup(Dot, Text('11001')), 26: VGroup(Dot, Text('11010')), 27: VGroup(Dot, Text('11011')), 28: VGroup(Dot, Text('11100')), 29: VGroup(Dot, Text('11101')), 30: VGroup(Dot, Text('11110')), 31: VGroup(Dot, Text('11111'))}\n"
     ]
    },
    {
     "name": "stderr",
     "output_type": "stream",
     "text": [
      "                                                                                                              \r"
     ]
    },
    {
     "name": "stdout",
     "output_type": "stream",
     "text": [
      "nodes: {0: VGroup(Dot, Text('0')), 1: VGroup(Dot, Text('1')), 2: VGroup(Dot, Text('10')), 3: VGroup(Dot, Text('11')), 4: VGroup(Dot, Text('100')), 5: VGroup(Dot, Text('101')), 6: VGroup(Dot, Text('110')), 7: VGroup(Dot, Text('111')), 8: VGroup(Dot, Text('1000')), 9: VGroup(Dot, Text('1001')), 10: VGroup(Dot, Text('1010')), 11: VGroup(Dot, Text('1011')), 12: VGroup(Dot, Text('1100')), 13: VGroup(Dot, Text('1101')), 14: VGroup(Dot, Text('1110')), 15: VGroup(Dot, Text('1111')), 16: VGroup(Dot, Text('10000')), 17: VGroup(Dot, Text('10001')), 18: VGroup(Dot, Text('10010')), 19: VGroup(Dot, Text('10011')), 20: VGroup(Dot, Text('10100')), 21: VGroup(Dot, Text('10101')), 22: VGroup(Dot, Text('10110')), 23: VGroup(Dot, Text('10111')), 24: VGroup(Dot, Text('11000')), 25: VGroup(Dot, Text('11001')), 26: VGroup(Dot, Text('11010')), 27: VGroup(Dot, Text('11011')), 28: VGroup(Dot, Text('11100')), 29: VGroup(Dot, Text('11101')), 30: VGroup(Dot, Text('11110')), 31: VGroup(Dot, Text('11111'))}\n",
      "edges: dict_keys([(0, 1), (0, 2), (1, 3), (2, 3), (0, 4), (1, 5), (2, 6), (3, 7), (4, 5), (4, 6), (5, 7), (6, 7), (0, 8), (1, 9), (2, 10), (3, 11), (4, 12), (5, 13), (6, 14), (7, 15), (8, 9), (8, 10), (8, 12), (9, 11), (9, 13), (10, 11), (10, 14), (11, 15), (12, 13), (12, 14), (13, 15), (14, 15), (0, 16), (1, 17), (2, 18), (3, 19), (4, 20), (5, 21), (6, 22), (7, 23), (8, 24), (9, 25), (10, 26), (11, 27), (12, 28), (13, 29), (14, 30), (15, 31), (16, 17), (16, 18), (16, 20), (16, 24), (17, 19), (17, 21), (17, 25), (18, 19), (18, 22), (18, 26), (19, 23), (19, 27), (20, 21), (20, 22), (20, 28), (21, 23), (21, 29), (22, 23), (22, 30), (23, 31), (24, 25), (24, 26), (24, 28), (25, 27), (25, 29), (26, 27), (26, 30), (27, 31), (28, 29), (28, 30), (29, 31), (30, 31)])\n"
     ]
    },
    {
     "data": {
      "text/html": [
       "<video src=\"media/jupyter/Hypercube@2025-04-03@16-33-03.mp4\" controls autoplay loop style=\"max-width: 100%;\"  >\n",
       "      Your browser does not support the <code>video</code> element.\n",
       "    </video>"
      ],
      "text/plain": [
       "<IPython.core.display.Video object>"
      ]
     },
     "metadata": {},
     "output_type": "display_data"
    }
   ],
   "source": [
    "%%manim -qm Hypercube\n",
    "\n",
    "config.frame_width = 10\n",
    "import random\n",
    "\n",
    "def draw_node(id, bits, pos):\n",
    "    result = VGroup()\n",
    "    f = \"{0:0\"+str(bits)+\"b}\"\n",
    "    text = Text(f.format(id), color=BLACK, font='monospace', font_size=16).move_to(pos)\n",
    "    #print(f'radius=max(text.width, text.height) = radius=max({text.width}, {text.height}) = {max(text.width, text.height)}')\n",
    "    circle = Dot(point=pos, radius=max(text.width, text.height), color=WHITE)\n",
    "    return result.add(circle, text)\n",
    "\n",
    "class myarch(ArcBetweenPoints):\n",
    "    def __init__(self, *args, **kwargs):\n",
    "        super(myarch, self).__init__(angle=PI/3, *args, **kwargs)\n",
    "\n",
    "class Hypercube(MovingCameraScene):\n",
    "\n",
    "    def construct(self):\n",
    "        edges_full = {}\n",
    "        new_nodes = []\n",
    "\n",
    "        nodes = {0: draw_node(0, 0, [0,0,0])}\n",
    "        nodes[0].z_index = 1\n",
    "        self.add(nodes[0])\n",
    "        Title = Text(\"Hyercube\").move_to(UP)\n",
    "\n",
    "        shifts = [[0,0,0], [-2, 0, 0], [0,-2,0], [-1,-1,0], [-2, -4, 0], [-4, 1.2, 0], [-9,-2,0]]\n",
    "        arches = [Line, Line, Line, Line, Line, Line, Line, Line]\n",
    "        colors = [WHITE, WHITE, RED, YELLOW, GREEN, BLUE, WHITE]\n",
    "        widths = [0, 14, 18, 30, 32, 34, 34, 64]\n",
    "        for bits in range(1, 6):\n",
    "            print(f'                          ITERATION {bits} (width={widths[bits]})')\n",
    "            new_nodes = {i+len(nodes) : draw_node(i+len(nodes), bits, nodes[i].get_center()) for i in range(0, len(nodes))}\n",
    "            print(f'new_nodes = {new_nodes}')\n",
    "            new_sub_edges = {}\n",
    "            new_cross_edges = {}\n",
    "            f = \"{0:0\"+str(bits)+\"b}\"\n",
    "            for src in range(0, len(nodes)+len(new_nodes)):\n",
    "                for dst in range(src, len(nodes)+len(new_nodes)):\n",
    "                    if not (src,dst) in edges_full:\n",
    "                        if count_ones(src^dst)==1:\n",
    "                            if not src in nodes:\n",
    "                                new_sub_edges[(src, dst)] = arches[bits](new_nodes[src], new_nodes[dst], color=colors[int(math.log2(src^dst)+1)], path_arc=PI/6)\n",
    "                            else:\n",
    "                                assert(src in nodes)\n",
    "                                new_cross_edges[(src, dst)] = arches[bits](nodes[src], new_nodes[dst], color=colors[bits], path_arc=PI/6)\n",
    "            self.play(*[n.animate.shift(shifts[bits]) for n in nodes.values()],\n",
    "                        *[e.animate.shift(shifts[bits]) for e in edges_full.values()])\n",
    "            update_labels = [draw_node(i, bits, nodes[i].get_center()) for i in range(0, len(nodes))]\n",
    "\n",
    "            self.play(*[Transform(nodes[i], update_labels[i]) for i in range(0, len(nodes))]) \n",
    "\n",
    "            for i in range(0, len(nodes)):\n",
    "                new_nodes[i+len(nodes)].move_to(nodes[i])\n",
    "                new_nodes[i+len(nodes)].z_index = 1\n",
    "            [new_sub_edges[(i,j)].put_start_and_end_on(new_nodes[i].get_center(),new_nodes[j].get_center()) for (i,j) in new_sub_edges]\n",
    "\n",
    "            self.play(*[Create(n) for n in new_nodes.values()], *[Create(e) for e in new_sub_edges.values()], run_time=0.05)\n",
    "            self.play(*[n.animate.shift([-2*i for i in shifts[bits]]) for n in new_nodes.values()],\n",
    "                         *[e.animate.shift([-2*i for i in shifts[bits]]) for e in new_sub_edges.values()])\n",
    "            if new_cross_edges:\n",
    "                [new_cross_edges[(i,j)].put_start_and_end_on(nodes[i].get_center(),new_nodes[j].get_center()) for (i,j) in new_cross_edges]\n",
    "\n",
    "                self.play(self.camera.frame.animate.set(width=widths[bits]),*[Create(e) for e in new_cross_edges.values()])\n",
    "            self.wait(1)\n",
    "            nodes = nodes | new_nodes\n",
    "            edges_full = edges_full | new_cross_edges | new_sub_edges\n",
    "            print(f'nodes: {nodes}')\n",
    "            print(f'edges: {edges_full.keys()}')\n",
    "        self.wait(2)\n"
   ]
  },
  {
   "cell_type": "code",
   "execution_count": 18,
   "metadata": {},
   "outputs": [],
   "source": [
    "class Batcher:\n",
    "    def node_id(self, line, sub_stage, stage, comparator):\n",
    "        assert(comparator>=0 and comparator < 4)\n",
    "        if line >= self.lines:\n",
    "            print(f'{line} < {self.lines}')\n",
    "        assert(line < self.lines)\n",
    "        assert(sub_stage < math.log2(self.lines))\n",
    "        assert(stage < math.log2(self.lines))\n",
    "        return (line<<int(math.log2(self.lines)*3+2)) + (sub_stage<<int(math.log2(self.lines)*2+2)) + (stage<<int(math.log2(self.lines)+2)) + comparator\n",
    "    \n",
    "    def items_from_node_id(self, nodeid):\n",
    "        return ((nodeid &  ((1<<int(math.log2(self.lines)))-1)<<int(math.log2(self.lines)*3+2)) >> int(math.log2(self.lines)*3+2),\n",
    "                (nodeid &  ((1<<int(math.log2(self.lines)))-1)<<int(math.log2(self.lines)*2+2)) >> int(math.log2(self.lines)*2+2),\n",
    "                (nodeid &  ((1<<int(math.log2(self.lines)))-1)<<int(math.log2(self.lines)+2)) >> int(math.log2(self.lines)+2),\n",
    "                nodeid&3)\n",
    "\n",
    "    def input_node(self, line):\n",
    "        return -(line+1)\n",
    "    \n",
    "    def inputs(self):\n",
    "        return range(-1, -(self.lines+1), -1)\n",
    "    \n",
    "    def output_node(self, line):\n",
    "        return -(line+1)-2*self.lines\n",
    "\n",
    "    def outputs(self):\n",
    "        return range(-1-2*self.lines, -(self.lines+1)-2*self.lines, -1)\n",
    "\n",
    "    def __init__(self, nlines, **kwargs):\n",
    "        #print(kwargs)\n",
    "        self.null_label = kwargs['null_label'] if 'null_label' in kwargs else '-'\n",
    "        self.verbose = kwargs['verbose'] if 'verbose' in kwargs else False\n",
    "\n",
    "        # nbits is the number of bits of the operation\n",
    "        # N is the number of nodes in the tree (2^n-1). Nodes in the tree will be from 0 to 2^n-2\n",
    "        self.lines = nlines\n",
    "        self.N = 2*nlines-1\n",
    "\n",
    "        self.Butterfly = nx.DiGraph()\n",
    "\n",
    "        node = 0\n",
    "        self.layout = {}\n",
    "        total_width = 0\n",
    "        for stage in range(0, int(math.log2(self.lines))):\n",
    "            sub_net_size = 1<<(stage+1)\n",
    "            for sub_stage in range(0, int(math.log2(sub_net_size))):\n",
    "                bit_to_flip = int(math.log2(sub_net_size)) - sub_stage - 1\n",
    "                stage_width = 1+bit_to_flip\n",
    "                total_width = total_width + stage_width + 1\n",
    "        stage_x_starts = -((total_width)/2)+0.5\n",
    "\n",
    "        for stage in range(0, int(math.log2(self.lines))):\n",
    "            line_mask = (1<<stage+1)-1\n",
    "            sub_net_size = 1<<(stage+1)\n",
    "            number_of_networks = int(self.lines / sub_net_size)\n",
    "            global_start = stage_x_starts\n",
    "            for starting_line in range(0, self.lines, 1<<(stage+1)):\n",
    "                stage_x_starts = global_start\n",
    "                for sub_stage in range(0, int(math.log2(sub_net_size))):\n",
    "                    bit_to_flip = int(math.log2(sub_net_size)) - sub_stage - 1\n",
    "                    stage_width = 1+bit_to_flip\n",
    "                    #print(f'line_mask={line_mask}, sub_stage={sub_stage}, starting_line={starting_line}, line_mask={line_mask}, number_of_networks={number_of_networks}, sub_net_size={sub_net_size}', end=' ')\n",
    "                    for line in range(starting_line, starting_line+sub_net_size):\n",
    "                        if (line&line_mask)&(1<<bit_to_flip) == 0:\n",
    "                            # starting line\n",
    "                            #print(f'line={line}, flip_bit(line, bit_to_flip)={flip_bit(line, bit_to_flip)}')\n",
    "                            node0 = self.node_id(line, sub_stage, stage, 0)\n",
    "                            node1 = self.node_id(line, sub_stage, stage, 1)\n",
    "                            node2 = self.node_id( flip_bit(line, bit_to_flip), sub_stage, stage, 0)\n",
    "                            node3 = self.node_id( flip_bit(line, bit_to_flip), sub_stage, stage, 1)\n",
    "                            #print(f'nodes: {node0}, {node1}, {node2}, {node3}')\n",
    "                            sub_net_index = math.floor(line / sub_net_size)\n",
    "                            #print(f'line={line}, sub_net_index={sub_net_index}, line&line_mask={line&line_mask}')\n",
    "                            assert(line < flip_bit(line, bit_to_flip))\n",
    "                            node1_color = GREEN if sub_net_index%2==0 else RED\n",
    "                            node3_color = GREEN if sub_net_index%2==1 else RED\n",
    "                            self.Butterfly.add_node(node0, weight = {'value': self.null_label, 'color': WHITE})\n",
    "                            self.Butterfly.add_node(node1, weight = {'value': self.null_label, 'color': node1_color})\n",
    "                            self.Butterfly.add_node(node2, weight = {'value': self.null_label, 'color': WHITE})\n",
    "                            self.Butterfly.add_node(node3, weight = {'value': self.null_label, 'color': node3_color})\n",
    "                            self.Butterfly.add_edge(node0, node1, weight={\"carry\": self.null_label, \"epoch\": 0, 'color': node1_color})\n",
    "                            self.Butterfly.add_edge(node0, node3, weight={\"carry\": self.null_label, \"epoch\": 0, 'color': node3_color})\n",
    "                            self.Butterfly.add_edge(node2, node1, weight={\"carry\": self.null_label, \"epoch\": 0, 'color': node1_color})\n",
    "                            self.Butterfly.add_edge(node2, node3, weight={\"carry\": self.null_label, \"epoch\": 0, 'color': node3_color})\n",
    "                            self.layout[node0] = [ stage_x_starts,   - line + self.lines/2, 0 ]\n",
    "                            self.layout[node1] = [ stage_x_starts+stage_width, - line + self.lines/2, 0 ]\n",
    "                            self.layout[node2] = [ stage_x_starts,   - flip_bit(line, bit_to_flip) + self.lines/2, 0 ]\n",
    "                            self.layout[node3] = [ stage_x_starts+stage_width, - flip_bit(line, bit_to_flip) + self.lines/2, 0 ]\n",
    "\n",
    "                    stage_x_starts = stage_x_starts + stage_width + 1\n",
    "\n",
    "                for sub_stage in range(0, int(math.log2(sub_net_size))-1):\n",
    "                    for line in range(0, self.lines):\n",
    "                        source = self.node_id(line, sub_stage, stage, 1)\n",
    "                        dest   = self.node_id(line, sub_stage+1, stage, 0)\n",
    "                        self.Butterfly.add_edge(source, dest, weight={\"carry\": self.null_label, \"epoch\": 0, 'color': GREEN})\n",
    "\n",
    "        # Links between sub-networks\n",
    "        for stage in range(0, int(math.log2(self.lines))-1):\n",
    "            sub_net_size = 1<<(stage+1)\n",
    "            for line in range(0, self.lines):\n",
    "                #print(f'self.node_id({line}, {int(math.log2(sub_net_size))-1}, {stage}, 1) - self.node_id({line}, 0, {stage+1}, 0)', end=' ')\n",
    "                source = self.node_id(line, int(math.log2(sub_net_size))-1, stage, 1)\n",
    "                dest   = self.node_id(line, 0, stage+1, 0)\n",
    "                assert(source in self.Butterfly.nodes())\n",
    "                assert(dest in self.Butterfly.nodes())\n",
    "                #print(f'{source} -> {dest}')\n",
    "                self.Butterfly.add_edge(source, dest, weight={\"carry\": self.null_label, \"epoch\": 0, 'color': YELLOW})\n",
    "\n",
    "        minx = min([x[0] for x in self.layout.values()])\n",
    "        maxx = max([x[0] for x in self.layout.values()])\n",
    "        miny = min([x[1] for x in self.layout.values()])\n",
    "        maxy = max([x[1] for x in self.layout.values()])\n",
    "\n",
    "        # Input and output nodes\n",
    "        for line in range(0, self.lines):\n",
    "            self.Butterfly.add_node(self.input_node(line), weight = {'value': self.null_label, 'color': WHITE})\n",
    "            self.Butterfly.add_edge(self.input_node(line), self.node_id(line, 0, 0, 0), weight={\"carry\": self.null_label, \"epoch\": 0, 'color': YELLOW})\n",
    "            self.Butterfly.add_node(self.output_node(line), weight = {'value': self.null_label, 'color': WHITE})\n",
    "            self.Butterfly.add_edge(self.node_id(line, int(math.log2(self.lines))-1, int(math.log2(self.lines))-1, 1), self.output_node(line), weight={\"carry\": self.null_label, \"epoch\": 0, 'color': YELLOW})\n",
    "            self.layout[self.input_node(line)] = [minx-1, maxy - line, 0]\n",
    "            self.layout[self.output_node(line)] = [maxx+1, maxy - line, 0]\n",
    "\n",
    "\n",
    "        self.epoch = 0\n",
    "        \n",
    "    def additional_items_to_draw(self, selfi):\n",
    "        if self.epoch == 0:\n",
    "            group = Group(*[selfi.G[x] for x in self.inputs()])\n",
    "            selfi.add(SurroundingRectangle(group))\n",
    "            group = Group(*[selfi.G[x] for x in self.outputs()])\n",
    "            selfi.add(SurroundingRectangle(group))\n",
    "            for stage in range(0, int(math.log2(self.lines))):\n",
    "                line_mask = (1<<stage+1)-1\n",
    "                sub_net_size = 1<<(stage+1)\n",
    "                for starting_line in range(0, self.lines, 1<<(stage+1)):\n",
    "                    group_list = []\n",
    "                    for sub_stage in range(0, int(math.log2(sub_net_size))):\n",
    "                        bit_to_flip = int(math.log2(sub_net_size)) - sub_stage - 1\n",
    "                        stage_width = 1+bit_to_flip\n",
    "                        #print(f'line_mask={line_mask}, sub_stage={sub_stage}, starting_line={starting_line}, line_mask={line_mask}, number_of_networks={number_of_networks}, sub_net_size={sub_net_size}', end=' ')\n",
    "                        for line in range(starting_line, starting_line+sub_net_size):\n",
    "                            if (line&line_mask)&(1<<bit_to_flip) == 0:\n",
    "                                # starting line\n",
    "                                #print(f'line={line}, flip_bit(line, bit_to_flip)={flip_bit(line, bit_to_flip)}')\n",
    "                                node0 = self.node_id(line, sub_stage, stage, 0)\n",
    "                                node1 = self.node_id(line, sub_stage, stage, 1)\n",
    "                                node2 = self.node_id( flip_bit(line, bit_to_flip), sub_stage, stage, 0)\n",
    "                                node3 = self.node_id( flip_bit(line, bit_to_flip), sub_stage, stage, 1)\n",
    "                                group_list = group_list + [node0, node1, node2, node3]\n",
    "                    print(f'Adding rectangle around {len(group_list)} nodes')\n",
    "                    group = Group(*[selfi.G[x] for x in group_list])\n",
    "                    selfi.add(SurroundingRectangle(group, color=DARK_BLUE, corner_radius=0.2))\n",
    "\n",
    "\n",
    "\n",
    "    def get(self):\n",
    "        return (self.Butterfly, self.layout)#, self.edges_labels_pos)\n",
    "\n",
    "    def set_input(self, in_seq):\n",
    "        self.in_seq = in_seq\n",
    "\n",
    "    def init_computation(self):\n",
    "        for n, v in zip(self.inputs(), self.in_seq):\n",
    "            self.Butterfly.nodes[n]['weight']['value'] = str(v)\n",
    "\n",
    "    def no_compute_iteration(self):\n",
    "        None\n",
    "\n",
    "    def compute_iteration(self):\n",
    "        some_updates = False\n",
    "        for node in self.Butterfly:\n",
    "            if node in self.inputs():\n",
    "                if self.epoch == 0:\n",
    "                    for u, v, d in self.Butterfly.out_edges(node, data=True):\n",
    "                        assert(u==node)\n",
    "                        if self.Butterfly.nodes[node]['weight']['value'] != self.null_label:\n",
    "                            some_updates = True\n",
    "                            d['weight']['carry'] = self.Butterfly.nodes[node]['weight']['value']\n",
    "                            d['weight']['epoch'] = self.epoch+1\n",
    "                else:\n",
    "                    None\n",
    "            else:\n",
    "                if node in self.outputs():\n",
    "                    in_a = None\n",
    "                    for u, v, e in self.Butterfly.in_edges(node, data=True):\n",
    "                        in_a = e\n",
    "                    assert(in_a != None)\n",
    "\n",
    "                    if in_a['weight']['carry'] != self.null_label and in_a['weight']['epoch'] <= self.epoch:\n",
    "                        some_updates = True\n",
    "                        self.Butterfly.nodes[node]['weight']['value'] = in_a['weight']['carry']\n",
    "                        in_a['weight']['carry'] = self.null_label\n",
    "\n",
    "                else:\n",
    "                    line, sub_stage, stage, comp = self.items_from_node_id(node)\n",
    "                    #print(f'node {node} ({line}, {stage}, {comp})')\n",
    "                    if comp == 0: # First stage of the comparator\n",
    "                        in_a = None\n",
    "                        for u, v, e in self.Butterfly.in_edges(node, data=True):\n",
    "                            in_a = e\n",
    "\n",
    "                        out = []\n",
    "                        for u, v, e in self.Butterfly.out_edges(node, data=True):\n",
    "                            out.append(e)\n",
    "\n",
    "                        assert(len(out) == 2)\n",
    "                        assert(in_a != None)\n",
    "                        if in_a['weight']['carry'] != self.null_label and in_a['weight']['epoch'] <= self.epoch:\n",
    "                            some_updates = True\n",
    "                            self.Butterfly.nodes[node]['weight']['value'] = in_a['weight']['carry']\n",
    "                            out[0]['weight']['carry'] = self.Butterfly.nodes[node]['weight']['value']\n",
    "                            out[0]['weight']['epoch'] = self.epoch+1\n",
    "                            out[1]['weight']['carry'] = self.Butterfly.nodes[node]['weight']['value']\n",
    "                            out[1]['weight']['epoch'] = self.epoch+1\n",
    "                            in_a['weight']['carry'] = self.null_label\n",
    "                    else:\n",
    "                        assert(comp==1)\n",
    "                        out_a = None\n",
    "                        for u, v, e in self.Butterfly.out_edges(node, data=True):\n",
    "                            out_a = e\n",
    "                        ins = []\n",
    "                        for u, v, e in self.Butterfly.in_edges(node, data=True):\n",
    "                            ins.append(e)\n",
    "                        assert(len(ins) == 2)\n",
    "                        assert(out_a != None)\n",
    "                        if ins[0]['weight']['carry'] != self.null_label and ins[1]['weight']['carry'] != self.null_label and ins[0]['weight']['epoch'] <= self.epoch and ins[1]['weight']['epoch'] <= self.epoch:\n",
    "                            #if stage%2==0:\n",
    "                                line_mask = (1<<stage+1)-1\n",
    "                                sub_net_size = 1<<(stage+1)\n",
    "                                sub_net_index = math.floor(line/sub_net_size)\n",
    "                                bit_to_flip = int(math.log2(sub_net_size)) - sub_stage - 1\n",
    "                                #comp_direction_up = True # up or down\n",
    "                                if (line_mask&line)&(1<<bit_to_flip) == 0:\n",
    "                                    # Up\n",
    "                                    some_updates = True\n",
    "                                    if  sub_net_index%2 == 0:\n",
    "                                        out_a['weight']['carry'] = str(min(int(ins[0]['weight']['carry']), int(ins[1]['weight']['carry'])))\n",
    "                                    else:\n",
    "                                        out_a['weight']['carry'] = str(max(int(ins[0]['weight']['carry']), int(ins[1]['weight']['carry'])))\n",
    "                                    self.Butterfly.nodes[node]['weight']['value'] = out_a['weight']['carry']\n",
    "                                    out_a['weight']['epoch'] = self.epoch+1\n",
    "                                    ins[0]['weight']['carry'] = self.null_label\n",
    "                                    ins[1]['weight']['carry'] = self.null_label\n",
    "                                else:\n",
    "                                    # Down\n",
    "                                    some_updates = True\n",
    "                                    if  sub_net_index%2 == 0:\n",
    "                                        out_a['weight']['carry'] = str(max(int(ins[0]['weight']['carry']), int(ins[1]['weight']['carry'])))\n",
    "                                    else:\n",
    "                                        out_a['weight']['carry'] = str(min(int(ins[0]['weight']['carry']), int(ins[1]['weight']['carry'])))\n",
    "                                    self.Butterfly.nodes[node]['weight']['value'] = out_a['weight']['carry']\n",
    "                                    out_a['weight']['epoch'] = self.epoch+1\n",
    "                                    ins[0]['weight']['carry'] = self.null_label\n",
    "                                    ins[1]['weight']['carry'] = self.null_label\n",
    "\n",
    "        self.epoch = self.epoch + 1\n",
    "        return some_updates\n",
    "        \n",
    "    def read_output(self):\n",
    "        None\n",
    "        res = []\n",
    "        for n, v in zip(self.outputs(), self.in_seq):\n",
    "            res.append(self.Butterfly.nodes[n]['weight']['value'])\n",
    "        return res\n"
   ]
  },
  {
   "cell_type": "code",
   "execution_count": 20,
   "metadata": {},
   "outputs": [
    {
     "name": "stdout",
     "output_type": "stream",
     "text": [
      "All is OK!\n"
     ]
    },
    {
     "data": {
      "text/html": [
       "<pre style=\"white-space:pre;overflow-x:auto;line-height:normal;font-family:Menlo,'DejaVu Sans Mono',consolas,'Courier New',monospace\">Manim Community <span style=\"color: #008000; text-decoration-color: #008000\">v0.19.0</span>\n",
       "\n",
       "</pre>\n"
      ],
      "text/plain": [
       "Manim Community \u001b[32mv0.\u001b[0m\u001b[32m19.0\u001b[0m\n",
       "\n"
      ]
     },
     "metadata": {},
     "output_type": "display_data"
    },
    {
     "name": "stderr",
     "output_type": "stream",
     "text": [
      "                                                                                     "
     ]
    },
    {
     "name": "stdout",
     "output_type": "stream",
     "text": [
      "Iteration 0\n"
     ]
    },
    {
     "name": "stderr",
     "output_type": "stream",
     "text": [
      "                                                                                                                    \r"
     ]
    },
    {
     "name": "stdout",
     "output_type": "stream",
     "text": [
      "Adding rectangle around 4 nodes\n",
      "Adding rectangle around 4 nodes\n",
      "Adding rectangle around 4 nodes\n",
      "Adding rectangle around 4 nodes\n",
      "Adding rectangle around 16 nodes\n",
      "Adding rectangle around 16 nodes\n",
      "Adding rectangle around 48 nodes\n",
      "Iteration 1\n"
     ]
    },
    {
     "name": "stderr",
     "output_type": "stream",
     "text": [
      "                                                                                                                             \r"
     ]
    },
    {
     "name": "stdout",
     "output_type": "stream",
     "text": [
      "Iteration 2\n"
     ]
    },
    {
     "name": "stderr",
     "output_type": "stream",
     "text": [
      "                                                                                                                             \r"
     ]
    },
    {
     "name": "stdout",
     "output_type": "stream",
     "text": [
      "Iteration 3\n"
     ]
    },
    {
     "name": "stderr",
     "output_type": "stream",
     "text": [
      "                                                                                                                             \r"
     ]
    },
    {
     "name": "stdout",
     "output_type": "stream",
     "text": [
      "Iteration 4\n"
     ]
    },
    {
     "name": "stderr",
     "output_type": "stream",
     "text": [
      "                                                                                                                              \r"
     ]
    },
    {
     "name": "stdout",
     "output_type": "stream",
     "text": [
      "Iteration 5\n"
     ]
    },
    {
     "name": "stderr",
     "output_type": "stream",
     "text": [
      "                                                                                                                              \r"
     ]
    },
    {
     "name": "stdout",
     "output_type": "stream",
     "text": [
      "Iteration 6\n"
     ]
    },
    {
     "name": "stderr",
     "output_type": "stream",
     "text": [
      "                                                                                                                              \r"
     ]
    },
    {
     "name": "stdout",
     "output_type": "stream",
     "text": [
      "Iteration 7\n"
     ]
    },
    {
     "name": "stderr",
     "output_type": "stream",
     "text": [
      "                                                                                                                              \r"
     ]
    },
    {
     "name": "stdout",
     "output_type": "stream",
     "text": [
      "Iteration 8\n"
     ]
    },
    {
     "name": "stderr",
     "output_type": "stream",
     "text": [
      "                                                                                                                              \r"
     ]
    },
    {
     "name": "stdout",
     "output_type": "stream",
     "text": [
      "Iteration 9\n"
     ]
    },
    {
     "name": "stderr",
     "output_type": "stream",
     "text": [
      "                                                                                                                              \r"
     ]
    },
    {
     "name": "stdout",
     "output_type": "stream",
     "text": [
      "Iteration 10\n"
     ]
    },
    {
     "name": "stderr",
     "output_type": "stream",
     "text": [
      "                                                                                                                              \r"
     ]
    },
    {
     "name": "stdout",
     "output_type": "stream",
     "text": [
      "Iteration 11\n"
     ]
    },
    {
     "name": "stderr",
     "output_type": "stream",
     "text": [
      "                                                                                                                              \r"
     ]
    },
    {
     "name": "stdout",
     "output_type": "stream",
     "text": [
      "Iteration 12\n"
     ]
    },
    {
     "name": "stderr",
     "output_type": "stream",
     "text": [
      "                                                                                                                              \r"
     ]
    },
    {
     "name": "stdout",
     "output_type": "stream",
     "text": [
      "Iteration 13\n"
     ]
    },
    {
     "name": "stderr",
     "output_type": "stream",
     "text": [
      "                                                                                                                              \r"
     ]
    },
    {
     "name": "stdout",
     "output_type": "stream",
     "text": [
      "Iteration 14\n"
     ]
    },
    {
     "name": "stderr",
     "output_type": "stream",
     "text": [
      "                                                                                                                        \r"
     ]
    },
    {
     "data": {
      "text/html": [
       "<video src=\"media/jupyter/ShowBatcher8@2025-04-03@16-35-50.mp4\" controls autoplay loop style=\"max-width: 100%;\"  >\n",
       "      Your browser does not support the <code>video</code> element.\n",
       "    </video>"
      ],
      "text/plain": [
       "<IPython.core.display.Video object>"
      ]
     },
     "metadata": {},
     "output_type": "display_data"
    }
   ],
   "source": [
    "%%manim -qm ShowBatcher8\n",
    "\n",
    "config.frame_width = 32\n",
    "import random\n",
    "\n",
    "class ShowBatcher8(MovingCameraScene):\n",
    "    def test():\n",
    "        for l in range(1, 6):\n",
    "            lines = 1<<l\n",
    "            net = Batcher(lines)\n",
    "            for line in range(0, lines, 2):\n",
    "                for sub_stage in range(0, int(math.log2(lines)), 1):\n",
    "                    for stage in range(0, int(math.log2(lines)), 1):\n",
    "                        for comp in range(0, 4):\n",
    "                            id = net.node_id(line, sub_stage,stage, comp)\n",
    "                            (l, ss, s, c) = net.items_from_node_id(id)\n",
    "                            assert(line == l)\n",
    "                            assert(stage == s)\n",
    "                            assert(sub_stage == ss)\n",
    "                            assert(comp == c)\n",
    "                            id = net.node_id(line+1, sub_stage+1, stage, comp)\n",
    "                            (l, ss, s, c) = net.items_from_node_id(id)\n",
    "                            assert(line+1 == l)\n",
    "                            assert(stage == s)\n",
    "                            assert(sub_stage+1 == ss)\n",
    "                            assert(comp == c)\n",
    "                            id = net.node_id(line, sub_stage, stage+1, comp)\n",
    "                            (l, ss, s, c) = net.items_from_node_id(id)\n",
    "                            assert(line == l)\n",
    "                            assert(stage+1 == s)\n",
    "                            assert(sub_stage == ss)\n",
    "                            assert(comp == c)\n",
    "                            id = net.node_id(line+1, sub_stage, stage+1, comp)\n",
    "                            (l, ss, s, c) = net.items_from_node_id(id)\n",
    "                            assert(line+1 == l)\n",
    "                            assert(stage+1 == s)\n",
    "                            assert(sub_stage == ss)\n",
    "                            assert(comp == c)\n",
    "    print(\"All is OK!\")\n",
    "\n",
    "    def construct(self):\n",
    "        nleaves = 8\n",
    "        network = Batcher(nleaves, delay=1)\n",
    "\n",
    "        Network, layout = network.get()\n",
    "        minx = min([x[0] for x in layout.values()])\n",
    "        maxx = max([x[0] for x in layout.values()])\n",
    "        self.play(self.camera.frame.animate.set(width=maxx-minx+4))\n",
    "\n",
    "        in_seq = [random.randint(0, nleaves) for x in range(0, nleaves)]\n",
    "        network.set_input(in_seq)\n",
    "        viz.generic_run(self, network)\n",
    "        #print(network.read_output())"
   ]
  },
  {
   "cell_type": "code",
   "execution_count": 21,
   "metadata": {},
   "outputs": [
    {
     "name": "stdout",
     "output_type": "stream",
     "text": [
      "All is OK!\n"
     ]
    }
   ],
   "source": [
    "for lnleaves in range(2, 5):\n",
    "    nleaves = 1<<lnleaves\n",
    "    test_seq = [x for x in range(nleaves, -1, -1)]\n",
    "    for i in range(0, 1000):\n",
    "        print(f'{nleaves} {i}', end='\\r')\n",
    "        network = Batcher(nleaves, verbose = False)\n",
    "        network.set_input(test_seq)\n",
    "        network.init_computation()\n",
    "        while network.compute_iteration():\n",
    "            None\n",
    "\n",
    "        res = network.read_output()\n",
    "        #print(res)\n",
    "        v = res[0]\n",
    "        for x in range(1, nleaves):\n",
    "            assert(int(v) <= int(res[x]))\n",
    "            v = int(res[x])\n",
    "        test_seq = [random.randint(-nleaves, nleaves*nleaves) for x in range(0, nleaves)]\n",
    "\n",
    "print(\"All is OK!\")\n"
   ]
  }
 ],
 "metadata": {
  "kernelspec": {
   "display_name": ".venv",
   "language": "python",
   "name": "python3"
  },
  "language_info": {
   "codemirror_mode": {
    "name": "ipython",
    "version": 3
   },
   "file_extension": ".py",
   "mimetype": "text/x-python",
   "name": "python",
   "nbconvert_exporter": "python",
   "pygments_lexer": "ipython3",
   "version": "3.13.2"
  }
 },
 "nbformat": 4,
 "nbformat_minor": 2
}
